{
 "cells": [
  {
   "cell_type": "markdown",
   "id": "7bf4d532",
   "metadata": {
    "papermill": {
     "duration": 0.037782,
     "end_time": "2024-03-22T03:58:13.277924",
     "exception": false,
     "start_time": "2024-03-22T03:58:13.240142",
     "status": "completed"
    },
    "tags": []
   },
   "source": [
    "# Proyecto Home Credit Risk"
   ]
  },
  {
   "cell_type": "markdown",
   "id": "35d933a0",
   "metadata": {
    "papermill": {
     "duration": 0.035804,
     "end_time": "2024-03-22T03:58:13.349559",
     "exception": false,
     "start_time": "2024-03-22T03:58:13.313755",
     "status": "completed"
    },
    "tags": []
   },
   "source": [
    "**Integrantes:**\n",
    "- Martin Abel Reyes Rojas."
   ]
  },
  {
   "cell_type": "markdown",
   "id": "d2dfdc99",
   "metadata": {
    "papermill": {
     "duration": 0.034912,
     "end_time": "2024-03-22T03:58:13.419319",
     "exception": false,
     "start_time": "2024-03-22T03:58:13.384407",
     "status": "completed"
    },
    "tags": []
   },
   "source": [
    "# 1. Entendimiento del Negocio\n",
    "\n",
    "El objetivo de este concurso es predecir qué clientes tienen más probabilidades de impagar sus préstamos. La evaluación favorecerá las soluciones estables en el tiempo.\n",
    "Su participación puede ofrecer a los proveedores de financiación al consumo una forma más fiable y duradera de evaluar el riesgo de impago de un cliente potencial."
   ]
  },
  {
   "cell_type": "markdown",
   "id": "863cd76e",
   "metadata": {
    "papermill": {
     "duration": 0.035269,
     "end_time": "2024-03-22T03:58:13.489618",
     "exception": false,
     "start_time": "2024-03-22T03:58:13.454349",
     "status": "completed"
    },
    "tags": []
   },
   "source": [
    "# 2. Importar Liberias"
   ]
  },
  {
   "cell_type": "code",
   "execution_count": 1,
   "id": "6f7c518a",
   "metadata": {
    "_cell_guid": "b1076dfc-b9ad-4769-8c92-a6c4dae69d19",
    "_uuid": "8f2839f25d086af736a60e9eeb907d3b93b6e0e5",
    "execution": {
     "iopub.execute_input": "2024-03-22T03:58:13.618705Z",
     "iopub.status.busy": "2024-03-22T03:58:13.618345Z",
     "iopub.status.idle": "2024-03-22T03:58:16.469872Z",
     "shell.execute_reply": "2024-03-22T03:58:16.468896Z"
    },
    "papermill": {
     "duration": 2.947318,
     "end_time": "2024-03-22T03:58:16.472174",
     "exception": false,
     "start_time": "2024-03-22T03:58:13.524856",
     "status": "completed"
    },
    "tags": []
   },
   "outputs": [],
   "source": [
    "# Esta librería la he utilizado la he utilizado para traducir a mi idioma algunos conceptos, pero la competencia no me\n",
    "# permite utilizar librería de tercero pero la deja comentada por si alguien le interesa utilizarla y entender\n",
    "# más rápido los conceptos en el idioma nativo de cad persona.\n",
    "# from deep_translator import GoogleTranslator \n",
    "\n",
    "import matplotlib.pyplot as plt \n",
    "import numpy as np\n",
    "import pandas as pd\n",
    "import polars as pl\n",
    "import seaborn as sns\n",
    "\n",
    "from sklearn.metrics import roc_auc_score\n",
    "from sklearn.model_selection import train_test_split\n",
    "\n",
    "seed = 1234"
   ]
  },
  {
   "cell_type": "code",
   "execution_count": 2,
   "id": "e44fddcb",
   "metadata": {
    "execution": {
     "iopub.execute_input": "2024-03-22T03:58:16.545225Z",
     "iopub.status.busy": "2024-03-22T03:58:16.543632Z",
     "iopub.status.idle": "2024-03-22T03:58:16.548197Z",
     "shell.execute_reply": "2024-03-22T03:58:16.547556Z"
    },
    "papermill": {
     "duration": 0.04241,
     "end_time": "2024-03-22T03:58:16.549888",
     "exception": false,
     "start_time": "2024-03-22T03:58:16.507478",
     "status": "completed"
    },
    "tags": []
   },
   "outputs": [],
   "source": [
    "# Traducir a mi idioma nativo -> Lo utilice para traducir y poder trabjar de una mejor manera con el entendimiento de cada columna.\n",
    "# Creo una instancia para traducir a mi idioma nativo.\n",
    "# gs = GoogleTranslator(source= 'english', target= 'spanish')"
   ]
  },
  {
   "cell_type": "markdown",
   "id": "7f1d41c8",
   "metadata": {
    "papermill": {
     "duration": 0.035947,
     "end_time": "2024-03-22T03:58:16.621485",
     "exception": false,
     "start_time": "2024-03-22T03:58:16.585538",
     "status": "completed"
    },
    "tags": []
   },
   "source": [
    "# 3. Cargar Data"
   ]
  },
  {
   "cell_type": "code",
   "execution_count": 3,
   "id": "ed3c0ab3",
   "metadata": {
    "execution": {
     "iopub.execute_input": "2024-03-22T03:58:16.695658Z",
     "iopub.status.busy": "2024-03-22T03:58:16.695270Z",
     "iopub.status.idle": "2024-03-22T03:58:16.699213Z",
     "shell.execute_reply": "2024-03-22T03:58:16.698459Z"
    },
    "papermill": {
     "duration": 0.043705,
     "end_time": "2024-03-22T03:58:16.701397",
     "exception": false,
     "start_time": "2024-03-22T03:58:16.657692",
     "status": "completed"
    },
    "tags": []
   },
   "outputs": [],
   "source": [
    "# Ruta para acceder a todos los datasets.\n",
    "dataPath = \"/kaggle/input/home-credit-credit-risk-model-stability/\""
   ]
  },
  {
   "cell_type": "markdown",
   "id": "3f9bba2b",
   "metadata": {
    "papermill": {
     "duration": 0.03587,
     "end_time": "2024-03-22T03:58:16.773534",
     "exception": false,
     "start_time": "2024-03-22T03:58:16.737664",
     "status": "completed"
    },
    "tags": []
   },
   "source": [
    "## 3.1. Cargar la Definición de las Feature\n",
    "Entender mejor el significado de cada columna con el fin de tener mejor comprensión del significado de la data."
   ]
  },
  {
   "cell_type": "code",
   "execution_count": 4,
   "id": "de7b5869",
   "metadata": {
    "execution": {
     "iopub.execute_input": "2024-03-22T03:58:16.847481Z",
     "iopub.status.busy": "2024-03-22T03:58:16.846892Z",
     "iopub.status.idle": "2024-03-22T03:58:16.977736Z",
     "shell.execute_reply": "2024-03-22T03:58:16.976656Z"
    },
    "papermill": {
     "duration": 0.171153,
     "end_time": "2024-03-22T03:58:16.980037",
     "exception": false,
     "start_time": "2024-03-22T03:58:16.808884",
     "status": "completed"
    },
    "tags": []
   },
   "outputs": [],
   "source": [
    "df_feature = pl.read_csv(dataPath + 'feature_definitions.csv')"
   ]
  },
  {
   "cell_type": "code",
   "execution_count": 5,
   "id": "7a13faa0",
   "metadata": {
    "execution": {
     "iopub.execute_input": "2024-03-22T03:58:17.053061Z",
     "iopub.status.busy": "2024-03-22T03:58:17.052723Z",
     "iopub.status.idle": "2024-03-22T03:58:17.061698Z",
     "shell.execute_reply": "2024-03-22T03:58:17.060516Z"
    },
    "papermill": {
     "duration": 0.04761,
     "end_time": "2024-03-22T03:58:17.063464",
     "exception": false,
     "start_time": "2024-03-22T03:58:17.015854",
     "status": "completed"
    },
    "tags": []
   },
   "outputs": [
    {
     "data": {
      "text/plain": [
       "(465, 2)"
      ]
     },
     "execution_count": 5,
     "metadata": {},
     "output_type": "execute_result"
    }
   ],
   "source": [
    "df_feature.shape"
   ]
  },
  {
   "cell_type": "markdown",
   "id": "f7c77f08",
   "metadata": {
    "papermill": {
     "duration": 0.034489,
     "end_time": "2024-03-22T03:58:17.133225",
     "exception": false,
     "start_time": "2024-03-22T03:58:17.098736",
     "status": "completed"
    },
    "tags": []
   },
   "source": [
    "## 3.2. Funciones"
   ]
  },
  {
   "cell_type": "code",
   "execution_count": 6,
   "id": "00a68ac1",
   "metadata": {
    "execution": {
     "iopub.execute_input": "2024-03-22T03:58:17.208634Z",
     "iopub.status.busy": "2024-03-22T03:58:17.207587Z",
     "iopub.status.idle": "2024-03-22T03:58:17.212834Z",
     "shell.execute_reply": "2024-03-22T03:58:17.211807Z"
    },
    "papermill": {
     "duration": 0.046705,
     "end_time": "2024-03-22T03:58:17.214661",
     "exception": false,
     "start_time": "2024-03-22T03:58:17.167956",
     "status": "completed"
    },
    "tags": []
   },
   "outputs": [],
   "source": [
    "# Convertir los tipos de datos de las columnas.\n",
    "def set_columns_dtypes(df: pl.DataFrame):    \n",
    "    for col in df.columns:        \n",
    "        if col[-1] in (\"P\", \"A\"):\n",
    "            df = df.with_columns(pl.col(col).cast(pl.Float64))\n",
    "\n",
    "    return df"
   ]
  },
  {
   "cell_type": "code",
   "execution_count": 7,
   "id": "f42e6a2f",
   "metadata": {
    "execution": {
     "iopub.execute_input": "2024-03-22T03:58:17.286491Z",
     "iopub.status.busy": "2024-03-22T03:58:17.285893Z",
     "iopub.status.idle": "2024-03-22T03:58:17.291660Z",
     "shell.execute_reply": "2024-03-22T03:58:17.290377Z"
    },
    "papermill": {
     "duration": 0.04391,
     "end_time": "2024-03-22T03:58:17.293444",
     "exception": false,
     "start_time": "2024-03-22T03:58:17.249534",
     "status": "completed"
    },
    "tags": []
   },
   "outputs": [],
   "source": [
    "# Reemplazar las columnas con su descripción para un mejor entendimiento.\n",
    "def replace_columns(df):\n",
    "    dict_col = {}\n",
    "    for i in range(len(df.columns)):\n",
    "        description = df_feature.filter(pl.col('Variable') == df.columns[i])['Description']    \n",
    "        if description.shape[0] == 1:                \n",
    "            dict_col[df.columns[i]] = f'{i}_{description[0]}'\n",
    "    \n",
    "    return df.rename(dict_col)"
   ]
  },
  {
   "cell_type": "code",
   "execution_count": 8,
   "id": "ce3f51e0",
   "metadata": {
    "execution": {
     "iopub.execute_input": "2024-03-22T03:58:17.367113Z",
     "iopub.status.busy": "2024-03-22T03:58:17.366232Z",
     "iopub.status.idle": "2024-03-22T03:58:17.371379Z",
     "shell.execute_reply": "2024-03-22T03:58:17.370057Z"
    },
    "papermill": {
     "duration": 0.044318,
     "end_time": "2024-03-22T03:58:17.373756",
     "exception": false,
     "start_time": "2024-03-22T03:58:17.329438",
     "status": "completed"
    },
    "tags": []
   },
   "outputs": [],
   "source": [
    "# Función para mostrar las columnas con su respectivo tipo.\n",
    "def type_cols(df):\n",
    "    return pl.dataframe.DataFrame({'columns': df.columns, 'dtypes': df.dtypes})"
   ]
  },
  {
   "cell_type": "code",
   "execution_count": 9,
   "id": "d0c541a9",
   "metadata": {
    "execution": {
     "iopub.execute_input": "2024-03-22T03:58:17.447377Z",
     "iopub.status.busy": "2024-03-22T03:58:17.446831Z",
     "iopub.status.idle": "2024-03-22T03:58:17.452010Z",
     "shell.execute_reply": "2024-03-22T03:58:17.450659Z"
    },
    "papermill": {
     "duration": 0.04447,
     "end_time": "2024-03-22T03:58:17.453903",
     "exception": false,
     "start_time": "2024-03-22T03:58:17.409433",
     "status": "completed"
    },
    "tags": []
   },
   "outputs": [],
   "source": [
    "# Función para mostrar los hallazgos más relevantes con respecto al target y las categorías.\n",
    "def categorical_finding(X, colsNameCategoricas):    \n",
    "    for colName in colsNameCategoricas:        \n",
    "        display(X[[colName, 'target']].groupby(colName).agg(['count', 'sum', 'mean']))"
   ]
  },
  {
   "cell_type": "markdown",
   "id": "14033305",
   "metadata": {
    "papermill": {
     "duration": 0.034746,
     "end_time": "2024-03-22T03:58:17.524723",
     "exception": false,
     "start_time": "2024-03-22T03:58:17.489977",
     "status": "completed"
    },
    "tags": []
   },
   "source": [
    "## 3.3. Cargar los Datos de Forma Entendible"
   ]
  },
  {
   "cell_type": "code",
   "execution_count": 10,
   "id": "7d062581",
   "metadata": {
    "execution": {
     "iopub.execute_input": "2024-03-22T03:58:17.597017Z",
     "iopub.status.busy": "2024-03-22T03:58:17.596476Z",
     "iopub.status.idle": "2024-03-22T03:58:36.233497Z",
     "shell.execute_reply": "2024-03-22T03:58:36.232590Z"
    },
    "papermill": {
     "duration": 18.675793,
     "end_time": "2024-03-22T03:58:36.235683",
     "exception": false,
     "start_time": "2024-03-22T03:58:17.559890",
     "status": "completed"
    },
    "tags": []
   },
   "outputs": [],
   "source": [
    "# Cargar datos de train.\n",
    "df_tr_base = pl.read_csv(dataPath + 'csv_files/train/train_base.csv')\n",
    "\n",
    "# Cargar datos de static_0.\n",
    "df_tr_static_0 = pl.concat([\n",
    "    pl.read_csv(dataPath + 'csv_files/train/train_static_0_0.csv').pipe(set_columns_dtypes), # La función es similar al apply.\n",
    "    pl.read_csv(dataPath + 'csv_files/train/train_static_0_1.csv').pipe(set_columns_dtypes)\n",
    "], how= 'vertical_relaxed').pipe(replace_columns)\n",
    "\n",
    "# Cargar datos de applprev_1.\n",
    "df_tr_applprev_1 = pl.concat([\n",
    "    pl.read_csv(dataPath + 'csv_files/train/train_applprev_1_0.csv').pipe(set_columns_dtypes),\n",
    "    pl.read_csv(dataPath + 'csv_files/train/train_applprev_1_1.csv').pipe(set_columns_dtypes)\n",
    "], how= 'vertical_relaxed').pipe(replace_columns)\n",
    "\n",
    "# Cargar datos de person_1.\n",
    "df_tr_person_1 = pl.read_csv(dataPath + 'csv_files/train/train_person_1.csv').pipe(set_columns_dtypes).pipe(replace_columns)"
   ]
  },
  {
   "cell_type": "code",
   "execution_count": 11,
   "id": "18ea7535",
   "metadata": {
    "execution": {
     "iopub.execute_input": "2024-03-22T03:58:36.311330Z",
     "iopub.status.busy": "2024-03-22T03:58:36.310735Z",
     "iopub.status.idle": "2024-03-22T03:58:36.315936Z",
     "shell.execute_reply": "2024-03-22T03:58:36.315263Z"
    },
    "papermill": {
     "duration": 0.044915,
     "end_time": "2024-03-22T03:58:36.317520",
     "exception": false,
     "start_time": "2024-03-22T03:58:36.272605",
     "status": "completed"
    },
    "tags": []
   },
   "outputs": [
    {
     "data": {
      "text/plain": [
       "(5, 168, 41, 37)"
      ]
     },
     "execution_count": 11,
     "metadata": {},
     "output_type": "execute_result"
    }
   ],
   "source": [
    "# Mostrar la cantidad que registros que tiene cada dataframe que voy a utilizar.\n",
    "len(df_tr_base.columns), len(df_tr_static_0.columns), len(df_tr_applprev_1.columns), len(df_tr_person_1.columns)"
   ]
  },
  {
   "cell_type": "code",
   "execution_count": 12,
   "id": "464b881d",
   "metadata": {
    "execution": {
     "iopub.execute_input": "2024-03-22T03:58:36.390260Z",
     "iopub.status.busy": "2024-03-22T03:58:36.389674Z",
     "iopub.status.idle": "2024-03-22T03:58:36.501682Z",
     "shell.execute_reply": "2024-03-22T03:58:36.500515Z"
    },
    "papermill": {
     "duration": 0.150873,
     "end_time": "2024-03-22T03:58:36.503774",
     "exception": false,
     "start_time": "2024-03-22T03:58:36.352901",
     "status": "completed"
    },
    "tags": []
   },
   "outputs": [],
   "source": [
    "# Cargar datos de test.\n",
    "df_ts_base = pl.read_csv(dataPath + 'csv_files/test/test_base.csv')\n",
    "\n",
    "df_ts_static_0 = pl.concat([\n",
    "    pl.read_csv(dataPath + 'csv_files/test/test_static_0_0.csv').pipe(set_columns_dtypes),\n",
    "    pl.read_csv(dataPath + 'csv_files/test/test_static_0_1.csv').pipe(set_columns_dtypes),\n",
    "    pl.read_csv(dataPath + \"csv_files/test/test_static_0_2.csv\").pipe(set_columns_dtypes)\n",
    "], how= 'vertical_relaxed').pipe(replace_columns)\n",
    "\n",
    "df_ts_applprev_1 = pl.concat([\n",
    "    pl.read_csv(dataPath + 'csv_files/test/test_applprev_1_0.csv').pipe(set_columns_dtypes),\n",
    "    pl.read_csv(dataPath + 'csv_files/test/test_applprev_1_1.csv').pipe(set_columns_dtypes)\n",
    "], how= 'vertical_relaxed').pipe(replace_columns)\n",
    "\n",
    "df_ts_person_1 = pl.read_csv(dataPath + 'csv_files/test/test_person_1.csv').pipe(set_columns_dtypes).pipe(replace_columns)"
   ]
  },
  {
   "cell_type": "code",
   "execution_count": 13,
   "id": "bcb42746",
   "metadata": {
    "execution": {
     "iopub.execute_input": "2024-03-22T03:58:36.576868Z",
     "iopub.status.busy": "2024-03-22T03:58:36.576342Z",
     "iopub.status.idle": "2024-03-22T03:58:36.581956Z",
     "shell.execute_reply": "2024-03-22T03:58:36.580959Z"
    },
    "papermill": {
     "duration": 0.045018,
     "end_time": "2024-03-22T03:58:36.583601",
     "exception": false,
     "start_time": "2024-03-22T03:58:36.538583",
     "status": "completed"
    },
    "tags": []
   },
   "outputs": [
    {
     "data": {
      "text/plain": [
       "(4, 168, 41, 37)"
      ]
     },
     "execution_count": 13,
     "metadata": {},
     "output_type": "execute_result"
    }
   ],
   "source": [
    "# Mostrar la cantidad que registros que tiene cada dataframe de test que voy a utilizar.\n",
    "len(df_ts_base.columns), len(df_ts_static_0.columns), len(df_ts_applprev_1.columns), len(df_ts_person_1.columns)"
   ]
  },
  {
   "cell_type": "code",
   "execution_count": 14,
   "id": "5c083946",
   "metadata": {
    "execution": {
     "iopub.execute_input": "2024-03-22T03:58:36.656707Z",
     "iopub.status.busy": "2024-03-22T03:58:36.656180Z",
     "iopub.status.idle": "2024-03-22T03:58:36.663097Z",
     "shell.execute_reply": "2024-03-22T03:58:36.662037Z"
    },
    "papermill": {
     "duration": 0.045815,
     "end_time": "2024-03-22T03:58:36.664839",
     "exception": false,
     "start_time": "2024-03-22T03:58:36.619024",
     "status": "completed"
    },
    "tags": []
   },
   "outputs": [],
   "source": [
    "# X_p: X previous -> Nos quedamos con variables independientes del dataframe para separarlo de la dependiente o target.\n",
    "X_p = df_tr_base.select(df_tr_base.columns[:-1])"
   ]
  },
  {
   "cell_type": "code",
   "execution_count": 15,
   "id": "d7adf0db",
   "metadata": {
    "execution": {
     "iopub.execute_input": "2024-03-22T03:58:36.738073Z",
     "iopub.status.busy": "2024-03-22T03:58:36.737521Z",
     "iopub.status.idle": "2024-03-22T03:58:36.741598Z",
     "shell.execute_reply": "2024-03-22T03:58:36.740390Z"
    },
    "papermill": {
     "duration": 0.043348,
     "end_time": "2024-03-22T03:58:36.743481",
     "exception": false,
     "start_time": "2024-03-22T03:58:36.700133",
     "status": "completed"
    },
    "tags": []
   },
   "outputs": [],
   "source": [
    "# Test.\n",
    "X_pts = df_ts_base"
   ]
  },
  {
   "cell_type": "code",
   "execution_count": 16,
   "id": "ad16b832",
   "metadata": {
    "execution": {
     "iopub.execute_input": "2024-03-22T03:58:36.817225Z",
     "iopub.status.busy": "2024-03-22T03:58:36.816644Z",
     "iopub.status.idle": "2024-03-22T03:58:36.820870Z",
     "shell.execute_reply": "2024-03-22T03:58:36.819844Z"
    },
    "papermill": {
     "duration": 0.044222,
     "end_time": "2024-03-22T03:58:36.823485",
     "exception": false,
     "start_time": "2024-03-22T03:58:36.779263",
     "status": "completed"
    },
    "tags": []
   },
   "outputs": [],
   "source": [
    "# Nos quedamos con el target y el case_id.\n",
    "y = df_tr_base.select(pl.col(['case_id', 'target']))"
   ]
  },
  {
   "cell_type": "markdown",
   "id": "29896282",
   "metadata": {
    "papermill": {
     "duration": 0.035486,
     "end_time": "2024-03-22T03:58:36.894879",
     "exception": false,
     "start_time": "2024-03-22T03:58:36.859393",
     "status": "completed"
    },
    "tags": []
   },
   "source": [
    "## 3.4. Features Finales "
   ]
  },
  {
   "cell_type": "markdown",
   "id": "bcc17cad",
   "metadata": {
    "papermill": {
     "duration": 0.037424,
     "end_time": "2024-03-22T03:58:36.968373",
     "exception": false,
     "start_time": "2024-03-22T03:58:36.930949",
     "status": "completed"
    },
    "tags": []
   },
   "source": [
    "### *3.4.1. df_tr_static_0*"
   ]
  },
  {
   "cell_type": "code",
   "execution_count": 17,
   "id": "ba02a0e1",
   "metadata": {
    "execution": {
     "iopub.execute_input": "2024-03-22T03:58:37.044155Z",
     "iopub.status.busy": "2024-03-22T03:58:37.043561Z",
     "iopub.status.idle": "2024-03-22T03:58:37.047220Z",
     "shell.execute_reply": "2024-03-22T03:58:37.046545Z"
    },
    "papermill": {
     "duration": 0.044282,
     "end_time": "2024-03-22T03:58:37.049378",
     "exception": false,
     "start_time": "2024-03-22T03:58:37.005096",
     "status": "completed"
    },
    "tags": []
   },
   "outputs": [],
   "source": [
    "# Variables que yo considero que son importantes de la data static 0.\n",
    "variables_static_0 = [\n",
    "    '166_Persons accompanying the client during the loan application process.',\n",
    "    '167_Date since the client has an active campaign.'\n",
    "]"
   ]
  },
  {
   "cell_type": "code",
   "execution_count": 18,
   "id": "ba87ed90",
   "metadata": {
    "execution": {
     "iopub.execute_input": "2024-03-22T03:58:37.124020Z",
     "iopub.status.busy": "2024-03-22T03:58:37.123676Z",
     "iopub.status.idle": "2024-03-22T03:58:37.209156Z",
     "shell.execute_reply": "2024-03-22T03:58:37.208503Z"
    },
    "papermill": {
     "duration": 0.12476,
     "end_time": "2024-03-22T03:58:37.210887",
     "exception": false,
     "start_time": "2024-03-22T03:58:37.086127",
     "status": "completed"
    },
    "tags": []
   },
   "outputs": [
    {
     "data": {
      "text/plain": [
       "(1526659, 1526659)"
      ]
     },
     "execution_count": 18,
     "metadata": {},
     "output_type": "execute_result"
    }
   ],
   "source": [
    "# Observamos que no hay repetidos ya que tiene una profundidad de 0.\n",
    "len(df_tr_static_0), df_tr_static_0.select(pl.col('case_id')).n_unique()"
   ]
  },
  {
   "cell_type": "code",
   "execution_count": 19,
   "id": "8048b1b6",
   "metadata": {
    "execution": {
     "iopub.execute_input": "2024-03-22T03:58:37.283466Z",
     "iopub.status.busy": "2024-03-22T03:58:37.283140Z",
     "iopub.status.idle": "2024-03-22T03:58:37.287799Z",
     "shell.execute_reply": "2024-03-22T03:58:37.286786Z"
    },
    "papermill": {
     "duration": 0.044161,
     "end_time": "2024-03-22T03:58:37.290200",
     "exception": false,
     "start_time": "2024-03-22T03:58:37.246039",
     "status": "completed"
    },
    "tags": []
   },
   "outputs": [],
   "source": [
    "# Gurdarmos el dataframe en un variable con las columnas más importantes.\n",
    "df_mtr_static_0 = df_tr_static_0.select([pl.selectors.numeric(), pl.col(variables_static_0)])"
   ]
  },
  {
   "cell_type": "code",
   "execution_count": 20,
   "id": "b1e6bf87",
   "metadata": {
    "execution": {
     "iopub.execute_input": "2024-03-22T03:58:37.366313Z",
     "iopub.status.busy": "2024-03-22T03:58:37.365953Z",
     "iopub.status.idle": "2024-03-22T03:58:37.371860Z",
     "shell.execute_reply": "2024-03-22T03:58:37.370871Z"
    },
    "papermill": {
     "duration": 0.046552,
     "end_time": "2024-03-22T03:58:37.373578",
     "exception": false,
     "start_time": "2024-03-22T03:58:37.327026",
     "status": "completed"
    },
    "tags": []
   },
   "outputs": [],
   "source": [
    "# Test.\n",
    "df_mts_static_0 = df_ts_static_0.select(df_mtr_static_0.columns).with_columns(\n",
    "    pl.col('38_Number of incoming payments in the past 9 months.').cast(pl.Float64)\n",
    ")"
   ]
  },
  {
   "cell_type": "markdown",
   "id": "85b03fe4",
   "metadata": {
    "papermill": {
     "duration": 0.03595,
     "end_time": "2024-03-22T03:58:37.445345",
     "exception": false,
     "start_time": "2024-03-22T03:58:37.409395",
     "status": "completed"
    },
    "tags": []
   },
   "source": [
    "### 3.4.2. *df_tr_applprev_1*"
   ]
  },
  {
   "cell_type": "code",
   "execution_count": 21,
   "id": "57a1d098",
   "metadata": {
    "execution": {
     "iopub.execute_input": "2024-03-22T03:58:37.520167Z",
     "iopub.status.busy": "2024-03-22T03:58:37.518819Z",
     "iopub.status.idle": "2024-03-22T03:58:37.523531Z",
     "shell.execute_reply": "2024-03-22T03:58:37.522784Z"
    },
    "papermill": {
     "duration": 0.043855,
     "end_time": "2024-03-22T03:58:37.525232",
     "exception": false,
     "start_time": "2024-03-22T03:58:37.481377",
     "status": "completed"
    },
    "tags": []
   },
   "outputs": [],
   "source": [
    "# Variables que yo considero importantes de la data applprev 1.\n",
    "variables_applprev_1 = [\n",
    "    '7_Date when previous application was created.',\n",
    "    \"22_Applicant's education level from their previous application.\",\n",
    "    '24_Family State in previous application of applicant.',\n",
    "    '26_Type of the initial transaction made in the previous application of the client.'\n",
    "]"
   ]
  },
  {
   "cell_type": "code",
   "execution_count": 22,
   "id": "86b8b314",
   "metadata": {
    "execution": {
     "iopub.execute_input": "2024-03-22T03:58:37.598364Z",
     "iopub.status.busy": "2024-03-22T03:58:37.597771Z",
     "iopub.status.idle": "2024-03-22T03:58:37.752102Z",
     "shell.execute_reply": "2024-03-22T03:58:37.751427Z"
    },
    "papermill": {
     "duration": 0.193359,
     "end_time": "2024-03-22T03:58:37.754381",
     "exception": false,
     "start_time": "2024-03-22T03:58:37.561022",
     "status": "completed"
    },
    "tags": []
   },
   "outputs": [
    {
     "data": {
      "text/plain": [
       "(6525979, 1221522)"
      ]
     },
     "execution_count": 22,
     "metadata": {},
     "output_type": "execute_result"
    }
   ],
   "source": [
    "# Observamos que hay repetidos ya que tiene una profundidad de 1.\n",
    "len(df_tr_applprev_1), df_tr_applprev_1.select(pl.col('case_id')).n_unique()"
   ]
  },
  {
   "cell_type": "code",
   "execution_count": 23,
   "id": "6acb84b6",
   "metadata": {
    "execution": {
     "iopub.execute_input": "2024-03-22T03:58:37.828216Z",
     "iopub.status.busy": "2024-03-22T03:58:37.827842Z",
     "iopub.status.idle": "2024-03-22T03:58:37.848376Z",
     "shell.execute_reply": "2024-03-22T03:58:37.847602Z"
    },
    "papermill": {
     "duration": 0.060096,
     "end_time": "2024-03-22T03:58:37.850506",
     "exception": false,
     "start_time": "2024-03-22T03:58:37.790410",
     "status": "completed"
    },
    "tags": []
   },
   "outputs": [],
   "source": [
    "# Test.\n",
    "df_mts_applprev_1 = df_ts_applprev_1.with_columns(pl.col('6_Number of children in the previous application.').cast(pl.Float64)).select([pl.selectors.numeric(), pl.col(variables_applprev_1)]).group_by(['case_id'], maintain_order= True).agg(\n",
    "    pl.selectors.numeric().sum().name.suffix('_total'), # Realizamos una suma para las variables float.\n",
    "    pl.selectors.string().filter(pl.col('num_group1') == 0).max() # Nos quedamos con la última información acerca del cliente.\n",
    ")"
   ]
  },
  {
   "cell_type": "code",
   "execution_count": 24,
   "id": "64477c5b",
   "metadata": {
    "execution": {
     "iopub.execute_input": "2024-03-22T03:58:37.923376Z",
     "iopub.status.busy": "2024-03-22T03:58:37.923036Z",
     "iopub.status.idle": "2024-03-22T03:58:38.613612Z",
     "shell.execute_reply": "2024-03-22T03:58:38.612768Z"
    },
    "papermill": {
     "duration": 0.730303,
     "end_time": "2024-03-22T03:58:38.615986",
     "exception": false,
     "start_time": "2024-03-22T03:58:37.885683",
     "status": "completed"
    },
    "tags": []
   },
   "outputs": [],
   "source": [
    "# Gurdarmos el dataframe en un variable con las columnas más importantes.\n",
    "df_mtr_applprev_1 = df_tr_applprev_1.select([pl.selectors.numeric(), pl.col(variables_applprev_1)]).select(pl.exclude('13_Number of transactions made with the previous credit account of the applicant.')).group_by(['case_id'], maintain_order= True).agg(\n",
    "    pl.selectors.numeric().sum().name.suffix('_total'), # Realizamos una suma para las variables float.\n",
    "    pl.selectors.string().filter(pl.col('num_group1') == 0).max() # Nos quedamos con la última información acerca del cliente.\n",
    ")"
   ]
  },
  {
   "cell_type": "code",
   "execution_count": 25,
   "id": "5aa7439a",
   "metadata": {
    "execution": {
     "iopub.execute_input": "2024-03-22T03:58:38.695890Z",
     "iopub.status.busy": "2024-03-22T03:58:38.695592Z",
     "iopub.status.idle": "2024-03-22T03:58:38.760842Z",
     "shell.execute_reply": "2024-03-22T03:58:38.759916Z"
    },
    "papermill": {
     "duration": 0.104124,
     "end_time": "2024-03-22T03:58:38.762812",
     "exception": false,
     "start_time": "2024-03-22T03:58:38.658688",
     "status": "completed"
    },
    "tags": []
   },
   "outputs": [
    {
     "data": {
      "text/plain": [
       "(1221522, 1221522)"
      ]
     },
     "execution_count": 25,
     "metadata": {},
     "output_type": "execute_result"
    }
   ],
   "source": [
    "# Observamos que hay repetidos ya que tiene una profundidad de 1.\n",
    "len(df_mtr_applprev_1), df_mtr_applprev_1.select(pl.col('case_id')).n_unique()"
   ]
  },
  {
   "cell_type": "markdown",
   "id": "711f380a",
   "metadata": {
    "papermill": {
     "duration": 0.034884,
     "end_time": "2024-03-22T03:58:38.832788",
     "exception": false,
     "start_time": "2024-03-22T03:58:38.797904",
     "status": "completed"
    },
    "tags": []
   },
   "source": [
    "### *3.4.3. df_tr_person_1*"
   ]
  },
  {
   "cell_type": "code",
   "execution_count": 26,
   "id": "ca788867",
   "metadata": {
    "execution": {
     "iopub.execute_input": "2024-03-22T03:58:38.904158Z",
     "iopub.status.busy": "2024-03-22T03:58:38.903628Z",
     "iopub.status.idle": "2024-03-22T03:58:38.909009Z",
     "shell.execute_reply": "2024-03-22T03:58:38.907579Z"
    },
    "papermill": {
     "duration": 0.044081,
     "end_time": "2024-03-22T03:58:38.911499",
     "exception": false,
     "start_time": "2024-03-22T03:58:38.867418",
     "status": "completed"
    },
    "tags": []
   },
   "outputs": [],
   "source": [
    "variables_person_1 = [\n",
    "    '8_Education level of the person.',\n",
    "    '9_Start date of employment.',\n",
    "    '10_Employment length of a person.',\n",
    "    '11_Employment Industry of the person.',\n",
    "    \"12_District where the employer's address is located.\",\n",
    "    '14_Family state of the person.',\n",
    "    '15_Gender of a person.',\n",
    "    '16_House type of the person.',\n",
    "    '17_Type of housing of the person.',\n",
    "    '18_Type of income of the person',\n",
    "    '20_The primary language of the person.',\n",
    "    '22_Marital status of the client.',\n",
    "    '29_Relationship to the client.',\n",
    "    '30_Relationship to the client.',\n",
    "    \"33_Person's role.\"\n",
    "]"
   ]
  },
  {
   "cell_type": "code",
   "execution_count": 27,
   "id": "fca52cde",
   "metadata": {
    "execution": {
     "iopub.execute_input": "2024-03-22T03:58:38.985936Z",
     "iopub.status.busy": "2024-03-22T03:58:38.985613Z",
     "iopub.status.idle": "2024-03-22T03:58:40.869874Z",
     "shell.execute_reply": "2024-03-22T03:58:40.868447Z"
    },
    "papermill": {
     "duration": 1.92429,
     "end_time": "2024-03-22T03:58:40.872141",
     "exception": false,
     "start_time": "2024-03-22T03:58:38.947851",
     "status": "completed"
    },
    "tags": []
   },
   "outputs": [],
   "source": [
    "df_mtr_person_1 = df_tr_person_1.select([pl.selectors.numeric(), pl.col(variables_person_1)]).group_by('case_id').agg(\n",
    "    pl.selectors.numeric().sum(),\n",
    "    pl.selectors.string().filter(pl.col('num_group1') == 0).max() # Nos quedamos con la última acerca información del cliente.\n",
    ") "
   ]
  },
  {
   "cell_type": "code",
   "execution_count": 28,
   "id": "da14acfd",
   "metadata": {
    "execution": {
     "iopub.execute_input": "2024-03-22T03:58:40.945443Z",
     "iopub.status.busy": "2024-03-22T03:58:40.945123Z",
     "iopub.status.idle": "2024-03-22T03:58:40.950981Z",
     "shell.execute_reply": "2024-03-22T03:58:40.950041Z"
    },
    "papermill": {
     "duration": 0.044892,
     "end_time": "2024-03-22T03:58:40.952779",
     "exception": false,
     "start_time": "2024-03-22T03:58:40.907887",
     "status": "completed"
    },
    "tags": []
   },
   "outputs": [],
   "source": [
    "# Test\n",
    "df_mts_person_1 = df_ts_person_1.select(pl.col(df_mtr_person_1.columns)).group_by('case_id').agg(\n",
    "    pl.selectors.numeric().sum(),\n",
    "    pl.selectors.string().filter(pl.col('num_group1') == 0).max() # Nos quedamos con la última acerca información del cliente.\n",
    ") "
   ]
  },
  {
   "cell_type": "code",
   "execution_count": 29,
   "id": "feb6b05e",
   "metadata": {
    "execution": {
     "iopub.execute_input": "2024-03-22T03:58:41.028878Z",
     "iopub.status.busy": "2024-03-22T03:58:41.028372Z",
     "iopub.status.idle": "2024-03-22T03:58:41.100694Z",
     "shell.execute_reply": "2024-03-22T03:58:41.099798Z"
    },
    "papermill": {
     "duration": 0.11269,
     "end_time": "2024-03-22T03:58:41.102506",
     "exception": false,
     "start_time": "2024-03-22T03:58:40.989816",
     "status": "completed"
    },
    "tags": []
   },
   "outputs": [
    {
     "data": {
      "text/plain": [
       "(1526659, 1526659)"
      ]
     },
     "execution_count": 29,
     "metadata": {},
     "output_type": "execute_result"
    }
   ],
   "source": [
    "# Observamos que ya no hay repetidos.\n",
    "len(df_mtr_person_1), df_mtr_person_1.select(pl.col('case_id')).n_unique()"
   ]
  },
  {
   "cell_type": "markdown",
   "id": "5ce20dad",
   "metadata": {
    "papermill": {
     "duration": 0.036771,
     "end_time": "2024-03-22T03:58:41.176305",
     "exception": false,
     "start_time": "2024-03-22T03:58:41.139534",
     "status": "completed"
    },
    "tags": []
   },
   "source": [
    "### *3.4.4. df_tr_credit_br_b_2*"
   ]
  },
  {
   "cell_type": "code",
   "execution_count": 30,
   "id": "7f619986",
   "metadata": {
    "execution": {
     "iopub.execute_input": "2024-03-22T03:58:41.253165Z",
     "iopub.status.busy": "2024-03-22T03:58:41.252834Z",
     "iopub.status.idle": "2024-03-22T03:58:42.330537Z",
     "shell.execute_reply": "2024-03-22T03:58:42.329859Z"
    },
    "papermill": {
     "duration": 1.119732,
     "end_time": "2024-03-22T03:58:42.332734",
     "exception": false,
     "start_time": "2024-03-22T03:58:41.213002",
     "status": "completed"
    },
    "tags": []
   },
   "outputs": [],
   "source": [
    "# Unir todas las columnas que se relacionan con el X base.\n",
    "X = X_p.join(df_mtr_static_0, how= 'left', on= 'case_id').join(\n",
    "    df_mtr_applprev_1, how= 'left', on= 'case_id').join(\n",
    "    df_mtr_person_1, how= 'left', on= 'case_id'\n",
    ")"
   ]
  },
  {
   "cell_type": "code",
   "execution_count": 31,
   "id": "1a740f9a",
   "metadata": {
    "execution": {
     "iopub.execute_input": "2024-03-22T03:58:42.409398Z",
     "iopub.status.busy": "2024-03-22T03:58:42.409060Z",
     "iopub.status.idle": "2024-03-22T03:58:42.415649Z",
     "shell.execute_reply": "2024-03-22T03:58:42.414748Z"
    },
    "papermill": {
     "duration": 0.048392,
     "end_time": "2024-03-22T03:58:42.417406",
     "exception": false,
     "start_time": "2024-03-22T03:58:42.369014",
     "status": "completed"
    },
    "tags": []
   },
   "outputs": [],
   "source": [
    "# Test.\n",
    "X_ts = X_pts.join(df_mts_static_0, how= 'left', on= 'case_id').join(\n",
    "    df_mts_applprev_1, how= 'left', on= 'case_id').join(\n",
    "    df_mts_person_1, how= 'left', on= 'case_id'\n",
    ")"
   ]
  },
  {
   "cell_type": "code",
   "execution_count": 32,
   "id": "29ef9df1",
   "metadata": {
    "execution": {
     "iopub.execute_input": "2024-03-22T03:58:42.491377Z",
     "iopub.status.busy": "2024-03-22T03:58:42.490759Z",
     "iopub.status.idle": "2024-03-22T03:58:42.528306Z",
     "shell.execute_reply": "2024-03-22T03:58:42.527308Z"
    },
    "papermill": {
     "duration": 0.077196,
     "end_time": "2024-03-22T03:58:42.530380",
     "exception": false,
     "start_time": "2024-03-22T03:58:42.453184",
     "status": "completed"
    },
    "tags": []
   },
   "outputs": [
    {
     "data": {
      "text/html": [
       "<div><style>\n",
       ".dataframe > thead > tr,\n",
       ".dataframe > tbody > tr {\n",
       "  text-align: right;\n",
       "  white-space: pre-wrap;\n",
       "}\n",
       "</style>\n",
       "<small>shape: (1_526_659, 164)</small><table border=\"1\" class=\"dataframe\"><thead><tr><th>case_id</th><th>date_decision</th><th>MONTH</th><th>WEEK_NUM</th><th>1_DPD of client with tolerance.</th><th>2_Number of instalments paid before due date in the last 24 months.</th><th>3_Monthly annuity amount.</th><th>4_Next month&#x27;s amount of annuity.</th><th>5_Number of applications associated with the same email address as the client.</th><th>6_Number of applications made by the client in the last 30 days.</th><th>7_Number of applications associated with the same phone number.</th><th>8_Number of applications made in the last 30 days by other clients with the same employer as the applicant.</th><th>9_Number of applications with the same employer in the last 7 days.</th><th>10_Number of applications associated with the same mobile phone.</th><th>11_Average days past or before due of payment during the last 24 months.</th><th>12_Average days past or before due of payment during the last 3 months.</th><th>13_Average days of payment before due date within the last 24 months (with tolerance).</th><th>14_Average DPD (days past due) with tolerance within the past 24 months from the maximum closure date, assuming that the contract is finished. If the contract is ongoing, the calculation is based on the current date.</th><th>15_Average instalments paid by the client over the past 24 months.</th><th>16_Average loan amount in the last 24 months.</th><th>17_Average Days Past Due (DPD) of the client in last 9 months.</th><th>18_Average outstanding balance of applicant for the last 6 months.</th><th>19_Average of payments made by the client in the last 12 months.</th><th>22_Number of clients that have used the same mobile phone as the applicant in the past 12 months.</th><th>23_Number of clients who have the same mobile phone number in the last 3 months.</th><th>24_Total number of clients who have used the same mobile number in the last 6 months.</th><th>25_Number of applications with matching employer&#x27;s phone and client&#x27;s.</th><th>26_Number of clients sharing the same mobile phone.</th><th>27_Number of applications where the alternative phone number matches that of the client.</th><th>28_Number of applications where client&#x27;s phone number matches the alternative phone contact.</th><th>30_Number of clients whose employer has the same phone number as the client.</th><th>31_Number of clients that share an alternative phone number with the applicant.</th><th>32_Number of clients with the same phone number.</th><th>33_Number of clients that have the same alternative phone number and employer&#x27;s phone number.</th><th>34_Number of clients with matching phone numbers for both the employer and the client.</th><th>35_Number of clients with same client&#x27;s and alternative&#x27;s phone number</th><th>36_Number of clients sharing the same employer&#x27;s phone number.</th><th>&hellip;</th><th>10_Maximal historical balance of previous credit account_total</th><th>11_Minimum historical balance of previous credit accounts._total</th><th>14_Loan amount or card limit of previous applications._total</th><th>16_Previous application&#x27;s current debt._total</th><th>19_Previous application downpayment amount._total</th><th>29_Client&#x27;s main income amount in their previous application._total</th><th>30_Maximum DPD with tolerance (on previous application/s)._total</th><th>num_group1_total</th><th>32_Amount of outstanding debt on the client&#x27;s previous application._total</th><th>33_Number of payments made for the previous application._total</th><th>38_Revolving account that was present in the applicant&#x27;s previous application._total</th><th>40_Number of instalments in the previous application._total</th><th>7_Date when previous application was created.</th><th>22_Applicant&#x27;s education level from their previous application.</th><th>24_Family State in previous application of applicant.</th><th>26_Type of the initial transaction made in the previous application of the client.</th><th>3_Number of children of the applicant.</th><th>21_Amount of the main income of the client.</th><th>num_group1</th><th>24_Order of the person specified on the application form.</th><th>25_Person type.</th><th>26_Person type.</th><th>8_Education level of the person.</th><th>9_Start date of employment.</th><th>10_Employment length of a person.</th><th>11_Employment Industry of the person.</th><th>12_District where the employer&#x27;s address is located.</th><th>14_Family state of the person.</th><th>15_Gender of a person.</th><th>16_House type of the person.</th><th>17_Type of housing of the person.</th><th>18_Type of income of the person</th><th>20_The primary language of the person.</th><th>22_Marital status of the client.</th><th>29_Relationship to the client.</th><th>30_Relationship to the client.</th><th>33_Person&#x27;s role.</th></tr><tr><td>i64</td><td>str</td><td>i64</td><td>i64</td><td>f64</td><td>f64</td><td>f64</td><td>f64</td><td>f64</td><td>f64</td><td>f64</td><td>f64</td><td>f64</td><td>f64</td><td>f64</td><td>f64</td><td>f64</td><td>f64</td><td>f64</td><td>f64</td><td>f64</td><td>f64</td><td>f64</td><td>f64</td><td>f64</td><td>f64</td><td>f64</td><td>f64</td><td>f64</td><td>f64</td><td>f64</td><td>f64</td><td>f64</td><td>f64</td><td>f64</td><td>f64</td><td>f64</td><td>&hellip;</td><td>f64</td><td>f64</td><td>f64</td><td>f64</td><td>f64</td><td>f64</td><td>f64</td><td>i64</td><td>f64</td><td>f64</td><td>f64</td><td>f64</td><td>str</td><td>str</td><td>str</td><td>str</td><td>f64</td><td>f64</td><td>i64</td><td>f64</td><td>f64</td><td>f64</td><td>str</td><td>str</td><td>str</td><td>str</td><td>str</td><td>str</td><td>str</td><td>str</td><td>str</td><td>str</td><td>str</td><td>str</td><td>str</td><td>str</td><td>str</td></tr></thead><tbody><tr><td>0</td><td>&quot;2019-01-03&quot;</td><td>201901</td><td>0</td><td>null</td><td>null</td><td>1917.6</td><td>0.0</td><td>0.0</td><td>0.0</td><td>0.0</td><td>0.0</td><td>0.0</td><td>0.0</td><td>null</td><td>null</td><td>null</td><td>null</td><td>null</td><td>null</td><td>null</td><td>null</td><td>null</td><td>0.0</td><td>0.0</td><td>0.0</td><td>0.0</td><td>0.0</td><td>0.0</td><td>0.0</td><td>0.0</td><td>0.0</td><td>0.0</td><td>0.0</td><td>0.0</td><td>0.0</td><td>0.0</td><td>&hellip;</td><td>null</td><td>null</td><td>null</td><td>null</td><td>null</td><td>null</td><td>null</td><td>null</td><td>null</td><td>null</td><td>null</td><td>null</td><td>null</td><td>null</td><td>null</td><td>null</td><td>0.0</td><td>10800.0</td><td>6</td><td>3.0</td><td>11.0</td><td>10.0</td><td>&quot;P97_36_170&quot;</td><td>&quot;2017-09-15&quot;</td><td>&quot;MORE_FIVE&quot;</td><td>&quot;OTHER&quot;</td><td>&quot;P142_57_166&quot;</td><td>&quot;MARRIED&quot;</td><td>null</td><td>null</td><td>null</td><td>&quot;SALARIED_GOVT&quot;</td><td>&quot;P10_39_147&quot;</td><td>null</td><td>null</td><td>null</td><td>null</td></tr><tr><td>1</td><td>&quot;2019-01-03&quot;</td><td>201901</td><td>0</td><td>null</td><td>null</td><td>3134.0</td><td>0.0</td><td>0.0</td><td>0.0</td><td>0.0</td><td>0.0</td><td>0.0</td><td>0.0</td><td>null</td><td>null</td><td>null</td><td>null</td><td>null</td><td>null</td><td>null</td><td>null</td><td>null</td><td>0.0</td><td>0.0</td><td>0.0</td><td>0.0</td><td>0.0</td><td>0.0</td><td>0.0</td><td>3.0</td><td>0.0</td><td>0.0</td><td>0.0</td><td>0.0</td><td>0.0</td><td>0.0</td><td>&hellip;</td><td>null</td><td>null</td><td>null</td><td>null</td><td>null</td><td>null</td><td>null</td><td>null</td><td>null</td><td>null</td><td>null</td><td>null</td><td>null</td><td>null</td><td>null</td><td>null</td><td>0.0</td><td>10000.0</td><td>10</td><td>3.0</td><td>13.0</td><td>11.0</td><td>&quot;P97_36_170&quot;</td><td>&quot;2008-10-29&quot;</td><td>&quot;MORE_FIVE&quot;</td><td>&quot;OTHER&quot;</td><td>&quot;P49_46_174&quot;</td><td>&quot;DIVORCED&quot;</td><td>null</td><td>null</td><td>null</td><td>&quot;SALARIED_GOVT&quot;</td><td>&quot;P10_39_147&quot;</td><td>null</td><td>null</td><td>null</td><td>null</td></tr><tr><td>2</td><td>&quot;2019-01-04&quot;</td><td>201901</td><td>0</td><td>null</td><td>null</td><td>4937.0</td><td>0.0</td><td>0.0</td><td>0.0</td><td>0.0</td><td>0.0</td><td>0.0</td><td>0.0</td><td>null</td><td>null</td><td>null</td><td>null</td><td>null</td><td>null</td><td>null</td><td>null</td><td>null</td><td>0.0</td><td>0.0</td><td>0.0</td><td>0.0</td><td>0.0</td><td>0.0</td><td>0.0</td><td>0.0</td><td>0.0</td><td>0.0</td><td>0.0</td><td>0.0</td><td>0.0</td><td>0.0</td><td>&hellip;</td><td>0.0</td><td>0.0</td><td>26000.0</td><td>0.0</td><td>0.0</td><td>16400.0</td><td>0.0</td><td>1</td><td>0.0</td><td>36.0</td><td>0.0</td><td>36.0</td><td>&quot;2013-04-03&quot;</td><td>&quot;P97_36_170&quot;</td><td>&quot;SINGLE&quot;</td><td>&quot;CASH&quot;</td><td>0.0</td><td>14000.0</td><td>10</td><td>3.0</td><td>12.0</td><td>10.0</td><td>&quot;P97_36_170&quot;</td><td>&quot;2010-02-15&quot;</td><td>&quot;MORE_FIVE&quot;</td><td>&quot;OTHER&quot;</td><td>&quot;P63_14_24&quot;</td><td>&quot;MARRIED&quot;</td><td>null</td><td>null</td><td>null</td><td>&quot;EMPLOYED&quot;</td><td>&quot;P10_39_147&quot;</td><td>null</td><td>null</td><td>null</td><td>null</td></tr><tr><td>3</td><td>&quot;2019-01-03&quot;</td><td>201901</td><td>0</td><td>null</td><td>null</td><td>4643.6</td><td>0.0</td><td>0.0</td><td>1.0</td><td>0.0</td><td>2.0</td><td>0.0</td><td>1.0</td><td>null</td><td>null</td><td>null</td><td>null</td><td>null</td><td>null</td><td>null</td><td>null</td><td>null</td><td>0.0</td><td>0.0</td><td>0.0</td><td>0.0</td><td>0.0</td><td>0.0</td><td>1.0</td><td>0.0</td><td>0.0</td><td>0.0</td><td>0.0</td><td>0.0</td><td>0.0</td><td>0.0</td><td>&hellip;</td><td>0.0</td><td>0.0</td><td>59999.8</td><td>0.0</td><td>0.0</td><td>11000.0</td><td>0.0</td><td>0</td><td>0.0</td><td>12.0</td><td>0.0</td><td>12.0</td><td>&quot;2019-01-07&quot;</td><td>&quot;P97_36_170&quot;</td><td>&quot;MARRIED&quot;</td><td>&quot;CASH&quot;</td><td>0.0</td><td>10000.0</td><td>3</td><td>1.0</td><td>6.0</td><td>5.0</td><td>&quot;P33_146_175&quot;</td><td>&quot;2018-05-15&quot;</td><td>&quot;MORE_FIVE&quot;</td><td>&quot;OTHER&quot;</td><td>&quot;P131_33_167&quot;</td><td>&quot;MARRIED&quot;</td><td>null</td><td>null</td><td>null</td><td>&quot;EMPLOYED&quot;</td><td>&quot;P10_39_147&quot;</td><td>null</td><td>null</td><td>null</td><td>null</td></tr><tr><td>4</td><td>&quot;2019-01-04&quot;</td><td>201901</td><td>0</td><td>null</td><td>null</td><td>3390.2</td><td>0.0</td><td>0.0</td><td>1.0</td><td>0.0</td><td>0.0</td><td>0.0</td><td>1.0</td><td>null</td><td>null</td><td>null</td><td>null</td><td>null</td><td>null</td><td>null</td><td>null</td><td>null</td><td>0.0</td><td>0.0</td><td>0.0</td><td>0.0</td><td>0.0</td><td>0.0</td><td>0.0</td><td>0.0</td><td>0.0</td><td>0.0</td><td>0.0</td><td>0.0</td><td>0.0</td><td>0.0</td><td>&hellip;</td><td>0.0</td><td>0.0</td><td>40000.0</td><td>0.0</td><td>0.0</td><td>16000.0</td><td>0.0</td><td>0</td><td>0.0</td><td>24.0</td><td>0.0</td><td>24.0</td><td>&quot;2019-01-08&quot;</td><td>&quot;a55475b1&quot;</td><td>null</td><td>&quot;CASH&quot;</td><td>0.0</td><td>24000.0</td><td>6</td><td>3.0</td><td>12.0</td><td>11.0</td><td>&quot;P33_146_175&quot;</td><td>&quot;2014-12-15&quot;</td><td>&quot;MORE_FIVE&quot;</td><td>&quot;OTHER&quot;</td><td>&quot;P62_144_102&quot;</td><td>&quot;MARRIED&quot;</td><td>null</td><td>null</td><td>null</td><td>&quot;EMPLOYED&quot;</td><td>&quot;P10_39_147&quot;</td><td>null</td><td>null</td><td>null</td><td>null</td></tr><tr><td>5</td><td>&quot;2019-01-02&quot;</td><td>201901</td><td>0</td><td>null</td><td>null</td><td>3600.0</td><td>0.0</td><td>0.0</td><td>1.0</td><td>0.0</td><td>8.0</td><td>2.0</td><td>1.0</td><td>null</td><td>null</td><td>null</td><td>null</td><td>null</td><td>null</td><td>null</td><td>null</td><td>null</td><td>0.0</td><td>0.0</td><td>0.0</td><td>0.0</td><td>0.0</td><td>0.0</td><td>0.0</td><td>0.0</td><td>0.0</td><td>0.0</td><td>0.0</td><td>0.0</td><td>0.0</td><td>2.0</td><td>&hellip;</td><td>0.0</td><td>0.0</td><td>0.0</td><td>0.0</td><td>0.0</td><td>62000.0</td><td>0.0</td><td>0</td><td>0.0</td><td>0.0</td><td>0.0</td><td>0.0</td><td>&quot;2019-01-16&quot;</td><td>&quot;a55475b1&quot;</td><td>null</td><td>null</td><td>0.0</td><td>64000.0</td><td>3</td><td>1.0</td><td>7.0</td><td>6.0</td><td>&quot;P97_36_170&quot;</td><td>&quot;2016-01-15&quot;</td><td>&quot;MORE_FIVE&quot;</td><td>&quot;OTHER&quot;</td><td>&quot;P54_133_26&quot;</td><td>&quot;MARRIED&quot;</td><td>null</td><td>null</td><td>null</td><td>&quot;PRIVATE_SECTOR…</td><td>&quot;P209_127_106&quot;</td><td>null</td><td>null</td><td>null</td><td>null</td></tr><tr><td>6</td><td>&quot;2019-01-03&quot;</td><td>201901</td><td>0</td><td>0.0</td><td>null</td><td>3110.8</td><td>0.0</td><td>0.0</td><td>0.0</td><td>0.0</td><td>0.0</td><td>0.0</td><td>1.0</td><td>null</td><td>null</td><td>null</td><td>null</td><td>null</td><td>null</td><td>null</td><td>null</td><td>null</td><td>0.0</td><td>0.0</td><td>0.0</td><td>0.0</td><td>0.0</td><td>0.0</td><td>1.0</td><td>0.0</td><td>0.0</td><td>0.0</td><td>0.0</td><td>0.0</td><td>0.0</td><td>1.0</td><td>&hellip;</td><td>0.0</td><td>0.0</td><td>65360.0</td><td>0.0</td><td>0.0</td><td>86000.0</td><td>0.0</td><td>3</td><td>0.0</td><td>46.0</td><td>0.0</td><td>46.0</td><td>&quot;2018-09-12&quot;</td><td>&quot;a55475b1&quot;</td><td>null</td><td>&quot;CASH&quot;</td><td>0.0</td><td>20000.0</td><td>6</td><td>3.0</td><td>12.0</td><td>11.0</td><td>&quot;P97_36_170&quot;</td><td>&quot;2013-09-15&quot;</td><td>&quot;MORE_FIVE&quot;</td><td>&quot;EDUCATION&quot;</td><td>&quot;P82_154_182&quot;</td><td>&quot;SINGLE&quot;</td><td>&quot;F&quot;</td><td>null</td><td>null</td><td>&quot;EMPLOYED&quot;</td><td>&quot;P10_39_147&quot;</td><td>null</td><td>null</td><td>null</td><td>&quot;FULL&quot;</td></tr><tr><td>7</td><td>&quot;2019-01-03&quot;</td><td>201901</td><td>0</td><td>null</td><td>null</td><td>1218.0</td><td>0.0</td><td>0.0</td><td>0.0</td><td>0.0</td><td>1.0</td><td>1.0</td><td>0.0</td><td>null</td><td>null</td><td>null</td><td>null</td><td>null</td><td>null</td><td>null</td><td>null</td><td>null</td><td>0.0</td><td>0.0</td><td>0.0</td><td>0.0</td><td>0.0</td><td>0.0</td><td>0.0</td><td>0.0</td><td>0.0</td><td>0.0</td><td>0.0</td><td>0.0</td><td>0.0</td><td>0.0</td><td>&hellip;</td><td>null</td><td>null</td><td>null</td><td>null</td><td>null</td><td>null</td><td>null</td><td>null</td><td>null</td><td>null</td><td>null</td><td>null</td><td>null</td><td>null</td><td>null</td><td>null</td><td>0.0</td><td>46000.0</td><td>6</td><td>3.0</td><td>12.0</td><td>11.0</td><td>&quot;P33_146_175&quot;</td><td>&quot;2018-09-15&quot;</td><td>&quot;LESS_ONE&quot;</td><td>&quot;EDUCATION&quot;</td><td>&quot;P54_133_26&quot;</td><td>&quot;SINGLE&quot;</td><td>null</td><td>null</td><td>null</td><td>&quot;SALARIED_GOVT&quot;</td><td>&quot;P209_127_106&quot;</td><td>null</td><td>null</td><td>null</td><td>null</td></tr><tr><td>8</td><td>&quot;2019-01-03&quot;</td><td>201901</td><td>0</td><td>null</td><td>null</td><td>8254.8</td><td>0.0</td><td>0.0</td><td>0.0</td><td>0.0</td><td>0.0</td><td>0.0</td><td>0.0</td><td>null</td><td>null</td><td>null</td><td>null</td><td>null</td><td>null</td><td>null</td><td>null</td><td>null</td><td>0.0</td><td>0.0</td><td>0.0</td><td>1.0</td><td>0.0</td><td>0.0</td><td>0.0</td><td>0.0</td><td>0.0</td><td>0.0</td><td>0.0</td><td>0.0</td><td>0.0</td><td>0.0</td><td>&hellip;</td><td>null</td><td>null</td><td>null</td><td>null</td><td>null</td><td>null</td><td>null</td><td>null</td><td>null</td><td>null</td><td>null</td><td>null</td><td>null</td><td>null</td><td>null</td><td>null</td><td>0.0</td><td>90000.0</td><td>6</td><td>3.0</td><td>12.0</td><td>11.0</td><td>&quot;P97_36_170&quot;</td><td>&quot;2016-05-15&quot;</td><td>&quot;MORE_FIVE&quot;</td><td>&quot;OTHER&quot;</td><td>&quot;P109_162_152&quot;</td><td>&quot;MARRIED&quot;</td><td>null</td><td>null</td><td>null</td><td>&quot;EMPLOYED&quot;</td><td>&quot;P10_39_147&quot;</td><td>null</td><td>null</td><td>null</td><td>null</td></tr><tr><td>9</td><td>&quot;2019-01-03&quot;</td><td>201901</td><td>0</td><td>null</td><td>null</td><td>4929.4</td><td>0.0</td><td>0.0</td><td>0.0</td><td>0.0</td><td>0.0</td><td>0.0</td><td>0.0</td><td>null</td><td>null</td><td>null</td><td>null</td><td>null</td><td>null</td><td>null</td><td>null</td><td>null</td><td>0.0</td><td>0.0</td><td>0.0</td><td>0.0</td><td>0.0</td><td>0.0</td><td>0.0</td><td>0.0</td><td>0.0</td><td>0.0</td><td>0.0</td><td>0.0</td><td>1.0</td><td>0.0</td><td>&hellip;</td><td>null</td><td>null</td><td>null</td><td>null</td><td>null</td><td>null</td><td>null</td><td>null</td><td>null</td><td>null</td><td>null</td><td>null</td><td>null</td><td>null</td><td>null</td><td>null</td><td>0.0</td><td>100000.0</td><td>1</td><td>1.0</td><td>6.0</td><td>6.0</td><td>&quot;P33_146_175&quot;</td><td>null</td><td>null</td><td>null</td><td>&quot;a55475b1&quot;</td><td>&quot;MARRIED&quot;</td><td>null</td><td>null</td><td>null</td><td>&quot;RETIRED_PENSIO…</td><td>&quot;P209_127_106&quot;</td><td>null</td><td>null</td><td>null</td><td>null</td></tr><tr><td>10</td><td>&quot;2019-01-03&quot;</td><td>201901</td><td>0</td><td>null</td><td>null</td><td>9568.601</td><td>0.0</td><td>0.0</td><td>1.0</td><td>0.0</td><td>0.0</td><td>0.0</td><td>1.0</td><td>null</td><td>null</td><td>null</td><td>null</td><td>null</td><td>null</td><td>null</td><td>null</td><td>null</td><td>0.0</td><td>0.0</td><td>0.0</td><td>0.0</td><td>0.0</td><td>0.0</td><td>1.0</td><td>0.0</td><td>0.0</td><td>0.0</td><td>0.0</td><td>0.0</td><td>0.0</td><td>0.0</td><td>&hellip;</td><td>0.0</td><td>0.0</td><td>100000.0</td><td>0.0</td><td>0.0</td><td>57000.0</td><td>0.0</td><td>0</td><td>0.0</td><td>12.0</td><td>0.0</td><td>12.0</td><td>&quot;2019-01-11&quot;</td><td>&quot;P17_36_170&quot;</td><td>&quot;MARRIED&quot;</td><td>&quot;CASH&quot;</td><td>0.0</td><td>57000.0</td><td>3</td><td>3.0</td><td>11.0</td><td>11.0</td><td>&quot;P17_36_170&quot;</td><td>null</td><td>null</td><td>null</td><td>&quot;a55475b1&quot;</td><td>&quot;MARRIED&quot;</td><td>null</td><td>null</td><td>null</td><td>&quot;RETIRED_PENSIO…</td><td>&quot;P10_39_147&quot;</td><td>null</td><td>null</td><td>null</td><td>null</td></tr><tr><td>11</td><td>&quot;2019-01-03&quot;</td><td>201901</td><td>0</td><td>null</td><td>null</td><td>4471.0</td><td>0.0</td><td>0.0</td><td>0.0</td><td>0.0</td><td>2.0</td><td>0.0</td><td>0.0</td><td>null</td><td>null</td><td>null</td><td>null</td><td>null</td><td>null</td><td>null</td><td>null</td><td>null</td><td>0.0</td><td>0.0</td><td>0.0</td><td>0.0</td><td>0.0</td><td>0.0</td><td>0.0</td><td>0.0</td><td>0.0</td><td>0.0</td><td>0.0</td><td>0.0</td><td>0.0</td><td>0.0</td><td>&hellip;</td><td>null</td><td>null</td><td>null</td><td>null</td><td>null</td><td>null</td><td>null</td><td>null</td><td>null</td><td>null</td><td>null</td><td>null</td><td>null</td><td>null</td><td>null</td><td>null</td><td>0.0</td><td>50000.0</td><td>3</td><td>1.0</td><td>7.0</td><td>6.0</td><td>&quot;P97_36_170&quot;</td><td>&quot;2016-10-15&quot;</td><td>&quot;MORE_ONE&quot;</td><td>&quot;OTHER&quot;</td><td>&quot;P112_92_131&quot;</td><td>&quot;MARRIED&quot;</td><td>null</td><td>null</td><td>null</td><td>&quot;PRIVATE_SECTOR…</td><td>&quot;P209_127_106&quot;</td><td>null</td><td>null</td><td>null</td><td>null</td></tr><tr><td>&hellip;</td><td>&hellip;</td><td>&hellip;</td><td>&hellip;</td><td>&hellip;</td><td>&hellip;</td><td>&hellip;</td><td>&hellip;</td><td>&hellip;</td><td>&hellip;</td><td>&hellip;</td><td>&hellip;</td><td>&hellip;</td><td>&hellip;</td><td>&hellip;</td><td>&hellip;</td><td>&hellip;</td><td>&hellip;</td><td>&hellip;</td><td>&hellip;</td><td>&hellip;</td><td>&hellip;</td><td>&hellip;</td><td>&hellip;</td><td>&hellip;</td><td>&hellip;</td><td>&hellip;</td><td>&hellip;</td><td>&hellip;</td><td>&hellip;</td><td>&hellip;</td><td>&hellip;</td><td>&hellip;</td><td>&hellip;</td><td>&hellip;</td><td>&hellip;</td><td>&hellip;</td><td>&hellip;</td><td>&hellip;</td><td>&hellip;</td><td>&hellip;</td><td>&hellip;</td><td>&hellip;</td><td>&hellip;</td><td>&hellip;</td><td>&hellip;</td><td>&hellip;</td><td>&hellip;</td><td>&hellip;</td><td>&hellip;</td><td>&hellip;</td><td>&hellip;</td><td>&hellip;</td><td>&hellip;</td><td>&hellip;</td><td>&hellip;</td><td>&hellip;</td><td>&hellip;</td><td>&hellip;</td><td>&hellip;</td><td>&hellip;</td><td>&hellip;</td><td>&hellip;</td><td>&hellip;</td><td>&hellip;</td><td>&hellip;</td><td>&hellip;</td><td>&hellip;</td><td>&hellip;</td><td>&hellip;</td><td>&hellip;</td><td>&hellip;</td><td>&hellip;</td><td>&hellip;</td><td>&hellip;</td></tr><tr><td>2703442</td><td>&quot;2020-10-05&quot;</td><td>202010</td><td>91</td><td>0.0</td><td>60927.24</td><td>6111.6</td><td>0.0</td><td>0.0</td><td>0.0</td><td>0.0</td><td>0.0</td><td>0.0</td><td>9.0</td><td>-1.0</td><td>-4.0</td><td>-1.0</td><td>1.0</td><td>3335.6</td><td>null</td><td>2.0</td><td>3060.0</td><td>3804.6</td><td>0.0</td><td>0.0</td><td>0.0</td><td>0.0</td><td>0.0</td><td>0.0</td><td>0.0</td><td>0.0</td><td>0.0</td><td>0.0</td><td>0.0</td><td>0.0</td><td>0.0</td><td>0.0</td><td>&hellip;</td><td>0.0</td><td>0.0</td><td>458358.0</td><td>0.0</td><td>0.0</td><td>273520.0</td><td>11.0</td><td>36</td><td>0.0</td><td>224.0</td><td>0.0</td><td>224.0</td><td>&quot;2019-07-29&quot;</td><td>&quot;a55475b1&quot;</td><td>null</td><td>&quot;POS&quot;</td><td>0.0</td><td>76000.0</td><td>0</td><td>0.0</td><td>1.0</td><td>1.0</td><td>&quot;a55475b1&quot;</td><td>null</td><td>null</td><td>null</td><td>&quot;a55475b1&quot;</td><td>null</td><td>null</td><td>&quot;OWNED&quot;</td><td>null</td><td>&quot;RETIRED_PENSIO…</td><td>&quot;P10_39_147&quot;</td><td>null</td><td>null</td><td>null</td><td>null</td></tr><tr><td>2703443</td><td>&quot;2020-10-05&quot;</td><td>202010</td><td>91</td><td>0.0</td><td>169487.72</td><td>4960.8003</td><td>2717.2</td><td>0.0</td><td>0.0</td><td>0.0</td><td>0.0</td><td>0.0</td><td>4.0</td><td>-11.0</td><td>-9.0</td><td>-11.0</td><td>0.0</td><td>7369.0</td><td>null</td><td>0.0</td><td>12492.798</td><td>10033.2</td><td>0.0</td><td>0.0</td><td>0.0</td><td>0.0</td><td>0.0</td><td>0.0</td><td>0.0</td><td>0.0</td><td>0.0</td><td>0.0</td><td>0.0</td><td>0.0</td><td>0.0</td><td>0.0</td><td>&hellip;</td><td>4.0880003</td><td>4.0880003</td><td>301222.6</td><td>7147.514</td><td>0.0</td><td>230000.0</td><td>9.0</td><td>28</td><td>7647.2</td><td>144.0</td><td>7.80801e8</td><td>144.0</td><td>&quot;2020-01-05&quot;</td><td>&quot;a55475b1&quot;</td><td>null</td><td>&quot;POS&quot;</td><td>0.0</td><td>110000.0</td><td>0</td><td>0.0</td><td>1.0</td><td>1.0</td><td>&quot;a55475b1&quot;</td><td>null</td><td>null</td><td>null</td><td>&quot;a55475b1&quot;</td><td>null</td><td>null</td><td>&quot;OWNED&quot;</td><td>null</td><td>&quot;EMPLOYED&quot;</td><td>&quot;P10_39_147&quot;</td><td>null</td><td>null</td><td>null</td><td>null</td></tr><tr><td>2703445</td><td>&quot;2020-10-05&quot;</td><td>202010</td><td>91</td><td>0.0</td><td>45531.8</td><td>5192.6</td><td>0.0</td><td>0.0</td><td>0.0</td><td>0.0</td><td>0.0</td><td>0.0</td><td>4.0</td><td>-7.0</td><td>null</td><td>-7.0</td><td>0.0</td><td>4139.2</td><td>null</td><td>null</td><td>null</td><td>4137.8003</td><td>0.0</td><td>0.0</td><td>0.0</td><td>0.0</td><td>0.0</td><td>1.0</td><td>0.0</td><td>0.0</td><td>0.0</td><td>0.0</td><td>0.0</td><td>0.0</td><td>0.0</td><td>0.0</td><td>&hellip;</td><td>0.0</td><td>0.0</td><td>63411.0</td><td>0.0</td><td>549.0</td><td>69000.0</td><td>1.0</td><td>6</td><td>0.0</td><td>30.0</td><td>0.0</td><td>30.0</td><td>&quot;2018-10-22&quot;</td><td>&quot;a55475b1&quot;</td><td>null</td><td>&quot;CASH&quot;</td><td>0.0</td><td>70000.0</td><td>0</td><td>0.0</td><td>1.0</td><td>1.0</td><td>&quot;a55475b1&quot;</td><td>null</td><td>null</td><td>null</td><td>&quot;a55475b1&quot;</td><td>null</td><td>null</td><td>&quot;OWNED&quot;</td><td>null</td><td>&quot;SALARIED_GOVT&quot;</td><td>&quot;P10_39_147&quot;</td><td>null</td><td>null</td><td>null</td><td>null</td></tr><tr><td>2703446</td><td>&quot;2020-10-05&quot;</td><td>202010</td><td>91</td><td>0.0</td><td>75052.2</td><td>4625.0</td><td>7054.2</td><td>0.0</td><td>0.0</td><td>0.0</td><td>0.0</td><td>0.0</td><td>6.0</td><td>-2.0</td><td>3.0</td><td>-4.0</td><td>0.0</td><td>4265.4</td><td>44798.0</td><td>1.0</td><td>64509.53</td><td>4110.0</td><td>1.0</td><td>0.0</td><td>0.0</td><td>0.0</td><td>1.0</td><td>0.0</td><td>0.0</td><td>0.0</td><td>0.0</td><td>0.0</td><td>0.0</td><td>0.0</td><td>0.0</td><td>0.0</td><td>&hellip;</td><td>0.0</td><td>0.0</td><td>135915.8</td><td>55470.322</td><td>2400.0</td><td>162400.0</td><td>9.0</td><td>10</td><td>68908.8</td><td>57.0</td><td>0.0</td><td>57.0</td><td>&quot;2020-06-22&quot;</td><td>&quot;a55475b1&quot;</td><td>null</td><td>&quot;POS&quot;</td><td>0.0</td><td>64000.0</td><td>3</td><td>3.0</td><td>11.0</td><td>11.0</td><td>&quot;P97_36_170&quot;</td><td>null</td><td>null</td><td>null</td><td>&quot;a55475b1&quot;</td><td>&quot;WIDOWED&quot;</td><td>null</td><td>&quot;OWNED&quot;</td><td>null</td><td>&quot;RETIRED_PENSIO…</td><td>&quot;P10_39_147&quot;</td><td>null</td><td>null</td><td>null</td><td>null</td></tr><tr><td>2703447</td><td>&quot;2020-10-05&quot;</td><td>202010</td><td>91</td><td>0.0</td><td>227610.78</td><td>4522.6</td><td>6225.0</td><td>0.0</td><td>0.0</td><td>0.0</td><td>0.0</td><td>0.0</td><td>4.0</td><td>-7.0</td><td>-6.0</td><td>-6.0</td><td>0.0</td><td>10542.4</td><td>null</td><td>0.0</td><td>120474.62</td><td>10975.4</td><td>0.0</td><td>0.0</td><td>0.0</td><td>0.0</td><td>0.0</td><td>0.0</td><td>0.0</td><td>0.0</td><td>0.0</td><td>0.0</td><td>0.0</td><td>0.0</td><td>0.0</td><td>0.0</td><td>&hellip;</td><td>0.0</td><td>0.0</td><td>293800.0</td><td>77808.86</td><td>0.0</td><td>190000.0</td><td>2.0</td><td>6</td><td>104824.2</td><td>96.0</td><td>0.0</td><td>96.0</td><td>&quot;2019-03-09&quot;</td><td>&quot;a55475b1&quot;</td><td>null</td><td>&quot;CASH&quot;</td><td>0.0</td><td>100000.0</td><td>0</td><td>0.0</td><td>1.0</td><td>1.0</td><td>&quot;a55475b1&quot;</td><td>null</td><td>null</td><td>null</td><td>&quot;a55475b1&quot;</td><td>null</td><td>null</td><td>&quot;OWNED&quot;</td><td>null</td><td>&quot;RETIRED_PENSIO…</td><td>&quot;P10_39_147&quot;</td><td>null</td><td>null</td><td>null</td><td>null</td></tr><tr><td>2703448</td><td>&quot;2020-10-05&quot;</td><td>202010</td><td>91</td><td>0.0</td><td>117572.6</td><td>8016.0</td><td>0.0</td><td>0.0</td><td>0.0</td><td>0.0</td><td>0.0</td><td>0.0</td><td>0.0</td><td>-20.0</td><td>null</td><td>-20.0</td><td>0.0</td><td>6916.0</td><td>null</td><td>0.0</td><td>null</td><td>7340.0</td><td>0.0</td><td>0.0</td><td>0.0</td><td>0.0</td><td>0.0</td><td>0.0</td><td>0.0</td><td>0.0</td><td>0.0</td><td>0.0</td><td>0.0</td><td>0.0</td><td>0.0</td><td>0.0</td><td>&hellip;</td><td>0.0</td><td>0.0</td><td>218181.6</td><td>0.0</td><td>0.0</td><td>292000.0</td><td>0.0</td><td>21</td><td>0.0</td><td>67.0</td><td>0.0</td><td>67.0</td><td>&quot;2019-03-22&quot;</td><td>&quot;a55475b1&quot;</td><td>null</td><td>&quot;POS&quot;</td><td>0.0</td><td>100000.0</td><td>0</td><td>0.0</td><td>1.0</td><td>1.0</td><td>&quot;a55475b1&quot;</td><td>null</td><td>null</td><td>null</td><td>&quot;a55475b1&quot;</td><td>null</td><td>null</td><td>&quot;OWNED&quot;</td><td>null</td><td>&quot;EMPLOYED&quot;</td><td>&quot;P10_39_147&quot;</td><td>null</td><td>null</td><td>null</td><td>null</td></tr><tr><td>2703449</td><td>&quot;2020-10-05&quot;</td><td>202010</td><td>91</td><td>0.0</td><td>104557.25</td><td>8218.0</td><td>5293.2</td><td>0.0</td><td>0.0</td><td>0.0</td><td>0.0</td><td>0.0</td><td>5.0</td><td>0.0</td><td>-5.0</td><td>-2.0</td><td>1.0</td><td>8027.2</td><td>null</td><td>2.0</td><td>23399.828</td><td>5293.2</td><td>0.0</td><td>0.0</td><td>0.0</td><td>0.0</td><td>0.0</td><td>0.0</td><td>0.0</td><td>0.0</td><td>0.0</td><td>0.0</td><td>0.0</td><td>0.0</td><td>0.0</td><td>0.0</td><td>&hellip;</td><td>0.0</td><td>0.0</td><td>326730.0</td><td>10014.69</td><td>0.0</td><td>309600.0</td><td>11.0</td><td>21</td><td>10548.4</td><td>100.0</td><td>0.0</td><td>100.0</td><td>&quot;2020-03-03&quot;</td><td>&quot;a55475b1&quot;</td><td>null</td><td>&quot;CASH&quot;</td><td>0.0</td><td>40000.0</td><td>0</td><td>0.0</td><td>1.0</td><td>1.0</td><td>&quot;a55475b1&quot;</td><td>null</td><td>null</td><td>null</td><td>&quot;a55475b1&quot;</td><td>null</td><td>null</td><td>null</td><td>null</td><td>&quot;SALARIED_GOVT&quot;</td><td>&quot;P10_39_147&quot;</td><td>null</td><td>null</td><td>null</td><td>null</td></tr><tr><td>2703450</td><td>&quot;2020-10-05&quot;</td><td>202010</td><td>91</td><td>0.0</td><td>176561.36</td><td>3675.4001</td><td>0.0</td><td>0.0</td><td>0.0</td><td>0.0</td><td>0.0</td><td>0.0</td><td>10.0</td><td>-23.0</td><td>-43.0</td><td>-23.0</td><td>0.0</td><td>7356.8003</td><td>null</td><td>0.0</td><td>16392.496</td><td>6750.2</td><td>0.0</td><td>0.0</td><td>0.0</td><td>0.0</td><td>0.0</td><td>0.0</td><td>0.0</td><td>0.0</td><td>0.0</td><td>0.0</td><td>0.0</td><td>0.0</td><td>0.0</td><td>0.0</td><td>&hellip;</td><td>0.092</td><td>0.092</td><td>400530.0</td><td>0.0</td><td>0.0</td><td>277400.0</td><td>6.0</td><td>78</td><td>0.0</td><td>131.0</td><td>7.6071494e8</td><td>131.0</td><td>&quot;2019-10-09&quot;</td><td>&quot;a55475b1&quot;</td><td>null</td><td>&quot;POS&quot;</td><td>0.0</td><td>40000.0</td><td>0</td><td>0.0</td><td>1.0</td><td>1.0</td><td>&quot;a55475b1&quot;</td><td>null</td><td>null</td><td>null</td><td>&quot;a55475b1&quot;</td><td>null</td><td>null</td><td>&quot;OWNED&quot;</td><td>null</td><td>&quot;RETIRED_PENSIO…</td><td>&quot;P209_127_106&quot;</td><td>null</td><td>null</td><td>null</td><td>null</td></tr><tr><td>2703451</td><td>&quot;2020-10-05&quot;</td><td>202010</td><td>91</td><td>0.0</td><td>301276.47</td><td>7088.6</td><td>6191.6</td><td>0.0</td><td>0.0</td><td>5.0</td><td>0.0</td><td>0.0</td><td>5.0</td><td>-18.0</td><td>-12.0</td><td>-18.0</td><td>0.0</td><td>12553.2</td><td>null</td><td>0.0</td><td>105129.31</td><td>15780.4</td><td>0.0</td><td>0.0</td><td>0.0</td><td>0.0</td><td>0.0</td><td>0.0</td><td>0.0</td><td>0.0</td><td>0.0</td><td>0.0</td><td>0.0</td><td>0.0</td><td>0.0</td><td>0.0</td><td>&hellip;</td><td>90.0</td><td>90.0</td><td>448442.6</td><td>59773.715</td><td>0.0</td><td>194800.0</td><td>1.0</td><td>15</td><td>68098.4</td><td>90.0</td><td>7.805945e8</td><td>90.0</td><td>&quot;2019-09-30&quot;</td><td>&quot;a55475b1&quot;</td><td>null</td><td>&quot;NDF&quot;</td><td>0.0</td><td>36800.0</td><td>1</td><td>0.0</td><td>2.0</td><td>1.0</td><td>&quot;a55475b1&quot;</td><td>null</td><td>null</td><td>null</td><td>&quot;a55475b1&quot;</td><td>null</td><td>null</td><td>null</td><td>null</td><td>&quot;RETIRED_PENSIO…</td><td>&quot;P209_127_106&quot;</td><td>null</td><td>null</td><td>null</td><td>null</td></tr><tr><td>2703452</td><td>&quot;2020-10-05&quot;</td><td>202010</td><td>91</td><td>0.0</td><td>14232.4</td><td>7788.8003</td><td>0.0</td><td>0.0</td><td>0.0</td><td>0.0</td><td>0.0</td><td>0.0</td><td>3.0</td><td>-12.0</td><td>null</td><td>-16.0</td><td>1.0</td><td>2662.4001</td><td>null</td><td>null</td><td>null</td><td>1500.6</td><td>0.0</td><td>0.0</td><td>0.0</td><td>0.0</td><td>0.0</td><td>0.0</td><td>0.0</td><td>0.0</td><td>0.0</td><td>0.0</td><td>0.0</td><td>0.0</td><td>0.0</td><td>0.0</td><td>&hellip;</td><td>0.0</td><td>0.0</td><td>99696.0</td><td>0.0</td><td>0.0</td><td>88000.0</td><td>1.0</td><td>3</td><td>0.0</td><td>23.0</td><td>0.0</td><td>23.0</td><td>&quot;2020-08-21&quot;</td><td>&quot;a55475b1&quot;</td><td>null</td><td>&quot;CASH&quot;</td><td>0.0</td><td>30000.0</td><td>0</td><td>0.0</td><td>1.0</td><td>1.0</td><td>&quot;a55475b1&quot;</td><td>null</td><td>null</td><td>null</td><td>&quot;a55475b1&quot;</td><td>null</td><td>null</td><td>null</td><td>null</td><td>&quot;PRIVATE_SECTOR…</td><td>&quot;P209_127_106&quot;</td><td>null</td><td>null</td><td>null</td><td>null</td></tr><tr><td>2703453</td><td>&quot;2020-10-05&quot;</td><td>202010</td><td>91</td><td>0.0</td><td>197371.58</td><td>1195.4</td><td>2827.2</td><td>0.0</td><td>0.0</td><td>36.0</td><td>0.0</td><td>0.0</td><td>9.0</td><td>-33.0</td><td>-64.0</td><td>-34.0</td><td>0.0</td><td>8212.601</td><td>null</td><td>0.0</td><td>47943.062</td><td>9921.2</td><td>0.0</td><td>0.0</td><td>0.0</td><td>0.0</td><td>1.0</td><td>0.0</td><td>0.0</td><td>0.0</td><td>0.0</td><td>6.0</td><td>0.0</td><td>0.0</td><td>0.0</td><td>0.0</td><td>&hellip;</td><td>398.02402</td><td>198.024</td><td>256690.0</td><td>34550.855</td><td>0.0</td><td>285000.0</td><td>40.0</td><td>36</td><td>46806.6</td><td>165.0</td><td>7.808259e8</td><td>165.0</td><td>&quot;2019-12-18&quot;</td><td>&quot;a55475b1&quot;</td><td>null</td><td>&quot;NDF&quot;</td><td>0.0</td><td>30000.0</td><td>1</td><td>0.0</td><td>2.0</td><td>1.0</td><td>&quot;a55475b1&quot;</td><td>null</td><td>null</td><td>null</td><td>&quot;a55475b1&quot;</td><td>null</td><td>null</td><td>null</td><td>null</td><td>&quot;RETIRED_PENSIO…</td><td>&quot;P209_127_106&quot;</td><td>null</td><td>null</td><td>null</td><td>null</td></tr><tr><td>2703454</td><td>&quot;2020-10-05&quot;</td><td>202010</td><td>91</td><td>0.0</td><td>82949.6</td><td>4533.8003</td><td>2986.8</td><td>0.0</td><td>0.0</td><td>0.0</td><td>0.0</td><td>0.0</td><td>0.0</td><td>-6.0</td><td>-5.0</td><td>-6.0</td><td>0.0</td><td>6405.4</td><td>15998.0</td><td>0.0</td><td>15651.796</td><td>6352.0</td><td>0.0</td><td>0.0</td><td>0.0</td><td>0.0</td><td>0.0</td><td>0.0</td><td>0.0</td><td>0.0</td><td>0.0</td><td>0.0</td><td>0.0</td><td>0.0</td><td>0.0</td><td>0.0</td><td>&hellip;</td><td>0.0</td><td>0.0</td><td>75998.0</td><td>5631.406</td><td>0.0</td><td>84000.0</td><td>0.0</td><td>1</td><td>5919.2</td><td>18.0</td><td>0.0</td><td>18.0</td><td>&quot;2020-06-21&quot;</td><td>&quot;a55475b1&quot;</td><td>null</td><td>&quot;POS&quot;</td><td>0.0</td><td>39400.0</td><td>0</td><td>0.0</td><td>1.0</td><td>1.0</td><td>&quot;a55475b1&quot;</td><td>null</td><td>null</td><td>null</td><td>&quot;a55475b1&quot;</td><td>null</td><td>null</td><td>null</td><td>null</td><td>&quot;RETIRED_PENSIO…</td><td>&quot;P10_39_147&quot;</td><td>null</td><td>null</td><td>null</td><td>null</td></tr></tbody></table></div>"
      ],
      "text/plain": [
       "shape: (1_526_659, 164)\n",
       "┌─────────┬────────────┬────────┬──────────┬───┬────────────┬────────────┬────────────┬────────────┐\n",
       "│ case_id ┆ date_decis ┆ MONTH  ┆ WEEK_NUM ┆ … ┆ 22_Marital ┆ 29_Relatio ┆ 30_Relatio ┆ 33_Person' │\n",
       "│ ---     ┆ ion        ┆ ---    ┆ ---      ┆   ┆ status of  ┆ nship to   ┆ nship to   ┆ s role.    │\n",
       "│ i64     ┆ ---        ┆ i64    ┆ i64      ┆   ┆ the        ┆ the        ┆ the        ┆ ---        │\n",
       "│         ┆ str        ┆        ┆          ┆   ┆ client.    ┆ client.    ┆ client.    ┆ str        │\n",
       "│         ┆            ┆        ┆          ┆   ┆ ---        ┆ ---        ┆ ---        ┆            │\n",
       "│         ┆            ┆        ┆          ┆   ┆ str        ┆ str        ┆ str        ┆            │\n",
       "╞═════════╪════════════╪════════╪══════════╪═══╪════════════╪════════════╪════════════╪════════════╡\n",
       "│ 0       ┆ 2019-01-03 ┆ 201901 ┆ 0        ┆ … ┆ null       ┆ null       ┆ null       ┆ null       │\n",
       "│ 1       ┆ 2019-01-03 ┆ 201901 ┆ 0        ┆ … ┆ null       ┆ null       ┆ null       ┆ null       │\n",
       "│ 2       ┆ 2019-01-04 ┆ 201901 ┆ 0        ┆ … ┆ null       ┆ null       ┆ null       ┆ null       │\n",
       "│ 3       ┆ 2019-01-03 ┆ 201901 ┆ 0        ┆ … ┆ null       ┆ null       ┆ null       ┆ null       │\n",
       "│ 4       ┆ 2019-01-04 ┆ 201901 ┆ 0        ┆ … ┆ null       ┆ null       ┆ null       ┆ null       │\n",
       "│ …       ┆ …          ┆ …      ┆ …        ┆ … ┆ …          ┆ …          ┆ …          ┆ …          │\n",
       "│ 2703450 ┆ 2020-10-05 ┆ 202010 ┆ 91       ┆ … ┆ null       ┆ null       ┆ null       ┆ null       │\n",
       "│ 2703451 ┆ 2020-10-05 ┆ 202010 ┆ 91       ┆ … ┆ null       ┆ null       ┆ null       ┆ null       │\n",
       "│ 2703452 ┆ 2020-10-05 ┆ 202010 ┆ 91       ┆ … ┆ null       ┆ null       ┆ null       ┆ null       │\n",
       "│ 2703453 ┆ 2020-10-05 ┆ 202010 ┆ 91       ┆ … ┆ null       ┆ null       ┆ null       ┆ null       │\n",
       "│ 2703454 ┆ 2020-10-05 ┆ 202010 ┆ 91       ┆ … ┆ null       ┆ null       ┆ null       ┆ null       │\n",
       "└─────────┴────────────┴────────┴──────────┴───┴────────────┴────────────┴────────────┴────────────┘"
      ]
     },
     "execution_count": 32,
     "metadata": {},
     "output_type": "execute_result"
    }
   ],
   "source": [
    "# Features finales aunque se puede agregar las demás.\n",
    "X"
   ]
  },
  {
   "cell_type": "markdown",
   "id": "3dac9917",
   "metadata": {
    "papermill": {
     "duration": 0.0356,
     "end_time": "2024-03-22T03:58:42.602533",
     "exception": false,
     "start_time": "2024-03-22T03:58:42.566933",
     "status": "completed"
    },
    "tags": []
   },
   "source": [
    "# 4. Análisis Exploratorio de los Datos (EDA)"
   ]
  },
  {
   "cell_type": "markdown",
   "id": "4e79936b",
   "metadata": {
    "papermill": {
     "duration": 0.035624,
     "end_time": "2024-03-22T03:58:42.674368",
     "exception": false,
     "start_time": "2024-03-22T03:58:42.638744",
     "status": "completed"
    },
    "tags": []
   },
   "source": [
    "## 4.1. Manipulación de los Datos"
   ]
  },
  {
   "cell_type": "code",
   "execution_count": 33,
   "id": "2727da4c",
   "metadata": {
    "execution": {
     "iopub.execute_input": "2024-03-22T03:58:42.749482Z",
     "iopub.status.busy": "2024-03-22T03:58:42.748842Z",
     "iopub.status.idle": "2024-03-22T03:58:42.760112Z",
     "shell.execute_reply": "2024-03-22T03:58:42.759446Z"
    },
    "papermill": {
     "duration": 0.051599,
     "end_time": "2024-03-22T03:58:42.761718",
     "exception": false,
     "start_time": "2024-03-22T03:58:42.710119",
     "status": "completed"
    },
    "tags": []
   },
   "outputs": [
    {
     "data": {
      "text/html": [
       "<div><style>\n",
       ".dataframe > thead > tr,\n",
       ".dataframe > tbody > tr {\n",
       "  text-align: right;\n",
       "  white-space: pre-wrap;\n",
       "}\n",
       "</style>\n",
       "<small>shape: (5, 164)</small><table border=\"1\" class=\"dataframe\"><thead><tr><th>case_id</th><th>date_decision</th><th>MONTH</th><th>WEEK_NUM</th><th>1_DPD of client with tolerance.</th><th>2_Number of instalments paid before due date in the last 24 months.</th><th>3_Monthly annuity amount.</th><th>4_Next month&#x27;s amount of annuity.</th><th>5_Number of applications associated with the same email address as the client.</th><th>6_Number of applications made by the client in the last 30 days.</th><th>7_Number of applications associated with the same phone number.</th><th>8_Number of applications made in the last 30 days by other clients with the same employer as the applicant.</th><th>9_Number of applications with the same employer in the last 7 days.</th><th>10_Number of applications associated with the same mobile phone.</th><th>11_Average days past or before due of payment during the last 24 months.</th><th>12_Average days past or before due of payment during the last 3 months.</th><th>13_Average days of payment before due date within the last 24 months (with tolerance).</th><th>14_Average DPD (days past due) with tolerance within the past 24 months from the maximum closure date, assuming that the contract is finished. If the contract is ongoing, the calculation is based on the current date.</th><th>15_Average instalments paid by the client over the past 24 months.</th><th>16_Average loan amount in the last 24 months.</th><th>17_Average Days Past Due (DPD) of the client in last 9 months.</th><th>18_Average outstanding balance of applicant for the last 6 months.</th><th>19_Average of payments made by the client in the last 12 months.</th><th>22_Number of clients that have used the same mobile phone as the applicant in the past 12 months.</th><th>23_Number of clients who have the same mobile phone number in the last 3 months.</th><th>24_Total number of clients who have used the same mobile number in the last 6 months.</th><th>25_Number of applications with matching employer&#x27;s phone and client&#x27;s.</th><th>26_Number of clients sharing the same mobile phone.</th><th>27_Number of applications where the alternative phone number matches that of the client.</th><th>28_Number of applications where client&#x27;s phone number matches the alternative phone contact.</th><th>30_Number of clients whose employer has the same phone number as the client.</th><th>31_Number of clients that share an alternative phone number with the applicant.</th><th>32_Number of clients with the same phone number.</th><th>33_Number of clients that have the same alternative phone number and employer&#x27;s phone number.</th><th>34_Number of clients with matching phone numbers for both the employer and the client.</th><th>35_Number of clients with same client&#x27;s and alternative&#x27;s phone number</th><th>36_Number of clients sharing the same employer&#x27;s phone number.</th><th>&hellip;</th><th>10_Maximal historical balance of previous credit account_total</th><th>11_Minimum historical balance of previous credit accounts._total</th><th>14_Loan amount or card limit of previous applications._total</th><th>16_Previous application&#x27;s current debt._total</th><th>19_Previous application downpayment amount._total</th><th>29_Client&#x27;s main income amount in their previous application._total</th><th>30_Maximum DPD with tolerance (on previous application/s)._total</th><th>num_group1_total</th><th>32_Amount of outstanding debt on the client&#x27;s previous application._total</th><th>33_Number of payments made for the previous application._total</th><th>38_Revolving account that was present in the applicant&#x27;s previous application._total</th><th>40_Number of instalments in the previous application._total</th><th>7_Date when previous application was created.</th><th>22_Applicant&#x27;s education level from their previous application.</th><th>24_Family State in previous application of applicant.</th><th>26_Type of the initial transaction made in the previous application of the client.</th><th>3_Number of children of the applicant.</th><th>21_Amount of the main income of the client.</th><th>num_group1</th><th>24_Order of the person specified on the application form.</th><th>25_Person type.</th><th>26_Person type.</th><th>8_Education level of the person.</th><th>9_Start date of employment.</th><th>10_Employment length of a person.</th><th>11_Employment Industry of the person.</th><th>12_District where the employer&#x27;s address is located.</th><th>14_Family state of the person.</th><th>15_Gender of a person.</th><th>16_House type of the person.</th><th>17_Type of housing of the person.</th><th>18_Type of income of the person</th><th>20_The primary language of the person.</th><th>22_Marital status of the client.</th><th>29_Relationship to the client.</th><th>30_Relationship to the client.</th><th>33_Person&#x27;s role.</th></tr><tr><td>i64</td><td>str</td><td>i64</td><td>i64</td><td>f64</td><td>f64</td><td>f64</td><td>f64</td><td>f64</td><td>f64</td><td>f64</td><td>f64</td><td>f64</td><td>f64</td><td>f64</td><td>f64</td><td>f64</td><td>f64</td><td>f64</td><td>f64</td><td>f64</td><td>f64</td><td>f64</td><td>f64</td><td>f64</td><td>f64</td><td>f64</td><td>f64</td><td>f64</td><td>f64</td><td>f64</td><td>f64</td><td>f64</td><td>f64</td><td>f64</td><td>f64</td><td>f64</td><td>&hellip;</td><td>f64</td><td>f64</td><td>f64</td><td>f64</td><td>f64</td><td>f64</td><td>f64</td><td>i64</td><td>f64</td><td>f64</td><td>f64</td><td>f64</td><td>str</td><td>str</td><td>str</td><td>str</td><td>f64</td><td>f64</td><td>i64</td><td>f64</td><td>f64</td><td>f64</td><td>str</td><td>str</td><td>str</td><td>str</td><td>str</td><td>str</td><td>str</td><td>str</td><td>str</td><td>str</td><td>str</td><td>str</td><td>str</td><td>str</td><td>str</td></tr></thead><tbody><tr><td>0</td><td>&quot;2019-01-03&quot;</td><td>201901</td><td>0</td><td>null</td><td>null</td><td>1917.6</td><td>0.0</td><td>0.0</td><td>0.0</td><td>0.0</td><td>0.0</td><td>0.0</td><td>0.0</td><td>null</td><td>null</td><td>null</td><td>null</td><td>null</td><td>null</td><td>null</td><td>null</td><td>null</td><td>0.0</td><td>0.0</td><td>0.0</td><td>0.0</td><td>0.0</td><td>0.0</td><td>0.0</td><td>0.0</td><td>0.0</td><td>0.0</td><td>0.0</td><td>0.0</td><td>0.0</td><td>0.0</td><td>&hellip;</td><td>null</td><td>null</td><td>null</td><td>null</td><td>null</td><td>null</td><td>null</td><td>null</td><td>null</td><td>null</td><td>null</td><td>null</td><td>null</td><td>null</td><td>null</td><td>null</td><td>0.0</td><td>10800.0</td><td>6</td><td>3.0</td><td>11.0</td><td>10.0</td><td>&quot;P97_36_170&quot;</td><td>&quot;2017-09-15&quot;</td><td>&quot;MORE_FIVE&quot;</td><td>&quot;OTHER&quot;</td><td>&quot;P142_57_166&quot;</td><td>&quot;MARRIED&quot;</td><td>null</td><td>null</td><td>null</td><td>&quot;SALARIED_GOVT&quot;</td><td>&quot;P10_39_147&quot;</td><td>null</td><td>null</td><td>null</td><td>null</td></tr><tr><td>1</td><td>&quot;2019-01-03&quot;</td><td>201901</td><td>0</td><td>null</td><td>null</td><td>3134.0</td><td>0.0</td><td>0.0</td><td>0.0</td><td>0.0</td><td>0.0</td><td>0.0</td><td>0.0</td><td>null</td><td>null</td><td>null</td><td>null</td><td>null</td><td>null</td><td>null</td><td>null</td><td>null</td><td>0.0</td><td>0.0</td><td>0.0</td><td>0.0</td><td>0.0</td><td>0.0</td><td>0.0</td><td>3.0</td><td>0.0</td><td>0.0</td><td>0.0</td><td>0.0</td><td>0.0</td><td>0.0</td><td>&hellip;</td><td>null</td><td>null</td><td>null</td><td>null</td><td>null</td><td>null</td><td>null</td><td>null</td><td>null</td><td>null</td><td>null</td><td>null</td><td>null</td><td>null</td><td>null</td><td>null</td><td>0.0</td><td>10000.0</td><td>10</td><td>3.0</td><td>13.0</td><td>11.0</td><td>&quot;P97_36_170&quot;</td><td>&quot;2008-10-29&quot;</td><td>&quot;MORE_FIVE&quot;</td><td>&quot;OTHER&quot;</td><td>&quot;P49_46_174&quot;</td><td>&quot;DIVORCED&quot;</td><td>null</td><td>null</td><td>null</td><td>&quot;SALARIED_GOVT&quot;</td><td>&quot;P10_39_147&quot;</td><td>null</td><td>null</td><td>null</td><td>null</td></tr><tr><td>2</td><td>&quot;2019-01-04&quot;</td><td>201901</td><td>0</td><td>null</td><td>null</td><td>4937.0</td><td>0.0</td><td>0.0</td><td>0.0</td><td>0.0</td><td>0.0</td><td>0.0</td><td>0.0</td><td>null</td><td>null</td><td>null</td><td>null</td><td>null</td><td>null</td><td>null</td><td>null</td><td>null</td><td>0.0</td><td>0.0</td><td>0.0</td><td>0.0</td><td>0.0</td><td>0.0</td><td>0.0</td><td>0.0</td><td>0.0</td><td>0.0</td><td>0.0</td><td>0.0</td><td>0.0</td><td>0.0</td><td>&hellip;</td><td>0.0</td><td>0.0</td><td>26000.0</td><td>0.0</td><td>0.0</td><td>16400.0</td><td>0.0</td><td>1</td><td>0.0</td><td>36.0</td><td>0.0</td><td>36.0</td><td>&quot;2013-04-03&quot;</td><td>&quot;P97_36_170&quot;</td><td>&quot;SINGLE&quot;</td><td>&quot;CASH&quot;</td><td>0.0</td><td>14000.0</td><td>10</td><td>3.0</td><td>12.0</td><td>10.0</td><td>&quot;P97_36_170&quot;</td><td>&quot;2010-02-15&quot;</td><td>&quot;MORE_FIVE&quot;</td><td>&quot;OTHER&quot;</td><td>&quot;P63_14_24&quot;</td><td>&quot;MARRIED&quot;</td><td>null</td><td>null</td><td>null</td><td>&quot;EMPLOYED&quot;</td><td>&quot;P10_39_147&quot;</td><td>null</td><td>null</td><td>null</td><td>null</td></tr><tr><td>3</td><td>&quot;2019-01-03&quot;</td><td>201901</td><td>0</td><td>null</td><td>null</td><td>4643.6</td><td>0.0</td><td>0.0</td><td>1.0</td><td>0.0</td><td>2.0</td><td>0.0</td><td>1.0</td><td>null</td><td>null</td><td>null</td><td>null</td><td>null</td><td>null</td><td>null</td><td>null</td><td>null</td><td>0.0</td><td>0.0</td><td>0.0</td><td>0.0</td><td>0.0</td><td>0.0</td><td>1.0</td><td>0.0</td><td>0.0</td><td>0.0</td><td>0.0</td><td>0.0</td><td>0.0</td><td>0.0</td><td>&hellip;</td><td>0.0</td><td>0.0</td><td>59999.8</td><td>0.0</td><td>0.0</td><td>11000.0</td><td>0.0</td><td>0</td><td>0.0</td><td>12.0</td><td>0.0</td><td>12.0</td><td>&quot;2019-01-07&quot;</td><td>&quot;P97_36_170&quot;</td><td>&quot;MARRIED&quot;</td><td>&quot;CASH&quot;</td><td>0.0</td><td>10000.0</td><td>3</td><td>1.0</td><td>6.0</td><td>5.0</td><td>&quot;P33_146_175&quot;</td><td>&quot;2018-05-15&quot;</td><td>&quot;MORE_FIVE&quot;</td><td>&quot;OTHER&quot;</td><td>&quot;P131_33_167&quot;</td><td>&quot;MARRIED&quot;</td><td>null</td><td>null</td><td>null</td><td>&quot;EMPLOYED&quot;</td><td>&quot;P10_39_147&quot;</td><td>null</td><td>null</td><td>null</td><td>null</td></tr><tr><td>4</td><td>&quot;2019-01-04&quot;</td><td>201901</td><td>0</td><td>null</td><td>null</td><td>3390.2</td><td>0.0</td><td>0.0</td><td>1.0</td><td>0.0</td><td>0.0</td><td>0.0</td><td>1.0</td><td>null</td><td>null</td><td>null</td><td>null</td><td>null</td><td>null</td><td>null</td><td>null</td><td>null</td><td>0.0</td><td>0.0</td><td>0.0</td><td>0.0</td><td>0.0</td><td>0.0</td><td>0.0</td><td>0.0</td><td>0.0</td><td>0.0</td><td>0.0</td><td>0.0</td><td>0.0</td><td>0.0</td><td>&hellip;</td><td>0.0</td><td>0.0</td><td>40000.0</td><td>0.0</td><td>0.0</td><td>16000.0</td><td>0.0</td><td>0</td><td>0.0</td><td>24.0</td><td>0.0</td><td>24.0</td><td>&quot;2019-01-08&quot;</td><td>&quot;a55475b1&quot;</td><td>null</td><td>&quot;CASH&quot;</td><td>0.0</td><td>24000.0</td><td>6</td><td>3.0</td><td>12.0</td><td>11.0</td><td>&quot;P33_146_175&quot;</td><td>&quot;2014-12-15&quot;</td><td>&quot;MORE_FIVE&quot;</td><td>&quot;OTHER&quot;</td><td>&quot;P62_144_102&quot;</td><td>&quot;MARRIED&quot;</td><td>null</td><td>null</td><td>null</td><td>&quot;EMPLOYED&quot;</td><td>&quot;P10_39_147&quot;</td><td>null</td><td>null</td><td>null</td><td>null</td></tr></tbody></table></div>"
      ],
      "text/plain": [
       "shape: (5, 164)\n",
       "┌─────────┬────────────┬────────┬──────────┬───┬────────────┬────────────┬────────────┬────────────┐\n",
       "│ case_id ┆ date_decis ┆ MONTH  ┆ WEEK_NUM ┆ … ┆ 22_Marital ┆ 29_Relatio ┆ 30_Relatio ┆ 33_Person' │\n",
       "│ ---     ┆ ion        ┆ ---    ┆ ---      ┆   ┆ status of  ┆ nship to   ┆ nship to   ┆ s role.    │\n",
       "│ i64     ┆ ---        ┆ i64    ┆ i64      ┆   ┆ the        ┆ the        ┆ the        ┆ ---        │\n",
       "│         ┆ str        ┆        ┆          ┆   ┆ client.    ┆ client.    ┆ client.    ┆ str        │\n",
       "│         ┆            ┆        ┆          ┆   ┆ ---        ┆ ---        ┆ ---        ┆            │\n",
       "│         ┆            ┆        ┆          ┆   ┆ str        ┆ str        ┆ str        ┆            │\n",
       "╞═════════╪════════════╪════════╪══════════╪═══╪════════════╪════════════╪════════════╪════════════╡\n",
       "│ 0       ┆ 2019-01-03 ┆ 201901 ┆ 0        ┆ … ┆ null       ┆ null       ┆ null       ┆ null       │\n",
       "│ 1       ┆ 2019-01-03 ┆ 201901 ┆ 0        ┆ … ┆ null       ┆ null       ┆ null       ┆ null       │\n",
       "│ 2       ┆ 2019-01-04 ┆ 201901 ┆ 0        ┆ … ┆ null       ┆ null       ┆ null       ┆ null       │\n",
       "│ 3       ┆ 2019-01-03 ┆ 201901 ┆ 0        ┆ … ┆ null       ┆ null       ┆ null       ┆ null       │\n",
       "│ 4       ┆ 2019-01-04 ┆ 201901 ┆ 0        ┆ … ┆ null       ┆ null       ┆ null       ┆ null       │\n",
       "└─────────┴────────────┴────────┴──────────┴───┴────────────┴────────────┴────────────┴────────────┘"
      ]
     },
     "execution_count": 33,
     "metadata": {},
     "output_type": "execute_result"
    }
   ],
   "source": [
    "# Mostramos los 5 primeros registros.\n",
    "X.head(5)"
   ]
  },
  {
   "cell_type": "markdown",
   "id": "04bc038e",
   "metadata": {
    "papermill": {
     "duration": 0.035879,
     "end_time": "2024-03-22T03:58:42.833808",
     "exception": false,
     "start_time": "2024-03-22T03:58:42.797929",
     "status": "completed"
    },
    "tags": []
   },
   "source": [
    "***Diccionario de Datos***\n",
    "case_id: Identificador único para cada caso o solicitud.\n",
    "\n",
    "* ***date_decision:*** Fecha en que se tomó la decisión sobre la solicitud.\n",
    "\n",
    "* ***MONTH:*** Mes en que se realizó la solicitud.\n",
    "\n",
    "* ***WEEK_NUM:*** Número de semana en que se realizó la solicitud.\n",
    "\n",
    "* ***1_DPD del cliente con tolerancia.: Número de días vencidos del cliente con tolerancia.\n",
    "\n",
    "* ***2_Número de cuotas pagadas antes del vencimiento en los últimos 24 meses.:*** Cantidad de cuotas pagadas antes del vencimiento en los últimos 24 meses.\n",
    "\n",
    "* ***3_Monto de la anualidad mensual.:*** Monto de la anualidad mensual del préstamo.\n",
    "\n",
    "* ***5_Número de aplicaciones asociadas a la misma dirección de correo electrónico que el cliente.:*** Número de aplicaciones asociadas a la misma dirección de correo electrónico del cliente.\n",
    "\n",
    "* ***6_Número de solicitudes realizadas por el cliente en los últimos 30 días.:*** Cantidad de solicitudes realizadas por el cliente en los últimos 30 días.\n",
    "\n",
    "* ***7_Número de aplicaciones asociadas a un mismo número de teléfono.:*** Número de aplicaciones asociadas a un mismo número de teléfono.\n",
    "\n",
    "* ***10_Número de aplicaciones asociadas a un mismo teléfono móvil.:*** Número de aplicaciones asociadas a un mismo teléfono móvil.\n",
    "\n",
    "* ***11_Promedio de días vencidos o vencidos de pago durante los últimos 24 meses.:*** Promedio de días vencidos o vencidos de pago durante los últimos 24 meses.\n",
    "\n",
    "* ***12_Promedio de días vencidos o vencidos de pago durante los últimos 3 meses.:*** Promedio de días vencidos o vencidos de pago durante los últimos 3 meses.\n",
    "\n",
    "* ***15_Cuotas medias pagadas por el cliente en los últimos 24 meses.:*** Cuotas medias pagadas por el cliente en los últimos 24 meses.\n",
    "\n",
    "* ***17_Promedio de Días Vencidos (DPD) del cliente en los últimos 9 meses.:*** Promedio de días vencidos del cliente en los últimos 9 meses.\n",
    "\n",
    "* ***19_Promedio de pagos realizados por el cliente en los últimos 12 meses.:*** Promedio de pagos realizados por el cliente en los últimos 12 meses.\n",
    "\n",
    "* ***25_Número de solicitudes que coinciden con el teléfono del empleador y el del cliente.:*** Número de solicitudes que coinciden con el teléfono del empleador y el del cliente.\n",
    "\n",
    "* ***33_Número de clientes que tienen el mismo número de teléfono alternativo y número de teléfono del empleador.:*** Número de clientes que tienen el mismo número de teléfono alternativo y número de teléfono del empleador.\n",
    "\n",
    "* ***38_Número de pagos recibidos en los últimos 9 meses.:*** Número de pagos recibidos en los últimos 9 meses.\n",
    "\n",
    "* ***41_Monto del préstamo o límite de la tarjeta de crédito.:*** Monto del préstamo o límite de la tarjeta de crédito.\n",
    "\n",
    "* ***43_Monto de deuda actual del cliente.:*** Monto de deuda actual del cliente.\n",
    "\n",
    "* ***44_Monto actual de la deuda del solicitante.:*** Monto actual de la deuda del solicitante.\n",
    "\n",
    "* ***50_Monto del crédito desembolsado después de la consolidación.:*** Monto del crédito desembolsado después de la consolidación.\n",
    "\n",
    "* ***54_Tasa de interés.:*** Tasa de interés.\n",
    "\n",
    "* ***71_Monto del crédito de la última solicitud del cliente.:*** Monto del crédito de la última solicitud del cliente.\n",
    "\n",
    "* ***77_Gastos mensuales de otros préstamos desde la última solicitud.:*** Gastos mensuales de otros préstamos desde la última solicitud.\n",
    "\n",
    "* ***86_Monto del ingreso principal del cliente.:*** Monto del ingreso principal del cliente.\n",
    "\n",
    "* ***97_Número de cuota cuyo cliente tenía más días de mora.:*** Número de cuota en la que el cliente tenía más días de mora.\n",
    "\n",
    "* ***152_Número total de pagos de préstamo realizados por el cliente.:*** Número total de pagos de préstamo realizados por el cliente.\n",
    "\n",
    "* ***157_Precio del crédito.:*** Precio del crédito.\n",
    "\n",
    "* ***166_Personas que acompañan al cliente durante el proceso de solicitud del préstamo.:*** Personas que acompañan al cliente durante el proceso de solicitud del préstamo.\n",
    "\n",
    "* ***167_Fecha desde que el cliente tiene una campaña activa.:*** Fecha desde que el cliente tiene una campaña activa.\n",
    "\n",
    "* ***1_Días Vencidos (DPD) del contrato anterior (reales)._total:*** Días vencidos (DPD) del contrato anterior (reales).\n",
    "\n",
    "* ***2_Anualidad mensual para solicitudes anteriores._total:*** Anualidad mensual para solicitudes anteriores.\n",
    "\n",
    "* ***4_Ingresos del solicitante de solicitudes anteriores._total:*** Ingresos del solicitante de solicitudes anteriores.\n",
    "\n",
    "* ***6_Número de hijos en la solicitud anterior._total:*** Número de hijos en la solicitud anterior.\n",
    "\n",
    "* ***8_Saldo real en cuenta de crédito._total:*** Saldo real en cuenta de crédito.\n",
    "\n",
    "* ***9_Límite de crédito de tarjeta de crédito previsto para solicitudes anteriores._total:*** Límite de crédito de tarjeta de crédito previsto para solicitudes anteriores.\n",
    "\n",
    "* ***10_Saldo histórico máximo de la cuenta de crédito anterior_total:*** Saldo histórico máximo de la cuenta de crédito anterior.\n",
    "\n",
    "* ***11_Saldo histórico mínimo de cuentas de crédito anteriores._total:*** Saldo histórico mínimo de cuentas de crédito anteriores.\n",
    "\n",
    "* ***13_Número de transacciones realizadas con la cuenta de crédito anterior del solicitante._total:*** Número de transacciones realizadas con la cuenta de crédito anterior del solicitante.\n",
    "\n",
    "* ***14_Importe del préstamo o límite de la tarjeta de solicitudes anteriores._total:*** Importe del préstamo o límite de la tarjeta de solicitudes anteriores.\n",
    "\n",
    "* ***16_Deuda actual de la solicitud anterior._total:*** Deuda actual de la solicitud anterior.\n",
    "\n",
    "* ***29_Monto de ingresos principales del cliente en su solicitud anterior._total:*** Monto de ingresos principales del cliente en su solicitud anterior.\n",
    "\n",
    "* ***30_DPD máximo con tolerancia (en aplicaciones anteriores)._total:*** DPD máximo con tolerancia (en aplicaciones anteriores).\n",
    "\n",
    "* ***32_Importe de la deuda pendiente en la solicitud anterior del cliente._total:*** Importe de la deuda pendiente en la solicitud anterior del cliente.\n",
    "\n",
    "* ***33_Número de pagos realizados para la solicitud anterior._total:*** Número de pagos realizados para la solicitud anterior.\n",
    "\n",
    "* ***22_Nivel educativo del solicitante desde su solicitud anterior.:*** Nivel educativo del solicitante desde su solicitud anterior.\n",
    "\n",
    "* ***24_Estado familiar en solicitud anterior del solicitante.:*** Estado familiar en solicitud anterior del solicitante.\n",
    "\n",
    "* ***26_Tipo de transacción inicial realizada en la solicitud anterior del cliente.:*** Tipo de transacción inicial realizada en la solicitud anterior del cliente.\n",
    "\n",
    "* ***3_Número de hijos del solicitante.:*** Número de hijos del solicitante.\n",
    "\n",
    "* ***21_Importe de los ingresos principales del cliente.:*** Importe de los ingresos principales del cliente.\n",
    "\n",
    "* ***24_Orden de la persona especificada en el formulario de solicitud.:*** Orden de la persona especificada en el formulario de solicitud.\n",
    "\n",
    "* ***25_Tipo de persona.:*** Tipo de persona.\n",
    "\n",
    "* ***8_Nivel educativo de la persona.:*** Nivel educativo de la persona.\n",
    "\n",
    "* ***9_Fecha de inicio del empleo.:*** Fecha de inicio del empleo.\n",
    "\n",
    "* ***10_Duración del empleo de una persona.:*** Duración del empleo de una persona.\n",
    "\n",
    "* ***11_Empleo Industria de la persona.:*** Empleo Industria de la persona.\n",
    "\n",
    "* ***12_Distrito donde se encuentra el domicilio del empleador.:*** Distrito donde se encuentra el domicilio del empleador.\n",
    "\n",
    "* ***14_Estado familiar de la persona.:*** Estado familiar de la persona.\n",
    "\n",
    "* ***15_Género de una persona.:*** Género de una persona.\n",
    "\n",
    "* ***16_Tipo de casa de la persona.:*** Tipo de casa de la persona.\n",
    "\n",
    "* ***17_Tipo de vivienda de la persona.:*** Tipo de vivienda de la persona.\n",
    "\n",
    "* ***18_Tipo de ingresos de la persona:*** Tipo de ingresos de la persona.\n",
    "\n",
    "* ***20_El idioma principal de la persona.:*** El idioma principal de la persona.\n",
    "\n",
    "* ***22_Estado civil del cliente.:*** Estado civil del cliente.\n",
    "\n",
    "* ***29_Relación con el cliente.:*** Relación con el cliente.\n",
    "\n",
    "* ***30_Relación con el cliente.:*** Relación con el cliente.\n",
    "\n",
    "* ***33_El papel de la persona.:*** El papel de la persona."
   ]
  },
  {
   "cell_type": "code",
   "execution_count": 34,
   "id": "4e4f4db0",
   "metadata": {
    "execution": {
     "iopub.execute_input": "2024-03-22T03:58:42.951896Z",
     "iopub.status.busy": "2024-03-22T03:58:42.951551Z",
     "iopub.status.idle": "2024-03-22T03:58:42.957220Z",
     "shell.execute_reply": "2024-03-22T03:58:42.956334Z"
    },
    "papermill": {
     "duration": 0.090095,
     "end_time": "2024-03-22T03:58:42.959436",
     "exception": false,
     "start_time": "2024-03-22T03:58:42.869341",
     "status": "completed"
    },
    "tags": []
   },
   "outputs": [
    {
     "data": {
      "text/plain": [
       "(1526659, 164)"
      ]
     },
     "execution_count": 34,
     "metadata": {},
     "output_type": "execute_result"
    }
   ],
   "source": [
    "X.shape"
   ]
  },
  {
   "cell_type": "markdown",
   "id": "0c989786",
   "metadata": {
    "papermill": {
     "duration": 0.036846,
     "end_time": "2024-03-22T03:58:43.034195",
     "exception": false,
     "start_time": "2024-03-22T03:58:42.997349",
     "status": "completed"
    },
    "tags": []
   },
   "source": [
    "**Hay más de 1 millón de registros de clientes y 71 característica de cada uno.**"
   ]
  },
  {
   "cell_type": "code",
   "execution_count": 35,
   "id": "202c62f7",
   "metadata": {
    "execution": {
     "iopub.execute_input": "2024-03-22T03:58:43.109494Z",
     "iopub.status.busy": "2024-03-22T03:58:43.108964Z",
     "iopub.status.idle": "2024-03-22T03:58:43.113021Z",
     "shell.execute_reply": "2024-03-22T03:58:43.112121Z"
    },
    "papermill": {
     "duration": 0.043798,
     "end_time": "2024-03-22T03:58:43.114802",
     "exception": false,
     "start_time": "2024-03-22T03:58:43.071004",
     "status": "completed"
    },
    "tags": []
   },
   "outputs": [],
   "source": [
    "# Descomentar si quiere visualizar, esta comentado por temas de memoria que nos brinda kaggle para enviar el submit.\n",
    "\n",
    "# Mostrar los tipos de cada columna.\n",
    "# type_cols(X)"
   ]
  },
  {
   "cell_type": "code",
   "execution_count": 36,
   "id": "e491b091",
   "metadata": {
    "execution": {
     "iopub.execute_input": "2024-03-22T03:58:43.192460Z",
     "iopub.status.busy": "2024-03-22T03:58:43.192104Z",
     "iopub.status.idle": "2024-03-22T03:58:43.197824Z",
     "shell.execute_reply": "2024-03-22T03:58:43.196166Z"
    },
    "papermill": {
     "duration": 0.046781,
     "end_time": "2024-03-22T03:58:43.200652",
     "exception": false,
     "start_time": "2024-03-22T03:58:43.153871",
     "status": "completed"
    },
    "tags": []
   },
   "outputs": [],
   "source": [
    "# Descomentar si quiere visualizar, esta comentado por temas de memoria que nos brinda kaggle para enviar el submit.\n",
    "\n",
    "# Observar los valores únicos por cada columna.\n",
    "# X.select(pl.all().n_unique()).transpose(include_header= True).rename({'column': 'name_cols', 'column_0': 'cantidad_unica'})"
   ]
  },
  {
   "cell_type": "markdown",
   "id": "a897ab91",
   "metadata": {
    "papermill": {
     "duration": 0.037581,
     "end_time": "2024-03-22T03:58:43.275834",
     "exception": false,
     "start_time": "2024-03-22T03:58:43.238253",
     "status": "completed"
    },
    "tags": []
   },
   "source": [
    "## 4.2. Entendimiento de Datos"
   ]
  },
  {
   "cell_type": "code",
   "execution_count": 37,
   "id": "650c1d8f",
   "metadata": {
    "execution": {
     "iopub.execute_input": "2024-03-22T03:58:43.350975Z",
     "iopub.status.busy": "2024-03-22T03:58:43.350599Z",
     "iopub.status.idle": "2024-03-22T03:58:45.511098Z",
     "shell.execute_reply": "2024-03-22T03:58:45.509736Z"
    },
    "papermill": {
     "duration": 2.201019,
     "end_time": "2024-03-22T03:58:45.512993",
     "exception": false,
     "start_time": "2024-03-22T03:58:43.311974",
     "status": "completed"
    },
    "tags": []
   },
   "outputs": [
    {
     "data": {
      "text/html": [
       "<div><style>\n",
       ".dataframe > thead > tr,\n",
       ".dataframe > tbody > tr {\n",
       "  text-align: right;\n",
       "  white-space: pre-wrap;\n",
       "}\n",
       "</style>\n",
       "<small>shape: (9, 20)</small><table border=\"1\" class=\"dataframe\"><thead><tr><th>statistic</th><th>case_id</th><th>MONTH</th><th>WEEK_NUM</th><th>1_DPD of client with tolerance.</th><th>2_Number of instalments paid before due date in the last 24 months.</th><th>3_Monthly annuity amount.</th><th>4_Next month&#x27;s amount of annuity.</th><th>5_Number of applications associated with the same email address as the client.</th><th>6_Number of applications made by the client in the last 30 days.</th><th>7_Number of applications associated with the same phone number.</th><th>8_Number of applications made in the last 30 days by other clients with the same employer as the applicant.</th><th>9_Number of applications with the same employer in the last 7 days.</th><th>10_Number of applications associated with the same mobile phone.</th><th>11_Average days past or before due of payment during the last 24 months.</th><th>12_Average days past or before due of payment during the last 3 months.</th><th>13_Average days of payment before due date within the last 24 months (with tolerance).</th><th>14_Average DPD (days past due) with tolerance within the past 24 months from the maximum closure date, assuming that the contract is finished. If the contract is ongoing, the calculation is based on the current date.</th><th>15_Average instalments paid by the client over the past 24 months.</th><th>16_Average loan amount in the last 24 months.</th></tr><tr><td>str</td><td>f64</td><td>f64</td><td>f64</td><td>f64</td><td>f64</td><td>f64</td><td>f64</td><td>f64</td><td>f64</td><td>f64</td><td>f64</td><td>f64</td><td>f64</td><td>f64</td><td>f64</td><td>f64</td><td>f64</td><td>f64</td><td>f64</td></tr></thead><tbody><tr><td>&quot;count&quot;</td><td>1.526659e6</td><td>1.526659e6</td><td>1.526659e6</td><td>1.108481e6</td><td>965535.0</td><td>1.526659e6</td><td>1.526655e6</td><td>1.526659e6</td><td>1.526659e6</td><td>1.526659e6</td><td>1.526659e6</td><td>1.526659e6</td><td>1.526659e6</td><td>913457.0</td><td>578415.0</td><td>553832.0</td><td>1.059484e6</td><td>901784.0</td><td>162509.0</td></tr><tr><td>&quot;null_count&quot;</td><td>0.0</td><td>0.0</td><td>0.0</td><td>418178.0</td><td>561124.0</td><td>0.0</td><td>4.0</td><td>0.0</td><td>0.0</td><td>0.0</td><td>0.0</td><td>0.0</td><td>0.0</td><td>613202.0</td><td>948244.0</td><td>972827.0</td><td>467175.0</td><td>624875.0</td><td>1.36415e6</td></tr><tr><td>&quot;mean&quot;</td><td>1.2861e6</td><td>201936.287982</td><td>40.769036</td><td>0.079234</td><td>55958.330289</td><td>4039.207272</td><td>1435.775015</td><td>0.000022</td><td>0.138152</td><td>0.42451</td><td>1.073578</td><td>0.268713</td><td>2.88036</td><td>30.098977</td><td>29.494342</td><td>30.759373</td><td>45.809286</td><td>5401.587636</td><td>44717.566753</td></tr><tr><td>&quot;std&quot;</td><td>718946.592285</td><td>44.735975</td><td>23.797981</td><td>11.206518</td><td>71614.166354</td><td>3006.607629</td><td>2807.021232</td><td>0.008134</td><td>0.488663</td><td>3.128111</td><td>9.715778</td><td>2.464199</td><td>4.346472</td><td>317.684627</td><td>367.273913</td><td>322.467403</td><td>318.540587</td><td>6531.562344</td><td>44844.78673</td></tr><tr><td>&quot;min&quot;</td><td>0.0</td><td>201901.0</td><td>0.0</td><td>0.0</td><td>0.0</td><td>80.8</td><td>0.0</td><td>0.0</td><td>0.0</td><td>0.0</td><td>0.0</td><td>0.0</td><td>0.0</td><td>-1220.0</td><td>-908.0</td><td>-1220.0</td><td>0.0</td><td>0.0</td><td>0.0</td></tr><tr><td>&quot;25%&quot;</td><td>766198.0</td><td>201906.0</td><td>23.0</td><td>0.0</td><td>7419.2</td><td>1967.6</td><td>0.0</td><td>0.0</td><td>0.0</td><td>0.0</td><td>0.0</td><td>0.0</td><td>0.0</td><td>-11.0</td><td>-11.0</td><td>-12.0</td><td>0.0</td><td>2528.4001</td><td>15682.601</td></tr><tr><td>&quot;50%&quot;</td><td>1.357358e6</td><td>201910.0</td><td>40.0</td><td>0.0</td><td>29758.396</td><td>3151.8</td><td>0.0</td><td>0.0</td><td>0.0</td><td>0.0</td><td>0.0</td><td>0.0</td><td>1.0</td><td>-5.0</td><td>-4.0</td><td>-5.0</td><td>0.0</td><td>4068.6</td><td>28419.4</td></tr><tr><td>&quot;75%&quot;</td><td>1.739023e6</td><td>202001.0</td><td>55.0</td><td>0.0</td><td>76303.086</td><td>5231.4</td><td>2029.4</td><td>0.0</td><td>0.0</td><td>0.0</td><td>0.0</td><td>0.0</td><td>4.0</td><td>-1.0</td><td>-1.0</td><td>-2.0</td><td>1.0</td><td>6551.8003</td><td>56334.2</td></tr><tr><td>&quot;max&quot;</td><td>2.703454e6</td><td>202010.0</td><td>91.0</td><td>4206.0</td><td>1408010.2</td><td>106007.0</td><td>87500.0</td><td>5.0</td><td>28.0</td><td>728.0</td><td>247.0</td><td>90.0</td><td>287.0</td><td>4750.0</td><td>4750.0</td><td>4750.0</td><td>4750.0</td><td>496148.8</td><td>513520.0</td></tr></tbody></table></div>"
      ],
      "text/plain": [
       "shape: (9, 20)\n",
       "┌───────────┬───────────┬───────────┬───────────┬───┬───────────┬───────────┬───────────┬──────────┐\n",
       "│ statistic ┆ case_id   ┆ MONTH     ┆ WEEK_NUM  ┆ … ┆ 13_Averag ┆ 14_Averag ┆ 15_Averag ┆ 16_Avera │\n",
       "│ ---       ┆ ---       ┆ ---       ┆ ---       ┆   ┆ e days of ┆ e DPD     ┆ e instalm ┆ ge loan  │\n",
       "│ str       ┆ f64       ┆ f64       ┆ f64       ┆   ┆ payment   ┆ (days     ┆ ents paid ┆ amount   │\n",
       "│           ┆           ┆           ┆           ┆   ┆ befor…    ┆ past due) ┆ by t…     ┆ in the   │\n",
       "│           ┆           ┆           ┆           ┆   ┆ ---       ┆ w…        ┆ ---       ┆ la…      │\n",
       "│           ┆           ┆           ┆           ┆   ┆ f64       ┆ ---       ┆ f64       ┆ ---      │\n",
       "│           ┆           ┆           ┆           ┆   ┆           ┆ f64       ┆           ┆ f64      │\n",
       "╞═══════════╪═══════════╪═══════════╪═══════════╪═══╪═══════════╪═══════════╪═══════════╪══════════╡\n",
       "│ count     ┆ 1.526659e ┆ 1.526659e ┆ 1.526659e ┆ … ┆ 553832.0  ┆ 1.059484e ┆ 901784.0  ┆ 162509.0 │\n",
       "│           ┆ 6         ┆ 6         ┆ 6         ┆   ┆           ┆ 6         ┆           ┆          │\n",
       "│ null_coun ┆ 0.0       ┆ 0.0       ┆ 0.0       ┆ … ┆ 972827.0  ┆ 467175.0  ┆ 624875.0  ┆ 1.36415e │\n",
       "│ t         ┆           ┆           ┆           ┆   ┆           ┆           ┆           ┆ 6        │\n",
       "│ mean      ┆ 1.2861e6  ┆ 201936.28 ┆ 40.769036 ┆ … ┆ 30.759373 ┆ 45.809286 ┆ 5401.5876 ┆ 44717.56 │\n",
       "│           ┆           ┆ 7982      ┆           ┆   ┆           ┆           ┆ 36        ┆ 6753     │\n",
       "│ std       ┆ 718946.59 ┆ 44.735975 ┆ 23.797981 ┆ … ┆ 322.46740 ┆ 318.54058 ┆ 6531.5623 ┆ 44844.78 │\n",
       "│           ┆ 2285      ┆           ┆           ┆   ┆ 3         ┆ 7         ┆ 44        ┆ 673      │\n",
       "│ min       ┆ 0.0       ┆ 201901.0  ┆ 0.0       ┆ … ┆ -1220.0   ┆ 0.0       ┆ 0.0       ┆ 0.0      │\n",
       "│ 25%       ┆ 766198.0  ┆ 201906.0  ┆ 23.0      ┆ … ┆ -12.0     ┆ 0.0       ┆ 2528.4001 ┆ 15682.60 │\n",
       "│           ┆           ┆           ┆           ┆   ┆           ┆           ┆           ┆ 1        │\n",
       "│ 50%       ┆ 1.357358e ┆ 201910.0  ┆ 40.0      ┆ … ┆ -5.0      ┆ 0.0       ┆ 4068.6    ┆ 28419.4  │\n",
       "│           ┆ 6         ┆           ┆           ┆   ┆           ┆           ┆           ┆          │\n",
       "│ 75%       ┆ 1.739023e ┆ 202001.0  ┆ 55.0      ┆ … ┆ -2.0      ┆ 1.0       ┆ 6551.8003 ┆ 56334.2  │\n",
       "│           ┆ 6         ┆           ┆           ┆   ┆           ┆           ┆           ┆          │\n",
       "│ max       ┆ 2.703454e ┆ 202010.0  ┆ 91.0      ┆ … ┆ 4750.0    ┆ 4750.0    ┆ 496148.8  ┆ 513520.0 │\n",
       "│           ┆ 6         ┆           ┆           ┆   ┆           ┆           ┆           ┆          │\n",
       "└───────────┴───────────┴───────────┴───────────┴───┴───────────┴───────────┴───────────┴──────────┘"
      ]
     },
     "execution_count": 37,
     "metadata": {},
     "output_type": "execute_result"
    }
   ],
   "source": [
    "# Featues numéricas.\n",
    "X.select(pl.selectors.numeric()).describe()[:, 0:20]"
   ]
  },
  {
   "cell_type": "code",
   "execution_count": 38,
   "id": "abd42c55",
   "metadata": {
    "execution": {
     "iopub.execute_input": "2024-03-22T03:58:45.587696Z",
     "iopub.status.busy": "2024-03-22T03:58:45.587363Z",
     "iopub.status.idle": "2024-03-22T03:58:45.591805Z",
     "shell.execute_reply": "2024-03-22T03:58:45.590576Z"
    },
    "papermill": {
     "duration": 0.044094,
     "end_time": "2024-03-22T03:58:45.593721",
     "exception": false,
     "start_time": "2024-03-22T03:58:45.549627",
     "status": "completed"
    },
    "tags": []
   },
   "outputs": [],
   "source": [
    "# Descomentar si quiere visualizar, esta comentado por temas de memoria que nos brinda kaggle para enviar el submit.\n",
    "\n",
    "# # Features objects.\n",
    "# display(X._to_pandas_with_object_columns(use_pyarrow_extension_array= False).describe(include= 'object').iloc[:,0:10])\n",
    "# display(X._to_pandas_with_object_columns(use_pyarrow_extension_array= False).describe(include= 'object').iloc[:,10: len(X.columns)])"
   ]
  },
  {
   "cell_type": "code",
   "execution_count": 39,
   "id": "337b4d41",
   "metadata": {
    "execution": {
     "iopub.execute_input": "2024-03-22T03:58:45.670559Z",
     "iopub.status.busy": "2024-03-22T03:58:45.670177Z",
     "iopub.status.idle": "2024-03-22T03:58:45.674915Z",
     "shell.execute_reply": "2024-03-22T03:58:45.673854Z"
    },
    "papermill": {
     "duration": 0.045982,
     "end_time": "2024-03-22T03:58:45.676756",
     "exception": false,
     "start_time": "2024-03-22T03:58:45.630774",
     "status": "completed"
    },
    "tags": []
   },
   "outputs": [],
   "source": [
    "# Descomentar si quiere visualizar, esta comentado por temas de memoria que nos brinda kaggle para enviar el submit.\n",
    "\n",
    "# # Verificar la cantidad de nulos por columna y su porcentaje.\n",
    "# for col in X.columns:\n",
    "#     print(f\"{col} - {X[col].null_count()} - {X[col].null_count() / len(X[col]) * 100} %\")"
   ]
  },
  {
   "cell_type": "code",
   "execution_count": 40,
   "id": "6c358667",
   "metadata": {
    "execution": {
     "iopub.execute_input": "2024-03-22T03:58:45.752785Z",
     "iopub.status.busy": "2024-03-22T03:58:45.752456Z",
     "iopub.status.idle": "2024-03-22T03:58:45.756667Z",
     "shell.execute_reply": "2024-03-22T03:58:45.755775Z"
    },
    "papermill": {
     "duration": 0.045053,
     "end_time": "2024-03-22T03:58:45.758706",
     "exception": false,
     "start_time": "2024-03-22T03:58:45.713653",
     "status": "completed"
    },
    "tags": []
   },
   "outputs": [],
   "source": [
    "# Librería para graficar los nulos.\n",
    "# Esta comentnado porque la comptencia no permite la utilización de librerías de terceros.\n",
    "\n",
    "# import missingno as msno"
   ]
  },
  {
   "cell_type": "code",
   "execution_count": 41,
   "id": "e03eb4ec",
   "metadata": {
    "execution": {
     "iopub.execute_input": "2024-03-22T03:58:45.835084Z",
     "iopub.status.busy": "2024-03-22T03:58:45.834712Z",
     "iopub.status.idle": "2024-03-22T03:58:45.839198Z",
     "shell.execute_reply": "2024-03-22T03:58:45.838188Z"
    },
    "papermill": {
     "duration": 0.044919,
     "end_time": "2024-03-22T03:58:45.840923",
     "exception": false,
     "start_time": "2024-03-22T03:58:45.796004",
     "status": "completed"
    },
    "tags": []
   },
   "outputs": [],
   "source": [
    "# Analizamos los valores nulos para las columnas str.\n",
    "# Esta comentnado porque la comptencia no permite la utilización de librerías de terceros.\n",
    "\n",
    "# msno.matrix(X.select(pl.selectors.string())._to_pandas_with_object_columns(use_pyarrow_extension_array= True))\n",
    "# plt.show()"
   ]
  },
  {
   "cell_type": "markdown",
   "id": "204adee3",
   "metadata": {
    "papermill": {
     "duration": 0.037106,
     "end_time": "2024-03-22T03:58:45.915251",
     "exception": false,
     "start_time": "2024-03-22T03:58:45.878145",
     "status": "completed"
    },
    "tags": []
   },
   "source": [
    "**Se observa que hay una gran cantidad de nulos en las con los siguientes números iniciales 167, 15, 16, 17, 22 y 33 que podría ser una opción eliminarlas y las otras realizarles una inputación.**"
   ]
  },
  {
   "cell_type": "code",
   "execution_count": 42,
   "id": "c7d9e71c",
   "metadata": {
    "execution": {
     "iopub.execute_input": "2024-03-22T03:58:45.989534Z",
     "iopub.status.busy": "2024-03-22T03:58:45.989194Z",
     "iopub.status.idle": "2024-03-22T03:58:45.993859Z",
     "shell.execute_reply": "2024-03-22T03:58:45.992916Z"
    },
    "papermill": {
     "duration": 0.043634,
     "end_time": "2024-03-22T03:58:45.995509",
     "exception": false,
     "start_time": "2024-03-22T03:58:45.951875",
     "status": "completed"
    },
    "tags": []
   },
   "outputs": [],
   "source": [
    "# Analizamos los valores nulos para las columnas numeric.\n",
    "# Esta comentnado porque la comptencia no permite la utilización de librerías de terceros.\n",
    "\n",
    "# msno.matrix(X.select(pl.selectors.numeric())._to_pandas_with_object_columns(use_pyarrow_extension_array= True).iloc[:,0:15])\n",
    "# msno.matrix(X.select(pl.selectors.numeric())._to_pandas_with_object_columns(use_pyarrow_extension_array= True).iloc[:,15:25])\n",
    "# msno.matrix(X.select(pl.selectors.numeric())._to_pandas_with_object_columns(use_pyarrow_extension_array= True).iloc[:,25:35])\n",
    "# msno.matrix(X.select(pl.selectors.numeric())._to_pandas_with_object_columns(use_pyarrow_extension_array= True).iloc[:,35:49])\n",
    "# plt.show()"
   ]
  },
  {
   "cell_type": "markdown",
   "id": "b4f44150",
   "metadata": {
    "papermill": {
     "duration": 0.035116,
     "end_time": "2024-03-22T03:58:46.066295",
     "exception": false,
     "start_time": "2024-03-22T03:58:46.031179",
     "status": "completed"
    },
    "tags": []
   },
   "source": [
    "**Se observa que hay una gran cantidad de nulos en columna 77_Gastos mensuales de otros préstamos desde la última solicitud que posiblemente sea eliminado.**"
   ]
  },
  {
   "cell_type": "markdown",
   "id": "faf40ef8",
   "metadata": {
    "papermill": {
     "duration": 0.037045,
     "end_time": "2024-03-22T03:58:46.138692",
     "exception": false,
     "start_time": "2024-03-22T03:58:46.101647",
     "status": "completed"
    },
    "tags": []
   },
   "source": [
    "### *4.2.1. Analizando el Target: y (le dieron el prestamo si (1) o no (0))*"
   ]
  },
  {
   "cell_type": "code",
   "execution_count": 43,
   "id": "b45b00ad",
   "metadata": {
    "execution": {
     "iopub.execute_input": "2024-03-22T03:58:46.213695Z",
     "iopub.status.busy": "2024-03-22T03:58:46.213358Z",
     "iopub.status.idle": "2024-03-22T03:58:46.218124Z",
     "shell.execute_reply": "2024-03-22T03:58:46.217193Z"
    },
    "papermill": {
     "duration": 0.044811,
     "end_time": "2024-03-22T03:58:46.219699",
     "exception": false,
     "start_time": "2024-03-22T03:58:46.174888",
     "status": "completed"
    },
    "tags": []
   },
   "outputs": [],
   "source": [
    "# Cambiamos el background de los gráficos.\n",
    "plt.style.use('dark_background')\n",
    "plt.rcParams.update({\"grid.linewidth\": 0.5, \"grid.alpha\": 0.5})"
   ]
  },
  {
   "cell_type": "code",
   "execution_count": 44,
   "id": "becf60a9",
   "metadata": {
    "execution": {
     "iopub.execute_input": "2024-03-22T03:58:46.297128Z",
     "iopub.status.busy": "2024-03-22T03:58:46.296750Z",
     "iopub.status.idle": "2024-03-22T03:58:46.300908Z",
     "shell.execute_reply": "2024-03-22T03:58:46.299953Z"
    },
    "papermill": {
     "duration": 0.045727,
     "end_time": "2024-03-22T03:58:46.302572",
     "exception": false,
     "start_time": "2024-03-22T03:58:46.256845",
     "status": "completed"
    },
    "tags": []
   },
   "outputs": [],
   "source": [
    "# Descomentar si quiere visualizar, esta comentado por temas de memoria que nos brinda kaggle para enviar el submit.\n",
    "\n",
    "# sns.countplot(data= y.to_pandas(), x= 'target')\n",
    "# print(y['target'].to_pandas().value_counts(normalize= 1))\n",
    "# plt.show()"
   ]
  },
  {
   "cell_type": "markdown",
   "id": "c7549f1e",
   "metadata": {
    "papermill": {
     "duration": 0.037309,
     "end_time": "2024-03-22T03:58:46.378306",
     "exception": false,
     "start_time": "2024-03-22T03:58:46.340997",
     "status": "completed"
    },
    "tags": []
   },
   "source": [
    "**Se observa que 96% de los clientes no han recibio un préstamo y 4% de los clientes sí lo han recibido.**"
   ]
  },
  {
   "cell_type": "markdown",
   "id": "99305874",
   "metadata": {
    "papermill": {
     "duration": 0.038015,
     "end_time": "2024-03-22T03:58:46.454861",
     "exception": false,
     "start_time": "2024-03-22T03:58:46.416846",
     "status": "completed"
    },
    "tags": []
   },
   "source": [
    "### *4.2.2. Variables Cuantitativas*"
   ]
  },
  {
   "cell_type": "code",
   "execution_count": 45,
   "id": "250d2732",
   "metadata": {
    "execution": {
     "iopub.execute_input": "2024-03-22T03:58:46.534353Z",
     "iopub.status.busy": "2024-03-22T03:58:46.533955Z",
     "iopub.status.idle": "2024-03-22T03:58:46.538958Z",
     "shell.execute_reply": "2024-03-22T03:58:46.537883Z"
    },
    "papermill": {
     "duration": 0.047581,
     "end_time": "2024-03-22T03:58:46.541168",
     "exception": false,
     "start_time": "2024-03-22T03:58:46.493587",
     "status": "completed"
    },
    "tags": []
   },
   "outputs": [],
   "source": [
    "X_numeric = X.select(pl.selectors.numeric())"
   ]
  },
  {
   "cell_type": "code",
   "execution_count": 46,
   "id": "8088b8c9",
   "metadata": {
    "execution": {
     "iopub.execute_input": "2024-03-22T03:58:46.618308Z",
     "iopub.status.busy": "2024-03-22T03:58:46.617933Z",
     "iopub.status.idle": "2024-03-22T03:58:46.622312Z",
     "shell.execute_reply": "2024-03-22T03:58:46.621347Z"
    },
    "papermill": {
     "duration": 0.045074,
     "end_time": "2024-03-22T03:58:46.624557",
     "exception": false,
     "start_time": "2024-03-22T03:58:46.579483",
     "status": "completed"
    },
    "tags": []
   },
   "outputs": [],
   "source": [
    "# Descomentar si quiere visualizar, esta comentado por temas de memoria que nos brinda kaggle para enviar el submit.\n",
    "# Visaulizar un resumen estadístico.\n",
    "\n",
    "# X_numeric.describe()"
   ]
  },
  {
   "cell_type": "code",
   "execution_count": 47,
   "id": "69cd7781",
   "metadata": {
    "execution": {
     "iopub.execute_input": "2024-03-22T03:58:46.705038Z",
     "iopub.status.busy": "2024-03-22T03:58:46.704261Z",
     "iopub.status.idle": "2024-03-22T03:58:46.708449Z",
     "shell.execute_reply": "2024-03-22T03:58:46.707579Z"
    },
    "papermill": {
     "duration": 0.046626,
     "end_time": "2024-03-22T03:58:46.710253",
     "exception": false,
     "start_time": "2024-03-22T03:58:46.663627",
     "status": "completed"
    },
    "tags": []
   },
   "outputs": [],
   "source": [
    "# Descomentar si quiere visualizar, esta comentado por temas de memoria que nos brinda kaggle para enviar el submit.\n",
    "# Esta linea de código esta comentado porque se demora un poco en la ejecución de todos las distribuciones numéricas.\n",
    "\n",
    "# for i in range(0, 46, 5):\n",
    "#     X_numeric.to_pandas()[X_numeric.columns[i: i + 5]].hist(bins= 50, figsize= (20, 15), color= 'skyblue')\n",
    "# plt.show()"
   ]
  },
  {
   "cell_type": "code",
   "execution_count": 48,
   "id": "96e64a9d",
   "metadata": {
    "execution": {
     "iopub.execute_input": "2024-03-22T03:58:46.786635Z",
     "iopub.status.busy": "2024-03-22T03:58:46.786264Z",
     "iopub.status.idle": "2024-03-22T03:58:46.790732Z",
     "shell.execute_reply": "2024-03-22T03:58:46.789719Z"
    },
    "papermill": {
     "duration": 0.044652,
     "end_time": "2024-03-22T03:58:46.792581",
     "exception": false,
     "start_time": "2024-03-22T03:58:46.747929",
     "status": "completed"
    },
    "tags": []
   },
   "outputs": [],
   "source": [
    "# Descomentar si quiere visualizar, esta comentado por temas de memoria que nos brinda kaggle para enviar el submit.\n",
    "# Esta linea de código esta comentado porque se demora un poco en la ejecución de un gráfico de la matriz de correlación.\n",
    "\n",
    "# corr = X_numeric.with_columns(y).to_pandas()[X_numeric.columns + ['target']].corr()\n",
    "\n",
    "# fig = plt.figure(figsize= (24,16))\n",
    "# sns.heatmap(corr, annot= corr, fmt= '.1f', linewidth= 0.2, cmap= 'bwr')\n",
    "# plt.show()"
   ]
  },
  {
   "cell_type": "code",
   "execution_count": 49,
   "id": "a91171d8",
   "metadata": {
    "execution": {
     "iopub.execute_input": "2024-03-22T03:58:46.869836Z",
     "iopub.status.busy": "2024-03-22T03:58:46.869502Z",
     "iopub.status.idle": "2024-03-22T03:58:46.873915Z",
     "shell.execute_reply": "2024-03-22T03:58:46.872887Z"
    },
    "papermill": {
     "duration": 0.045348,
     "end_time": "2024-03-22T03:58:46.875584",
     "exception": false,
     "start_time": "2024-03-22T03:58:46.830236",
     "status": "completed"
    },
    "tags": []
   },
   "outputs": [],
   "source": [
    "# Mostramos las variables que tienen mayor correlación en un gráfico.\n",
    "\n",
    "# corr = X_numeric.with_columns(y).to_pandas()[X_numeric.columns + ['target']].corr()\n",
    "# corr[['target']].sort_values(by= 'target', ascending= False).style.background_gradient()"
   ]
  },
  {
   "cell_type": "markdown",
   "id": "755e8f07",
   "metadata": {
    "papermill": {
     "duration": 0.037082,
     "end_time": "2024-03-22T03:58:46.949776",
     "exception": false,
     "start_time": "2024-03-22T03:58:46.912694",
     "status": "completed"
    },
    "tags": []
   },
   "source": [
    "### *4.2.3. Variables Categóricas*"
   ]
  },
  {
   "cell_type": "code",
   "execution_count": 50,
   "id": "0b4136f9",
   "metadata": {
    "execution": {
     "iopub.execute_input": "2024-03-22T03:58:47.026061Z",
     "iopub.status.busy": "2024-03-22T03:58:47.023939Z",
     "iopub.status.idle": "2024-03-22T03:58:47.029912Z",
     "shell.execute_reply": "2024-03-22T03:58:47.028960Z"
    },
    "papermill": {
     "duration": 0.045998,
     "end_time": "2024-03-22T03:58:47.031865",
     "exception": false,
     "start_time": "2024-03-22T03:58:46.985867",
     "status": "completed"
    },
    "tags": []
   },
   "outputs": [],
   "source": [
    "X_categorical = X.select([pl.col('case_id'), pl.selectors.string()])"
   ]
  },
  {
   "cell_type": "code",
   "execution_count": 51,
   "id": "513bf549",
   "metadata": {
    "execution": {
     "iopub.execute_input": "2024-03-22T03:58:47.110403Z",
     "iopub.status.busy": "2024-03-22T03:58:47.109196Z",
     "iopub.status.idle": "2024-03-22T03:58:47.113388Z",
     "shell.execute_reply": "2024-03-22T03:58:47.112740Z"
    },
    "papermill": {
     "duration": 0.045234,
     "end_time": "2024-03-22T03:58:47.115103",
     "exception": false,
     "start_time": "2024-03-22T03:58:47.069869",
     "status": "completed"
    },
    "tags": []
   },
   "outputs": [],
   "source": [
    "# Descomentar si quiere visualizar, esta comentado por temas de memoria que nos brinda kaggle para enviar el submit.\n",
    "\n",
    "# Imprimimos toda la información encontrada de las variables categóricas.\n",
    "\n",
    "# categorical_finding(X_categorical.with_columns(y).to_pandas(), X_categorical.columns)"
   ]
  },
  {
   "cell_type": "markdown",
   "id": "de146bb0",
   "metadata": {
    "papermill": {
     "duration": 0.037715,
     "end_time": "2024-03-22T03:58:47.190169",
     "exception": false,
     "start_time": "2024-03-22T03:58:47.152454",
     "status": "completed"
    },
    "tags": []
   },
   "source": [
    "# 5. Tratamiento de Datos"
   ]
  },
  {
   "cell_type": "markdown",
   "id": "e674170c",
   "metadata": {
    "papermill": {
     "duration": 0.037291,
     "end_time": "2024-03-22T03:58:47.265004",
     "exception": false,
     "start_time": "2024-03-22T03:58:47.227713",
     "status": "completed"
    },
    "tags": []
   },
   "source": [
    "## 5.1. Eliminar Columnas que no Aportan Valor Informativo"
   ]
  },
  {
   "cell_type": "code",
   "execution_count": 52,
   "id": "2f053e50",
   "metadata": {
    "execution": {
     "iopub.execute_input": "2024-03-22T03:58:47.342479Z",
     "iopub.status.busy": "2024-03-22T03:58:47.341909Z",
     "iopub.status.idle": "2024-03-22T03:58:47.350666Z",
     "shell.execute_reply": "2024-03-22T03:58:47.349110Z"
    },
    "papermill": {
     "duration": 0.049844,
     "end_time": "2024-03-22T03:58:47.352416",
     "exception": false,
     "start_time": "2024-03-22T03:58:47.302572",
     "status": "completed"
    },
    "tags": []
   },
   "outputs": [
    {
     "name": "stdout",
     "output_type": "stream",
     "text": [
      "11_Average days past or before due of payment during the last 24 months. - 613202 - 40.16627157734634 %\n",
      "12_Average days past or before due of payment during the last 3 months. - 948244 - 62.11236431973348 %\n",
      "13_Average days of payment before due date within the last 24 months (with tolerance). - 972827 - 63.72261258080554 %\n",
      "15_Average instalments paid by the client over the past 24 months. - 624875 - 40.93088240399461 %\n",
      "16_Average loan amount in the last 24 months. - 1364150 - 89.35525222069892 %\n",
      "17_Average Days Past Due (DPD) of the client in last 9 months. - 757006 - 49.58579486316197 %\n",
      "18_Average outstanding balance of applicant for the last 6 months. - 841181 - 55.099468840127365 %\n",
      "19_Average of payments made by the client in the last 12 months. - 1026987 - 67.27022864961985 %\n",
      "60_Initial transaction amount of the credit application. - 1334357 - 87.4037358702893 %\n",
      "63_Interest rate during the grace period. - 1505776 - 98.63211103461873 %\n",
      "76_Amount of other income reported by the client in their last application. - 1523603 - 99.79982432226187 %\n",
      "77_Monthly expenses on other loans from the last application. - 1523601 - 99.79969331723719 %\n",
      "80_Credit amount on last rejected application. - 769046 - 50.37444511184227 %\n",
      "90_Maximal annuity offered to the client in the current application. - 1450726 - 95.02619772981392 %\n",
      "91_Maximum number of days past due in the last month. A negative value indicates the number of days before the due date. - 960953 - 62.944835749175155 %\n",
      "92_Maximum number of days past due in last 12 months. A negative value implies days before due date. - 705504 - 46.21228447217093 %\n",
      "93_Maximum number of days past due in last 6 months. This predictor takes the value as a negative number when it represents days before due date. - 876276 - 57.39827951101064 %\n",
      "97_Instalment number of which client was most days past due. - 829402 - 54.32791474717013 %\n",
      "104_Maximum instalment in the last 24 months - 624875 - 40.93088240399461 %\n",
      "105_Maximum loan amount started in the last 6 months. - 1032856 - 67.65466289459532 %\n",
      "106_Maximum outstanding balance in the last 12 months. - 766958 - 50.23767586605784 %\n",
      "107_Maximum payment made by the client in the last 3 months. - 1129330 - 73.97395227093935 %\n",
      "108_Minimum days past due (or days before due) in last 24 months. - 613202 - 40.16627157734634 %\n",
      "109_Minimum days before due in last 24 months. - 972827 - 63.72261258080554 %\n",
      "161_Sum of total outstanding amount. - 840646 - 55.06442499602072 %\n",
      "164_Total amount of monthly instalments paid in the previous month. - 1174211 - 76.91377052766859 %\n",
      "166_Persons accompanying the client during the loan application process. - 1121505 - 73.46139511180951 %\n",
      "167_Date since the client has an active campaign. - 1374886 - 90.05848719327629 %\n",
      "24_Family State in previous application of applicant. - 1026869 - 67.26249935316268 %\n",
      "9_Start date of employment. - 959958 - 62.879660749388044 %\n",
      "10_Employment length of a person. - 998344 - 65.39404018841142 %\n",
      "11_Employment Industry of the person. - 1004423 - 65.79222996098015 %\n",
      "14_Family state of the person. - 798046 - 52.27401796995924 %\n",
      "15_Gender of a person. - 1514201 - 99.18396970115789 %\n",
      "16_House type of the person. - 1425841 - 93.3961677100125 %\n",
      "17_Type of housing of the person. - 1526659 - 100.0 %\n",
      "22_Marital status of the client. - 1526658 - 99.99993449748766 %\n",
      "29_Relationship to the client. - 1526659 - 100.0 %\n",
      "30_Relationship to the client. - 1526659 - 100.0 %\n",
      "33_Person's role. - 1514201 - 99.18396970115789 %\n"
     ]
    }
   ],
   "source": [
    "# Eliminar las columnas con más del 40% de nulos.\n",
    "# Obtener las columnas numeric y string.\n",
    "cols_numeric_mas_40 = []\n",
    "cols_string_mas_40 = []\n",
    "\n",
    "for col in X_numeric.columns:\n",
    "    percent = X[col].null_count() / len(X[col]) * 100\n",
    "    if percent >= 40:\n",
    "        cols_numeric_mas_40.append(col)\n",
    "        print(f\"{col} - {X[col].null_count()} - {percent} %\")\n",
    "        \n",
    "for col in X_categorical.columns:\n",
    "    percent = X[col].null_count() / len(X[col]) * 100\n",
    "    if percent >= 40:\n",
    "        cols_string_mas_40.append(col)\n",
    "        print(f\"{col} - {X[col].null_count()} - {percent} %\")"
   ]
  },
  {
   "cell_type": "code",
   "execution_count": 53,
   "id": "dfc3157f",
   "metadata": {
    "execution": {
     "iopub.execute_input": "2024-03-22T03:58:47.430890Z",
     "iopub.status.busy": "2024-03-22T03:58:47.430522Z",
     "iopub.status.idle": "2024-03-22T03:58:47.434775Z",
     "shell.execute_reply": "2024-03-22T03:58:47.433725Z"
    },
    "papermill": {
     "duration": 0.046983,
     "end_time": "2024-03-22T03:58:47.436546",
     "exception": false,
     "start_time": "2024-03-22T03:58:47.389563",
     "status": "completed"
    },
    "tags": []
   },
   "outputs": [],
   "source": [
    "# Columnas que no aportan valor.\n",
    "cols_numeric_without_value = [\n",
    "    '25_Person type.',\n",
    "    '26_Person type.'    \n",
    "]\n",
    "\n",
    "cols_string_without_value = [\n",
    "    '7_Date when previous application was created.'\n",
    "]"
   ]
  },
  {
   "cell_type": "code",
   "execution_count": 54,
   "id": "829585a3",
   "metadata": {
    "execution": {
     "iopub.execute_input": "2024-03-22T03:58:47.514381Z",
     "iopub.status.busy": "2024-03-22T03:58:47.513360Z",
     "iopub.status.idle": "2024-03-22T03:58:47.519047Z",
     "shell.execute_reply": "2024-03-22T03:58:47.517974Z"
    },
    "papermill": {
     "duration": 0.045815,
     "end_time": "2024-03-22T03:58:47.520801",
     "exception": false,
     "start_time": "2024-03-22T03:58:47.474986",
     "status": "completed"
    },
    "tags": []
   },
   "outputs": [],
   "source": [
    "# Eliminamos las columnas seleccionadas anteriormente.\n",
    "X_numeric_5_1 = X_numeric.drop(cols_numeric_mas_40 + cols_numeric_without_value)\n",
    "X_categorical_5_1 = X_categorical.drop(cols_string_mas_40 + cols_string_without_value)"
   ]
  },
  {
   "cell_type": "markdown",
   "id": "3d71b0b5",
   "metadata": {
    "papermill": {
     "duration": 0.036832,
     "end_time": "2024-03-22T03:58:47.595806",
     "exception": false,
     "start_time": "2024-03-22T03:58:47.558974",
     "status": "completed"
    },
    "tags": []
   },
   "source": [
    "## 5.2. Inputar Valores Nulos en features Numéricos"
   ]
  },
  {
   "cell_type": "code",
   "execution_count": 55,
   "id": "28cd2d15",
   "metadata": {
    "execution": {
     "iopub.execute_input": "2024-03-22T03:58:47.671579Z",
     "iopub.status.busy": "2024-03-22T03:58:47.670702Z",
     "iopub.status.idle": "2024-03-22T03:58:47.674831Z",
     "shell.execute_reply": "2024-03-22T03:58:47.674123Z"
    },
    "papermill": {
     "duration": 0.044245,
     "end_time": "2024-03-22T03:58:47.676802",
     "exception": false,
     "start_time": "2024-03-22T03:58:47.632557",
     "status": "completed"
    },
    "tags": []
   },
   "outputs": [],
   "source": [
    "# # Verificamos la cantidad de nulos de las nuevas columnas.\n",
    "# display(X_numeric_5_1.null_count())\n",
    "# display(X_categorical_5_1.null_count())"
   ]
  },
  {
   "cell_type": "code",
   "execution_count": 56,
   "id": "30726697",
   "metadata": {
    "execution": {
     "iopub.execute_input": "2024-03-22T03:58:47.751507Z",
     "iopub.status.busy": "2024-03-22T03:58:47.751175Z",
     "iopub.status.idle": "2024-03-22T03:58:47.756742Z",
     "shell.execute_reply": "2024-03-22T03:58:47.756118Z"
    },
    "papermill": {
     "duration": 0.045386,
     "end_time": "2024-03-22T03:58:47.758810",
     "exception": false,
     "start_time": "2024-03-22T03:58:47.713424",
     "status": "completed"
    },
    "tags": []
   },
   "outputs": [
    {
     "name": "stdout",
     "output_type": "stream",
     "text": [
      "1_DPD of client with tolerance. - cantidad de nulos: 418178 - 27.39170960902205\n",
      "2_Number of instalments paid before due date in the last 24 months. - cantidad de nulos: 561124 - 36.75503173924236\n",
      "14_Average DPD (days past due) with tolerance within the past 24 months from the maximum closure date, assuming that the contract is finished. If the contract is ongoing, the calculation is based on the current date. - cantidad de nulos: 467175 - 30.601136206579206\n",
      "38_Number of incoming payments in the past 9 months. - cantidad de nulos: 455190 - 29.816088596078107\n",
      "39_Number of months with any incoming payment in last 24 months. - cantidad de nulos: 460822 - 30.18499874562689\n",
      "40_Number of communications indicating low income in the last six months. - cantidad de nulos: 343375 - 22.491925177790193\n",
      "48_Number of days that past after the due date (with tolerance). - cantidad de nulos: 452594 - 29.646044074020462\n",
      "54_Interest rate. - cantidad de nulos: 190833 - 12.500040939070217\n",
      "62_The interest rate of the active credit contract. - cantidad de nulos: 190833 - 12.500040939070217\n",
      "71_Credit amount from the client's last application. - cantidad de nulos: 442041 - 28.954796061202927\n",
      "86_Client's primary income amount. - cantidad de nulos: 511255 - 33.488486950917\n",
      "87_Flag indicating the existence of the master contract for the client. - cantidad de nulos: 306019 - 20.04501332648614\n",
      "88_Flag indicating whether or not the applicant has an existing master contract. - cantidad de nulos: 306019 - 20.04501332648614\n",
      "89_Maximum annuity previously obtained by client. - cantidad de nulos: 306019 - 20.04501332648614\n",
      "94_Maximal principal debt of the client in the history older than 4 months. - cantidad de nulos: 306019 - 20.04501332648614\n",
      "95_Maximum Days Past Due (DPD) in the period ranging from 6 to 36 months. - cantidad de nulos: 343375 - 22.491925177790193\n",
      "98_Maximum days past due in the past 12 months. - cantidad de nulos: 306019 - 20.04501332648614\n",
      "99_Maximal days past due in the last 24 months. - cantidad de nulos: 306019 - 20.04501332648614\n",
      "100_Maximum number of days past due in last 3 months. - cantidad de nulos: 306019 - 20.04501332648614\n",
      "101_Maximum days past due in the last 6 months. - cantidad de nulos: 306019 - 20.04501332648614\n",
      "102_Maximum days past due in last 9 months. - cantidad de nulos: 306019 - 20.04501332648614\n",
      "103_Maximum number of days past due (with tolerance). - cantidad de nulos: 306019 - 20.04501332648614\n",
      "111_Monthly annuity amount for the applicant. - cantidad de nulos: 452593 - 29.64597857150811\n",
      "116_Number of incoming payments. - cantidad de nulos: 455081 - 29.80894882223208\n",
      "117_Number of instalments paid at least 3 days prior to their due date. - cantidad de nulos: 445669 - 29.192439176004598\n",
      "119_Number of paid instalments. - cantidad de nulos: 445669 - 29.192439176004598\n",
      "120_Number of instalments that were overdue for 10 or more days. - cantidad de nulos: 456495 - 29.901569374693366\n",
      "122_Number of instalments that were not past due date. - cantidad de nulos: 456495 - 29.901569374693366\n",
      "125_Number of instalments paid more than three days before the due date. - cantidad de nulos: 446983 - 29.278509477231\n",
      "127_Number of instalments paid more than 5 days prior to the due date. - cantidad de nulos: 452593 - 29.64597857150811\n",
      "130_Number of installments paid prior to the due date. - cantidad de nulos: 452593 - 29.64597857150811\n",
      "133_Number of instalments paid more than 1 day past their due date. - cantidad de nulos: 452593 - 29.64597857150811\n",
      "134_Number of fully paid regular installments in the client's previous contracts. - cantidad de nulos: 455612 - 29.843730656289324\n",
      "136_Number of unpaid instalments. - cantidad de nulos: 452594 - 29.646044074020462\n",
      "138_Maximum number of unpaid instalments. - cantidad de nulos: 452594 - 29.646044074020462\n",
      "147_Percentage of installments paid at least 3 days prior to the due date. - cantidad de nulos: 458738 - 30.04849150989186\n",
      "148_Percentage of installments that were paid 10 or more days after the due date. - cantidad de nulos: 461362 - 30.220370102295274\n",
      "149_Percentage of installments that are paid 1 or more days after the due date. - cantidad de nulos: 458738 - 30.04849150989186\n",
      "150_Percentage of installments that were paid 4 or more days past their due date. - cantidad de nulos: 459827 - 30.119823745839774\n",
      "151_Percentage of installments that were paid 6 or more days past their due date. - cantidad de nulos: 460079 - 30.136330378951687\n",
      "155_Average FSTPD30 (share of contracts with first, second, or third installment past due more than 30 days) from point of sale that processed contract in the last month. - cantidad de nulos: 181122 - 11.863946041650427\n",
      "157_Credit price. - cantidad de nulos: 223240 - 14.622780856759762\n",
      "160_Sum of total outstanding amount. - cantidad de nulos: 445320 - 29.169578799194845\n",
      "1_Days Past Due (DPD) of previous contract (actual)._total - cantidad de nulos: 305137 - 19.987240110594442\n",
      "2_Monthly annuity for previous applications._total - cantidad de nulos: 305137 - 19.987240110594442\n",
      "4_Applicant's income from previous applications._total - cantidad de nulos: 305137 - 19.987240110594442\n",
      "6_Number of children in the previous application._total - cantidad de nulos: 305137 - 19.987240110594442\n",
      "8_Actual balance on credit account._total - cantidad de nulos: 305137 - 19.987240110594442\n",
      "9_Credit card credit limit provided for previous applications._total - cantidad de nulos: 305137 - 19.987240110594442\n",
      "10_Maximal historical balance of previous credit account_total - cantidad de nulos: 305137 - 19.987240110594442\n",
      "11_Minimum historical balance of previous credit accounts._total - cantidad de nulos: 305137 - 19.987240110594442\n",
      "14_Loan amount or card limit of previous applications._total - cantidad de nulos: 305137 - 19.987240110594442\n",
      "16_Previous application's current debt._total - cantidad de nulos: 305137 - 19.987240110594442\n",
      "19_Previous application downpayment amount._total - cantidad de nulos: 305137 - 19.987240110594442\n",
      "29_Client's main income amount in their previous application._total - cantidad de nulos: 305137 - 19.987240110594442\n",
      "30_Maximum DPD with tolerance (on previous application/s)._total - cantidad de nulos: 305137 - 19.987240110594442\n",
      "num_group1_total - cantidad de nulos: 305137 - 19.987240110594442\n",
      "32_Amount of outstanding debt on the client's previous application._total - cantidad de nulos: 305137 - 19.987240110594442\n",
      "33_Number of payments made for the previous application._total - cantidad de nulos: 305137 - 19.987240110594442\n",
      "38_Revolving account that was present in the applicant's previous application._total - cantidad de nulos: 305137 - 19.987240110594442\n",
      "40_Number of instalments in the previous application._total - cantidad de nulos: 305137 - 19.987240110594442\n"
     ]
    }
   ],
   "source": [
    "# Seleccionar solo las columnas nulas en las features numéricas.\n",
    "cols_with_null = []\n",
    "\n",
    "for col in X_numeric_5_1.columns:\n",
    "    cantidad_nulos = X_numeric_5_1[col].null_count()\n",
    "    percent_nulos = cantidad_nulos / len(X_numeric_5_1) * 100\n",
    "    if percent_nulos >= 10:\n",
    "        cols_with_null.append(col)\n",
    "        print(f'{col} - cantidad de nulos: {cantidad_nulos} - {percent_nulos}')"
   ]
  },
  {
   "cell_type": "code",
   "execution_count": 57,
   "id": "feaaa21e",
   "metadata": {
    "execution": {
     "iopub.execute_input": "2024-03-22T03:58:47.836434Z",
     "iopub.status.busy": "2024-03-22T03:58:47.835826Z",
     "iopub.status.idle": "2024-03-22T03:58:47.839312Z",
     "shell.execute_reply": "2024-03-22T03:58:47.838739Z"
    },
    "papermill": {
     "duration": 0.044058,
     "end_time": "2024-03-22T03:58:47.840857",
     "exception": false,
     "start_time": "2024-03-22T03:58:47.796799",
     "status": "completed"
    },
    "tags": []
   },
   "outputs": [],
   "source": [
    "# Columnas que tiene menos del 10% de nulos para eliminarlas al final.\n",
    "cols_nulls_menos_10 = [\n",
    "    '43_Current debt amount of the client.',\n",
    "    '44_Current amount of debt of the applicant.',\n",
    "    '152_Total number of loan payments made by the client.'    \n",
    "]"
   ]
  },
  {
   "cell_type": "code",
   "execution_count": 58,
   "id": "19a9594e",
   "metadata": {
    "execution": {
     "iopub.execute_input": "2024-03-22T03:58:47.917335Z",
     "iopub.status.busy": "2024-03-22T03:58:47.916938Z",
     "iopub.status.idle": "2024-03-22T03:58:48.973031Z",
     "shell.execute_reply": "2024-03-22T03:58:48.972220Z"
    },
    "papermill": {
     "duration": 1.096841,
     "end_time": "2024-03-22T03:58:48.974787",
     "exception": false,
     "start_time": "2024-03-22T03:58:47.877946",
     "status": "completed"
    },
    "tags": []
   },
   "outputs": [
    {
     "data": {
      "text/html": [
       "<div><style>\n",
       ".dataframe > thead > tr,\n",
       ".dataframe > tbody > tr {\n",
       "  text-align: right;\n",
       "  white-space: pre-wrap;\n",
       "}\n",
       "</style>\n",
       "<small>shape: (9, 62)</small><table border=\"1\" class=\"dataframe\"><thead><tr><th>statistic</th><th>1_DPD of client with tolerance.</th><th>2_Number of instalments paid before due date in the last 24 months.</th><th>14_Average DPD (days past due) with tolerance within the past 24 months from the maximum closure date, assuming that the contract is finished. If the contract is ongoing, the calculation is based on the current date.</th><th>38_Number of incoming payments in the past 9 months.</th><th>39_Number of months with any incoming payment in last 24 months.</th><th>40_Number of communications indicating low income in the last six months.</th><th>48_Number of days that past after the due date (with tolerance).</th><th>54_Interest rate.</th><th>62_The interest rate of the active credit contract.</th><th>71_Credit amount from the client&#x27;s last application.</th><th>86_Client&#x27;s primary income amount.</th><th>87_Flag indicating the existence of the master contract for the client.</th><th>88_Flag indicating whether or not the applicant has an existing master contract.</th><th>89_Maximum annuity previously obtained by client.</th><th>94_Maximal principal debt of the client in the history older than 4 months.</th><th>95_Maximum Days Past Due (DPD) in the period ranging from 6 to 36 months.</th><th>98_Maximum days past due in the past 12 months.</th><th>99_Maximal days past due in the last 24 months.</th><th>100_Maximum number of days past due in last 3 months.</th><th>101_Maximum days past due in the last 6 months.</th><th>102_Maximum days past due in last 9 months.</th><th>103_Maximum number of days past due (with tolerance).</th><th>111_Monthly annuity amount for the applicant.</th><th>116_Number of incoming payments.</th><th>117_Number of instalments paid at least 3 days prior to their due date.</th><th>119_Number of paid instalments.</th><th>120_Number of instalments that were overdue for 10 or more days.</th><th>122_Number of instalments that were not past due date.</th><th>125_Number of instalments paid more than three days before the due date.</th><th>127_Number of instalments paid more than 5 days prior to the due date.</th><th>130_Number of installments paid prior to the due date.</th><th>133_Number of instalments paid more than 1 day past their due date.</th><th>134_Number of fully paid regular installments in the client&#x27;s previous contracts.</th><th>136_Number of unpaid instalments.</th><th>138_Maximum number of unpaid instalments.</th><th>147_Percentage of installments paid at least 3 days prior to the due date.</th><th>148_Percentage of installments that were paid 10 or more days after the due date.</th><th>149_Percentage of installments that are paid 1 or more days after the due date.</th><th>150_Percentage of installments that were paid 4 or more days past their due date.</th><th>151_Percentage of installments that were paid 6 or more days past their due date.</th><th>155_Average FSTPD30 (share of contracts with first, second, or third installment past due more than 30 days) from point of sale that processed contract in the last month.</th><th>157_Credit price.</th><th>160_Sum of total outstanding amount.</th><th>1_Days Past Due (DPD) of previous contract (actual)._total</th><th>2_Monthly annuity for previous applications._total</th><th>4_Applicant&#x27;s income from previous applications._total</th><th>6_Number of children in the previous application._total</th><th>8_Actual balance on credit account._total</th><th>9_Credit card credit limit provided for previous applications._total</th><th>10_Maximal historical balance of previous credit account_total</th><th>11_Minimum historical balance of previous credit accounts._total</th><th>14_Loan amount or card limit of previous applications._total</th><th>16_Previous application&#x27;s current debt._total</th><th>19_Previous application downpayment amount._total</th><th>29_Client&#x27;s main income amount in their previous application._total</th><th>30_Maximum DPD with tolerance (on previous application/s)._total</th><th>num_group1_total</th><th>32_Amount of outstanding debt on the client&#x27;s previous application._total</th><th>33_Number of payments made for the previous application._total</th><th>38_Revolving account that was present in the applicant&#x27;s previous application._total</th><th>40_Number of instalments in the previous application._total</th></tr><tr><td>str</td><td>f64</td><td>f64</td><td>f64</td><td>f64</td><td>f64</td><td>f64</td><td>f64</td><td>f64</td><td>f64</td><td>f64</td><td>f64</td><td>f64</td><td>f64</td><td>f64</td><td>f64</td><td>f64</td><td>f64</td><td>f64</td><td>f64</td><td>f64</td><td>f64</td><td>f64</td><td>f64</td><td>f64</td><td>f64</td><td>f64</td><td>f64</td><td>f64</td><td>f64</td><td>f64</td><td>f64</td><td>f64</td><td>f64</td><td>f64</td><td>f64</td><td>f64</td><td>f64</td><td>f64</td><td>f64</td><td>f64</td><td>f64</td><td>f64</td><td>f64</td><td>f64</td><td>f64</td><td>f64</td><td>f64</td><td>f64</td><td>f64</td><td>f64</td><td>f64</td><td>f64</td><td>f64</td><td>f64</td><td>f64</td><td>f64</td><td>f64</td><td>f64</td><td>f64</td><td>f64</td><td>f64</td></tr></thead><tbody><tr><td>&quot;count&quot;</td><td>1.108481e6</td><td>965535.0</td><td>1.059484e6</td><td>1.071469e6</td><td>1.065837e6</td><td>1.183284e6</td><td>1.074065e6</td><td>1.335826e6</td><td>1.335826e6</td><td>1.084618e6</td><td>1.015404e6</td><td>1.22064e6</td><td>1.22064e6</td><td>1.22064e6</td><td>1.22064e6</td><td>1.183284e6</td><td>1.22064e6</td><td>1.22064e6</td><td>1.22064e6</td><td>1.22064e6</td><td>1.22064e6</td><td>1.22064e6</td><td>1.074066e6</td><td>1.071578e6</td><td>1.08099e6</td><td>1.08099e6</td><td>1.070164e6</td><td>1.070164e6</td><td>1.079676e6</td><td>1.074066e6</td><td>1.074066e6</td><td>1.074066e6</td><td>1.071047e6</td><td>1.074065e6</td><td>1.074065e6</td><td>1.067921e6</td><td>1.065297e6</td><td>1.067921e6</td><td>1.066832e6</td><td>1.06658e6</td><td>1.345537e6</td><td>1.303419e6</td><td>1.081339e6</td><td>1.221522e6</td><td>1.221522e6</td><td>1.221522e6</td><td>1.221522e6</td><td>1.221522e6</td><td>1.221522e6</td><td>1.221522e6</td><td>1.221522e6</td><td>1.221522e6</td><td>1.221522e6</td><td>1.221522e6</td><td>1.221522e6</td><td>1.221522e6</td><td>1.221522e6</td><td>1.221522e6</td><td>1.221522e6</td><td>1.221522e6</td><td>1.221522e6</td></tr><tr><td>&quot;null_count&quot;</td><td>418178.0</td><td>561124.0</td><td>467175.0</td><td>455190.0</td><td>460822.0</td><td>343375.0</td><td>452594.0</td><td>190833.0</td><td>190833.0</td><td>442041.0</td><td>511255.0</td><td>306019.0</td><td>306019.0</td><td>306019.0</td><td>306019.0</td><td>343375.0</td><td>306019.0</td><td>306019.0</td><td>306019.0</td><td>306019.0</td><td>306019.0</td><td>306019.0</td><td>452593.0</td><td>455081.0</td><td>445669.0</td><td>445669.0</td><td>456495.0</td><td>456495.0</td><td>446983.0</td><td>452593.0</td><td>452593.0</td><td>452593.0</td><td>455612.0</td><td>452594.0</td><td>452594.0</td><td>458738.0</td><td>461362.0</td><td>458738.0</td><td>459827.0</td><td>460079.0</td><td>181122.0</td><td>223240.0</td><td>445320.0</td><td>305137.0</td><td>305137.0</td><td>305137.0</td><td>305137.0</td><td>305137.0</td><td>305137.0</td><td>305137.0</td><td>305137.0</td><td>305137.0</td><td>305137.0</td><td>305137.0</td><td>305137.0</td><td>305137.0</td><td>305137.0</td><td>305137.0</td><td>305137.0</td><td>305137.0</td><td>305137.0</td></tr><tr><td>&quot;mean&quot;</td><td>0.079234</td><td>55958.330289</td><td>45.809286</td><td>6.190625</td><td>10.630644</td><td>0.0</td><td>96.357539</td><td>0.277114</td><td>0.277114</td><td>36890.349425</td><td>49485.651919</td><td>0.0</td><td>0.0</td><td>34606.569195</td><td>48397.609215</td><td>32.415558</td><td>16.602238</td><td>26.379453</td><td>6.660291</td><td>10.062259</td><td>13.421645</td><td>53.435905</td><td>25.842322</td><td>32.412464</td><td>20.631386</td><td>27.317505</td><td>3.612955</td><td>31.726426</td><td>19.892816</td><td>4.57186</td><td>16.175409</td><td>5.4834</td><td>30.022012</td><td>5.955127</td><td>5.409234</td><td>0.598825</td><td>0.080049</td><td>0.178157</td><td>0.114242</td><td>0.097742</td><td>0.030525</td><td>34464.972297</td><td>27681.266363</td><td>0.07892</td><td>17720.976509</td><td>25141.022461</td><td>2.046892</td><td>4786.64456</td><td>17613.536814</td><td>-686.310895</td><td>-1607.401507</td><td>209197.978099</td><td>18417.767504</td><td>2226.114053</td><td>216870.115428</td><td>41.175249</td><td>22.408405</td><td>24577.43702</td><td>79.299661</td><td>1.8233e8</td><td>79.299661</td></tr><tr><td>&quot;std&quot;</td><td>11.206518</td><td>71614.166354</td><td>318.540587</td><td>6.185546</td><td>7.888573</td><td>0.0</td><td>481.298666</td><td>0.197534</td><td>0.197534</td><td>37004.784004</td><td>32264.136044</td><td>0.0</td><td>0.0</td><td>94998.000494</td><td>53398.887391</td><td>247.070591</td><td>192.642091</td><td>231.095283</td><td>137.764648</td><td>158.744788</td><td>176.954848</td><td>284.760103</td><td>22.956229</td><td>32.93961</td><td>25.698175</td><td>29.807369</td><td>11.218279</td><td>32.887686</td><td>24.744236</td><td>8.803408</td><td>21.938418</td><td>8.650442</td><td>32.288303</td><td>10.187258</td><td>8.918626</td><td>0.348941</td><td>0.161982</td><td>0.228471</td><td>0.190876</td><td>0.177846</td><td>0.172026</td><td>34483.160124</td><td>58403.779154</td><td>10.883835</td><td>18651.611357</td><td>71088.233233</td><td>3.612884</td><td>18377.29334</td><td>48627.533934</td><td>15747.859722</td><td>10079.942352</td><td>249401.435949</td><td>36803.195365</td><td>7716.459315</td><td>236144.813962</td><td>253.473035</td><td>40.773565</td><td>55767.475314</td><td>90.095069</td><td>3.9165e8</td><td>90.095069</td></tr><tr><td>&quot;min&quot;</td><td>0.0</td><td>0.0</td><td>0.0</td><td>0.0</td><td>0.0</td><td>0.0</td><td>0.0</td><td>0.0</td><td>0.0</td><td>0.0</td><td>0.0</td><td>0.0</td><td>0.0</td><td>0.0</td><td>0.0</td><td>0.0</td><td>0.0</td><td>0.0</td><td>0.0</td><td>0.0</td><td>0.0</td><td>0.0</td><td>0.0</td><td>0.0</td><td>0.0</td><td>0.0</td><td>0.0</td><td>0.0</td><td>0.0</td><td>0.0</td><td>0.0</td><td>0.0</td><td>0.0</td><td>0.0</td><td>0.0</td><td>0.0</td><td>0.0</td><td>0.0</td><td>0.0</td><td>0.0</td><td>0.0</td><td>0.0</td><td>-25044.0</td><td>0.0</td><td>0.0</td><td>0.0</td><td>0.0</td><td>-134008.42</td><td>0.0</td><td>-392216.34</td><td>-413616.34</td><td>0.0</td><td>0.0</td><td>0.0</td><td>0.0</td><td>0.0</td><td>0.0</td><td>0.0</td><td>0.0</td><td>0.0</td><td>0.0</td></tr><tr><td>&quot;25%&quot;</td><td>0.0</td><td>7419.2</td><td>0.0</td><td>0.0</td><td>4.0</td><td>0.0</td><td>0.0</td><td>0.0</td><td>0.0</td><td>12900.0</td><td>30000.0</td><td>0.0</td><td>0.0</td><td>4000.0</td><td>7113.0</td><td>0.0</td><td>0.0</td><td>0.0</td><td>0.0</td><td>0.0</td><td>0.0</td><td>0.0</td><td>9.0</td><td>10.0</td><td>4.0</td><td>8.0</td><td>0.0</td><td>10.0</td><td>4.0</td><td>0.0</td><td>3.0</td><td>0.0</td><td>9.0</td><td>0.0</td><td>0.0</td><td>0.34737</td><td>0.0</td><td>0.0</td><td>0.0</td><td>0.0</td><td>0.0</td><td>13800.0</td><td>0.0</td><td>0.0</td><td>4924.0</td><td>0.0</td><td>0.0</td><td>0.0</td><td>0.0</td><td>0.0</td><td>0.0</td><td>49260.0</td><td>0.0</td><td>0.0</td><td>62800.0</td><td>0.0</td><td>1.0</td><td>0.0</td><td>21.0</td><td>0.0</td><td>21.0</td></tr><tr><td>&quot;50%&quot;</td><td>0.0</td><td>29758.396</td><td>0.0</td><td>5.0</td><td>10.0</td><td>0.0</td><td>2.0</td><td>0.4005</td><td>0.4005</td><td>24774.0</td><td>40000.0</td><td>0.0</td><td>0.0</td><td>10758.622</td><td>32965.8</td><td>0.0</td><td>0.0</td><td>0.0</td><td>0.0</td><td>0.0</td><td>0.0</td><td>1.0</td><td>18.0</td><td>21.0</td><td>12.0</td><td>17.0</td><td>0.0</td><td>21.0</td><td>11.0</td><td>2.0</td><td>9.0</td><td>2.0</td><td>18.0</td><td>0.0</td><td>0.0</td><td>0.61905</td><td>0.0</td><td>0.08333</td><td>0.01695</td><td>0.0</td><td>0.0</td><td>25156.0</td><td>0.0</td><td>0.0</td><td>11518.8001</td><td>0.0</td><td>0.0</td><td>0.0</td><td>0.0</td><td>0.0</td><td>0.0</td><td>122328.0</td><td>0.0</td><td>0.0</td><td>140000.0</td><td>0.0</td><td>6.0</td><td>0.0</td><td>48.0</td><td>0.0</td><td>48.0</td></tr><tr><td>&quot;75%&quot;</td><td>0.0</td><td>76303.086</td><td>1.0</td><td>9.0</td><td>17.0</td><td>0.0</td><td>14.0</td><td>0.433</td><td>0.433</td><td>47998.0</td><td>60000.0</td><td>0.0</td><td>0.0</td><td>30600.0</td><td>70321.2</td><td>2.0</td><td>0.0</td><td>2.0</td><td>0.0</td><td>0.0</td><td>0.0</td><td>8.0</td><td>35.0</td><td>43.0</td><td>27.0</td><td>36.0</td><td>1.0</td><td>42.0</td><td>26.0</td><td>6.0</td><td>21.0</td><td>7.0</td><td>39.0</td><td>9.0</td><td>8.0</td><td>0.84615</td><td>0.08333</td><td>0.27778</td><td>0.15528</td><td>0.1194</td><td>0.0</td><td>45320.0</td><td>27994.0</td><td>0.0</td><td>24088.4001</td><td>15000.0</td><td>3.0</td><td>0.0</td><td>0.0</td><td>0.0</td><td>0.0</td><td>276176.0</td><td>20513.0</td><td>1000.0</td><td>282000.0</td><td>3.0</td><td>21.0</td><td>22636.0</td><td>102.0</td><td>0.0</td><td>102.0</td></tr><tr><td>&quot;max&quot;</td><td>4206.0</td><td>1408010.2</td><td>4750.0</td><td>575.0</td><td>25.0</td><td>0.0</td><td>5337.0</td><td>0.45</td><td>0.45</td><td>400000.0</td><td>200000.0</td><td>0.0</td><td>0.0</td><td>2.0923088e7</td><td>1.74e6</td><td>4465.0</td><td>4629.0</td><td>4629.0</td><td>4629.0</td><td>4629.0</td><td>4629.0</td><td>4629.0</td><td>167.0</td><td>843.0</td><td>377.0</td><td>385.0</td><td>330.0</td><td>861.0</td><td>373.0</td><td>278.0</td><td>373.0</td><td>137.0</td><td>393.0</td><td>152.0</td><td>72.0</td><td>23.0</td><td>1.11111</td><td>1.0</td><td>2.0</td><td>1.0</td><td>1.0</td><td>761867.44</td><td>1210629.1</td><td>4206.0</td><td>484046.01</td><td>2.6e6</td><td>98.0</td><td>2.54073e6</td><td>1.7395e6</td><td>7988198.5</td><td>399134.0</td><td>7.8e6</td><td>733458.2</td><td>1.435102e6</td><td>3.992e6</td><td>9911.0</td><td>190.0</td><td>1.2759e6</td><td>1200.0</td><td>9.9651e9</td><td>1200.0</td></tr></tbody></table></div>"
      ],
      "text/plain": [
       "shape: (9, 62)\n",
       "┌───────────┬───────────┬───────────┬───────────┬───┬───────────┬───────────┬───────────┬──────────┐\n",
       "│ statistic ┆ 1_DPD of  ┆ 2_Number  ┆ 14_Averag ┆ … ┆ 32_Amount ┆ 33_Number ┆ 38_Revolv ┆ 40_Numbe │\n",
       "│ ---       ┆ client    ┆ of instal ┆ e DPD     ┆   ┆ of outsta ┆ of        ┆ ing       ┆ r of ins │\n",
       "│ str       ┆ with tole ┆ ments     ┆ (days     ┆   ┆ nding     ┆ payments  ┆ account   ┆ talments │\n",
       "│           ┆ rance.    ┆ paid bef… ┆ past due) ┆   ┆ debt on…  ┆ made for  ┆ that was  ┆ in the … │\n",
       "│           ┆ ---       ┆ ---       ┆ w…        ┆   ┆ ---       ┆ t…        ┆ pr…       ┆ ---      │\n",
       "│           ┆ f64       ┆ f64       ┆ ---       ┆   ┆ f64       ┆ ---       ┆ ---       ┆ f64      │\n",
       "│           ┆           ┆           ┆ f64       ┆   ┆           ┆ f64       ┆ f64       ┆          │\n",
       "╞═══════════╪═══════════╪═══════════╪═══════════╪═══╪═══════════╪═══════════╪═══════════╪══════════╡\n",
       "│ count     ┆ 1.108481e ┆ 965535.0  ┆ 1.059484e ┆ … ┆ 1.221522e ┆ 1.221522e ┆ 1.221522e ┆ 1.221522 │\n",
       "│           ┆ 6         ┆           ┆ 6         ┆   ┆ 6         ┆ 6         ┆ 6         ┆ e6       │\n",
       "│ null_coun ┆ 418178.0  ┆ 561124.0  ┆ 467175.0  ┆ … ┆ 305137.0  ┆ 305137.0  ┆ 305137.0  ┆ 305137.0 │\n",
       "│ t         ┆           ┆           ┆           ┆   ┆           ┆           ┆           ┆          │\n",
       "│ mean      ┆ 0.079234  ┆ 55958.330 ┆ 45.809286 ┆ … ┆ 24577.437 ┆ 79.299661 ┆ 1.8233e8  ┆ 79.29966 │\n",
       "│           ┆           ┆ 289       ┆           ┆   ┆ 02        ┆           ┆           ┆ 1        │\n",
       "│ std       ┆ 11.206518 ┆ 71614.166 ┆ 318.54058 ┆ … ┆ 55767.475 ┆ 90.095069 ┆ 3.9165e8  ┆ 90.09506 │\n",
       "│           ┆           ┆ 354       ┆ 7         ┆   ┆ 314       ┆           ┆           ┆ 9        │\n",
       "│ min       ┆ 0.0       ┆ 0.0       ┆ 0.0       ┆ … ┆ 0.0       ┆ 0.0       ┆ 0.0       ┆ 0.0      │\n",
       "│ 25%       ┆ 0.0       ┆ 7419.2    ┆ 0.0       ┆ … ┆ 0.0       ┆ 21.0      ┆ 0.0       ┆ 21.0     │\n",
       "│ 50%       ┆ 0.0       ┆ 29758.396 ┆ 0.0       ┆ … ┆ 0.0       ┆ 48.0      ┆ 0.0       ┆ 48.0     │\n",
       "│ 75%       ┆ 0.0       ┆ 76303.086 ┆ 1.0       ┆ … ┆ 22636.0   ┆ 102.0     ┆ 0.0       ┆ 102.0    │\n",
       "│ max       ┆ 4206.0    ┆ 1408010.2 ┆ 4750.0    ┆ … ┆ 1.2759e6  ┆ 1200.0    ┆ 9.9651e9  ┆ 1200.0   │\n",
       "└───────────┴───────────┴───────────┴───────────┴───┴───────────┴───────────┴───────────┴──────────┘"
      ]
     },
     "execution_count": 58,
     "metadata": {},
     "output_type": "execute_result"
    }
   ],
   "source": [
    "# Observamos un resumen estadístico de las variables nulas.\n",
    "X_numeric_5_1.select(cols_with_null).describe()"
   ]
  },
  {
   "cell_type": "markdown",
   "id": "17dfd5f6",
   "metadata": {
    "papermill": {
     "duration": 0.037968,
     "end_time": "2024-03-22T03:58:49.051310",
     "exception": false,
     "start_time": "2024-03-22T03:58:49.013342",
     "status": "completed"
    },
    "tags": []
   },
   "source": [
    "**Se observa que la mayor cantidad tiene una diferencia entre el desviación estándar y la media, por lo que se sospecha que tiene outliers en aquellas columnas.**"
   ]
  },
  {
   "cell_type": "code",
   "execution_count": 59,
   "id": "910e1f38",
   "metadata": {
    "execution": {
     "iopub.execute_input": "2024-03-22T03:58:49.129342Z",
     "iopub.status.busy": "2024-03-22T03:58:49.128227Z",
     "iopub.status.idle": "2024-03-22T03:58:49.133480Z",
     "shell.execute_reply": "2024-03-22T03:58:49.132390Z"
    },
    "papermill": {
     "duration": 0.046108,
     "end_time": "2024-03-22T03:58:49.135106",
     "exception": false,
     "start_time": "2024-03-22T03:58:49.088998",
     "status": "completed"
    },
    "tags": []
   },
   "outputs": [],
   "source": [
    "# Descomentar si quiere visualizar, esta comentado por temas de memoria que nos brinda kaggle para enviar el submit.\n",
    "\n",
    "# # Observar mejor en los diagramas de cajas.\n",
    "# for var in X_numeric_5_1.columns:\n",
    "#     X_numeric_5_1.to_pandas()[var].plot(kind= 'box', title= var)\n",
    "#     plt.show()"
   ]
  },
  {
   "cell_type": "code",
   "execution_count": 60,
   "id": "d9079ec3",
   "metadata": {
    "execution": {
     "iopub.execute_input": "2024-03-22T03:58:49.213671Z",
     "iopub.status.busy": "2024-03-22T03:58:49.212850Z",
     "iopub.status.idle": "2024-03-22T03:58:50.332154Z",
     "shell.execute_reply": "2024-03-22T03:58:50.331468Z"
    },
    "papermill": {
     "duration": 1.160525,
     "end_time": "2024-03-22T03:58:50.334568",
     "exception": false,
     "start_time": "2024-03-22T03:58:49.174043",
     "status": "completed"
    },
    "tags": []
   },
   "outputs": [],
   "source": [
    "# Reemplazar los valores nulos mayores al 10% de nulls con la media.\n",
    "X_numeric_5_2 = X_numeric_5_1.with_columns(\n",
    "    pl.col(col).fill_null(pl.median(col)) for col in cols_with_null\n",
    ")"
   ]
  },
  {
   "cell_type": "code",
   "execution_count": 61,
   "id": "2f6e290f",
   "metadata": {
    "execution": {
     "iopub.execute_input": "2024-03-22T03:58:50.412129Z",
     "iopub.status.busy": "2024-03-22T03:58:50.411509Z",
     "iopub.status.idle": "2024-03-22T03:58:50.416397Z",
     "shell.execute_reply": "2024-03-22T03:58:50.415331Z"
    },
    "papermill": {
     "duration": 0.045422,
     "end_time": "2024-03-22T03:58:50.418025",
     "exception": false,
     "start_time": "2024-03-22T03:58:50.372603",
     "status": "completed"
    },
    "tags": []
   },
   "outputs": [],
   "source": [
    "# Descomentar si quiere visualizar, esta comentado por temas de memoria que nos brinda kaggle para enviar el submit.\n",
    "\n",
    "# Observamos que faltan eliminar los nulos de las columnas que tienen un porcentaje mejor al 10%.\n",
    "# Para ese caso he decido eliminar los registros (filas) porque son pocos.\n",
    "# X_numeric_5_2.null_count()"
   ]
  },
  {
   "cell_type": "code",
   "execution_count": 62,
   "id": "91ad3129",
   "metadata": {
    "execution": {
     "iopub.execute_input": "2024-03-22T03:58:50.498620Z",
     "iopub.status.busy": "2024-03-22T03:58:50.498263Z",
     "iopub.status.idle": "2024-03-22T03:58:50.783133Z",
     "shell.execute_reply": "2024-03-22T03:58:50.782151Z"
    },
    "papermill": {
     "duration": 0.326736,
     "end_time": "2024-03-22T03:58:50.785110",
     "exception": false,
     "start_time": "2024-03-22T03:58:50.458374",
     "status": "completed"
    },
    "tags": []
   },
   "outputs": [],
   "source": [
    "# Eliminar las filas que tienen un porcentaje menor al 10% de nulls y nan.\n",
    "X_numeric_5_3 = X_numeric_5_2.drop_nulls()"
   ]
  },
  {
   "cell_type": "code",
   "execution_count": 63,
   "id": "b29a1c0d",
   "metadata": {
    "execution": {
     "iopub.execute_input": "2024-03-22T03:58:50.859513Z",
     "iopub.status.busy": "2024-03-22T03:58:50.859168Z",
     "iopub.status.idle": "2024-03-22T03:58:50.862746Z",
     "shell.execute_reply": "2024-03-22T03:58:50.862133Z"
    },
    "papermill": {
     "duration": 0.04301,
     "end_time": "2024-03-22T03:58:50.865007",
     "exception": false,
     "start_time": "2024-03-22T03:58:50.821997",
     "status": "completed"
    },
    "tags": []
   },
   "outputs": [],
   "source": [
    "# Descomentar si quiere visualizar, esta comentado por temas de memoria que nos brinda kaggle para enviar el submit.\n",
    "\n",
    "# Observamos que ya no hay nulos, pero todavía quedan los outliers que en este proyecto tomaré la priemra prueba, \n",
    "# pero se puede tomar para hacer diferentes experimentaciones.\n",
    "# display(X_numeric_5_3.null_count())\n",
    "# display(X_numeric_5_3.describe())"
   ]
  },
  {
   "cell_type": "code",
   "execution_count": 64,
   "id": "fcd5f73e",
   "metadata": {
    "execution": {
     "iopub.execute_input": "2024-03-22T03:58:50.944357Z",
     "iopub.status.busy": "2024-03-22T03:58:50.944017Z",
     "iopub.status.idle": "2024-03-22T03:58:51.623677Z",
     "shell.execute_reply": "2024-03-22T03:58:51.622759Z"
    },
    "papermill": {
     "duration": 0.72159,
     "end_time": "2024-03-22T03:58:51.625681",
     "exception": false,
     "start_time": "2024-03-22T03:58:50.904091",
     "status": "completed"
    },
    "tags": []
   },
   "outputs": [],
   "source": [
    "# Para el tratamiento de outliers vamos a tomar la data menor al quantile 95.\n",
    "X_numeric_5_4 = X_numeric_5_3.with_columns(\n",
    "    pl.col(col).clip(\n",
    "        upper_bound= pl.col(\n",
    "            col\n",
    "        ).quantile(0.95)) for col in X_numeric_5_3.select(pl.exclude('case_id')).columns\n",
    ")"
   ]
  },
  {
   "cell_type": "code",
   "execution_count": 65,
   "id": "695ddafb",
   "metadata": {
    "execution": {
     "iopub.execute_input": "2024-03-22T03:58:51.701201Z",
     "iopub.status.busy": "2024-03-22T03:58:51.700749Z",
     "iopub.status.idle": "2024-03-22T03:58:51.704967Z",
     "shell.execute_reply": "2024-03-22T03:58:51.704318Z"
    },
    "papermill": {
     "duration": 0.044548,
     "end_time": "2024-03-22T03:58:51.706614",
     "exception": false,
     "start_time": "2024-03-22T03:58:51.662066",
     "status": "completed"
    },
    "tags": []
   },
   "outputs": [],
   "source": [
    "# Descomentar si quiere visualizar, esta comentado por temas de memoria que nos brinda kaggle para enviar el submit.\n",
    "\n",
    "# X_numeric_5_4.describe()"
   ]
  },
  {
   "cell_type": "code",
   "execution_count": 66,
   "id": "c57a2d5f",
   "metadata": {
    "execution": {
     "iopub.execute_input": "2024-03-22T03:58:51.783386Z",
     "iopub.status.busy": "2024-03-22T03:58:51.782365Z",
     "iopub.status.idle": "2024-03-22T03:58:51.788768Z",
     "shell.execute_reply": "2024-03-22T03:58:51.787847Z"
    },
    "papermill": {
     "duration": 0.047408,
     "end_time": "2024-03-22T03:58:51.790874",
     "exception": false,
     "start_time": "2024-03-22T03:58:51.743466",
     "status": "completed"
    },
    "tags": []
   },
   "outputs": [],
   "source": [
    "# Eliminar por última vez las columnas que no aportan valor después reducir los outliers que son básicamente las columnas que tienen 0 de media.\n",
    "cols_mean_0 = [\n",
    "    '1_DPD of client with tolerance.',\n",
    "    '5_Number of applications associated with the same email address as the client.',\n",
    "    '22_Number of clients that have used the same mobile phone as the applicant in the past 12 months.',\n",
    "    '23_Number of clients who have the same mobile phone number in the last 3 months.',\n",
    "    '24_Total number of clients who have used the same mobile number in the last 6 months.',\n",
    "    \"25_Number of applications with matching employer's phone and client's.\",\n",
    "    '27_Number of applications where the alternative phone number matches that of the client.',\n",
    "    \"28_Number of applications where client's phone number matches the alternative phone contact.\",\n",
    "    '30_Number of clients whose employer has the same phone number as the client.',\n",
    "    '31_Number of clients that share an alternative phone number with the applicant.',\n",
    "    '32_Number of clients with the same phone number.',    \n",
    "    \"33_Number of clients that have the same alternative phone number and employer's phone number.\",\n",
    "    '34_Number of clients with matching phone numbers for both the employer and the client.',\n",
    "    \"37_Number of clients with matching mobile and employer's number.\",\n",
    "    '40_Number of communications indicating low income in the last six months.',\n",
    "    '49_Number of deferred months.',\n",
    "    '87_Flag indicating the existence of the master contract for the client.',\n",
    "    '88_Flag indicating whether or not the applicant has an existing master contract.',\n",
    "    '140_Number of non-activated credits.',\n",
    "    '141_Number of previous loan contracts for the applicant that had direct debit as payment channel.',\n",
    "    '153_Average FPD10 (Share of contracts with first installment past due more than 10 days) from point of sales that processed contract in the previous month.',\n",
    "    '154_Average FPD30 (Share of contracts with first installment past due more than 30 days) from point of sales that processed contract in the previous month.',\n",
    "    '155_Average FSTPD30 (share of contracts with first, second, or third installment past due more than 30 days) from point of sale that processed contract in the last month.',\n",
    "    '55_Average FSTPD30 (share of contracts with first, second, or third installment past due more than 30 days) from point of sale that processed contract in the last month.',\n",
    "    '1_Days Past Due (DPD) of previous contract (actual)._total',\n",
    "    '13_Number of transactions made with the previous credit account of the applicant._total', #xxxx\n",
    "    '3_Number of children of the applicant.'\n",
    "]"
   ]
  },
  {
   "cell_type": "code",
   "execution_count": 67,
   "id": "0df01f11",
   "metadata": {
    "execution": {
     "iopub.execute_input": "2024-03-22T03:58:51.866893Z",
     "iopub.status.busy": "2024-03-22T03:58:51.866557Z",
     "iopub.status.idle": "2024-03-22T03:58:51.871252Z",
     "shell.execute_reply": "2024-03-22T03:58:51.870074Z"
    },
    "papermill": {
     "duration": 0.04555,
     "end_time": "2024-03-22T03:58:51.873766",
     "exception": false,
     "start_time": "2024-03-22T03:58:51.828216",
     "status": "completed"
    },
    "tags": []
   },
   "outputs": [],
   "source": [
    "X_numeric_5_5 = X_numeric_5_4.drop(cols_mean_0)"
   ]
  },
  {
   "cell_type": "code",
   "execution_count": 68,
   "id": "d2a5fe12",
   "metadata": {
    "execution": {
     "iopub.execute_input": "2024-03-22T03:58:51.952707Z",
     "iopub.status.busy": "2024-03-22T03:58:51.951989Z",
     "iopub.status.idle": "2024-03-22T03:58:51.956019Z",
     "shell.execute_reply": "2024-03-22T03:58:51.955044Z"
    },
    "papermill": {
     "duration": 0.046005,
     "end_time": "2024-03-22T03:58:51.958144",
     "exception": false,
     "start_time": "2024-03-22T03:58:51.912139",
     "status": "completed"
    },
    "tags": []
   },
   "outputs": [],
   "source": [
    "# Descomentar si quiere visualizar, esta comentado por temas de memoria que nos brinda kaggle para enviar el submit.\n",
    "\n",
    "# # Observar mejor en los nuevos diagramas de cajas.\n",
    "# for var in X_numeric_5_5.columns:\n",
    "#     X_numeric_5_4.to_pandas()[var].plot(kind= 'box', title= var)\n",
    "#     plt.show()"
   ]
  },
  {
   "cell_type": "markdown",
   "id": "ab4088fc",
   "metadata": {
    "papermill": {
     "duration": 0.038274,
     "end_time": "2024-03-22T03:58:52.034915",
     "exception": false,
     "start_time": "2024-03-22T03:58:51.996641",
     "status": "completed"
    },
    "tags": []
   },
   "source": [
    "## 5.3. Inputar Valores Nulos en features String"
   ]
  },
  {
   "cell_type": "code",
   "execution_count": 69,
   "id": "c8af46e8",
   "metadata": {
    "execution": {
     "iopub.execute_input": "2024-03-22T03:58:52.114210Z",
     "iopub.status.busy": "2024-03-22T03:58:52.113337Z",
     "iopub.status.idle": "2024-03-22T03:58:52.143048Z",
     "shell.execute_reply": "2024-03-22T03:58:52.142161Z"
    },
    "papermill": {
     "duration": 0.07189,
     "end_time": "2024-03-22T03:58:52.145238",
     "exception": false,
     "start_time": "2024-03-22T03:58:52.073348",
     "status": "completed"
    },
    "tags": []
   },
   "outputs": [],
   "source": [
    "# Columnas de string que tienen nulos con respecto a la educación sería otro y con respecto al tipo de transacción inicial\n",
    "# sería mejor eliminarlo, ya que no podría saber con claridad cuales serían esos posibles valores.\n",
    "\n",
    "X_categorical_5_2 = X_categorical_5_1.with_columns(\n",
    "    pl.col(\"22_Applicant's education level from their previous application.\").fill_null('OTRO')\n",
    ")"
   ]
  },
  {
   "cell_type": "code",
   "execution_count": 70,
   "id": "6d4c5385",
   "metadata": {
    "execution": {
     "iopub.execute_input": "2024-03-22T03:58:52.222862Z",
     "iopub.status.busy": "2024-03-22T03:58:52.222514Z",
     "iopub.status.idle": "2024-03-22T03:58:52.259004Z",
     "shell.execute_reply": "2024-03-22T03:58:52.258337Z"
    },
    "papermill": {
     "duration": 0.078479,
     "end_time": "2024-03-22T03:58:52.261153",
     "exception": false,
     "start_time": "2024-03-22T03:58:52.182674",
     "status": "completed"
    },
    "tags": []
   },
   "outputs": [],
   "source": [
    "X_categorical_5_3 = X_categorical_5_2.drop_nulls()"
   ]
  },
  {
   "cell_type": "markdown",
   "id": "22595b27",
   "metadata": {
    "papermill": {
     "duration": 0.038162,
     "end_time": "2024-03-22T03:58:52.338513",
     "exception": false,
     "start_time": "2024-03-22T03:58:52.300351",
     "status": "completed"
    },
    "tags": []
   },
   "source": [
    "## 5.4. Convertir Variables Categóricas a Numéricas"
   ]
  },
  {
   "cell_type": "code",
   "execution_count": 71,
   "id": "b6606b03",
   "metadata": {
    "execution": {
     "iopub.execute_input": "2024-03-22T03:58:52.417390Z",
     "iopub.status.busy": "2024-03-22T03:58:52.417086Z",
     "iopub.status.idle": "2024-03-22T03:58:52.420123Z",
     "shell.execute_reply": "2024-03-22T03:58:52.419535Z"
    },
    "papermill": {
     "duration": 0.045122,
     "end_time": "2024-03-22T03:58:52.422115",
     "exception": false,
     "start_time": "2024-03-22T03:58:52.376993",
     "status": "completed"
    },
    "tags": []
   },
   "outputs": [],
   "source": [
    "# observamos la cantidad de valores únicos que tiene cada feature string.\n",
    "# X_categorical_5_3.to_pandas().nunique()"
   ]
  },
  {
   "cell_type": "code",
   "execution_count": 72,
   "id": "eae4a64f",
   "metadata": {
    "execution": {
     "iopub.execute_input": "2024-03-22T03:58:52.503224Z",
     "iopub.status.busy": "2024-03-22T03:58:52.502652Z",
     "iopub.status.idle": "2024-03-22T03:58:52.506833Z",
     "shell.execute_reply": "2024-03-22T03:58:52.505662Z"
    },
    "papermill": {
     "duration": 0.047302,
     "end_time": "2024-03-22T03:58:52.509077",
     "exception": false,
     "start_time": "2024-03-22T03:58:52.461775",
     "status": "completed"
    },
    "tags": []
   },
   "outputs": [],
   "source": [
    "# Columnas de los strings que considero importantes.\n",
    "cols_string_graph = [\n",
    "    \"22_Applicant's education level from their previous application.\",\n",
    "    '26_Type of the initial transaction made in the previous application of the client.',\n",
    "    '18_Type of income of the person',\n",
    "    '20_The primary language of the person.'\n",
    "]"
   ]
  },
  {
   "cell_type": "code",
   "execution_count": 73,
   "id": "d7cec5c2",
   "metadata": {
    "execution": {
     "iopub.execute_input": "2024-03-22T03:58:52.588966Z",
     "iopub.status.busy": "2024-03-22T03:58:52.587963Z",
     "iopub.status.idle": "2024-03-22T03:58:53.058570Z",
     "shell.execute_reply": "2024-03-22T03:58:53.057694Z"
    },
    "papermill": {
     "duration": 0.512575,
     "end_time": "2024-03-22T03:58:53.060695",
     "exception": false,
     "start_time": "2024-03-22T03:58:52.548120",
     "status": "completed"
    },
    "tags": []
   },
   "outputs": [],
   "source": [
    "# Guardamos en un variable un dataframe de pandas para poder graficar con seaborn.\n",
    "df_pd_5_3 = X_categorical_5_3.join(y, on= 'case_id', how= 'left').select(pl.exclude(['case_id', 'date_decision', \"12_District where the employer's address is located.\"])).to_pandas()"
   ]
  },
  {
   "cell_type": "code",
   "execution_count": 74,
   "id": "9c47ab81",
   "metadata": {
    "execution": {
     "iopub.execute_input": "2024-03-22T03:58:53.137027Z",
     "iopub.status.busy": "2024-03-22T03:58:53.136099Z",
     "iopub.status.idle": "2024-03-22T03:58:53.140110Z",
     "shell.execute_reply": "2024-03-22T03:58:53.139552Z"
    },
    "papermill": {
     "duration": 0.043848,
     "end_time": "2024-03-22T03:58:53.141655",
     "exception": false,
     "start_time": "2024-03-22T03:58:53.097807",
     "status": "completed"
    },
    "tags": []
   },
   "outputs": [],
   "source": [
    "# # Se observa que la decisión de la data tiene un gran cantidad de valores únicos al igual que el distrito donde viven que son \n",
    "# # importantes para la visualización, pero para el modelo considero que no lo es, pero es cuestión de expirementar.\n",
    "\n",
    "# # Graficar las columnas de string que considero que son importantes con respecto al target.\n",
    "# for col in cols_string_graph:\n",
    "#     plt.figure(figsize= (16, 10))\n",
    "#     sns.barplot(x= col, y= 'target', data= df_pd_5_3)\n",
    "#     plt.show()"
   ]
  },
  {
   "cell_type": "code",
   "execution_count": 75,
   "id": "6f327ab8",
   "metadata": {
    "execution": {
     "iopub.execute_input": "2024-03-22T03:58:53.216995Z",
     "iopub.status.busy": "2024-03-22T03:58:53.216519Z",
     "iopub.status.idle": "2024-03-22T03:58:53.220733Z",
     "shell.execute_reply": "2024-03-22T03:58:53.219649Z"
    },
    "papermill": {
     "duration": 0.044747,
     "end_time": "2024-03-22T03:58:53.222876",
     "exception": false,
     "start_time": "2024-03-22T03:58:53.178129",
     "status": "completed"
    },
    "tags": []
   },
   "outputs": [],
   "source": [
    "# Descomentar si quiere visualizar, esta comentado por temas de memoria que nos brinda kaggle para enviar el submit.\n",
    "\n",
    "# # Realizamos un gráfico de pie para visualizarlo mejor.\n",
    "# for col in cols_string_graph:\n",
    "#     plt.figure(figsize= (12, 12))\n",
    "#     df_pd_5_3[col].value_counts().plot(kind= 'pie')\n",
    "#     plt.title(col)\n",
    "#     plt.legend()\n",
    "#     plt.show()"
   ]
  },
  {
   "cell_type": "code",
   "execution_count": 76,
   "id": "0639aba9",
   "metadata": {
    "execution": {
     "iopub.execute_input": "2024-03-22T03:58:53.300873Z",
     "iopub.status.busy": "2024-03-22T03:58:53.300475Z",
     "iopub.status.idle": "2024-03-22T03:58:53.304885Z",
     "shell.execute_reply": "2024-03-22T03:58:53.303909Z"
    },
    "papermill": {
     "duration": 0.046542,
     "end_time": "2024-03-22T03:58:53.307413",
     "exception": false,
     "start_time": "2024-03-22T03:58:53.260871",
     "status": "completed"
    },
    "tags": []
   },
   "outputs": [],
   "source": [
    "# Nos quedamos con las columnas importantes.\n",
    "cols_string_import = [        \n",
    "    '26_Type of the initial transaction made in the previous application of the client.',\n",
    "    '18_Type of income of the person',\n",
    "    '20_The primary language of the person.'\n",
    "]"
   ]
  },
  {
   "cell_type": "code",
   "execution_count": 77,
   "id": "56861915",
   "metadata": {
    "execution": {
     "iopub.execute_input": "2024-03-22T03:58:53.383347Z",
     "iopub.status.busy": "2024-03-22T03:58:53.382970Z",
     "iopub.status.idle": "2024-03-22T03:58:53.581911Z",
     "shell.execute_reply": "2024-03-22T03:58:53.581223Z"
    },
    "papermill": {
     "duration": 0.239378,
     "end_time": "2024-03-22T03:58:53.584015",
     "exception": false,
     "start_time": "2024-03-22T03:58:53.344637",
     "status": "completed"
    },
    "tags": []
   },
   "outputs": [],
   "source": [
    "# Nos quedamos con las columnas necesarias para crear las nuevas columnas con la técnica del label-encoding y lo dejamos como un dataframe de \n",
    "# pandas para realizar la técnica más rápido y luego lo transformamos a un dataframe de polars.\n",
    "X_categorical_pd_5_3 = X_categorical_5_3.select(pl.col(['case_id'] + cols_string_import)).to_pandas()"
   ]
  },
  {
   "cell_type": "code",
   "execution_count": 78,
   "id": "951c74c8",
   "metadata": {
    "execution": {
     "iopub.execute_input": "2024-03-22T03:58:53.662411Z",
     "iopub.status.busy": "2024-03-22T03:58:53.662039Z",
     "iopub.status.idle": "2024-03-22T03:58:53.941651Z",
     "shell.execute_reply": "2024-03-22T03:58:53.940243Z"
    },
    "papermill": {
     "duration": 0.321328,
     "end_time": "2024-03-22T03:58:53.943783",
     "exception": false,
     "start_time": "2024-03-22T03:58:53.622455",
     "status": "completed"
    },
    "tags": []
   },
   "outputs": [
    {
     "data": {
      "text/plain": [
       "case_id                                                                               1193083\n",
       "26_Type of the initial transaction made in the previous application of the client.          3\n",
       "18_Type of income of the person                                                             9\n",
       "20_The primary language of the person.                                                      3\n",
       "dtype: int64"
      ]
     },
     "execution_count": 78,
     "metadata": {},
     "output_type": "execute_result"
    }
   ],
   "source": [
    "# Observamos las variables únicas de cada columnas y nos quedamos solo con las necesarias, es decir, excluir el case_id.\n",
    "X_categorical_pd_5_3.nunique()"
   ]
  },
  {
   "cell_type": "code",
   "execution_count": 79,
   "id": "d42b0cb1",
   "metadata": {
    "execution": {
     "iopub.execute_input": "2024-03-22T03:58:54.020951Z",
     "iopub.status.busy": "2024-03-22T03:58:54.020592Z",
     "iopub.status.idle": "2024-03-22T03:58:54.433509Z",
     "shell.execute_reply": "2024-03-22T03:58:54.432594Z"
    },
    "papermill": {
     "duration": 0.454053,
     "end_time": "2024-03-22T03:58:54.435617",
     "exception": false,
     "start_time": "2024-03-22T03:58:53.981564",
     "status": "completed"
    },
    "tags": []
   },
   "outputs": [],
   "source": [
    "# El nivel educativo es una variable categórica ordinal y no tengo información sobre cada nivel, así que no lo tomaré en cuenta.\n",
    "X_categorical_pd_5_4 = pd.get_dummies(X_categorical_pd_5_3, columns= cols_string_import, drop_first= True, dtype= 'float64')"
   ]
  },
  {
   "cell_type": "code",
   "execution_count": 80,
   "id": "eb21ddc9",
   "metadata": {
    "execution": {
     "iopub.execute_input": "2024-03-22T03:58:54.510540Z",
     "iopub.status.busy": "2024-03-22T03:58:54.510190Z",
     "iopub.status.idle": "2024-03-22T03:58:54.575649Z",
     "shell.execute_reply": "2024-03-22T03:58:54.574645Z"
    },
    "papermill": {
     "duration": 0.105596,
     "end_time": "2024-03-22T03:58:54.578021",
     "exception": false,
     "start_time": "2024-03-22T03:58:54.472425",
     "status": "completed"
    },
    "tags": []
   },
   "outputs": [],
   "source": [
    "# Convertimos las features ya encodeadas a un dataframe de polars.\n",
    "X_categorical_5_5 = pl.dataframe.DataFrame(X_categorical_pd_5_4)"
   ]
  },
  {
   "cell_type": "code",
   "execution_count": 81,
   "id": "dc0e1ae9",
   "metadata": {
    "execution": {
     "iopub.execute_input": "2024-03-22T03:58:54.656523Z",
     "iopub.status.busy": "2024-03-22T03:58:54.656179Z",
     "iopub.status.idle": "2024-03-22T03:58:54.662543Z",
     "shell.execute_reply": "2024-03-22T03:58:54.661735Z"
    },
    "papermill": {
     "duration": 0.047744,
     "end_time": "2024-03-22T03:58:54.664386",
     "exception": false,
     "start_time": "2024-03-22T03:58:54.616642",
     "status": "completed"
    },
    "tags": []
   },
   "outputs": [
    {
     "data": {
      "text/plain": [
       "(1353158, 1193083)"
      ]
     },
     "execution_count": 81,
     "metadata": {},
     "output_type": "execute_result"
    }
   ],
   "source": [
    "# Obtenemos la cantidad de los features numeric y categoricas.\n",
    "len(X_numeric_5_5), len(X_categorical_5_5)"
   ]
  },
  {
   "cell_type": "markdown",
   "id": "54a02579",
   "metadata": {
    "papermill": {
     "duration": 0.037835,
     "end_time": "2024-03-22T03:58:54.740361",
     "exception": false,
     "start_time": "2024-03-22T03:58:54.702526",
     "status": "completed"
    },
    "tags": []
   },
   "source": [
    "**Después de realizar el procesamiento de los datos es necesario unir ambos dataframes finales que al principio separé en numeric y categóricas, ahora la decisión se tomará con el que tiene menor cantidad de datos que en este caso es `X_categorical_5_5` que se juntara con X_numeric_5_5.**"
   ]
  },
  {
   "cell_type": "code",
   "execution_count": 82,
   "id": "41db483f",
   "metadata": {
    "execution": {
     "iopub.execute_input": "2024-03-22T03:58:54.817606Z",
     "iopub.status.busy": "2024-03-22T03:58:54.817220Z",
     "iopub.status.idle": "2024-03-22T03:58:55.085975Z",
     "shell.execute_reply": "2024-03-22T03:58:55.085320Z"
    },
    "papermill": {
     "duration": 0.309843,
     "end_time": "2024-03-22T03:58:55.088184",
     "exception": false,
     "start_time": "2024-03-22T03:58:54.778341",
     "status": "completed"
    },
    "tags": []
   },
   "outputs": [],
   "source": [
    "# Solo los case_id que tienen en común.\n",
    "X_1 = X_categorical_5_5.join(X_numeric_5_5, on= 'case_id')"
   ]
  },
  {
   "cell_type": "code",
   "execution_count": 83,
   "id": "33e431c9",
   "metadata": {
    "execution": {
     "iopub.execute_input": "2024-03-22T03:58:55.163891Z",
     "iopub.status.busy": "2024-03-22T03:58:55.163521Z",
     "iopub.status.idle": "2024-03-22T03:58:55.168034Z",
     "shell.execute_reply": "2024-03-22T03:58:55.167223Z"
    },
    "papermill": {
     "duration": 0.044695,
     "end_time": "2024-03-22T03:58:55.170144",
     "exception": false,
     "start_time": "2024-03-22T03:58:55.125449",
     "status": "completed"
    },
    "tags": []
   },
   "outputs": [],
   "source": [
    "# X_1.to_pandas().to_csv('data_procesada.csv', index= False)"
   ]
  },
  {
   "cell_type": "markdown",
   "id": "676adff4",
   "metadata": {
    "papermill": {
     "duration": 0.037433,
     "end_time": "2024-03-22T03:58:55.245997",
     "exception": false,
     "start_time": "2024-03-22T03:58:55.208564",
     "status": "completed"
    },
    "tags": []
   },
   "source": [
    "# 6. Creación de Nuevas Variables"
   ]
  },
  {
   "cell_type": "code",
   "execution_count": 84,
   "id": "62d61066",
   "metadata": {
    "execution": {
     "iopub.execute_input": "2024-03-22T03:58:55.324221Z",
     "iopub.status.busy": "2024-03-22T03:58:55.323658Z",
     "iopub.status.idle": "2024-03-22T03:58:55.331950Z",
     "shell.execute_reply": "2024-03-22T03:58:55.330766Z"
    },
    "papermill": {
     "duration": 0.050978,
     "end_time": "2024-03-22T03:58:55.333763",
     "exception": false,
     "start_time": "2024-03-22T03:58:55.282785",
     "status": "completed"
    },
    "tags": []
   },
   "outputs": [
    {
     "data": {
      "text/plain": [
       "['case_id',\n",
       " '26_Type of the initial transaction made in the previous application of the client._NDF',\n",
       " '26_Type of the initial transaction made in the previous application of the client._POS',\n",
       " '18_Type of income of the person_HANDICAPPED',\n",
       " '18_Type of income of the person_HANDICAPPED_2',\n",
       " '18_Type of income of the person_HANDICAPPED_3',\n",
       " '18_Type of income of the person_OTHER',\n",
       " '18_Type of income of the person_PRIVATE_SECTOR_EMPLOYEE',\n",
       " '18_Type of income of the person_RETIRED_PENSIONER',\n",
       " '18_Type of income of the person_SALARIED_GOVT',\n",
       " '18_Type of income of the person_SELFEMPLOYED',\n",
       " '20_The primary language of the person._P209_127_106',\n",
       " '20_The primary language of the person._a55475b1',\n",
       " 'MONTH',\n",
       " 'WEEK_NUM',\n",
       " '2_Number of instalments paid before due date in the last 24 months.',\n",
       " '3_Monthly annuity amount.',\n",
       " \"4_Next month's amount of annuity.\",\n",
       " '6_Number of applications made by the client in the last 30 days.',\n",
       " '7_Number of applications associated with the same phone number.',\n",
       " '8_Number of applications made in the last 30 days by other clients with the same employer as the applicant.',\n",
       " '9_Number of applications with the same employer in the last 7 days.',\n",
       " '10_Number of applications associated with the same mobile phone.',\n",
       " '14_Average DPD (days past due) with tolerance within the past 24 months from the maximum closure date, assuming that the contract is finished. If the contract is ongoing, the calculation is based on the current date.',\n",
       " '26_Number of clients sharing the same mobile phone.',\n",
       " \"35_Number of clients with same client's and alternative's phone number\",\n",
       " \"36_Number of clients sharing the same employer's phone number.\",\n",
       " '38_Number of incoming payments in the past 9 months.',\n",
       " '39_Number of months with any incoming payment in last 24 months.',\n",
       " '41_Loan amount or credit card limit.',\n",
       " '43_Current debt amount of the client.',\n",
       " '44_Current amount of debt of the applicant.',\n",
       " '48_Number of days that past after the due date (with tolerance).',\n",
       " '50_Disbursed credit amount after consolidation.',\n",
       " '52_Amount of downpayment.',\n",
       " '54_Interest rate.',\n",
       " \"59_Number of distinct home phones on client's application.\",\n",
       " '62_The interest rate of the active credit contract.',\n",
       " \"71_Credit amount from the client's last application.\",\n",
       " \"86_Client's primary income amount.\",\n",
       " '89_Maximum annuity previously obtained by client.',\n",
       " '94_Maximal principal debt of the client in the history older than 4 months.',\n",
       " '95_Maximum Days Past Due (DPD) in the period ranging from 6 to 36 months.',\n",
       " '98_Maximum days past due in the past 12 months.',\n",
       " '99_Maximal days past due in the last 24 months.',\n",
       " '100_Maximum number of days past due in last 3 months.',\n",
       " '101_Maximum days past due in the last 6 months.',\n",
       " '102_Maximum days past due in last 9 months.',\n",
       " '103_Maximum number of days past due (with tolerance).',\n",
       " '110_Number of persons with the same mobile phone number.',\n",
       " '111_Monthly annuity amount for the applicant.',\n",
       " '112_Number of active credits.',\n",
       " '113_Number of active credits.',\n",
       " '114_Number of active revolving credits.',\n",
       " '115_Number of contracts in last 3 months.',\n",
       " '116_Number of incoming payments.',\n",
       " '117_Number of instalments paid at least 3 days prior to their due date.',\n",
       " '118_Number of instalments.',\n",
       " '119_Number of paid instalments.',\n",
       " '120_Number of instalments that were overdue for 10 or more days.',\n",
       " '122_Number of instalments that were not past due date.',\n",
       " '125_Number of instalments paid more than three days before the due date.',\n",
       " '127_Number of instalments paid more than 5 days prior to the due date.',\n",
       " '130_Number of installments paid prior to the due date.',\n",
       " '133_Number of instalments paid more than 1 day past their due date.',\n",
       " \"134_Number of fully paid regular installments in the client's previous contracts.\",\n",
       " '136_Number of unpaid instalments.',\n",
       " '138_Maximum number of unpaid instalments.',\n",
       " '142_Number of credit applications that were rejected in the last 9 months.',\n",
       " '147_Percentage of installments paid at least 3 days prior to the due date.',\n",
       " '148_Percentage of installments that were paid 10 or more days after the due date.',\n",
       " '149_Percentage of installments that are paid 1 or more days after the due date.',\n",
       " '150_Percentage of installments that were paid 4 or more days past their due date.',\n",
       " '151_Percentage of installments that were paid 6 or more days past their due date.',\n",
       " '152_Total number of loan payments made by the client.',\n",
       " '157_Credit price.',\n",
       " \"158_Number of sellerplaces where the same client's document was used.\",\n",
       " \"159_Number of sellerplaces where the same client's mobile phone was used.\",\n",
       " '160_Sum of total outstanding amount.',\n",
       " '162_Total amount of debt.',\n",
       " '163_Sum of all payments made by the client.',\n",
       " '2_Monthly annuity for previous applications._total',\n",
       " \"4_Applicant's income from previous applications._total\",\n",
       " '6_Number of children in the previous application._total',\n",
       " '8_Actual balance on credit account._total',\n",
       " '9_Credit card credit limit provided for previous applications._total',\n",
       " '10_Maximal historical balance of previous credit account_total',\n",
       " '11_Minimum historical balance of previous credit accounts._total',\n",
       " '14_Loan amount or card limit of previous applications._total',\n",
       " \"16_Previous application's current debt._total\",\n",
       " '19_Previous application downpayment amount._total',\n",
       " \"29_Client's main income amount in their previous application._total\",\n",
       " '30_Maximum DPD with tolerance (on previous application/s)._total',\n",
       " 'num_group1_total',\n",
       " \"32_Amount of outstanding debt on the client's previous application._total\",\n",
       " '33_Number of payments made for the previous application._total',\n",
       " \"38_Revolving account that was present in the applicant's previous application._total\",\n",
       " '40_Number of instalments in the previous application._total',\n",
       " '21_Amount of the main income of the client.',\n",
       " 'num_group1',\n",
       " '24_Order of the person specified on the application form.']"
      ]
     },
     "execution_count": 84,
     "metadata": {},
     "output_type": "execute_result"
    }
   ],
   "source": [
    "# Observamos las columnas finales para realizar o crear las nuevas columnas.\n",
    "X_1.columns"
   ]
  },
  {
   "cell_type": "markdown",
   "id": "de16276d",
   "metadata": {
    "papermill": {
     "duration": 0.038263,
     "end_time": "2024-03-22T03:58:55.410242",
     "exception": false,
     "start_time": "2024-03-22T03:58:55.371979",
     "status": "completed"
    },
    "tags": []
   },
   "source": [
    "## 6.1. Operación para la Creación de Nuevas Columnas\n",
    "\n",
    "- **1. Proporción de cuotas pagadas antes del vencimiento:**\n",
    "    - *Nueva columna:* **proporcion_cuotas_pagadas.**\n",
    "    - *Operación:* Dividir la columna 2_Número de cuotas pagadas antes del vencimiento en los últimos 24 meses. entre la suma de las columnas 2_Número de cuotas pagadas antes del vencimiento en los últimos 24 meses. y 2_Anualidad mensual para solicitudes anteriores._total.\n",
    "\n",
    "\n",
    "- **2. Proporción de deuda actual con respecto al límite de crédito previsto:**\n",
    "    - *Nueva columna:* **proporcion_deuda_limite_credito.**\n",
    "    - *Operación:* Dividir la columna 43_Monto de deuda actual del cliente. entre la columna 9_Límite de crédito de tarjeta de crédito previsto para solicitudes anteriores._total.\n",
    "\n",
    "\n",
    "- **3. Monto del crédito desembolsado como porcentaje del monto del préstamo o límite de la tarjeta de crédito:**\n",
    "    - *Nueva columna:* **proporcion_credito_desembolsado.**\n",
    "    - *Operación:* Dividir la columna 50_Monto del crédito desembolsado después de la consolidación. entre la columna 41_Monto del préstamo o límite de la tarjeta de crédito.\n",
    "\n",
    "\n",
    "- **4. Ratio de pagos realizados para la solicitud anterior:**\n",
    "    - *Nueva columna:* **ratio_pagos_realizados.**\n",
    "    - *Operación:* Dividir la columna 33_Número de pagos realizados para la solicitud anterior._total entre la columna 33_Número de pagos realizados para la solicitud anterior._total y 2_Anualidad mensual para solicitudes anteriores._total.\n",
    "  \n",
    "  \n",
    "- **5. Aplicar el logaritmo a las siguientes columnas para reducir el sesgo:**\n",
    "    - 6_Número de solicitudes realizadas por el cliente en los últimos 30 días.\n",
    "    - 38_Número de pagos recibidos en los últimos 9 meses.\n",
    "    - 43_Monto de deuda actual del cliente.\n",
    "    - 44_Monto actual de la deuda del solicitante.\n",
    "    - 50_Monto del crédito desembolsado después de la consolidación.\n",
    "    - 71_Monto del crédito de la última solicitud del cliente.\n",
    "    - 86_Monto del ingreso principal del cliente.\n",
    "    - 152_Número total de pagos de préstamo realizados por el cliente."
   ]
  },
  {
   "cell_type": "code",
   "execution_count": 85,
   "id": "fcef9df1",
   "metadata": {
    "execution": {
     "iopub.execute_input": "2024-03-22T03:58:55.487813Z",
     "iopub.status.busy": "2024-03-22T03:58:55.487350Z",
     "iopub.status.idle": "2024-03-22T03:58:55.491184Z",
     "shell.execute_reply": "2024-03-22T03:58:55.490630Z"
    },
    "papermill": {
     "duration": 0.044307,
     "end_time": "2024-03-22T03:58:55.492919",
     "exception": false,
     "start_time": "2024-03-22T03:58:55.448612",
     "status": "completed"
    },
    "tags": []
   },
   "outputs": [],
   "source": [
    "cols_log = [\n",
    "    '6_Number of applications made by the client in the last 30 days.',\n",
    "    '38_Number of incoming payments in the past 9 months.',\n",
    "    '43_Current debt amount of the client.',\n",
    "    '44_Current amount of debt of the applicant.',\n",
    "    '50_Disbursed credit amount after consolidation.',\n",
    "    \"71_Credit amount from the client's last application.\",\n",
    "    \"86_Client's primary income amount.\",\n",
    "    '152_Total number of loan payments made by the client.'\n",
    "]"
   ]
  },
  {
   "cell_type": "code",
   "execution_count": 86,
   "id": "4f3829ad",
   "metadata": {
    "execution": {
     "iopub.execute_input": "2024-03-22T03:58:55.569922Z",
     "iopub.status.busy": "2024-03-22T03:58:55.569107Z",
     "iopub.status.idle": "2024-03-22T03:58:55.632774Z",
     "shell.execute_reply": "2024-03-22T03:58:55.632078Z"
    },
    "papermill": {
     "duration": 0.104439,
     "end_time": "2024-03-22T03:58:55.634801",
     "exception": false,
     "start_time": "2024-03-22T03:58:55.530362",
     "status": "completed"
    },
    "tags": []
   },
   "outputs": [],
   "source": [
    "X_2 = X_1.with_columns([\n",
    "    (pl.col('2_Number of instalments paid before due date in the last 24 months.') \n",
    "     + (pl.col('2_Number of instalments paid before due date in the last 24 months.') / (pl.col('2_Monthly annuity for previous applications._total') + 1))).alias(\n",
    "        'proporcion_cuotas_pagadas'\n",
    "    ),\n",
    "    (pl.col('43_Current debt amount of the client.') / (pl.col('9_Credit card credit limit provided for previous applications._total') + 1)).alias(\n",
    "        'proporcion_deuda_limite_credito'\n",
    "    ),\n",
    "    (pl.col('50_Disbursed credit amount after consolidation.') / pl.col('41_Loan amount or credit card limit.')).alias(\n",
    "        'proporcion_credito_desembolsado'\n",
    "    ),\n",
    "    (pl.col('33_Number of payments made for the previous application._total') / ((pl.col('33_Number of payments made for the previous application._total') + pl.col( '2_Monthly annuity for previous applications._total') + 1))).alias(\n",
    "        'ratio_pagos_realizados'\n",
    "    )\n",
    "]).with_columns(\n",
    "    (pl.col(col) + 2).log().name.suffix('_log') for col in cols_log\n",
    ")"
   ]
  },
  {
   "cell_type": "code",
   "execution_count": 87,
   "id": "06c7dcdd",
   "metadata": {
    "execution": {
     "iopub.execute_input": "2024-03-22T03:58:55.710818Z",
     "iopub.status.busy": "2024-03-22T03:58:55.710465Z",
     "iopub.status.idle": "2024-03-22T03:58:55.714142Z",
     "shell.execute_reply": "2024-03-22T03:58:55.713396Z"
    },
    "papermill": {
     "duration": 0.043606,
     "end_time": "2024-03-22T03:58:55.715670",
     "exception": false,
     "start_time": "2024-03-22T03:58:55.672064",
     "status": "completed"
    },
    "tags": []
   },
   "outputs": [],
   "source": [
    "# X_2.describe()"
   ]
  },
  {
   "cell_type": "code",
   "execution_count": 88,
   "id": "1df9dc92",
   "metadata": {
    "execution": {
     "iopub.execute_input": "2024-03-22T03:58:55.792467Z",
     "iopub.status.busy": "2024-03-22T03:58:55.792131Z",
     "iopub.status.idle": "2024-03-22T03:58:55.799371Z",
     "shell.execute_reply": "2024-03-22T03:58:55.798666Z"
    },
    "papermill": {
     "duration": 0.047383,
     "end_time": "2024-03-22T03:58:55.800875",
     "exception": false,
     "start_time": "2024-03-22T03:58:55.753492",
     "status": "completed"
    },
    "tags": []
   },
   "outputs": [
    {
     "data": {
      "text/plain": [
       "['case_id',\n",
       " '26_Type of the initial transaction made in the previous application of the client._NDF',\n",
       " '26_Type of the initial transaction made in the previous application of the client._POS',\n",
       " '18_Type of income of the person_HANDICAPPED',\n",
       " '18_Type of income of the person_HANDICAPPED_2',\n",
       " '18_Type of income of the person_HANDICAPPED_3',\n",
       " '18_Type of income of the person_OTHER',\n",
       " '18_Type of income of the person_PRIVATE_SECTOR_EMPLOYEE',\n",
       " '18_Type of income of the person_RETIRED_PENSIONER',\n",
       " '18_Type of income of the person_SALARIED_GOVT',\n",
       " '18_Type of income of the person_SELFEMPLOYED',\n",
       " '20_The primary language of the person._P209_127_106',\n",
       " '20_The primary language of the person._a55475b1',\n",
       " 'MONTH',\n",
       " 'WEEK_NUM',\n",
       " '2_Number of instalments paid before due date in the last 24 months.',\n",
       " '3_Monthly annuity amount.',\n",
       " \"4_Next month's amount of annuity.\",\n",
       " '6_Number of applications made by the client in the last 30 days.',\n",
       " '7_Number of applications associated with the same phone number.',\n",
       " '8_Number of applications made in the last 30 days by other clients with the same employer as the applicant.',\n",
       " '9_Number of applications with the same employer in the last 7 days.',\n",
       " '10_Number of applications associated with the same mobile phone.',\n",
       " '14_Average DPD (days past due) with tolerance within the past 24 months from the maximum closure date, assuming that the contract is finished. If the contract is ongoing, the calculation is based on the current date.',\n",
       " '26_Number of clients sharing the same mobile phone.',\n",
       " \"35_Number of clients with same client's and alternative's phone number\",\n",
       " \"36_Number of clients sharing the same employer's phone number.\",\n",
       " '38_Number of incoming payments in the past 9 months.',\n",
       " '39_Number of months with any incoming payment in last 24 months.',\n",
       " '41_Loan amount or credit card limit.',\n",
       " '43_Current debt amount of the client.',\n",
       " '44_Current amount of debt of the applicant.',\n",
       " '48_Number of days that past after the due date (with tolerance).',\n",
       " '50_Disbursed credit amount after consolidation.',\n",
       " '52_Amount of downpayment.',\n",
       " '54_Interest rate.',\n",
       " \"59_Number of distinct home phones on client's application.\",\n",
       " '62_The interest rate of the active credit contract.',\n",
       " \"71_Credit amount from the client's last application.\",\n",
       " \"86_Client's primary income amount.\",\n",
       " '89_Maximum annuity previously obtained by client.',\n",
       " '94_Maximal principal debt of the client in the history older than 4 months.',\n",
       " '95_Maximum Days Past Due (DPD) in the period ranging from 6 to 36 months.',\n",
       " '98_Maximum days past due in the past 12 months.',\n",
       " '99_Maximal days past due in the last 24 months.',\n",
       " '100_Maximum number of days past due in last 3 months.',\n",
       " '101_Maximum days past due in the last 6 months.',\n",
       " '102_Maximum days past due in last 9 months.',\n",
       " '103_Maximum number of days past due (with tolerance).',\n",
       " '110_Number of persons with the same mobile phone number.',\n",
       " '111_Monthly annuity amount for the applicant.',\n",
       " '112_Number of active credits.',\n",
       " '113_Number of active credits.',\n",
       " '114_Number of active revolving credits.',\n",
       " '115_Number of contracts in last 3 months.',\n",
       " '116_Number of incoming payments.',\n",
       " '117_Number of instalments paid at least 3 days prior to their due date.',\n",
       " '118_Number of instalments.',\n",
       " '119_Number of paid instalments.',\n",
       " '120_Number of instalments that were overdue for 10 or more days.',\n",
       " '122_Number of instalments that were not past due date.',\n",
       " '125_Number of instalments paid more than three days before the due date.',\n",
       " '127_Number of instalments paid more than 5 days prior to the due date.',\n",
       " '130_Number of installments paid prior to the due date.',\n",
       " '133_Number of instalments paid more than 1 day past their due date.',\n",
       " \"134_Number of fully paid regular installments in the client's previous contracts.\",\n",
       " '136_Number of unpaid instalments.',\n",
       " '138_Maximum number of unpaid instalments.',\n",
       " '142_Number of credit applications that were rejected in the last 9 months.',\n",
       " '147_Percentage of installments paid at least 3 days prior to the due date.',\n",
       " '148_Percentage of installments that were paid 10 or more days after the due date.',\n",
       " '149_Percentage of installments that are paid 1 or more days after the due date.',\n",
       " '150_Percentage of installments that were paid 4 or more days past their due date.',\n",
       " '151_Percentage of installments that were paid 6 or more days past their due date.',\n",
       " '152_Total number of loan payments made by the client.',\n",
       " '157_Credit price.',\n",
       " \"158_Number of sellerplaces where the same client's document was used.\",\n",
       " \"159_Number of sellerplaces where the same client's mobile phone was used.\",\n",
       " '160_Sum of total outstanding amount.',\n",
       " '162_Total amount of debt.',\n",
       " '163_Sum of all payments made by the client.',\n",
       " '2_Monthly annuity for previous applications._total',\n",
       " \"4_Applicant's income from previous applications._total\",\n",
       " '6_Number of children in the previous application._total',\n",
       " '8_Actual balance on credit account._total',\n",
       " '9_Credit card credit limit provided for previous applications._total',\n",
       " '10_Maximal historical balance of previous credit account_total',\n",
       " '11_Minimum historical balance of previous credit accounts._total',\n",
       " '14_Loan amount or card limit of previous applications._total',\n",
       " \"16_Previous application's current debt._total\",\n",
       " '19_Previous application downpayment amount._total',\n",
       " \"29_Client's main income amount in their previous application._total\",\n",
       " '30_Maximum DPD with tolerance (on previous application/s)._total',\n",
       " 'num_group1_total',\n",
       " \"32_Amount of outstanding debt on the client's previous application._total\",\n",
       " '33_Number of payments made for the previous application._total',\n",
       " \"38_Revolving account that was present in the applicant's previous application._total\",\n",
       " '40_Number of instalments in the previous application._total',\n",
       " '21_Amount of the main income of the client.',\n",
       " 'num_group1',\n",
       " '24_Order of the person specified on the application form.',\n",
       " 'proporcion_cuotas_pagadas',\n",
       " 'proporcion_deuda_limite_credito',\n",
       " 'proporcion_credito_desembolsado',\n",
       " 'ratio_pagos_realizados',\n",
       " '6_Number of applications made by the client in the last 30 days._log',\n",
       " '38_Number of incoming payments in the past 9 months._log',\n",
       " '43_Current debt amount of the client._log',\n",
       " '44_Current amount of debt of the applicant._log',\n",
       " '50_Disbursed credit amount after consolidation._log',\n",
       " \"71_Credit amount from the client's last application._log\",\n",
       " \"86_Client's primary income amount._log\",\n",
       " '152_Total number of loan payments made by the client._log']"
      ]
     },
     "execution_count": 88,
     "metadata": {},
     "output_type": "execute_result"
    }
   ],
   "source": [
    "X_2.columns"
   ]
  },
  {
   "cell_type": "code",
   "execution_count": 89,
   "id": "66a3c856",
   "metadata": {
    "execution": {
     "iopub.execute_input": "2024-03-22T03:58:55.881216Z",
     "iopub.status.busy": "2024-03-22T03:58:55.880862Z",
     "iopub.status.idle": "2024-03-22T03:58:55.885325Z",
     "shell.execute_reply": "2024-03-22T03:58:55.884110Z"
    },
    "papermill": {
     "duration": 0.046403,
     "end_time": "2024-03-22T03:58:55.886904",
     "exception": false,
     "start_time": "2024-03-22T03:58:55.840501",
     "status": "completed"
    },
    "tags": []
   },
   "outputs": [],
   "source": [
    "# Eliminamos las columnas finales que tiene media de 0 o negativo.\n",
    "cols_final_drop = [\n",
    "    'num_group1',\n",
    "    'num_group1_total',\n",
    "    '18_Type of income of the person_HANDICAPPED',\n",
    "    '8_Actual balance on credit account._total',\n",
    "    '10_Maximal historical balance of previous credit account_total',\n",
    "    '11_Minimum historical balance of previous credit accounts._total',\n",
    "    '160_Sum of total outstanding amount.'\n",
    "]"
   ]
  },
  {
   "cell_type": "code",
   "execution_count": 90,
   "id": "f494449e",
   "metadata": {
    "execution": {
     "iopub.execute_input": "2024-03-22T03:58:55.965848Z",
     "iopub.status.busy": "2024-03-22T03:58:55.965206Z",
     "iopub.status.idle": "2024-03-22T03:58:55.969205Z",
     "shell.execute_reply": "2024-03-22T03:58:55.968523Z"
    },
    "papermill": {
     "duration": 0.047405,
     "end_time": "2024-03-22T03:58:55.971604",
     "exception": false,
     "start_time": "2024-03-22T03:58:55.924199",
     "status": "completed"
    },
    "tags": []
   },
   "outputs": [],
   "source": [
    "X_3 = X_2.drop(cols_final_drop)"
   ]
  },
  {
   "cell_type": "code",
   "execution_count": 91,
   "id": "7be12aca",
   "metadata": {
    "execution": {
     "iopub.execute_input": "2024-03-22T03:58:56.051529Z",
     "iopub.status.busy": "2024-03-22T03:58:56.050654Z",
     "iopub.status.idle": "2024-03-22T03:58:56.055216Z",
     "shell.execute_reply": "2024-03-22T03:58:56.054327Z"
    },
    "papermill": {
     "duration": 0.046208,
     "end_time": "2024-03-22T03:58:56.057109",
     "exception": false,
     "start_time": "2024-03-22T03:58:56.010901",
     "status": "completed"
    },
    "tags": []
   },
   "outputs": [],
   "source": [
    "# X_3.describe()"
   ]
  },
  {
   "cell_type": "markdown",
   "id": "ca979568",
   "metadata": {
    "papermill": {
     "duration": 0.039156,
     "end_time": "2024-03-22T03:58:56.134791",
     "exception": false,
     "start_time": "2024-03-22T03:58:56.095635",
     "status": "completed"
    },
    "tags": []
   },
   "source": [
    "## 6.2. Escalar los Datos"
   ]
  },
  {
   "cell_type": "code",
   "execution_count": 92,
   "id": "29c6b061",
   "metadata": {
    "execution": {
     "iopub.execute_input": "2024-03-22T03:58:56.212907Z",
     "iopub.status.busy": "2024-03-22T03:58:56.211896Z",
     "iopub.status.idle": "2024-03-22T03:58:56.216826Z",
     "shell.execute_reply": "2024-03-22T03:58:56.215789Z"
    },
    "papermill": {
     "duration": 0.045761,
     "end_time": "2024-03-22T03:58:56.218468",
     "exception": false,
     "start_time": "2024-03-22T03:58:56.172707",
     "status": "completed"
    },
    "tags": []
   },
   "outputs": [],
   "source": [
    "from sklearn.preprocessing import MinMaxScaler\n",
    "\n",
    "# Instanciamos los objetos de las clases para escalar.\n",
    "minmax = MinMaxScaler()"
   ]
  },
  {
   "cell_type": "code",
   "execution_count": 93,
   "id": "c66896ec",
   "metadata": {
    "execution": {
     "iopub.execute_input": "2024-03-22T03:58:56.296894Z",
     "iopub.status.busy": "2024-03-22T03:58:56.296222Z",
     "iopub.status.idle": "2024-03-22T03:58:57.715408Z",
     "shell.execute_reply": "2024-03-22T03:58:57.713326Z"
    },
    "papermill": {
     "duration": 1.461956,
     "end_time": "2024-03-22T03:58:57.718973",
     "exception": false,
     "start_time": "2024-03-22T03:58:56.257017",
     "status": "completed"
    },
    "tags": []
   },
   "outputs": [],
   "source": [
    "arrays_minmax = minmax.fit_transform(X_3)"
   ]
  },
  {
   "cell_type": "code",
   "execution_count": 94,
   "id": "cb108d26",
   "metadata": {
    "execution": {
     "iopub.execute_input": "2024-03-22T03:58:57.850411Z",
     "iopub.status.busy": "2024-03-22T03:58:57.849620Z",
     "iopub.status.idle": "2024-03-22T03:58:57.856746Z",
     "shell.execute_reply": "2024-03-22T03:58:57.855775Z"
    },
    "papermill": {
     "duration": 0.072419,
     "end_time": "2024-03-22T03:58:57.858964",
     "exception": false,
     "start_time": "2024-03-22T03:58:57.786545",
     "status": "completed"
    },
    "tags": []
   },
   "outputs": [],
   "source": [
    "X_minmax = pl.DataFrame(arrays_minmax, schema= X_3.columns)"
   ]
  },
  {
   "cell_type": "code",
   "execution_count": 95,
   "id": "1d25b4b3",
   "metadata": {
    "execution": {
     "iopub.execute_input": "2024-03-22T03:58:57.984711Z",
     "iopub.status.busy": "2024-03-22T03:58:57.984207Z",
     "iopub.status.idle": "2024-03-22T03:58:57.992955Z",
     "shell.execute_reply": "2024-03-22T03:58:57.991519Z"
    },
    "papermill": {
     "duration": 0.081655,
     "end_time": "2024-03-22T03:58:57.996669",
     "exception": false,
     "start_time": "2024-03-22T03:58:57.915014",
     "status": "completed"
    },
    "tags": []
   },
   "outputs": [
    {
     "data": {
      "text/plain": [
       "(106, 106)"
      ]
     },
     "execution_count": 95,
     "metadata": {},
     "output_type": "execute_result"
    }
   ],
   "source": [
    "# Observamos los 3 dataframe que hemos obtenido.\n",
    "len(X_3.columns), len(X_minmax.columns)"
   ]
  },
  {
   "cell_type": "markdown",
   "id": "e74b56b0",
   "metadata": {
    "papermill": {
     "duration": 0.065932,
     "end_time": "2024-03-22T03:58:58.121763",
     "exception": false,
     "start_time": "2024-03-22T03:58:58.055831",
     "status": "completed"
    },
    "tags": []
   },
   "source": [
    "# 7. Selección de Variables Para la Creación del Modelo"
   ]
  },
  {
   "cell_type": "code",
   "execution_count": 96,
   "id": "bc0dd47c",
   "metadata": {
    "execution": {
     "iopub.execute_input": "2024-03-22T03:58:58.246963Z",
     "iopub.status.busy": "2024-03-22T03:58:58.245785Z",
     "iopub.status.idle": "2024-03-22T03:58:59.320969Z",
     "shell.execute_reply": "2024-03-22T03:58:59.317577Z"
    },
    "papermill": {
     "duration": 1.158263,
     "end_time": "2024-03-22T03:58:59.337291",
     "exception": false,
     "start_time": "2024-03-22T03:58:58.179028",
     "status": "completed"
    },
    "tags": []
   },
   "outputs": [],
   "source": [
    "# Obtenemos el y_1 común para cada case_id (Similar para cada uno de las variables independientes: X_2, X_2, X_join).\n",
    "y_1 = X_3.join(y, on= 'case_id').select('target')"
   ]
  },
  {
   "cell_type": "code",
   "execution_count": 97,
   "id": "1afd50ba",
   "metadata": {
    "execution": {
     "iopub.execute_input": "2024-03-22T03:58:59.489655Z",
     "iopub.status.busy": "2024-03-22T03:58:59.488360Z",
     "iopub.status.idle": "2024-03-22T03:59:02.179507Z",
     "shell.execute_reply": "2024-03-22T03:59:02.177514Z"
    },
    "papermill": {
     "duration": 2.768637,
     "end_time": "2024-03-22T03:59:02.186368",
     "exception": false,
     "start_time": "2024-03-22T03:58:59.417731",
     "status": "completed"
    },
    "tags": []
   },
   "outputs": [
    {
     "name": "stdout",
     "output_type": "stream",
     "text": [
      "['WEEK_NUM', '2_Number of instalments paid before due date in the last 24 months.', '3_Monthly annuity amount.', '10_Number of applications associated with the same mobile phone.', '38_Number of incoming payments in the past 9 months.', '39_Number of months with any incoming payment in last 24 months.', '41_Loan amount or credit card limit.', '43_Current debt amount of the client.', '44_Current amount of debt of the applicant.', '48_Number of days that past after the due date (with tolerance).', '50_Disbursed credit amount after consolidation.', '62_The interest rate of the active credit contract.', \"71_Credit amount from the client's last application.\", \"86_Client's primary income amount.\", '89_Maximum annuity previously obtained by client.', '94_Maximal principal debt of the client in the history older than 4 months.', '95_Maximum Days Past Due (DPD) in the period ranging from 6 to 36 months.', '98_Maximum days past due in the past 12 months.', '99_Maximal days past due in the last 24 months.', '100_Maximum number of days past due in last 3 months.', '101_Maximum days past due in the last 6 months.', '102_Maximum days past due in last 9 months.', '110_Number of persons with the same mobile phone number.', '115_Number of contracts in last 3 months.', '116_Number of incoming payments.', '118_Number of instalments.', '119_Number of paid instalments.', '120_Number of instalments that were overdue for 10 or more days.', '122_Number of instalments that were not past due date.', '125_Number of instalments paid more than three days before the due date.', '127_Number of instalments paid more than 5 days prior to the due date.', '130_Number of installments paid prior to the due date.', '133_Number of instalments paid more than 1 day past their due date.', \"134_Number of fully paid regular installments in the client's previous contracts.\", '136_Number of unpaid instalments.', '138_Maximum number of unpaid instalments.', '151_Percentage of installments that were paid 6 or more days past their due date.', '152_Total number of loan payments made by the client.', \"159_Number of sellerplaces where the same client's mobile phone was used.\", '162_Total amount of debt.', '163_Sum of all payments made by the client.', '2_Monthly annuity for previous applications._total', '6_Number of children in the previous application._total', '9_Credit card credit limit provided for previous applications._total', '14_Loan amount or card limit of previous applications._total', \"16_Previous application's current debt._total\", '19_Previous application downpayment amount._total', \"29_Client's main income amount in their previous application._total\", '30_Maximum DPD with tolerance (on previous application/s)._total', \"32_Amount of outstanding debt on the client's previous application._total\", '33_Number of payments made for the previous application._total', \"38_Revolving account that was present in the applicant's previous application._total\", '40_Number of instalments in the previous application._total', '24_Order of the person specified on the application form.', 'proporcion_cuotas_pagadas']\n"
     ]
    }
   ],
   "source": [
    "# chi2: Recomendado para target binarias y categóricas.\n",
    "from sklearn.feature_selection import SelectKBest\n",
    "from sklearn.feature_selection import chi2\n",
    "\n",
    "num_feats = 55\n",
    "\n",
    "transformer = SelectKBest(chi2, k= num_feats)\n",
    "chi_features = transformer.fit_transform(X_3.select(pl.exclude('case_id')), y_1)\n",
    "\n",
    "seleccionadas = transformer.get_support(indices= True)\n",
    "cols_X_seleccionadas = X_3.to_pandas().columns[seleccionadas].to_list()\n",
    "print(cols_X_seleccionadas)"
   ]
  },
  {
   "cell_type": "code",
   "execution_count": 98,
   "id": "75235ec0",
   "metadata": {
    "execution": {
     "iopub.execute_input": "2024-03-22T03:59:02.284565Z",
     "iopub.status.busy": "2024-03-22T03:59:02.284155Z",
     "iopub.status.idle": "2024-03-22T03:59:04.025420Z",
     "shell.execute_reply": "2024-03-22T03:59:04.023231Z"
    },
    "papermill": {
     "duration": 1.797568,
     "end_time": "2024-03-22T03:59:04.034108",
     "exception": false,
     "start_time": "2024-03-22T03:59:02.236540",
     "status": "completed"
    },
    "tags": []
   },
   "outputs": [
    {
     "name": "stdout",
     "output_type": "stream",
     "text": [
      "['18_Type of income of the person_OTHER', '18_Type of income of the person_PRIVATE_SECTOR_EMPLOYEE', '18_Type of income of the person_SELFEMPLOYED', 'WEEK_NUM', \"4_Next month's amount of annuity.\", '7_Number of applications associated with the same phone number.', '8_Number of applications made in the last 30 days by other clients with the same employer as the applicant.', '10_Number of applications associated with the same mobile phone.', '26_Number of clients sharing the same mobile phone.', \"35_Number of clients with same client's and alternative's phone number\", '38_Number of incoming payments in the past 9 months.', '44_Current amount of debt of the applicant.', '48_Number of days that past after the due date (with tolerance).', '50_Disbursed credit amount after consolidation.', '54_Interest rate.', '89_Maximum annuity previously obtained by client.', '94_Maximal principal debt of the client in the history older than 4 months.', '95_Maximum Days Past Due (DPD) in the period ranging from 6 to 36 months.', '98_Maximum days past due in the past 12 months.', '99_Maximal days past due in the last 24 months.', '100_Maximum number of days past due in last 3 months.', '101_Maximum days past due in the last 6 months.', '102_Maximum days past due in last 9 months.', '103_Maximum number of days past due (with tolerance).', '110_Number of persons with the same mobile phone number.', '114_Number of active revolving credits.', '115_Number of contracts in last 3 months.', '116_Number of incoming payments.', '118_Number of instalments.', '119_Number of paid instalments.', '120_Number of instalments that were overdue for 10 or more days.', '122_Number of instalments that were not past due date.', '125_Number of instalments paid more than three days before the due date.', '127_Number of instalments paid more than 5 days prior to the due date.', '130_Number of installments paid prior to the due date.', '133_Number of instalments paid more than 1 day past their due date.', \"134_Number of fully paid regular installments in the client's previous contracts.\", '136_Number of unpaid instalments.', '138_Maximum number of unpaid instalments.', '142_Number of credit applications that were rejected in the last 9 months.', '147_Percentage of installments paid at least 3 days prior to the due date.', '148_Percentage of installments that were paid 10 or more days after the due date.', '149_Percentage of installments that are paid 1 or more days after the due date.', '150_Percentage of installments that were paid 4 or more days past their due date.', '151_Percentage of installments that were paid 6 or more days past their due date.', '157_Credit price.', '162_Total amount of debt.', '9_Credit card credit limit provided for previous applications._total', \"29_Client's main income amount in their previous application._total\", \"32_Amount of outstanding debt on the client's previous application._total\", '33_Number of payments made for the previous application._total', \"38_Revolving account that was present in the applicant's previous application._total\", '21_Amount of the main income of the client.', '24_Order of the person specified on the application form.', 'ratio_pagos_realizados']\n"
     ]
    }
   ],
   "source": [
    "# chi2: Recomendado para target binarias y categóricas.\n",
    "from sklearn.feature_selection import SelectKBest\n",
    "from sklearn.feature_selection import chi2\n",
    "\n",
    "transformer = SelectKBest(chi2, k= num_feats)\n",
    "chi_features = transformer.fit_transform(X_minmax.select(pl.exclude('case_id')), y_1)\n",
    "\n",
    "seleccionadas = transformer.get_support(indices= True)\n",
    "cols_X_minmax_seleccionadas = X_minmax.to_pandas().columns[seleccionadas].to_list()\n",
    "print(cols_X_minmax_seleccionadas)"
   ]
  },
  {
   "cell_type": "code",
   "execution_count": 99,
   "id": "d1cc4754",
   "metadata": {
    "execution": {
     "iopub.execute_input": "2024-03-22T03:59:04.133543Z",
     "iopub.status.busy": "2024-03-22T03:59:04.131230Z",
     "iopub.status.idle": "2024-03-22T03:59:04.144585Z",
     "shell.execute_reply": "2024-03-22T03:59:04.142807Z"
    },
    "papermill": {
     "duration": 0.065181,
     "end_time": "2024-03-22T03:59:04.150065",
     "exception": false,
     "start_time": "2024-03-22T03:59:04.084884",
     "status": "completed"
    },
    "tags": []
   },
   "outputs": [],
   "source": [
    "# Versiones finales.\n",
    "X_4 = X_3.select(pl.col(cols_X_seleccionadas))\n",
    "X_minmax_1 = X_minmax.select(pl.col(cols_X_minmax_seleccionadas))"
   ]
  },
  {
   "cell_type": "code",
   "execution_count": 100,
   "id": "5c0f4088",
   "metadata": {
    "execution": {
     "iopub.execute_input": "2024-03-22T03:59:04.251674Z",
     "iopub.status.busy": "2024-03-22T03:59:04.250810Z",
     "iopub.status.idle": "2024-03-22T03:59:04.256827Z",
     "shell.execute_reply": "2024-03-22T03:59:04.256183Z"
    },
    "papermill": {
     "duration": 0.056336,
     "end_time": "2024-03-22T03:59:04.260881",
     "exception": false,
     "start_time": "2024-03-22T03:59:04.204545",
     "status": "completed"
    },
    "tags": []
   },
   "outputs": [],
   "source": [
    "# Test.\n",
    "X_ts_1 = X_ts.select(pl.all())"
   ]
  },
  {
   "cell_type": "code",
   "execution_count": 101,
   "id": "062737d4",
   "metadata": {
    "execution": {
     "iopub.execute_input": "2024-03-22T03:59:04.355832Z",
     "iopub.status.busy": "2024-03-22T03:59:04.354994Z",
     "iopub.status.idle": "2024-03-22T03:59:04.368227Z",
     "shell.execute_reply": "2024-03-22T03:59:04.367145Z"
    },
    "papermill": {
     "duration": 0.063332,
     "end_time": "2024-03-22T03:59:04.370423",
     "exception": false,
     "start_time": "2024-03-22T03:59:04.307091",
     "status": "completed"
    },
    "tags": []
   },
   "outputs": [
    {
     "data": {
      "text/plain": [
       "['WEEK_NUM',\n",
       " '2_Number of instalments paid before due date in the last 24 months.',\n",
       " '3_Monthly annuity amount.',\n",
       " '10_Number of applications associated with the same mobile phone.',\n",
       " '38_Number of incoming payments in the past 9 months.',\n",
       " '39_Number of months with any incoming payment in last 24 months.',\n",
       " '41_Loan amount or credit card limit.',\n",
       " '43_Current debt amount of the client.',\n",
       " '44_Current amount of debt of the applicant.',\n",
       " '48_Number of days that past after the due date (with tolerance).',\n",
       " '50_Disbursed credit amount after consolidation.',\n",
       " '62_The interest rate of the active credit contract.',\n",
       " \"71_Credit amount from the client's last application.\",\n",
       " \"86_Client's primary income amount.\",\n",
       " '89_Maximum annuity previously obtained by client.',\n",
       " '94_Maximal principal debt of the client in the history older than 4 months.',\n",
       " '95_Maximum Days Past Due (DPD) in the period ranging from 6 to 36 months.',\n",
       " '98_Maximum days past due in the past 12 months.',\n",
       " '99_Maximal days past due in the last 24 months.',\n",
       " '100_Maximum number of days past due in last 3 months.',\n",
       " '101_Maximum days past due in the last 6 months.',\n",
       " '102_Maximum days past due in last 9 months.',\n",
       " '110_Number of persons with the same mobile phone number.',\n",
       " '115_Number of contracts in last 3 months.',\n",
       " '116_Number of incoming payments.',\n",
       " '118_Number of instalments.',\n",
       " '119_Number of paid instalments.',\n",
       " '120_Number of instalments that were overdue for 10 or more days.',\n",
       " '122_Number of instalments that were not past due date.',\n",
       " '125_Number of instalments paid more than three days before the due date.',\n",
       " '127_Number of instalments paid more than 5 days prior to the due date.',\n",
       " '130_Number of installments paid prior to the due date.',\n",
       " '133_Number of instalments paid more than 1 day past their due date.',\n",
       " \"134_Number of fully paid regular installments in the client's previous contracts.\",\n",
       " '136_Number of unpaid instalments.',\n",
       " '138_Maximum number of unpaid instalments.',\n",
       " '151_Percentage of installments that were paid 6 or more days past their due date.',\n",
       " '152_Total number of loan payments made by the client.',\n",
       " \"159_Number of sellerplaces where the same client's mobile phone was used.\",\n",
       " '162_Total amount of debt.',\n",
       " '163_Sum of all payments made by the client.',\n",
       " '2_Monthly annuity for previous applications._total',\n",
       " '6_Number of children in the previous application._total',\n",
       " '9_Credit card credit limit provided for previous applications._total',\n",
       " '14_Loan amount or card limit of previous applications._total',\n",
       " \"16_Previous application's current debt._total\",\n",
       " '19_Previous application downpayment amount._total',\n",
       " \"29_Client's main income amount in their previous application._total\",\n",
       " '30_Maximum DPD with tolerance (on previous application/s)._total',\n",
       " \"32_Amount of outstanding debt on the client's previous application._total\",\n",
       " '33_Number of payments made for the previous application._total',\n",
       " \"38_Revolving account that was present in the applicant's previous application._total\",\n",
       " '40_Number of instalments in the previous application._total',\n",
       " '24_Order of the person specified on the application form.',\n",
       " 'proporcion_cuotas_pagadas']"
      ]
     },
     "execution_count": 101,
     "metadata": {},
     "output_type": "execute_result"
    }
   ],
   "source": [
    "cols_X_seleccionadas"
   ]
  },
  {
   "cell_type": "code",
   "execution_count": 102,
   "id": "cf350cc8",
   "metadata": {
    "execution": {
     "iopub.execute_input": "2024-03-22T03:59:04.461476Z",
     "iopub.status.busy": "2024-03-22T03:59:04.460823Z",
     "iopub.status.idle": "2024-03-22T03:59:04.468700Z",
     "shell.execute_reply": "2024-03-22T03:59:04.467628Z"
    },
    "papermill": {
     "duration": 0.056709,
     "end_time": "2024-03-22T03:59:04.471133",
     "exception": false,
     "start_time": "2024-03-22T03:59:04.414424",
     "status": "completed"
    },
    "tags": []
   },
   "outputs": [],
   "source": [
    "cols_ts = [\n",
    "    'case_id',\n",
    "   'WEEK_NUM',\n",
    " '2_Number of instalments paid before due date in the last 24 months.',\n",
    " '3_Monthly annuity amount.',\n",
    " '10_Number of applications associated with the same mobile phone.',\n",
    " '38_Number of incoming payments in the past 9 months.',\n",
    " '39_Number of months with any incoming payment in last 24 months.',\n",
    " '41_Loan amount or credit card limit.',\n",
    " '43_Current debt amount of the client.',\n",
    " '44_Current amount of debt of the applicant.',\n",
    " '48_Number of days that past after the due date (with tolerance).',\n",
    " '50_Disbursed credit amount after consolidation.',\n",
    " '62_The interest rate of the active credit contract.',\n",
    " \"71_Credit amount from the client's last application.\",\n",
    " \"86_Client's primary income amount.\",\n",
    " '89_Maximum annuity previously obtained by client.',\n",
    " '94_Maximal principal debt of the client in the history older than 4 months.',\n",
    " '95_Maximum Days Past Due (DPD) in the period ranging from 6 to 36 months.',\n",
    " '98_Maximum days past due in the past 12 months.',\n",
    " '99_Maximal days past due in the last 24 months.',\n",
    " '100_Maximum number of days past due in last 3 months.',\n",
    " '101_Maximum days past due in the last 6 months.',\n",
    " '102_Maximum days past due in last 9 months.',\n",
    " '110_Number of persons with the same mobile phone number.',\n",
    " '114_Number of active revolving credits.',\n",
    " '115_Number of contracts in last 3 months.',\n",
    " '116_Number of incoming payments.',\n",
    " '117_Number of instalments paid at least 3 days prior to their due date.',\n",
    " '118_Number of instalments.',\n",
    " '119_Number of paid instalments.',\n",
    " '120_Number of instalments that were overdue for 10 or more days.',\n",
    " '122_Number of instalments that were not past due date.',\n",
    " '125_Number of instalments paid more than three days before the due date.',\n",
    " '127_Number of instalments paid more than 5 days prior to the due date.',\n",
    " '130_Number of installments paid prior to the due date.',\n",
    " '133_Number of instalments paid more than 1 day past their due date.',\n",
    " \"134_Number of fully paid regular installments in the client's previous contracts.\",\n",
    " '136_Number of unpaid instalments.',\n",
    " '138_Maximum number of unpaid instalments.',\n",
    " '148_Percentage of installments that were paid 10 or more days after the due date.',\n",
    " '149_Percentage of installments that are paid 1 or more days after the due date.',\n",
    " '150_Percentage of installments that were paid 4 or more days past their due date.',\n",
    " '151_Percentage of installments that were paid 6 or more days past their due date.',\n",
    " '152_Total number of loan payments made by the client.',\n",
    " \"159_Number of sellerplaces where the same client's mobile phone was used.\",\n",
    " '162_Total amount of debt.',\n",
    " '163_Sum of all payments made by the client.',\n",
    " '2_Monthly annuity for previous applications._total',\n",
    " '6_Number of children in the previous application._total',\n",
    " '9_Credit card credit limit provided for previous applications._total',\n",
    " '14_Loan amount or card limit of previous applications._total',\n",
    " \"16_Previous application's current debt._total\",\n",
    " '19_Previous application downpayment amount._total',\n",
    " \"29_Client's main income amount in their previous application._total\",\n",
    " '30_Maximum DPD with tolerance (on previous application/s)._total',\n",
    " \"32_Amount of outstanding debt on the client's previous application._total\",\n",
    " '33_Number of payments made for the previous application._total',\n",
    " \"38_Revolving account that was present in the applicant's previous application._total\",\n",
    " '40_Number of instalments in the previous application._total',\n",
    " '24_Order of the person specified on the application form.'\n",
    "]\n",
    "\n",
    "# cols_log_selection = [\n",
    "#      '38_Number of incoming payments in the past 9 months.'     \n",
    "# ]\n",
    "\n",
    "# cols_no_exist = [\n",
    "#  '18_Type of income of the person_PRIVATE_SECTOR_EMPLOYEE',\n",
    "#  '18_Type of income of the person_SELFEMPLOYED'\n",
    "# ]"
   ]
  },
  {
   "cell_type": "code",
   "execution_count": 103,
   "id": "9509984b",
   "metadata": {
    "execution": {
     "iopub.execute_input": "2024-03-22T03:59:04.608167Z",
     "iopub.status.busy": "2024-03-22T03:59:04.607445Z",
     "iopub.status.idle": "2024-03-22T03:59:04.711205Z",
     "shell.execute_reply": "2024-03-22T03:59:04.708841Z"
    },
    "papermill": {
     "duration": 0.200918,
     "end_time": "2024-03-22T03:59:04.717575",
     "exception": false,
     "start_time": "2024-03-22T03:59:04.516657",
     "status": "completed"
    },
    "tags": []
   },
   "outputs": [],
   "source": [
    "# Test.\n",
    "X_ts_2 = pl.dataframe.DataFrame(pd.get_dummies(X_ts_1.to_pandas(), columns= cols_string_import, drop_first= False, dtype= 'float64'))"
   ]
  },
  {
   "cell_type": "code",
   "execution_count": 104,
   "id": "f2ac808d",
   "metadata": {
    "execution": {
     "iopub.execute_input": "2024-03-22T03:59:04.937628Z",
     "iopub.status.busy": "2024-03-22T03:59:04.935898Z",
     "iopub.status.idle": "2024-03-22T03:59:04.943103Z",
     "shell.execute_reply": "2024-03-22T03:59:04.942481Z"
    },
    "papermill": {
     "duration": 0.120981,
     "end_time": "2024-03-22T03:59:04.944869",
     "exception": false,
     "start_time": "2024-03-22T03:59:04.823888",
     "status": "completed"
    },
    "tags": []
   },
   "outputs": [],
   "source": [
    "# Test.\n",
    "X_ts_3 = X_ts_2.select(cols_ts).fill_null(0)"
   ]
  },
  {
   "cell_type": "code",
   "execution_count": 105,
   "id": "76686cd9",
   "metadata": {
    "execution": {
     "iopub.execute_input": "2024-03-22T03:59:05.114323Z",
     "iopub.status.busy": "2024-03-22T03:59:05.112805Z",
     "iopub.status.idle": "2024-03-22T03:59:05.122600Z",
     "shell.execute_reply": "2024-03-22T03:59:05.121000Z"
    },
    "papermill": {
     "duration": 0.100474,
     "end_time": "2024-03-22T03:59:05.126740",
     "exception": false,
     "start_time": "2024-03-22T03:59:05.026266",
     "status": "completed"
    },
    "tags": []
   },
   "outputs": [],
   "source": [
    "# Test.\n",
    "X_ts_4 = X_ts_3.with_columns([\n",
    "    (pl.col('2_Number of instalments paid before due date in the last 24 months.') \n",
    "     + (pl.col('2_Number of instalments paid before due date in the last 24 months.') / (pl.col('2_Monthly annuity for previous applications._total') + 1))).alias(\n",
    "        'proporcion_cuotas_pagadas'\n",
    "    )\n",
    "])\n",
    "\n",
    "# .select(pl.exclude('2_Number of instalments paid before due date in the last 24 months.'))\n",
    "\n",
    "# .with_columns(\n",
    "#     pl.zeros(10).alias(col) for col in cols_no_exist\n",
    "# )\n",
    "\n",
    "# .select(pl.exclude('2_Number of instalments paid before due date in the last 24 months.'))\n",
    "\n",
    "# .with_columns(\n",
    "#     (pl.col(col) + 2).log().name.suffix('_log') for col in cols_log_selection\n",
    "# ).with_columns(\n",
    "#     pl.zeros(10).alias(col) for col in cols_no_exist\n",
    "# )"
   ]
  },
  {
   "cell_type": "code",
   "execution_count": 106,
   "id": "b671bae0",
   "metadata": {
    "execution": {
     "iopub.execute_input": "2024-03-22T03:59:05.299778Z",
     "iopub.status.busy": "2024-03-22T03:59:05.298417Z",
     "iopub.status.idle": "2024-03-22T03:59:05.337827Z",
     "shell.execute_reply": "2024-03-22T03:59:05.336208Z"
    },
    "papermill": {
     "duration": 0.128157,
     "end_time": "2024-03-22T03:59:05.342651",
     "exception": false,
     "start_time": "2024-03-22T03:59:05.214494",
     "status": "completed"
    },
    "tags": []
   },
   "outputs": [
    {
     "data": {
      "text/html": [
       "<div><style>\n",
       ".dataframe > thead > tr,\n",
       ".dataframe > tbody > tr {\n",
       "  text-align: right;\n",
       "  white-space: pre-wrap;\n",
       "}\n",
       "</style>\n",
       "<small>shape: (10, 61)</small><table border=\"1\" class=\"dataframe\"><thead><tr><th>case_id</th><th>WEEK_NUM</th><th>2_Number of instalments paid before due date in the last 24 months.</th><th>3_Monthly annuity amount.</th><th>10_Number of applications associated with the same mobile phone.</th><th>38_Number of incoming payments in the past 9 months.</th><th>39_Number of months with any incoming payment in last 24 months.</th><th>41_Loan amount or credit card limit.</th><th>43_Current debt amount of the client.</th><th>44_Current amount of debt of the applicant.</th><th>48_Number of days that past after the due date (with tolerance).</th><th>50_Disbursed credit amount after consolidation.</th><th>62_The interest rate of the active credit contract.</th><th>71_Credit amount from the client&#x27;s last application.</th><th>86_Client&#x27;s primary income amount.</th><th>89_Maximum annuity previously obtained by client.</th><th>94_Maximal principal debt of the client in the history older than 4 months.</th><th>95_Maximum Days Past Due (DPD) in the period ranging from 6 to 36 months.</th><th>98_Maximum days past due in the past 12 months.</th><th>99_Maximal days past due in the last 24 months.</th><th>100_Maximum number of days past due in last 3 months.</th><th>101_Maximum days past due in the last 6 months.</th><th>102_Maximum days past due in last 9 months.</th><th>110_Number of persons with the same mobile phone number.</th><th>114_Number of active revolving credits.</th><th>115_Number of contracts in last 3 months.</th><th>116_Number of incoming payments.</th><th>117_Number of instalments paid at least 3 days prior to their due date.</th><th>118_Number of instalments.</th><th>119_Number of paid instalments.</th><th>120_Number of instalments that were overdue for 10 or more days.</th><th>122_Number of instalments that were not past due date.</th><th>125_Number of instalments paid more than three days before the due date.</th><th>127_Number of instalments paid more than 5 days prior to the due date.</th><th>130_Number of installments paid prior to the due date.</th><th>133_Number of instalments paid more than 1 day past their due date.</th><th>134_Number of fully paid regular installments in the client&#x27;s previous contracts.</th><th>136_Number of unpaid instalments.</th><th>138_Maximum number of unpaid instalments.</th><th>148_Percentage of installments that were paid 10 or more days after the due date.</th><th>149_Percentage of installments that are paid 1 or more days after the due date.</th><th>150_Percentage of installments that were paid 4 or more days past their due date.</th><th>151_Percentage of installments that were paid 6 or more days past their due date.</th><th>152_Total number of loan payments made by the client.</th><th>159_Number of sellerplaces where the same client&#x27;s mobile phone was used.</th><th>162_Total amount of debt.</th><th>163_Sum of all payments made by the client.</th><th>2_Monthly annuity for previous applications._total</th><th>6_Number of children in the previous application._total</th><th>9_Credit card credit limit provided for previous applications._total</th><th>14_Loan amount or card limit of previous applications._total</th><th>16_Previous application&#x27;s current debt._total</th><th>19_Previous application downpayment amount._total</th><th>29_Client&#x27;s main income amount in their previous application._total</th><th>30_Maximum DPD with tolerance (on previous application/s)._total</th><th>32_Amount of outstanding debt on the client&#x27;s previous application._total</th><th>33_Number of payments made for the previous application._total</th><th>38_Revolving account that was present in the applicant&#x27;s previous application._total</th><th>40_Number of instalments in the previous application._total</th><th>24_Order of the person specified on the application form.</th><th>proporcion_cuotas_pagadas</th></tr><tr><td>i64</td><td>i64</td><td>f64</td><td>f64</td><td>f64</td><td>f64</td><td>f64</td><td>f64</td><td>f64</td><td>f64</td><td>f64</td><td>f64</td><td>f64</td><td>f64</td><td>f64</td><td>f64</td><td>f64</td><td>f64</td><td>f64</td><td>f64</td><td>f64</td><td>f64</td><td>f64</td><td>f64</td><td>f64</td><td>f64</td><td>f64</td><td>f64</td><td>f64</td><td>f64</td><td>f64</td><td>f64</td><td>f64</td><td>f64</td><td>f64</td><td>f64</td><td>f64</td><td>f64</td><td>f64</td><td>f64</td><td>f64</td><td>f64</td><td>f64</td><td>f64</td><td>f64</td><td>f64</td><td>f64</td><td>f64</td><td>f64</td><td>f64</td><td>f64</td><td>f64</td><td>f64</td><td>f64</td><td>f64</td><td>f64</td><td>f64</td><td>f64</td><td>f64</td><td>f64</td><td>f64</td></tr></thead><tbody><tr><td>57543</td><td>100</td><td>191767.36</td><td>3674.6</td><td>9.0</td><td>5.0</td><td>20.0</td><td>20000.0</td><td>12154.4</td><td>0.0</td><td>8.0</td><td>20000.0</td><td>0.34</td><td>14000.0</td><td>34000.0</td><td>280983.56</td><td>231440.03</td><td>7.0</td><td>3.0</td><td>7.0</td><td>3.0</td><td>3.0</td><td>3.0</td><td>2.0</td><td>0.0</td><td>1.0</td><td>112.0</td><td>34.0</td><td>14.0</td><td>66.0</td><td>0.0</td><td>79.0</td><td>34.0</td><td>0.0</td><td>25.0</td><td>31.0</td><td>96.0</td><td>10.0</td><td>10.0</td><td>0.0</td><td>0.32292</td><td>0.07292</td><td>0.05208</td><td>6.0</td><td>5.0</td><td>12154.4</td><td>456031.1</td><td>30732.4008</td><td>6.0</td><td>0.0</td><td>368253.0</td><td>12154.4</td><td>4000.0</td><td>304000.0</td><td>98.0</td><td>12154.4</td><td>164.0</td><td>0.0</td><td>164.0</td><td>1.0</td><td>191773.599705</td></tr><tr><td>57549</td><td>100</td><td>129704.4</td><td>5742.6</td><td>10.0</td><td>3.0</td><td>3.0</td><td>75000.0</td><td>10638.2</td><td>10638.2</td><td>61.0</td><td>75000.0</td><td>0.227</td><td>94000.0</td><td>44000.0</td><td>337659.8</td><td>34066.0</td><td>0.0</td><td>0.0</td><td>0.0</td><td>0.0</td><td>0.0</td><td>0.0</td><td>3.0</td><td>1.0</td><td>2.0</td><td>38.0</td><td>15.0</td><td>6.0</td><td>31.0</td><td>15.0</td><td>60.0</td><td>15.0</td><td>0.0</td><td>15.0</td><td>13.0</td><td>44.0</td><td>3.0</td><td>3.0</td><td>0.11628</td><td>0.29545</td><td>0.18605</td><td>0.13953</td><td>18.0</td><td>7.0</td><td>10638.2</td><td>373720.84</td><td>18811.8001</td><td>0.0</td><td>89666.0</td><td>187718.6</td><td>10256.632</td><td>0.0</td><td>281800.0</td><td>1.0</td><td>10638.2</td><td>91.0</td><td>1.6608e9</td><td>91.0</td><td>1.0</td><td>129711.294476</td></tr><tr><td>57551</td><td>100</td><td>71036.4</td><td>2844.6</td><td>2.0</td><td>4.0</td><td>9.0</td><td>27095.201</td><td>0.0</td><td>0.0</td><td>4.0</td><td>27095.201</td><td>0.45</td><td>200000.0</td><td>70000.0</td><td>83400.0</td><td>54000.0</td><td>4.0</td><td>4.0</td><td>4.0</td><td>0.0</td><td>0.0</td><td>4.0</td><td>1.0</td><td>0.0</td><td>1.0</td><td>9.0</td><td>3.0</td><td>0.0</td><td>8.0</td><td>0.0</td><td>9.0</td><td>3.0</td><td>0.0</td><td>0.0</td><td>1.0</td><td>9.0</td><td>0.0</td><td>0.0</td><td>0.0</td><td>0.11111</td><td>0.11111</td><td>0.0</td><td>12.0</td><td>2.0</td><td>0.0</td><td>75219.0</td><td>0.0</td><td>0.0</td><td>0.0</td><td>0.0</td><td>0.0</td><td>0.0</td><td>0.0</td><td>0.0</td><td>0.0</td><td>0.0</td><td>0.0</td><td>0.0</td><td>0.0</td><td>142072.8</td></tr><tr><td>57552</td><td>100</td><td>183992.0</td><td>6298.8003</td><td>9.0</td><td>18.0</td><td>24.0</td><td>100000.0</td><td>191269.61</td><td>191269.61</td><td>1.0</td><td>100000.0</td><td>0.15</td><td>0.0</td><td>0.0</td><td>110500.0</td><td>188126.14</td><td>0.0</td><td>0.0</td><td>0.0</td><td>0.0</td><td>0.0</td><td>0.0</td><td>1.0</td><td>1.0</td><td>0.0</td><td>37.0</td><td>26.0</td><td>62.0</td><td>31.0</td><td>0.0</td><td>33.0</td><td>26.0</td><td>0.0</td><td>24.0</td><td>0.0</td><td>32.0</td><td>30.0</td><td>22.0</td><td>0.0</td><td>0.0</td><td>0.0</td><td>0.0</td><td>24.0</td><td>6.0</td><td>191269.61</td><td>284213.0</td><td>0.0</td><td>0.0</td><td>0.0</td><td>0.0</td><td>0.0</td><td>0.0</td><td>0.0</td><td>0.0</td><td>0.0</td><td>0.0</td><td>0.0</td><td>0.0</td><td>0.0</td><td>367984.0</td></tr><tr><td>57569</td><td>100</td><td>0.0</td><td>4682.6</td><td>6.0</td><td>1.0</td><td>3.0</td><td>60000.0</td><td>0.0</td><td>0.0</td><td>3183.0</td><td>60000.0</td><td>0.38</td><td>20000.0</td><td>6000.0</td><td>37704.0</td><td>64555.668</td><td>2865.0</td><td>2865.0</td><td>2865.0</td><td>0.0</td><td>0.0</td><td>2865.0</td><td>2.0</td><td>1.0</td><td>4.0</td><td>17.0</td><td>5.0</td><td>0.0</td><td>5.0</td><td>36.0</td><td>6.0</td><td>5.0</td><td>1.0</td><td>5.0</td><td>10.0</td><td>15.0</td><td>0.0</td><td>0.0</td><td>0.6</td><td>0.66667</td><td>0.66667</td><td>0.6</td><td>24.0</td><td>3.0</td><td>0.0</td><td>95348.42</td><td>0.0</td><td>0.0</td><td>0.0</td><td>0.0</td><td>0.0</td><td>0.0</td><td>0.0</td><td>0.0</td><td>0.0</td><td>0.0</td><td>0.0</td><td>0.0</td><td>1.0</td><td>0.0</td></tr><tr><td>57630</td><td>100</td><td>0.0</td><td>8905.0</td><td>1.0</td><td>0.0</td><td>0.0</td><td>96174.0</td><td>0.0</td><td>0.0</td><td>3.0</td><td>96174.0</td><td>0.0</td><td>8876.0</td><td>12000.0</td><td>1382.8</td><td>0.0</td><td>0.0</td><td>0.0</td><td>0.0</td><td>0.0</td><td>0.0</td><td>0.0</td><td>2.0</td><td>0.0</td><td>0.0</td><td>7.0</td><td>3.0</td><td>0.0</td><td>5.0</td><td>0.0</td><td>5.0</td><td>3.0</td><td>3.0</td><td>3.0</td><td>2.0</td><td>7.0</td><td>0.0</td><td>0.0</td><td>0.0</td><td>0.28571</td><td>0.0</td><td>0.0</td><td>12.0</td><td>1.0</td><td>0.0</td><td>9677.601</td><td>0.0</td><td>0.0</td><td>0.0</td><td>0.0</td><td>0.0</td><td>0.0</td><td>0.0</td><td>0.0</td><td>0.0</td><td>0.0</td><td>0.0</td><td>0.0</td><td>1.0</td><td>0.0</td></tr><tr><td>57631</td><td>100</td><td>0.0</td><td>2540.6</td><td>0.0</td><td>0.0</td><td>0.0</td><td>24920.0</td><td>0.0</td><td>0.0</td><td>0.0</td><td>24920.0</td><td>0.39</td><td>0.0</td><td>0.0</td><td>0.0</td><td>0.0</td><td>0.0</td><td>0.0</td><td>0.0</td><td>0.0</td><td>0.0</td><td>0.0</td><td>3.0</td><td>0.0</td><td>0.0</td><td>0.0</td><td>0.0</td><td>0.0</td><td>0.0</td><td>0.0</td><td>0.0</td><td>0.0</td><td>0.0</td><td>0.0</td><td>0.0</td><td>0.0</td><td>0.0</td><td>0.0</td><td>0.0</td><td>0.0</td><td>0.0</td><td>0.0</td><td>12.0</td><td>0.0</td><td>0.0</td><td>0.0</td><td>0.0</td><td>0.0</td><td>0.0</td><td>0.0</td><td>0.0</td><td>0.0</td><td>0.0</td><td>0.0</td><td>0.0</td><td>0.0</td><td>0.0</td><td>0.0</td><td>0.0</td><td>0.0</td></tr><tr><td>57632</td><td>100</td><td>63647.402</td><td>4732.0</td><td>1.0</td><td>10.0</td><td>18.0</td><td>25998.0</td><td>0.0</td><td>0.0</td><td>0.0</td><td>25998.0</td><td>0.0</td><td>50116.0</td><td>56000.0</td><td>7000.0</td><td>63647.402</td><td>0.0</td><td>0.0</td><td>0.0</td><td>0.0</td><td>0.0</td><td>0.0</td><td>1.0</td><td>0.0</td><td>0.0</td><td>21.0</td><td>18.0</td><td>0.0</td><td>18.0</td><td>0.0</td><td>19.0</td><td>18.0</td><td>16.0</td><td>16.0</td><td>0.0</td><td>18.0</td><td>0.0</td><td>0.0</td><td>0.0</td><td>0.0</td><td>0.0</td><td>0.0</td><td>6.0</td><td>1.0</td><td>0.0</td><td>63652.0</td><td>0.0</td><td>0.0</td><td>0.0</td><td>0.0</td><td>0.0</td><td>0.0</td><td>0.0</td><td>0.0</td><td>0.0</td><td>0.0</td><td>0.0</td><td>0.0</td><td>0.0</td><td>127294.804</td></tr><tr><td>57633</td><td>100</td><td>0.0</td><td>8273.0</td><td>3.0</td><td>0.0</td><td>0.0</td><td>200000.0</td><td>0.0</td><td>0.0</td><td>0.0</td><td>200000.0</td><td>0.39</td><td>0.0</td><td>0.0</td><td>0.0</td><td>0.0</td><td>0.0</td><td>0.0</td><td>0.0</td><td>0.0</td><td>0.0</td><td>0.0</td><td>1.0</td><td>0.0</td><td>0.0</td><td>0.0</td><td>0.0</td><td>0.0</td><td>0.0</td><td>0.0</td><td>0.0</td><td>0.0</td><td>0.0</td><td>0.0</td><td>0.0</td><td>0.0</td><td>0.0</td><td>0.0</td><td>0.0</td><td>0.0</td><td>0.0</td><td>0.0</td><td>48.0</td><td>2.0</td><td>0.0</td><td>0.0</td><td>0.0</td><td>0.0</td><td>0.0</td><td>0.0</td><td>0.0</td><td>0.0</td><td>0.0</td><td>0.0</td><td>0.0</td><td>0.0</td><td>0.0</td><td>0.0</td><td>0.0</td><td>0.0</td></tr><tr><td>57634</td><td>100</td><td>39948.8</td><td>1165.8</td><td>0.0</td><td>4.0</td><td>10.0</td><td>12108.2</td><td>0.0</td><td>0.0</td><td>0.0</td><td>12108.2</td><td>0.277</td><td>16494.201</td><td>50000.0</td><td>5000.0</td><td>19798.0</td><td>0.0</td><td>0.0</td><td>0.0</td><td>0.0</td><td>0.0</td><td>0.0</td><td>2.0</td><td>0.0</td><td>0.0</td><td>10.0</td><td>4.0</td><td>0.0</td><td>10.0</td><td>0.0</td><td>11.0</td><td>4.0</td><td>0.0</td><td>2.0</td><td>0.0</td><td>10.0</td><td>0.0</td><td>0.0</td><td>0.0</td><td>0.0</td><td>0.0</td><td>0.0</td><td>12.0</td><td>0.0</td><td>0.0</td><td>39950.8</td><td>0.0</td><td>0.0</td><td>0.0</td><td>0.0</td><td>0.0</td><td>0.0</td><td>0.0</td><td>0.0</td><td>0.0</td><td>0.0</td><td>0.0</td><td>0.0</td><td>0.0</td><td>79897.6</td></tr></tbody></table></div>"
      ],
      "text/plain": [
       "shape: (10, 61)\n",
       "┌─────────┬──────────┬────────────┬────────────┬───┬───────────┬───────────┬───────────┬───────────┐\n",
       "│ case_id ┆ WEEK_NUM ┆ 2_Number   ┆ 3_Monthly  ┆ … ┆ 38_Revolv ┆ 40_Number ┆ 24_Order  ┆ proporcio │\n",
       "│ ---     ┆ ---      ┆ of instalm ┆ annuity    ┆   ┆ ing       ┆ of instal ┆ of the    ┆ n_cuotas_ │\n",
       "│ i64     ┆ i64      ┆ ents paid  ┆ amount.    ┆   ┆ account   ┆ ments in  ┆ person    ┆ pagadas   │\n",
       "│         ┆          ┆ bef…       ┆ ---        ┆   ┆ that was  ┆ the …     ┆ specified ┆ ---       │\n",
       "│         ┆          ┆ ---        ┆ f64        ┆   ┆ pr…       ┆ ---       ┆ …         ┆ f64       │\n",
       "│         ┆          ┆ f64        ┆            ┆   ┆ ---       ┆ f64       ┆ ---       ┆           │\n",
       "│         ┆          ┆            ┆            ┆   ┆ f64       ┆           ┆ f64       ┆           │\n",
       "╞═════════╪══════════╪════════════╪════════════╪═══╪═══════════╪═══════════╪═══════════╪═══════════╡\n",
       "│ 57543   ┆ 100      ┆ 191767.36  ┆ 3674.6     ┆ … ┆ 0.0       ┆ 164.0     ┆ 1.0       ┆ 191773.59 │\n",
       "│         ┆          ┆            ┆            ┆   ┆           ┆           ┆           ┆ 9705      │\n",
       "│ 57549   ┆ 100      ┆ 129704.4   ┆ 5742.6     ┆ … ┆ 1.6608e9  ┆ 91.0      ┆ 1.0       ┆ 129711.29 │\n",
       "│         ┆          ┆            ┆            ┆   ┆           ┆           ┆           ┆ 4476      │\n",
       "│ 57551   ┆ 100      ┆ 71036.4    ┆ 2844.6     ┆ … ┆ 0.0       ┆ 0.0       ┆ 0.0       ┆ 142072.8  │\n",
       "│ 57552   ┆ 100      ┆ 183992.0   ┆ 6298.8003  ┆ … ┆ 0.0       ┆ 0.0       ┆ 0.0       ┆ 367984.0  │\n",
       "│ 57569   ┆ 100      ┆ 0.0        ┆ 4682.6     ┆ … ┆ 0.0       ┆ 0.0       ┆ 1.0       ┆ 0.0       │\n",
       "│ 57630   ┆ 100      ┆ 0.0        ┆ 8905.0     ┆ … ┆ 0.0       ┆ 0.0       ┆ 1.0       ┆ 0.0       │\n",
       "│ 57631   ┆ 100      ┆ 0.0        ┆ 2540.6     ┆ … ┆ 0.0       ┆ 0.0       ┆ 0.0       ┆ 0.0       │\n",
       "│ 57632   ┆ 100      ┆ 63647.402  ┆ 4732.0     ┆ … ┆ 0.0       ┆ 0.0       ┆ 0.0       ┆ 127294.80 │\n",
       "│         ┆          ┆            ┆            ┆   ┆           ┆           ┆           ┆ 4         │\n",
       "│ 57633   ┆ 100      ┆ 0.0        ┆ 8273.0     ┆ … ┆ 0.0       ┆ 0.0       ┆ 0.0       ┆ 0.0       │\n",
       "│ 57634   ┆ 100      ┆ 39948.8    ┆ 1165.8     ┆ … ┆ 0.0       ┆ 0.0       ┆ 0.0       ┆ 79897.6   │\n",
       "└─────────┴──────────┴────────────┴────────────┴───┴───────────┴───────────┴───────────┴───────────┘"
      ]
     },
     "execution_count": 106,
     "metadata": {},
     "output_type": "execute_result"
    }
   ],
   "source": [
    "X_ts_4"
   ]
  },
  {
   "cell_type": "code",
   "execution_count": 107,
   "id": "ece7d1f4",
   "metadata": {
    "execution": {
     "iopub.execute_input": "2024-03-22T03:59:05.516539Z",
     "iopub.status.busy": "2024-03-22T03:59:05.515876Z",
     "iopub.status.idle": "2024-03-22T03:59:05.524221Z",
     "shell.execute_reply": "2024-03-22T03:59:05.523202Z"
    },
    "papermill": {
     "duration": 0.096594,
     "end_time": "2024-03-22T03:59:05.529731",
     "exception": false,
     "start_time": "2024-03-22T03:59:05.433137",
     "status": "completed"
    },
    "tags": []
   },
   "outputs": [],
   "source": [
    "# # Test.\n",
    "# X_ts_3_minmax = X_ts_2.with_columns(\n",
    "# #     pl.col('7_Number of applications associated with the same phone number.').alias('18_Type of income of the person_HANDICAPPED_3'),\n",
    "#     pl.col('7_Number of applications associated with the same phone number.').alias('18_Type of income of the person_OTHER'),\n",
    "#     pl.col('7_Number of applications associated with the same phone number.').alias('18_Type of income of the person_PRIVATE_SECTOR_EMPLOYEE'),\n",
    "# #     pl.col('7_Number of applications associated with the same phone number.').alias('18_Type of income of the person_RETIRED_PENSIONER'),\n",
    "#     pl.col('7_Number of applications associated with the same phone number.').alias('18_Type of income of the person_SELFEMPLOYED'),\n",
    "# #     pl.col('7_Number of applications associated with the same phone number.').alias('20_The primary language of the person._P209_127_106'),\n",
    "#     pl.col('7_Number of applications associated with the same phone number.').alias('26_Type of the initial transaction made in the previous application of the client._NDF')\n",
    "# ).select([\n",
    "#     '26_Type of the initial transaction made in the previous application of the client._NDF',\n",
    "#     'case_id',\n",
    "# #     '2_Number of instalments paid before due date in the last 24 months.',\n",
    "# #     '20_The primary language of the person._P209_127_106',\n",
    "# #     '18_Type of income of the person_HANDICAPPED_3',\n",
    "#     '18_Type of income of the person_OTHER',\n",
    "#     '18_Type of income of the person_PRIVATE_SECTOR_EMPLOYEE',\n",
    "#     '18_Type of income of the person_SELFEMPLOYED',\n",
    "# #     '18_Type of income of the person_RETIRED_PENSIONER',\n",
    "#     'WEEK_NUM',\n",
    "#  '3_Monthly annuity amount.',\n",
    "#  '44_Current amount of debt of the applicant.',\n",
    "#  \"86_Client's primary income amount.\",\n",
    "#  '9_Credit card credit limit provided for previous applications._total',\n",
    "#  \"16_Previous application's current debt._total\",\n",
    "#  \"29_Client's main income amount in their previous application._total\",\n",
    "#  \"32_Amount of outstanding debt on the client's previous application._total\",\n",
    "#  '21_Amount of the main income of the client.',\n",
    "#  '24_Order of the person specified on the application form.',\n",
    "#     '2_Monthly annuity for previous applications._total', '33_Number of payments made for the previous application._total'\n",
    "# ]).fill_null(0)"
   ]
  },
  {
   "cell_type": "code",
   "execution_count": 108,
   "id": "86619e6c",
   "metadata": {
    "execution": {
     "iopub.execute_input": "2024-03-22T03:59:05.732242Z",
     "iopub.status.busy": "2024-03-22T03:59:05.731536Z",
     "iopub.status.idle": "2024-03-22T03:59:05.742005Z",
     "shell.execute_reply": "2024-03-22T03:59:05.738612Z"
    },
    "papermill": {
     "duration": 0.108516,
     "end_time": "2024-03-22T03:59:05.745690",
     "exception": false,
     "start_time": "2024-03-22T03:59:05.637174",
     "status": "completed"
    },
    "tags": []
   },
   "outputs": [],
   "source": [
    "# # Test.\n",
    "# X_ts_4_minmax = X_ts_3_minmax.with_columns(\n",
    "#     (pl.col('33_Number of payments made for the previous application._total') / ((pl.col('33_Number of payments made for the previous application._total') + pl.col('2_Monthly annuity for previous applications._total') + 1))).alias(\n",
    "#         'ratio_pagos_realizados'\n",
    "#     )\n",
    "# ).select(pl.exclude(['2_Monthly annuity for previous applications._total', '33_Number of payments made for the previous application._total']))"
   ]
  },
  {
   "cell_type": "code",
   "execution_count": 109,
   "id": "baf46e92",
   "metadata": {
    "execution": {
     "iopub.execute_input": "2024-03-22T03:59:05.893188Z",
     "iopub.status.busy": "2024-03-22T03:59:05.892790Z",
     "iopub.status.idle": "2024-03-22T03:59:05.909237Z",
     "shell.execute_reply": "2024-03-22T03:59:05.908343Z"
    },
    "papermill": {
     "duration": 0.077252,
     "end_time": "2024-03-22T03:59:05.910948",
     "exception": false,
     "start_time": "2024-03-22T03:59:05.833696",
     "status": "completed"
    },
    "tags": []
   },
   "outputs": [
    {
     "data": {
      "text/html": [
       "<div><style>\n",
       ".dataframe > thead > tr,\n",
       ".dataframe > tbody > tr {\n",
       "  text-align: right;\n",
       "  white-space: pre-wrap;\n",
       "}\n",
       "</style>\n",
       "<small>shape: (10, 56)</small><table border=\"1\" class=\"dataframe\"><thead><tr><th>case_id</th><th>WEEK_NUM</th><th>2_Number of instalments paid before due date in the last 24 months.</th><th>3_Monthly annuity amount.</th><th>10_Number of applications associated with the same mobile phone.</th><th>38_Number of incoming payments in the past 9 months.</th><th>39_Number of months with any incoming payment in last 24 months.</th><th>41_Loan amount or credit card limit.</th><th>43_Current debt amount of the client.</th><th>44_Current amount of debt of the applicant.</th><th>48_Number of days that past after the due date (with tolerance).</th><th>50_Disbursed credit amount after consolidation.</th><th>62_The interest rate of the active credit contract.</th><th>71_Credit amount from the client&#x27;s last application.</th><th>86_Client&#x27;s primary income amount.</th><th>89_Maximum annuity previously obtained by client.</th><th>94_Maximal principal debt of the client in the history older than 4 months.</th><th>95_Maximum Days Past Due (DPD) in the period ranging from 6 to 36 months.</th><th>98_Maximum days past due in the past 12 months.</th><th>99_Maximal days past due in the last 24 months.</th><th>100_Maximum number of days past due in last 3 months.</th><th>101_Maximum days past due in the last 6 months.</th><th>102_Maximum days past due in last 9 months.</th><th>110_Number of persons with the same mobile phone number.</th><th>115_Number of contracts in last 3 months.</th><th>116_Number of incoming payments.</th><th>118_Number of instalments.</th><th>119_Number of paid instalments.</th><th>120_Number of instalments that were overdue for 10 or more days.</th><th>122_Number of instalments that were not past due date.</th><th>125_Number of instalments paid more than three days before the due date.</th><th>127_Number of instalments paid more than 5 days prior to the due date.</th><th>130_Number of installments paid prior to the due date.</th><th>133_Number of instalments paid more than 1 day past their due date.</th><th>134_Number of fully paid regular installments in the client&#x27;s previous contracts.</th><th>136_Number of unpaid instalments.</th><th>138_Maximum number of unpaid instalments.</th><th>151_Percentage of installments that were paid 6 or more days past their due date.</th><th>152_Total number of loan payments made by the client.</th><th>159_Number of sellerplaces where the same client&#x27;s mobile phone was used.</th><th>162_Total amount of debt.</th><th>163_Sum of all payments made by the client.</th><th>2_Monthly annuity for previous applications._total</th><th>6_Number of children in the previous application._total</th><th>9_Credit card credit limit provided for previous applications._total</th><th>14_Loan amount or card limit of previous applications._total</th><th>16_Previous application&#x27;s current debt._total</th><th>19_Previous application downpayment amount._total</th><th>29_Client&#x27;s main income amount in their previous application._total</th><th>30_Maximum DPD with tolerance (on previous application/s)._total</th><th>32_Amount of outstanding debt on the client&#x27;s previous application._total</th><th>33_Number of payments made for the previous application._total</th><th>38_Revolving account that was present in the applicant&#x27;s previous application._total</th><th>40_Number of instalments in the previous application._total</th><th>24_Order of the person specified on the application form.</th><th>proporcion_cuotas_pagadas</th></tr><tr><td>i64</td><td>i64</td><td>f64</td><td>f64</td><td>f64</td><td>f64</td><td>f64</td><td>f64</td><td>f64</td><td>f64</td><td>f64</td><td>f64</td><td>f64</td><td>f64</td><td>f64</td><td>f64</td><td>f64</td><td>f64</td><td>f64</td><td>f64</td><td>f64</td><td>f64</td><td>f64</td><td>f64</td><td>f64</td><td>f64</td><td>f64</td><td>f64</td><td>f64</td><td>f64</td><td>f64</td><td>f64</td><td>f64</td><td>f64</td><td>f64</td><td>f64</td><td>f64</td><td>f64</td><td>f64</td><td>f64</td><td>f64</td><td>f64</td><td>f64</td><td>f64</td><td>f64</td><td>f64</td><td>f64</td><td>f64</td><td>f64</td><td>f64</td><td>f64</td><td>f64</td><td>f64</td><td>f64</td><td>f64</td><td>f64</td></tr></thead><tbody><tr><td>57543</td><td>100</td><td>191767.36</td><td>3674.6</td><td>9.0</td><td>5.0</td><td>20.0</td><td>20000.0</td><td>12154.4</td><td>0.0</td><td>8.0</td><td>20000.0</td><td>0.34</td><td>14000.0</td><td>34000.0</td><td>280983.56</td><td>231440.03</td><td>7.0</td><td>3.0</td><td>7.0</td><td>3.0</td><td>3.0</td><td>3.0</td><td>2.0</td><td>1.0</td><td>112.0</td><td>14.0</td><td>66.0</td><td>0.0</td><td>79.0</td><td>34.0</td><td>0.0</td><td>25.0</td><td>31.0</td><td>96.0</td><td>10.0</td><td>10.0</td><td>0.05208</td><td>6.0</td><td>5.0</td><td>12154.4</td><td>456031.1</td><td>30732.4008</td><td>6.0</td><td>0.0</td><td>368253.0</td><td>12154.4</td><td>4000.0</td><td>304000.0</td><td>98.0</td><td>12154.4</td><td>164.0</td><td>0.0</td><td>164.0</td><td>1.0</td><td>191773.599705</td></tr><tr><td>57549</td><td>100</td><td>129704.4</td><td>5742.6</td><td>10.0</td><td>3.0</td><td>3.0</td><td>75000.0</td><td>10638.2</td><td>10638.2</td><td>61.0</td><td>75000.0</td><td>0.227</td><td>94000.0</td><td>44000.0</td><td>337659.8</td><td>34066.0</td><td>0.0</td><td>0.0</td><td>0.0</td><td>0.0</td><td>0.0</td><td>0.0</td><td>3.0</td><td>2.0</td><td>38.0</td><td>6.0</td><td>31.0</td><td>15.0</td><td>60.0</td><td>15.0</td><td>0.0</td><td>15.0</td><td>13.0</td><td>44.0</td><td>3.0</td><td>3.0</td><td>0.13953</td><td>18.0</td><td>7.0</td><td>10638.2</td><td>373720.84</td><td>18811.8001</td><td>0.0</td><td>89666.0</td><td>187718.6</td><td>10256.632</td><td>0.0</td><td>281800.0</td><td>1.0</td><td>10638.2</td><td>91.0</td><td>1.6608e9</td><td>91.0</td><td>1.0</td><td>129711.294476</td></tr><tr><td>57551</td><td>100</td><td>71036.4</td><td>2844.6</td><td>2.0</td><td>4.0</td><td>9.0</td><td>27095.201</td><td>0.0</td><td>0.0</td><td>4.0</td><td>27095.201</td><td>0.45</td><td>200000.0</td><td>70000.0</td><td>83400.0</td><td>54000.0</td><td>4.0</td><td>4.0</td><td>4.0</td><td>0.0</td><td>0.0</td><td>4.0</td><td>1.0</td><td>1.0</td><td>9.0</td><td>0.0</td><td>8.0</td><td>0.0</td><td>9.0</td><td>3.0</td><td>0.0</td><td>0.0</td><td>1.0</td><td>9.0</td><td>0.0</td><td>0.0</td><td>0.0</td><td>12.0</td><td>2.0</td><td>0.0</td><td>75219.0</td><td>0.0</td><td>0.0</td><td>0.0</td><td>0.0</td><td>0.0</td><td>0.0</td><td>0.0</td><td>0.0</td><td>0.0</td><td>0.0</td><td>0.0</td><td>0.0</td><td>0.0</td><td>142072.8</td></tr><tr><td>57552</td><td>100</td><td>183992.0</td><td>6298.8003</td><td>9.0</td><td>18.0</td><td>24.0</td><td>100000.0</td><td>191269.61</td><td>191269.61</td><td>1.0</td><td>100000.0</td><td>0.15</td><td>0.0</td><td>0.0</td><td>110500.0</td><td>188126.14</td><td>0.0</td><td>0.0</td><td>0.0</td><td>0.0</td><td>0.0</td><td>0.0</td><td>1.0</td><td>0.0</td><td>37.0</td><td>62.0</td><td>31.0</td><td>0.0</td><td>33.0</td><td>26.0</td><td>0.0</td><td>24.0</td><td>0.0</td><td>32.0</td><td>30.0</td><td>22.0</td><td>0.0</td><td>24.0</td><td>6.0</td><td>191269.61</td><td>284213.0</td><td>0.0</td><td>0.0</td><td>0.0</td><td>0.0</td><td>0.0</td><td>0.0</td><td>0.0</td><td>0.0</td><td>0.0</td><td>0.0</td><td>0.0</td><td>0.0</td><td>0.0</td><td>367984.0</td></tr><tr><td>57569</td><td>100</td><td>0.0</td><td>4682.6</td><td>6.0</td><td>1.0</td><td>3.0</td><td>60000.0</td><td>0.0</td><td>0.0</td><td>3183.0</td><td>60000.0</td><td>0.38</td><td>20000.0</td><td>6000.0</td><td>37704.0</td><td>64555.668</td><td>2865.0</td><td>2865.0</td><td>2865.0</td><td>0.0</td><td>0.0</td><td>2865.0</td><td>2.0</td><td>4.0</td><td>17.0</td><td>0.0</td><td>5.0</td><td>36.0</td><td>6.0</td><td>5.0</td><td>1.0</td><td>5.0</td><td>10.0</td><td>15.0</td><td>0.0</td><td>0.0</td><td>0.6</td><td>24.0</td><td>3.0</td><td>0.0</td><td>95348.42</td><td>0.0</td><td>0.0</td><td>0.0</td><td>0.0</td><td>0.0</td><td>0.0</td><td>0.0</td><td>0.0</td><td>0.0</td><td>0.0</td><td>0.0</td><td>0.0</td><td>1.0</td><td>0.0</td></tr><tr><td>57630</td><td>100</td><td>0.0</td><td>8905.0</td><td>1.0</td><td>0.0</td><td>0.0</td><td>96174.0</td><td>0.0</td><td>0.0</td><td>3.0</td><td>96174.0</td><td>0.0</td><td>8876.0</td><td>12000.0</td><td>1382.8</td><td>0.0</td><td>0.0</td><td>0.0</td><td>0.0</td><td>0.0</td><td>0.0</td><td>0.0</td><td>2.0</td><td>0.0</td><td>7.0</td><td>0.0</td><td>5.0</td><td>0.0</td><td>5.0</td><td>3.0</td><td>3.0</td><td>3.0</td><td>2.0</td><td>7.0</td><td>0.0</td><td>0.0</td><td>0.0</td><td>12.0</td><td>1.0</td><td>0.0</td><td>9677.601</td><td>0.0</td><td>0.0</td><td>0.0</td><td>0.0</td><td>0.0</td><td>0.0</td><td>0.0</td><td>0.0</td><td>0.0</td><td>0.0</td><td>0.0</td><td>0.0</td><td>1.0</td><td>0.0</td></tr><tr><td>57631</td><td>100</td><td>0.0</td><td>2540.6</td><td>0.0</td><td>0.0</td><td>0.0</td><td>24920.0</td><td>0.0</td><td>0.0</td><td>0.0</td><td>24920.0</td><td>0.39</td><td>0.0</td><td>0.0</td><td>0.0</td><td>0.0</td><td>0.0</td><td>0.0</td><td>0.0</td><td>0.0</td><td>0.0</td><td>0.0</td><td>3.0</td><td>0.0</td><td>0.0</td><td>0.0</td><td>0.0</td><td>0.0</td><td>0.0</td><td>0.0</td><td>0.0</td><td>0.0</td><td>0.0</td><td>0.0</td><td>0.0</td><td>0.0</td><td>0.0</td><td>12.0</td><td>0.0</td><td>0.0</td><td>0.0</td><td>0.0</td><td>0.0</td><td>0.0</td><td>0.0</td><td>0.0</td><td>0.0</td><td>0.0</td><td>0.0</td><td>0.0</td><td>0.0</td><td>0.0</td><td>0.0</td><td>0.0</td><td>0.0</td></tr><tr><td>57632</td><td>100</td><td>63647.402</td><td>4732.0</td><td>1.0</td><td>10.0</td><td>18.0</td><td>25998.0</td><td>0.0</td><td>0.0</td><td>0.0</td><td>25998.0</td><td>0.0</td><td>50116.0</td><td>56000.0</td><td>7000.0</td><td>63647.402</td><td>0.0</td><td>0.0</td><td>0.0</td><td>0.0</td><td>0.0</td><td>0.0</td><td>1.0</td><td>0.0</td><td>21.0</td><td>0.0</td><td>18.0</td><td>0.0</td><td>19.0</td><td>18.0</td><td>16.0</td><td>16.0</td><td>0.0</td><td>18.0</td><td>0.0</td><td>0.0</td><td>0.0</td><td>6.0</td><td>1.0</td><td>0.0</td><td>63652.0</td><td>0.0</td><td>0.0</td><td>0.0</td><td>0.0</td><td>0.0</td><td>0.0</td><td>0.0</td><td>0.0</td><td>0.0</td><td>0.0</td><td>0.0</td><td>0.0</td><td>0.0</td><td>127294.804</td></tr><tr><td>57633</td><td>100</td><td>0.0</td><td>8273.0</td><td>3.0</td><td>0.0</td><td>0.0</td><td>200000.0</td><td>0.0</td><td>0.0</td><td>0.0</td><td>200000.0</td><td>0.39</td><td>0.0</td><td>0.0</td><td>0.0</td><td>0.0</td><td>0.0</td><td>0.0</td><td>0.0</td><td>0.0</td><td>0.0</td><td>0.0</td><td>1.0</td><td>0.0</td><td>0.0</td><td>0.0</td><td>0.0</td><td>0.0</td><td>0.0</td><td>0.0</td><td>0.0</td><td>0.0</td><td>0.0</td><td>0.0</td><td>0.0</td><td>0.0</td><td>0.0</td><td>48.0</td><td>2.0</td><td>0.0</td><td>0.0</td><td>0.0</td><td>0.0</td><td>0.0</td><td>0.0</td><td>0.0</td><td>0.0</td><td>0.0</td><td>0.0</td><td>0.0</td><td>0.0</td><td>0.0</td><td>0.0</td><td>0.0</td><td>0.0</td></tr><tr><td>57634</td><td>100</td><td>39948.8</td><td>1165.8</td><td>0.0</td><td>4.0</td><td>10.0</td><td>12108.2</td><td>0.0</td><td>0.0</td><td>0.0</td><td>12108.2</td><td>0.277</td><td>16494.201</td><td>50000.0</td><td>5000.0</td><td>19798.0</td><td>0.0</td><td>0.0</td><td>0.0</td><td>0.0</td><td>0.0</td><td>0.0</td><td>2.0</td><td>0.0</td><td>10.0</td><td>0.0</td><td>10.0</td><td>0.0</td><td>11.0</td><td>4.0</td><td>0.0</td><td>2.0</td><td>0.0</td><td>10.0</td><td>0.0</td><td>0.0</td><td>0.0</td><td>12.0</td><td>0.0</td><td>0.0</td><td>39950.8</td><td>0.0</td><td>0.0</td><td>0.0</td><td>0.0</td><td>0.0</td><td>0.0</td><td>0.0</td><td>0.0</td><td>0.0</td><td>0.0</td><td>0.0</td><td>0.0</td><td>0.0</td><td>79897.6</td></tr></tbody></table></div>"
      ],
      "text/plain": [
       "shape: (10, 56)\n",
       "┌─────────┬──────────┬────────────┬────────────┬───┬───────────┬───────────┬───────────┬───────────┐\n",
       "│ case_id ┆ WEEK_NUM ┆ 2_Number   ┆ 3_Monthly  ┆ … ┆ 38_Revolv ┆ 40_Number ┆ 24_Order  ┆ proporcio │\n",
       "│ ---     ┆ ---      ┆ of instalm ┆ annuity    ┆   ┆ ing       ┆ of instal ┆ of the    ┆ n_cuotas_ │\n",
       "│ i64     ┆ i64      ┆ ents paid  ┆ amount.    ┆   ┆ account   ┆ ments in  ┆ person    ┆ pagadas   │\n",
       "│         ┆          ┆ bef…       ┆ ---        ┆   ┆ that was  ┆ the …     ┆ specified ┆ ---       │\n",
       "│         ┆          ┆ ---        ┆ f64        ┆   ┆ pr…       ┆ ---       ┆ …         ┆ f64       │\n",
       "│         ┆          ┆ f64        ┆            ┆   ┆ ---       ┆ f64       ┆ ---       ┆           │\n",
       "│         ┆          ┆            ┆            ┆   ┆ f64       ┆           ┆ f64       ┆           │\n",
       "╞═════════╪══════════╪════════════╪════════════╪═══╪═══════════╪═══════════╪═══════════╪═══════════╡\n",
       "│ 57543   ┆ 100      ┆ 191767.36  ┆ 3674.6     ┆ … ┆ 0.0       ┆ 164.0     ┆ 1.0       ┆ 191773.59 │\n",
       "│         ┆          ┆            ┆            ┆   ┆           ┆           ┆           ┆ 9705      │\n",
       "│ 57549   ┆ 100      ┆ 129704.4   ┆ 5742.6     ┆ … ┆ 1.6608e9  ┆ 91.0      ┆ 1.0       ┆ 129711.29 │\n",
       "│         ┆          ┆            ┆            ┆   ┆           ┆           ┆           ┆ 4476      │\n",
       "│ 57551   ┆ 100      ┆ 71036.4    ┆ 2844.6     ┆ … ┆ 0.0       ┆ 0.0       ┆ 0.0       ┆ 142072.8  │\n",
       "│ 57552   ┆ 100      ┆ 183992.0   ┆ 6298.8003  ┆ … ┆ 0.0       ┆ 0.0       ┆ 0.0       ┆ 367984.0  │\n",
       "│ 57569   ┆ 100      ┆ 0.0        ┆ 4682.6     ┆ … ┆ 0.0       ┆ 0.0       ┆ 1.0       ┆ 0.0       │\n",
       "│ 57630   ┆ 100      ┆ 0.0        ┆ 8905.0     ┆ … ┆ 0.0       ┆ 0.0       ┆ 1.0       ┆ 0.0       │\n",
       "│ 57631   ┆ 100      ┆ 0.0        ┆ 2540.6     ┆ … ┆ 0.0       ┆ 0.0       ┆ 0.0       ┆ 0.0       │\n",
       "│ 57632   ┆ 100      ┆ 63647.402  ┆ 4732.0     ┆ … ┆ 0.0       ┆ 0.0       ┆ 0.0       ┆ 127294.80 │\n",
       "│         ┆          ┆            ┆            ┆   ┆           ┆           ┆           ┆ 4         │\n",
       "│ 57633   ┆ 100      ┆ 0.0        ┆ 8273.0     ┆ … ┆ 0.0       ┆ 0.0       ┆ 0.0       ┆ 0.0       │\n",
       "│ 57634   ┆ 100      ┆ 39948.8    ┆ 1165.8     ┆ … ┆ 0.0       ┆ 0.0       ┆ 0.0       ┆ 79897.6   │\n",
       "└─────────┴──────────┴────────────┴────────────┴───┴───────────┴───────────┴───────────┴───────────┘"
      ]
     },
     "execution_count": 109,
     "metadata": {},
     "output_type": "execute_result"
    }
   ],
   "source": [
    "X_ts_4.select(pl.col('case_id'), pl.col(cols_X_seleccionadas))"
   ]
  },
  {
   "cell_type": "code",
   "execution_count": 110,
   "id": "7ef34cf2",
   "metadata": {
    "execution": {
     "iopub.execute_input": "2024-03-22T03:59:06.072271Z",
     "iopub.status.busy": "2024-03-22T03:59:06.071308Z",
     "iopub.status.idle": "2024-03-22T03:59:06.081302Z",
     "shell.execute_reply": "2024-03-22T03:59:06.079270Z"
    },
    "papermill": {
     "duration": 0.097142,
     "end_time": "2024-03-22T03:59:06.084209",
     "exception": false,
     "start_time": "2024-03-22T03:59:05.987067",
     "status": "completed"
    },
    "tags": []
   },
   "outputs": [],
   "source": [
    "# Test.\n",
    "X_ts_5 = X_ts_4.select(pl.col('case_id'), pl.col(cols_X_seleccionadas))\n",
    "# X_ts_5_minmax = X_ts_4_minmax.select(pl.col('case_id'), pl.col(cols_X_minmax_seleccionadas))"
   ]
  },
  {
   "cell_type": "code",
   "execution_count": 111,
   "id": "bb869281",
   "metadata": {
    "execution": {
     "iopub.execute_input": "2024-03-22T03:59:06.252681Z",
     "iopub.status.busy": "2024-03-22T03:59:06.251062Z",
     "iopub.status.idle": "2024-03-22T03:59:06.261141Z",
     "shell.execute_reply": "2024-03-22T03:59:06.257706Z"
    },
    "papermill": {
     "duration": 0.101665,
     "end_time": "2024-03-22T03:59:06.266325",
     "exception": false,
     "start_time": "2024-03-22T03:59:06.164660",
     "status": "completed"
    },
    "tags": []
   },
   "outputs": [],
   "source": [
    "# # Test.\n",
    "# arrays_minmax_ts = minmax.fit_transform(X_ts_5_minmax)"
   ]
  },
  {
   "cell_type": "code",
   "execution_count": 112,
   "id": "076d861b",
   "metadata": {
    "execution": {
     "iopub.execute_input": "2024-03-22T03:59:06.436424Z",
     "iopub.status.busy": "2024-03-22T03:59:06.436015Z",
     "iopub.status.idle": "2024-03-22T03:59:06.442023Z",
     "shell.execute_reply": "2024-03-22T03:59:06.440081Z"
    },
    "papermill": {
     "duration": 0.090329,
     "end_time": "2024-03-22T03:59:06.445421",
     "exception": false,
     "start_time": "2024-03-22T03:59:06.355092",
     "status": "completed"
    },
    "tags": []
   },
   "outputs": [],
   "source": [
    "# # Test.\n",
    "# arrays_minmax_ts = minmax.fit_transform(X_ts_5_minmax.select(pl.exclude('case_id')))\n",
    "# X_minmax_ts_without_id = pl.DataFrame(arrays_minmax_ts, schema= X_ts_5_minmax.select(pl.exclude('case_id')).columns)\n",
    "# X_minmax_ts = pl.concat([X_ts_5_minmax.select('case_id'), X_minmax_ts_without_id], how= 'horizontal')"
   ]
  },
  {
   "cell_type": "code",
   "execution_count": 113,
   "id": "cc8b0805",
   "metadata": {
    "execution": {
     "iopub.execute_input": "2024-03-22T03:59:06.562123Z",
     "iopub.status.busy": "2024-03-22T03:59:06.560021Z",
     "iopub.status.idle": "2024-03-22T03:59:06.581437Z",
     "shell.execute_reply": "2024-03-22T03:59:06.580505Z"
    },
    "papermill": {
     "duration": 0.076465,
     "end_time": "2024-03-22T03:59:06.583480",
     "exception": false,
     "start_time": "2024-03-22T03:59:06.507015",
     "status": "completed"
    },
    "tags": []
   },
   "outputs": [
    {
     "data": {
      "text/html": [
       "<div><style>\n",
       ".dataframe > thead > tr,\n",
       ".dataframe > tbody > tr {\n",
       "  text-align: right;\n",
       "  white-space: pre-wrap;\n",
       "}\n",
       "</style>\n",
       "<small>shape: (10, 56)</small><table border=\"1\" class=\"dataframe\"><thead><tr><th>case_id</th><th>WEEK_NUM</th><th>2_Number of instalments paid before due date in the last 24 months.</th><th>3_Monthly annuity amount.</th><th>10_Number of applications associated with the same mobile phone.</th><th>38_Number of incoming payments in the past 9 months.</th><th>39_Number of months with any incoming payment in last 24 months.</th><th>41_Loan amount or credit card limit.</th><th>43_Current debt amount of the client.</th><th>44_Current amount of debt of the applicant.</th><th>48_Number of days that past after the due date (with tolerance).</th><th>50_Disbursed credit amount after consolidation.</th><th>62_The interest rate of the active credit contract.</th><th>71_Credit amount from the client&#x27;s last application.</th><th>86_Client&#x27;s primary income amount.</th><th>89_Maximum annuity previously obtained by client.</th><th>94_Maximal principal debt of the client in the history older than 4 months.</th><th>95_Maximum Days Past Due (DPD) in the period ranging from 6 to 36 months.</th><th>98_Maximum days past due in the past 12 months.</th><th>99_Maximal days past due in the last 24 months.</th><th>100_Maximum number of days past due in last 3 months.</th><th>101_Maximum days past due in the last 6 months.</th><th>102_Maximum days past due in last 9 months.</th><th>110_Number of persons with the same mobile phone number.</th><th>115_Number of contracts in last 3 months.</th><th>116_Number of incoming payments.</th><th>118_Number of instalments.</th><th>119_Number of paid instalments.</th><th>120_Number of instalments that were overdue for 10 or more days.</th><th>122_Number of instalments that were not past due date.</th><th>125_Number of instalments paid more than three days before the due date.</th><th>127_Number of instalments paid more than 5 days prior to the due date.</th><th>130_Number of installments paid prior to the due date.</th><th>133_Number of instalments paid more than 1 day past their due date.</th><th>134_Number of fully paid regular installments in the client&#x27;s previous contracts.</th><th>136_Number of unpaid instalments.</th><th>138_Maximum number of unpaid instalments.</th><th>151_Percentage of installments that were paid 6 or more days past their due date.</th><th>152_Total number of loan payments made by the client.</th><th>159_Number of sellerplaces where the same client&#x27;s mobile phone was used.</th><th>162_Total amount of debt.</th><th>163_Sum of all payments made by the client.</th><th>2_Monthly annuity for previous applications._total</th><th>6_Number of children in the previous application._total</th><th>9_Credit card credit limit provided for previous applications._total</th><th>14_Loan amount or card limit of previous applications._total</th><th>16_Previous application&#x27;s current debt._total</th><th>19_Previous application downpayment amount._total</th><th>29_Client&#x27;s main income amount in their previous application._total</th><th>30_Maximum DPD with tolerance (on previous application/s)._total</th><th>32_Amount of outstanding debt on the client&#x27;s previous application._total</th><th>33_Number of payments made for the previous application._total</th><th>38_Revolving account that was present in the applicant&#x27;s previous application._total</th><th>40_Number of instalments in the previous application._total</th><th>24_Order of the person specified on the application form.</th><th>proporcion_cuotas_pagadas</th></tr><tr><td>i64</td><td>i64</td><td>f64</td><td>f64</td><td>f64</td><td>f64</td><td>f64</td><td>f64</td><td>f64</td><td>f64</td><td>f64</td><td>f64</td><td>f64</td><td>f64</td><td>f64</td><td>f64</td><td>f64</td><td>f64</td><td>f64</td><td>f64</td><td>f64</td><td>f64</td><td>f64</td><td>f64</td><td>f64</td><td>f64</td><td>f64</td><td>f64</td><td>f64</td><td>f64</td><td>f64</td><td>f64</td><td>f64</td><td>f64</td><td>f64</td><td>f64</td><td>f64</td><td>f64</td><td>f64</td><td>f64</td><td>f64</td><td>f64</td><td>f64</td><td>f64</td><td>f64</td><td>f64</td><td>f64</td><td>f64</td><td>f64</td><td>f64</td><td>f64</td><td>f64</td><td>f64</td><td>f64</td><td>f64</td><td>f64</td></tr></thead><tbody><tr><td>57543</td><td>100</td><td>191767.36</td><td>3674.6</td><td>9.0</td><td>5.0</td><td>20.0</td><td>20000.0</td><td>12154.4</td><td>0.0</td><td>8.0</td><td>20000.0</td><td>0.34</td><td>14000.0</td><td>34000.0</td><td>280983.56</td><td>231440.03</td><td>7.0</td><td>3.0</td><td>7.0</td><td>3.0</td><td>3.0</td><td>3.0</td><td>2.0</td><td>1.0</td><td>112.0</td><td>14.0</td><td>66.0</td><td>0.0</td><td>79.0</td><td>34.0</td><td>0.0</td><td>25.0</td><td>31.0</td><td>96.0</td><td>10.0</td><td>10.0</td><td>0.05208</td><td>6.0</td><td>5.0</td><td>12154.4</td><td>456031.1</td><td>30732.4008</td><td>6.0</td><td>0.0</td><td>368253.0</td><td>12154.4</td><td>4000.0</td><td>304000.0</td><td>98.0</td><td>12154.4</td><td>164.0</td><td>0.0</td><td>164.0</td><td>1.0</td><td>191773.599705</td></tr><tr><td>57549</td><td>100</td><td>129704.4</td><td>5742.6</td><td>10.0</td><td>3.0</td><td>3.0</td><td>75000.0</td><td>10638.2</td><td>10638.2</td><td>61.0</td><td>75000.0</td><td>0.227</td><td>94000.0</td><td>44000.0</td><td>337659.8</td><td>34066.0</td><td>0.0</td><td>0.0</td><td>0.0</td><td>0.0</td><td>0.0</td><td>0.0</td><td>3.0</td><td>2.0</td><td>38.0</td><td>6.0</td><td>31.0</td><td>15.0</td><td>60.0</td><td>15.0</td><td>0.0</td><td>15.0</td><td>13.0</td><td>44.0</td><td>3.0</td><td>3.0</td><td>0.13953</td><td>18.0</td><td>7.0</td><td>10638.2</td><td>373720.84</td><td>18811.8001</td><td>0.0</td><td>89666.0</td><td>187718.6</td><td>10256.632</td><td>0.0</td><td>281800.0</td><td>1.0</td><td>10638.2</td><td>91.0</td><td>1.6608e9</td><td>91.0</td><td>1.0</td><td>129711.294476</td></tr><tr><td>57551</td><td>100</td><td>71036.4</td><td>2844.6</td><td>2.0</td><td>4.0</td><td>9.0</td><td>27095.201</td><td>0.0</td><td>0.0</td><td>4.0</td><td>27095.201</td><td>0.45</td><td>200000.0</td><td>70000.0</td><td>83400.0</td><td>54000.0</td><td>4.0</td><td>4.0</td><td>4.0</td><td>0.0</td><td>0.0</td><td>4.0</td><td>1.0</td><td>1.0</td><td>9.0</td><td>0.0</td><td>8.0</td><td>0.0</td><td>9.0</td><td>3.0</td><td>0.0</td><td>0.0</td><td>1.0</td><td>9.0</td><td>0.0</td><td>0.0</td><td>0.0</td><td>12.0</td><td>2.0</td><td>0.0</td><td>75219.0</td><td>0.0</td><td>0.0</td><td>0.0</td><td>0.0</td><td>0.0</td><td>0.0</td><td>0.0</td><td>0.0</td><td>0.0</td><td>0.0</td><td>0.0</td><td>0.0</td><td>0.0</td><td>142072.8</td></tr><tr><td>57552</td><td>100</td><td>183992.0</td><td>6298.8003</td><td>9.0</td><td>18.0</td><td>24.0</td><td>100000.0</td><td>191269.61</td><td>191269.61</td><td>1.0</td><td>100000.0</td><td>0.15</td><td>0.0</td><td>0.0</td><td>110500.0</td><td>188126.14</td><td>0.0</td><td>0.0</td><td>0.0</td><td>0.0</td><td>0.0</td><td>0.0</td><td>1.0</td><td>0.0</td><td>37.0</td><td>62.0</td><td>31.0</td><td>0.0</td><td>33.0</td><td>26.0</td><td>0.0</td><td>24.0</td><td>0.0</td><td>32.0</td><td>30.0</td><td>22.0</td><td>0.0</td><td>24.0</td><td>6.0</td><td>191269.61</td><td>284213.0</td><td>0.0</td><td>0.0</td><td>0.0</td><td>0.0</td><td>0.0</td><td>0.0</td><td>0.0</td><td>0.0</td><td>0.0</td><td>0.0</td><td>0.0</td><td>0.0</td><td>0.0</td><td>367984.0</td></tr><tr><td>57569</td><td>100</td><td>0.0</td><td>4682.6</td><td>6.0</td><td>1.0</td><td>3.0</td><td>60000.0</td><td>0.0</td><td>0.0</td><td>3183.0</td><td>60000.0</td><td>0.38</td><td>20000.0</td><td>6000.0</td><td>37704.0</td><td>64555.668</td><td>2865.0</td><td>2865.0</td><td>2865.0</td><td>0.0</td><td>0.0</td><td>2865.0</td><td>2.0</td><td>4.0</td><td>17.0</td><td>0.0</td><td>5.0</td><td>36.0</td><td>6.0</td><td>5.0</td><td>1.0</td><td>5.0</td><td>10.0</td><td>15.0</td><td>0.0</td><td>0.0</td><td>0.6</td><td>24.0</td><td>3.0</td><td>0.0</td><td>95348.42</td><td>0.0</td><td>0.0</td><td>0.0</td><td>0.0</td><td>0.0</td><td>0.0</td><td>0.0</td><td>0.0</td><td>0.0</td><td>0.0</td><td>0.0</td><td>0.0</td><td>1.0</td><td>0.0</td></tr><tr><td>57630</td><td>100</td><td>0.0</td><td>8905.0</td><td>1.0</td><td>0.0</td><td>0.0</td><td>96174.0</td><td>0.0</td><td>0.0</td><td>3.0</td><td>96174.0</td><td>0.0</td><td>8876.0</td><td>12000.0</td><td>1382.8</td><td>0.0</td><td>0.0</td><td>0.0</td><td>0.0</td><td>0.0</td><td>0.0</td><td>0.0</td><td>2.0</td><td>0.0</td><td>7.0</td><td>0.0</td><td>5.0</td><td>0.0</td><td>5.0</td><td>3.0</td><td>3.0</td><td>3.0</td><td>2.0</td><td>7.0</td><td>0.0</td><td>0.0</td><td>0.0</td><td>12.0</td><td>1.0</td><td>0.0</td><td>9677.601</td><td>0.0</td><td>0.0</td><td>0.0</td><td>0.0</td><td>0.0</td><td>0.0</td><td>0.0</td><td>0.0</td><td>0.0</td><td>0.0</td><td>0.0</td><td>0.0</td><td>1.0</td><td>0.0</td></tr><tr><td>57631</td><td>100</td><td>0.0</td><td>2540.6</td><td>0.0</td><td>0.0</td><td>0.0</td><td>24920.0</td><td>0.0</td><td>0.0</td><td>0.0</td><td>24920.0</td><td>0.39</td><td>0.0</td><td>0.0</td><td>0.0</td><td>0.0</td><td>0.0</td><td>0.0</td><td>0.0</td><td>0.0</td><td>0.0</td><td>0.0</td><td>3.0</td><td>0.0</td><td>0.0</td><td>0.0</td><td>0.0</td><td>0.0</td><td>0.0</td><td>0.0</td><td>0.0</td><td>0.0</td><td>0.0</td><td>0.0</td><td>0.0</td><td>0.0</td><td>0.0</td><td>12.0</td><td>0.0</td><td>0.0</td><td>0.0</td><td>0.0</td><td>0.0</td><td>0.0</td><td>0.0</td><td>0.0</td><td>0.0</td><td>0.0</td><td>0.0</td><td>0.0</td><td>0.0</td><td>0.0</td><td>0.0</td><td>0.0</td><td>0.0</td></tr><tr><td>57632</td><td>100</td><td>63647.402</td><td>4732.0</td><td>1.0</td><td>10.0</td><td>18.0</td><td>25998.0</td><td>0.0</td><td>0.0</td><td>0.0</td><td>25998.0</td><td>0.0</td><td>50116.0</td><td>56000.0</td><td>7000.0</td><td>63647.402</td><td>0.0</td><td>0.0</td><td>0.0</td><td>0.0</td><td>0.0</td><td>0.0</td><td>1.0</td><td>0.0</td><td>21.0</td><td>0.0</td><td>18.0</td><td>0.0</td><td>19.0</td><td>18.0</td><td>16.0</td><td>16.0</td><td>0.0</td><td>18.0</td><td>0.0</td><td>0.0</td><td>0.0</td><td>6.0</td><td>1.0</td><td>0.0</td><td>63652.0</td><td>0.0</td><td>0.0</td><td>0.0</td><td>0.0</td><td>0.0</td><td>0.0</td><td>0.0</td><td>0.0</td><td>0.0</td><td>0.0</td><td>0.0</td><td>0.0</td><td>0.0</td><td>127294.804</td></tr><tr><td>57633</td><td>100</td><td>0.0</td><td>8273.0</td><td>3.0</td><td>0.0</td><td>0.0</td><td>200000.0</td><td>0.0</td><td>0.0</td><td>0.0</td><td>200000.0</td><td>0.39</td><td>0.0</td><td>0.0</td><td>0.0</td><td>0.0</td><td>0.0</td><td>0.0</td><td>0.0</td><td>0.0</td><td>0.0</td><td>0.0</td><td>1.0</td><td>0.0</td><td>0.0</td><td>0.0</td><td>0.0</td><td>0.0</td><td>0.0</td><td>0.0</td><td>0.0</td><td>0.0</td><td>0.0</td><td>0.0</td><td>0.0</td><td>0.0</td><td>0.0</td><td>48.0</td><td>2.0</td><td>0.0</td><td>0.0</td><td>0.0</td><td>0.0</td><td>0.0</td><td>0.0</td><td>0.0</td><td>0.0</td><td>0.0</td><td>0.0</td><td>0.0</td><td>0.0</td><td>0.0</td><td>0.0</td><td>0.0</td><td>0.0</td></tr><tr><td>57634</td><td>100</td><td>39948.8</td><td>1165.8</td><td>0.0</td><td>4.0</td><td>10.0</td><td>12108.2</td><td>0.0</td><td>0.0</td><td>0.0</td><td>12108.2</td><td>0.277</td><td>16494.201</td><td>50000.0</td><td>5000.0</td><td>19798.0</td><td>0.0</td><td>0.0</td><td>0.0</td><td>0.0</td><td>0.0</td><td>0.0</td><td>2.0</td><td>0.0</td><td>10.0</td><td>0.0</td><td>10.0</td><td>0.0</td><td>11.0</td><td>4.0</td><td>0.0</td><td>2.0</td><td>0.0</td><td>10.0</td><td>0.0</td><td>0.0</td><td>0.0</td><td>12.0</td><td>0.0</td><td>0.0</td><td>39950.8</td><td>0.0</td><td>0.0</td><td>0.0</td><td>0.0</td><td>0.0</td><td>0.0</td><td>0.0</td><td>0.0</td><td>0.0</td><td>0.0</td><td>0.0</td><td>0.0</td><td>0.0</td><td>79897.6</td></tr></tbody></table></div>"
      ],
      "text/plain": [
       "shape: (10, 56)\n",
       "┌─────────┬──────────┬────────────┬────────────┬───┬───────────┬───────────┬───────────┬───────────┐\n",
       "│ case_id ┆ WEEK_NUM ┆ 2_Number   ┆ 3_Monthly  ┆ … ┆ 38_Revolv ┆ 40_Number ┆ 24_Order  ┆ proporcio │\n",
       "│ ---     ┆ ---      ┆ of instalm ┆ annuity    ┆   ┆ ing       ┆ of instal ┆ of the    ┆ n_cuotas_ │\n",
       "│ i64     ┆ i64      ┆ ents paid  ┆ amount.    ┆   ┆ account   ┆ ments in  ┆ person    ┆ pagadas   │\n",
       "│         ┆          ┆ bef…       ┆ ---        ┆   ┆ that was  ┆ the …     ┆ specified ┆ ---       │\n",
       "│         ┆          ┆ ---        ┆ f64        ┆   ┆ pr…       ┆ ---       ┆ …         ┆ f64       │\n",
       "│         ┆          ┆ f64        ┆            ┆   ┆ ---       ┆ f64       ┆ ---       ┆           │\n",
       "│         ┆          ┆            ┆            ┆   ┆ f64       ┆           ┆ f64       ┆           │\n",
       "╞═════════╪══════════╪════════════╪════════════╪═══╪═══════════╪═══════════╪═══════════╪═══════════╡\n",
       "│ 57543   ┆ 100      ┆ 191767.36  ┆ 3674.6     ┆ … ┆ 0.0       ┆ 164.0     ┆ 1.0       ┆ 191773.59 │\n",
       "│         ┆          ┆            ┆            ┆   ┆           ┆           ┆           ┆ 9705      │\n",
       "│ 57549   ┆ 100      ┆ 129704.4   ┆ 5742.6     ┆ … ┆ 1.6608e9  ┆ 91.0      ┆ 1.0       ┆ 129711.29 │\n",
       "│         ┆          ┆            ┆            ┆   ┆           ┆           ┆           ┆ 4476      │\n",
       "│ 57551   ┆ 100      ┆ 71036.4    ┆ 2844.6     ┆ … ┆ 0.0       ┆ 0.0       ┆ 0.0       ┆ 142072.8  │\n",
       "│ 57552   ┆ 100      ┆ 183992.0   ┆ 6298.8003  ┆ … ┆ 0.0       ┆ 0.0       ┆ 0.0       ┆ 367984.0  │\n",
       "│ 57569   ┆ 100      ┆ 0.0        ┆ 4682.6     ┆ … ┆ 0.0       ┆ 0.0       ┆ 1.0       ┆ 0.0       │\n",
       "│ 57630   ┆ 100      ┆ 0.0        ┆ 8905.0     ┆ … ┆ 0.0       ┆ 0.0       ┆ 1.0       ┆ 0.0       │\n",
       "│ 57631   ┆ 100      ┆ 0.0        ┆ 2540.6     ┆ … ┆ 0.0       ┆ 0.0       ┆ 0.0       ┆ 0.0       │\n",
       "│ 57632   ┆ 100      ┆ 63647.402  ┆ 4732.0     ┆ … ┆ 0.0       ┆ 0.0       ┆ 0.0       ┆ 127294.80 │\n",
       "│         ┆          ┆            ┆            ┆   ┆           ┆           ┆           ┆ 4         │\n",
       "│ 57633   ┆ 100      ┆ 0.0        ┆ 8273.0     ┆ … ┆ 0.0       ┆ 0.0       ┆ 0.0       ┆ 0.0       │\n",
       "│ 57634   ┆ 100      ┆ 39948.8    ┆ 1165.8     ┆ … ┆ 0.0       ┆ 0.0       ┆ 0.0       ┆ 79897.6   │\n",
       "└─────────┴──────────┴────────────┴────────────┴───┴───────────┴───────────┴───────────┴───────────┘"
      ]
     },
     "metadata": {},
     "output_type": "display_data"
    }
   ],
   "source": [
    "# Test: Imprimir los test finales.\n",
    "display(X_ts_5)\n",
    "# display(X_minmax_ts)"
   ]
  },
  {
   "cell_type": "markdown",
   "id": "9875d328",
   "metadata": {
    "papermill": {
     "duration": 0.045367,
     "end_time": "2024-03-22T03:59:06.673566",
     "exception": false,
     "start_time": "2024-03-22T03:59:06.628199",
     "status": "completed"
    },
    "tags": []
   },
   "source": [
    "# 8. División en Conjunto de Entramiento y Prueba"
   ]
  },
  {
   "cell_type": "code",
   "execution_count": 114,
   "id": "e35019ea",
   "metadata": {
    "execution": {
     "iopub.execute_input": "2024-03-22T03:59:06.899685Z",
     "iopub.status.busy": "2024-03-22T03:59:06.899346Z",
     "iopub.status.idle": "2024-03-22T03:59:06.903505Z",
     "shell.execute_reply": "2024-03-22T03:59:06.902642Z"
    },
    "papermill": {
     "duration": 0.188206,
     "end_time": "2024-03-22T03:59:06.905312",
     "exception": false,
     "start_time": "2024-03-22T03:59:06.717106",
     "status": "completed"
    },
    "tags": []
   },
   "outputs": [],
   "source": [
    "# Función para dividir la base en piloto y control.\n",
    "from sklearn.model_selection import train_test_split"
   ]
  },
  {
   "cell_type": "code",
   "execution_count": 115,
   "id": "adb7ab4a",
   "metadata": {
    "execution": {
     "iopub.execute_input": "2024-03-22T03:59:06.996652Z",
     "iopub.status.busy": "2024-03-22T03:59:06.996244Z",
     "iopub.status.idle": "2024-03-22T03:59:15.601673Z",
     "shell.execute_reply": "2024-03-22T03:59:15.600122Z"
    },
    "papermill": {
     "duration": 8.654165,
     "end_time": "2024-03-22T03:59:15.604341",
     "exception": false,
     "start_time": "2024-03-22T03:59:06.950176",
     "status": "completed"
    },
    "tags": []
   },
   "outputs": [],
   "source": [
    "# Creamos las variables de entramiento y test.\n",
    "X_train, X_test, y_train, y_test = train_test_split(X_4.to_pandas(), y_1.to_pandas(), train_size= 0.70, test_size= 0.30, stratify= y_1, random_state= seed)\n",
    "X_train_minmax, X_test_minmax, y_train_minmax, y_test_minmax = train_test_split(X_minmax_1.to_pandas(), y_1.to_pandas(), train_size= 0.70, test_size= 0.30, stratify= y_1, random_state= seed)"
   ]
  },
  {
   "cell_type": "code",
   "execution_count": 116,
   "id": "20d91e6a",
   "metadata": {
    "execution": {
     "iopub.execute_input": "2024-03-22T03:59:15.686993Z",
     "iopub.status.busy": "2024-03-22T03:59:15.686626Z",
     "iopub.status.idle": "2024-03-22T03:59:15.692412Z",
     "shell.execute_reply": "2024-03-22T03:59:15.691043Z"
    },
    "papermill": {
     "duration": 0.049808,
     "end_time": "2024-03-22T03:59:15.694328",
     "exception": false,
     "start_time": "2024-03-22T03:59:15.644520",
     "status": "completed"
    },
    "tags": []
   },
   "outputs": [],
   "source": [
    "# Crear los diccionarios de los datos de entramiento y test.\n",
    "dic_X_train = {\n",
    "    'data_limpia': X_train,\n",
    "    'data_minmax': X_train_minmax\n",
    "}\n",
    "\n",
    "dic_X_test = {\n",
    "    'data_limpia': X_test,\n",
    "    'data_minmax': X_test_minmax\n",
    "}\n",
    "\n",
    "dic_y_train = {\n",
    "    'data_limpia': y_train,\n",
    "    'data_minmax': y_train_minmax\n",
    "}\n",
    "\n",
    "dic_y_test = {\n",
    "    'data_limpia': y_test,\n",
    "    'data_minmax': y_test_minmax\n",
    "}"
   ]
  },
  {
   "cell_type": "markdown",
   "id": "d7fc0b70",
   "metadata": {
    "papermill": {
     "duration": 0.040602,
     "end_time": "2024-03-22T03:59:15.775207",
     "exception": false,
     "start_time": "2024-03-22T03:59:15.734605",
     "status": "completed"
    },
    "tags": []
   },
   "source": [
    "# 9. Balanceo de Datos: Oversampling y Undersampling"
   ]
  },
  {
   "cell_type": "code",
   "execution_count": 117,
   "id": "7e9be222",
   "metadata": {
    "execution": {
     "iopub.execute_input": "2024-03-22T03:59:15.855743Z",
     "iopub.status.busy": "2024-03-22T03:59:15.855410Z",
     "iopub.status.idle": "2024-03-22T03:59:15.994298Z",
     "shell.execute_reply": "2024-03-22T03:59:15.993179Z"
    },
    "papermill": {
     "duration": 0.181411,
     "end_time": "2024-03-22T03:59:15.996713",
     "exception": false,
     "start_time": "2024-03-22T03:59:15.815302",
     "status": "completed"
    },
    "tags": []
   },
   "outputs": [],
   "source": [
    "# Colocamos en un dataframe la data de entramiento sin escalar con la escala minmax.\n",
    "df_train = pd.concat([X_train, y_train], axis= 1)\n",
    "df_train_minmax = pd.concat([X_train_minmax, y_train_minmax], axis= 1)"
   ]
  },
  {
   "cell_type": "code",
   "execution_count": 118,
   "id": "59c12c6e",
   "metadata": {
    "execution": {
     "iopub.execute_input": "2024-03-22T03:59:16.080529Z",
     "iopub.status.busy": "2024-03-22T03:59:16.080150Z",
     "iopub.status.idle": "2024-03-22T03:59:16.084528Z",
     "shell.execute_reply": "2024-03-22T03:59:16.083876Z"
    },
    "papermill": {
     "duration": 0.048944,
     "end_time": "2024-03-22T03:59:16.086351",
     "exception": false,
     "start_time": "2024-03-22T03:59:16.037407",
     "status": "completed"
    },
    "tags": []
   },
   "outputs": [],
   "source": [
    "# Definir los datos de entrenamientos en un dataframe.\n",
    "df_train = {\n",
    "    'data_limpia': df_train,\n",
    "    'data_minmax': df_train_minmax\n",
    "}"
   ]
  },
  {
   "cell_type": "code",
   "execution_count": 119,
   "id": "fbe717e2",
   "metadata": {
    "execution": {
     "iopub.execute_input": "2024-03-22T03:59:16.168962Z",
     "iopub.status.busy": "2024-03-22T03:59:16.168305Z",
     "iopub.status.idle": "2024-03-22T03:59:16.419511Z",
     "shell.execute_reply": "2024-03-22T03:59:16.418109Z"
    },
    "papermill": {
     "duration": 0.295065,
     "end_time": "2024-03-22T03:59:16.422219",
     "exception": false,
     "start_time": "2024-03-22T03:59:16.127154",
     "status": "completed"
    },
    "tags": []
   },
   "outputs": [],
   "source": [
    "# Dividimos las clases para el entreamiento.\n",
    "count_class_0, count_class_1 = {}, {}\n",
    "df_class_0, df_class_1 = {}, {}\n",
    "\n",
    "for key in df_train.keys():\n",
    "    count_class_0[key], count_class_1[key] = df_train[key]['target'].value_counts()\n",
    "    df_class_0[key] = df_train[key][df_train[key]['target'] == 0]\n",
    "    df_class_1[key] = df_train[key][df_train[key]['target'] == 1]"
   ]
  },
  {
   "cell_type": "code",
   "execution_count": 120,
   "id": "8a6a0ded",
   "metadata": {
    "execution": {
     "iopub.execute_input": "2024-03-22T03:59:16.507233Z",
     "iopub.status.busy": "2024-03-22T03:59:16.506878Z",
     "iopub.status.idle": "2024-03-22T03:59:16.512334Z",
     "shell.execute_reply": "2024-03-22T03:59:16.511405Z"
    },
    "papermill": {
     "duration": 0.049295,
     "end_time": "2024-03-22T03:59:16.514195",
     "exception": false,
     "start_time": "2024-03-22T03:59:16.464900",
     "status": "completed"
    },
    "tags": []
   },
   "outputs": [
    {
     "name": "stdout",
     "output_type": "stream",
     "text": [
      "710448, 710448, 25189, 25189\n",
      "710448, 710448, 25189, 25189\n"
     ]
    }
   ],
   "source": [
    "for key in df_class_0.keys():\n",
    "    print(f'{count_class_0[key]}, {len(df_class_0[key])}, {count_class_1[key]}, {len(df_class_1[key])}')"
   ]
  },
  {
   "cell_type": "markdown",
   "id": "1b29c2c0",
   "metadata": {
    "papermill": {
     "duration": 0.040109,
     "end_time": "2024-03-22T03:59:16.595322",
     "exception": false,
     "start_time": "2024-03-22T03:59:16.555213",
     "status": "completed"
    },
    "tags": []
   },
   "source": [
    "## 9.1. Undersampling"
   ]
  },
  {
   "cell_type": "code",
   "execution_count": 121,
   "id": "fed3467f",
   "metadata": {
    "execution": {
     "iopub.execute_input": "2024-03-22T03:59:16.678349Z",
     "iopub.status.busy": "2024-03-22T03:59:16.677076Z",
     "iopub.status.idle": "2024-03-22T03:59:16.725804Z",
     "shell.execute_reply": "2024-03-22T03:59:16.724989Z"
    },
    "papermill": {
     "duration": 0.091657,
     "end_time": "2024-03-22T03:59:16.727596",
     "exception": false,
     "start_time": "2024-03-22T03:59:16.635939",
     "status": "completed"
    },
    "tags": []
   },
   "outputs": [
    {
     "data": {
      "text/html": [
       "<div>\n",
       "<style scoped>\n",
       "    .dataframe tbody tr th:only-of-type {\n",
       "        vertical-align: middle;\n",
       "    }\n",
       "\n",
       "    .dataframe tbody tr th {\n",
       "        vertical-align: top;\n",
       "    }\n",
       "\n",
       "    .dataframe thead th {\n",
       "        text-align: right;\n",
       "    }\n",
       "</style>\n",
       "<table border=\"1\" class=\"dataframe\">\n",
       "  <thead>\n",
       "    <tr style=\"text-align: right;\">\n",
       "      <th></th>\n",
       "      <th>WEEK_NUM</th>\n",
       "      <th>2_Number of instalments paid before due date in the last 24 months.</th>\n",
       "      <th>3_Monthly annuity amount.</th>\n",
       "      <th>10_Number of applications associated with the same mobile phone.</th>\n",
       "      <th>38_Number of incoming payments in the past 9 months.</th>\n",
       "      <th>39_Number of months with any incoming payment in last 24 months.</th>\n",
       "      <th>41_Loan amount or credit card limit.</th>\n",
       "      <th>43_Current debt amount of the client.</th>\n",
       "      <th>44_Current amount of debt of the applicant.</th>\n",
       "      <th>48_Number of days that past after the due date (with tolerance).</th>\n",
       "      <th>...</th>\n",
       "      <th>19_Previous application downpayment amount._total</th>\n",
       "      <th>29_Client's main income amount in their previous application._total</th>\n",
       "      <th>30_Maximum DPD with tolerance (on previous application/s)._total</th>\n",
       "      <th>32_Amount of outstanding debt on the client's previous application._total</th>\n",
       "      <th>33_Number of payments made for the previous application._total</th>\n",
       "      <th>38_Revolving account that was present in the applicant's previous application._total</th>\n",
       "      <th>40_Number of instalments in the previous application._total</th>\n",
       "      <th>24_Order of the person specified on the application form.</th>\n",
       "      <th>proporcion_cuotas_pagadas</th>\n",
       "      <th>target</th>\n",
       "    </tr>\n",
       "  </thead>\n",
       "  <tbody>\n",
       "    <tr>\n",
       "      <th>606199</th>\n",
       "      <td>41</td>\n",
       "      <td>119059.75</td>\n",
       "      <td>1322.2001</td>\n",
       "      <td>0.0</td>\n",
       "      <td>2.0</td>\n",
       "      <td>15.0</td>\n",
       "      <td>13398.0</td>\n",
       "      <td>0.0</td>\n",
       "      <td>0.0</td>\n",
       "      <td>1.0</td>\n",
       "      <td>...</td>\n",
       "      <td>3200.0</td>\n",
       "      <td>613600.0</td>\n",
       "      <td>1.0</td>\n",
       "      <td>0.0</td>\n",
       "      <td>236.0</td>\n",
       "      <td>760332700.0</td>\n",
       "      <td>236.0</td>\n",
       "      <td>0.0</td>\n",
       "      <td>119062.097226</td>\n",
       "      <td>0</td>\n",
       "    </tr>\n",
       "    <tr>\n",
       "      <th>100402</th>\n",
       "      <td>57</td>\n",
       "      <td>99643.60</td>\n",
       "      <td>8565.0000</td>\n",
       "      <td>1.0</td>\n",
       "      <td>8.0</td>\n",
       "      <td>21.0</td>\n",
       "      <td>140000.0</td>\n",
       "      <td>116344.6</td>\n",
       "      <td>72104.6</td>\n",
       "      <td>11.0</td>\n",
       "      <td>...</td>\n",
       "      <td>0.0</td>\n",
       "      <td>112000.0</td>\n",
       "      <td>15.0</td>\n",
       "      <td>116238.6</td>\n",
       "      <td>148.0</td>\n",
       "      <td>0.0</td>\n",
       "      <td>148.0</td>\n",
       "      <td>3.0</td>\n",
       "      <td>99649.757986</td>\n",
       "      <td>0</td>\n",
       "    </tr>\n",
       "    <tr>\n",
       "      <th>944465</th>\n",
       "      <td>19</td>\n",
       "      <td>28672.00</td>\n",
       "      <td>6049.0000</td>\n",
       "      <td>0.0</td>\n",
       "      <td>7.0</td>\n",
       "      <td>6.0</td>\n",
       "      <td>56000.0</td>\n",
       "      <td>12263.8</td>\n",
       "      <td>12263.8</td>\n",
       "      <td>5.0</td>\n",
       "      <td>...</td>\n",
       "      <td>0.0</td>\n",
       "      <td>58600.0</td>\n",
       "      <td>6.0</td>\n",
       "      <td>12263.8</td>\n",
       "      <td>24.0</td>\n",
       "      <td>0.0</td>\n",
       "      <td>24.0</td>\n",
       "      <td>0.0</td>\n",
       "      <td>28676.698633</td>\n",
       "      <td>0</td>\n",
       "    </tr>\n",
       "  </tbody>\n",
       "</table>\n",
       "<p>3 rows × 56 columns</p>\n",
       "</div>"
      ],
      "text/plain": [
       "        WEEK_NUM  \\\n",
       "606199        41   \n",
       "100402        57   \n",
       "944465        19   \n",
       "\n",
       "        2_Number of instalments paid before due date in the last 24 months.  \\\n",
       "606199                                          119059.75                     \n",
       "100402                                           99643.60                     \n",
       "944465                                           28672.00                     \n",
       "\n",
       "        3_Monthly annuity amount.  \\\n",
       "606199                  1322.2001   \n",
       "100402                  8565.0000   \n",
       "944465                  6049.0000   \n",
       "\n",
       "        10_Number of applications associated with the same mobile phone.  \\\n",
       "606199                                                0.0                  \n",
       "100402                                                1.0                  \n",
       "944465                                                0.0                  \n",
       "\n",
       "        38_Number of incoming payments in the past 9 months.  \\\n",
       "606199                                                2.0      \n",
       "100402                                                8.0      \n",
       "944465                                                7.0      \n",
       "\n",
       "        39_Number of months with any incoming payment in last 24 months.  \\\n",
       "606199                                               15.0                  \n",
       "100402                                               21.0                  \n",
       "944465                                                6.0                  \n",
       "\n",
       "        41_Loan amount or credit card limit.  \\\n",
       "606199                               13398.0   \n",
       "100402                              140000.0   \n",
       "944465                               56000.0   \n",
       "\n",
       "        43_Current debt amount of the client.  \\\n",
       "606199                                    0.0   \n",
       "100402                               116344.6   \n",
       "944465                                12263.8   \n",
       "\n",
       "        44_Current amount of debt of the applicant.  \\\n",
       "606199                                          0.0   \n",
       "100402                                      72104.6   \n",
       "944465                                      12263.8   \n",
       "\n",
       "        48_Number of days that past after the due date (with tolerance).  ...  \\\n",
       "606199                                                1.0                 ...   \n",
       "100402                                               11.0                 ...   \n",
       "944465                                                5.0                 ...   \n",
       "\n",
       "        19_Previous application downpayment amount._total  \\\n",
       "606199                                             3200.0   \n",
       "100402                                                0.0   \n",
       "944465                                                0.0   \n",
       "\n",
       "        29_Client's main income amount in their previous application._total  \\\n",
       "606199                                           613600.0                     \n",
       "100402                                           112000.0                     \n",
       "944465                                            58600.0                     \n",
       "\n",
       "        30_Maximum DPD with tolerance (on previous application/s)._total  \\\n",
       "606199                                                1.0                  \n",
       "100402                                               15.0                  \n",
       "944465                                                6.0                  \n",
       "\n",
       "        32_Amount of outstanding debt on the client's previous application._total  \\\n",
       "606199                                                0.0                           \n",
       "100402                                           116238.6                           \n",
       "944465                                            12263.8                           \n",
       "\n",
       "        33_Number of payments made for the previous application._total  \\\n",
       "606199                                              236.0                \n",
       "100402                                              148.0                \n",
       "944465                                               24.0                \n",
       "\n",
       "        38_Revolving account that was present in the applicant's previous application._total  \\\n",
       "606199                                        760332700.0                                      \n",
       "100402                                                0.0                                      \n",
       "944465                                                0.0                                      \n",
       "\n",
       "        40_Number of instalments in the previous application._total  \\\n",
       "606199                                              236.0             \n",
       "100402                                              148.0             \n",
       "944465                                               24.0             \n",
       "\n",
       "        24_Order of the person specified on the application form.  \\\n",
       "606199                                                0.0           \n",
       "100402                                                3.0           \n",
       "944465                                                0.0           \n",
       "\n",
       "        proporcion_cuotas_pagadas  target  \n",
       "606199              119062.097226       0  \n",
       "100402               99649.757986       0  \n",
       "944465               28676.698633       0  \n",
       "\n",
       "[3 rows x 56 columns]"
      ]
     },
     "execution_count": 121,
     "metadata": {},
     "output_type": "execute_result"
    }
   ],
   "source": [
    "df_class_0['data_limpia'].sample(3)"
   ]
  },
  {
   "cell_type": "code",
   "execution_count": 122,
   "id": "aafe9cf6",
   "metadata": {
    "execution": {
     "iopub.execute_input": "2024-03-22T03:59:16.807918Z",
     "iopub.status.busy": "2024-03-22T03:59:16.806728Z",
     "iopub.status.idle": "2024-03-22T03:59:17.350005Z",
     "shell.execute_reply": "2024-03-22T03:59:17.349076Z"
    },
    "papermill": {
     "duration": 0.58581,
     "end_time": "2024-03-22T03:59:17.351906",
     "exception": false,
     "start_time": "2024-03-22T03:59:16.766096",
     "status": "completed"
    },
    "tags": []
   },
   "outputs": [
    {
     "name": "stdout",
     "output_type": "stream",
     "text": [
      "Estrategia de muestra under-sampling data_limpia\n",
      "target\n",
      "0    25189\n",
      "1    25189\n",
      "Name: count, dtype: int64\n"
     ]
    },
    {
     "data": {
      "image/png": "[encoded data removed]",
      "text/plain": [
       "<Figure size 640x480 with 1 Axes>"
      ]
     },
     "metadata": {},
     "output_type": "display_data"
    },
    {
     "name": "stdout",
     "output_type": "stream",
     "text": [
      "Estrategia de muestra under-sampling data_minmax\n",
      "target\n",
      "0    25189\n",
      "1    25189\n",
      "Name: count, dtype: int64\n"
     ]
    },
    {
     "data": {
      "image/png": "[encoded data removed]",
      "text/plain": [
       "<Figure size 640x480 with 1 Axes>"
      ]
     },
     "metadata": {},
     "output_type": "display_data"
    }
   ],
   "source": [
    "df_class_0_under = {}\n",
    "df_train_under = {}\n",
    "\n",
    "for key in df_class_0.keys():\n",
    "    # Estrategia de undersampling para balancear la cantidad de 0 a la cantidad 1.\n",
    "    df_class_0_under[key] = df_class_0[key].sample(count_class_1[key], random_state= 42)\n",
    "    df_train_under[key] = pd.concat([df_class_0_under[key], df_class_1[key]], axis= 0)\n",
    "    \n",
    "    print(f'Estrategia de muestra under-sampling {key}')\n",
    "    print(df_train_under[key]['target'].value_counts())\n",
    "    df_train_under[key]['target'].value_counts().plot(kind= 'bar', title= f'Estrategia de muestra under-sampling {key}')\n",
    "    plt.show()\n"
   ]
  },
  {
   "cell_type": "markdown",
   "id": "149adfe6",
   "metadata": {
    "papermill": {
     "duration": 0.040763,
     "end_time": "2024-03-22T03:59:17.433467",
     "exception": false,
     "start_time": "2024-03-22T03:59:17.392704",
     "status": "completed"
    },
    "tags": []
   },
   "source": [
    "## 9.2. Oversampling"
   ]
  },
  {
   "cell_type": "code",
   "execution_count": 123,
   "id": "46357253",
   "metadata": {
    "execution": {
     "iopub.execute_input": "2024-03-22T03:59:17.524472Z",
     "iopub.status.busy": "2024-03-22T03:59:17.523458Z",
     "iopub.status.idle": "2024-03-22T03:59:17.528023Z",
     "shell.execute_reply": "2024-03-22T03:59:17.526960Z"
    },
    "papermill": {
     "duration": 0.049932,
     "end_time": "2024-03-22T03:59:17.530111",
     "exception": false,
     "start_time": "2024-03-22T03:59:17.480179",
     "status": "completed"
    },
    "tags": []
   },
   "outputs": [],
   "source": [
    "# aux = df_class_1['data_limpia'].head(2)\n",
    "# aux.sample(3, replace= True)"
   ]
  },
  {
   "cell_type": "code",
   "execution_count": 124,
   "id": "7db10d4c",
   "metadata": {
    "execution": {
     "iopub.execute_input": "2024-03-22T03:59:17.615352Z",
     "iopub.status.busy": "2024-03-22T03:59:17.614761Z",
     "iopub.status.idle": "2024-03-22T03:59:17.618800Z",
     "shell.execute_reply": "2024-03-22T03:59:17.618105Z"
    },
    "papermill": {
     "duration": 0.048567,
     "end_time": "2024-03-22T03:59:17.620452",
     "exception": false,
     "start_time": "2024-03-22T03:59:17.571885",
     "status": "completed"
    },
    "tags": []
   },
   "outputs": [],
   "source": [
    "# df_class_1_over = {}\n",
    "# df_train_over = {}\n",
    "\n",
    "# for key in df_class_1.keys():\n",
    "#     # Estrategia de oversampling para balancear la cantidad de 1 a la cantidad 0.\n",
    "#     df_class_1_over[key] = df_class_1[key].sample(count_class_0[key], replace= True, random_state= 42)\n",
    "#     df_train_over[key] = pd.concat([df_class_0[key], df_class_1_over[key]], axis= 0)\n",
    "    \n",
    "#     print(f'Estrategia de muestra over-sampling {key}')\n",
    "#     print(df_train_over[key]['target'].value_counts())\n",
    "#     df_train_over[key]['target'].value_counts().plot(kind= 'bar', title= f'Estrategia de muestra over-sampling {key}')\n",
    "#     plt.show()"
   ]
  },
  {
   "cell_type": "code",
   "execution_count": 125,
   "id": "4f331275",
   "metadata": {
    "execution": {
     "iopub.execute_input": "2024-03-22T03:59:17.704567Z",
     "iopub.status.busy": "2024-03-22T03:59:17.703812Z",
     "iopub.status.idle": "2024-03-22T03:59:17.707764Z",
     "shell.execute_reply": "2024-03-22T03:59:17.707111Z"
    },
    "papermill": {
     "duration": 0.048415,
     "end_time": "2024-03-22T03:59:17.709428",
     "exception": false,
     "start_time": "2024-03-22T03:59:17.661013",
     "status": "completed"
    },
    "tags": []
   },
   "outputs": [],
   "source": [
    "# for key in df_train.keys():\n",
    "#     print(f'Balanceo de clases en el dataset {key}')\n",
    "#     print(df_train[key]['target'].value_counts())"
   ]
  },
  {
   "cell_type": "code",
   "execution_count": 126,
   "id": "a8267fda",
   "metadata": {
    "execution": {
     "iopub.execute_input": "2024-03-22T03:59:17.792132Z",
     "iopub.status.busy": "2024-03-22T03:59:17.791814Z",
     "iopub.status.idle": "2024-03-22T03:59:17.798949Z",
     "shell.execute_reply": "2024-03-22T03:59:17.797738Z"
    },
    "papermill": {
     "duration": 0.051869,
     "end_time": "2024-03-22T03:59:17.802074",
     "exception": false,
     "start_time": "2024-03-22T03:59:17.750205",
     "status": "completed"
    },
    "tags": []
   },
   "outputs": [
    {
     "name": "stdout",
     "output_type": "stream",
     "text": [
      "Balanceo de clases en el dataset data_limpia\n",
      "target\n",
      "0    25189\n",
      "1    25189\n",
      "Name: count, dtype: int64\n",
      "Balanceo de clases en el dataset data_minmax\n",
      "target\n",
      "0    25189\n",
      "1    25189\n",
      "Name: count, dtype: int64\n"
     ]
    }
   ],
   "source": [
    "for key in df_train_under.keys():\n",
    "    print(f'Balanceo de clases en el dataset {key}')\n",
    "    print(df_train_under[key]['target'].value_counts())"
   ]
  },
  {
   "cell_type": "code",
   "execution_count": 127,
   "id": "49d72b30",
   "metadata": {
    "execution": {
     "iopub.execute_input": "2024-03-22T03:59:17.888750Z",
     "iopub.status.busy": "2024-03-22T03:59:17.888407Z",
     "iopub.status.idle": "2024-03-22T03:59:17.893019Z",
     "shell.execute_reply": "2024-03-22T03:59:17.891668Z"
    },
    "papermill": {
     "duration": 0.050834,
     "end_time": "2024-03-22T03:59:17.894885",
     "exception": false,
     "start_time": "2024-03-22T03:59:17.844051",
     "status": "completed"
    },
    "tags": []
   },
   "outputs": [],
   "source": [
    "# for key in df_train_over.keys():\n",
    "#     print(f'Balanceo de clases en el dataset {key}')\n",
    "#     print(df_train_over[key]['target'].value_counts())"
   ]
  },
  {
   "cell_type": "markdown",
   "id": "be821f5c",
   "metadata": {
    "papermill": {
     "duration": 0.040984,
     "end_time": "2024-03-22T03:59:17.976230",
     "exception": false,
     "start_time": "2024-03-22T03:59:17.935246",
     "status": "completed"
    },
    "tags": []
   },
   "source": [
    "## 9.3. Evaluación de Resultados de las Estrategias de Muestreo.\n"
   ]
  },
  {
   "cell_type": "markdown",
   "id": "7e6d5940",
   "metadata": {
    "papermill": {
     "duration": 0.040897,
     "end_time": "2024-03-22T03:59:18.058336",
     "exception": false,
     "start_time": "2024-03-22T03:59:18.017439",
     "status": "completed"
    },
    "tags": []
   },
   "source": [
    "### *9.3.1. Data sin oversampling y undersampling*"
   ]
  },
  {
   "cell_type": "code",
   "execution_count": 128,
   "id": "4cb40d74",
   "metadata": {
    "execution": {
     "iopub.execute_input": "2024-03-22T03:59:18.141967Z",
     "iopub.status.busy": "2024-03-22T03:59:18.141641Z",
     "iopub.status.idle": "2024-03-22T03:59:18.187547Z",
     "shell.execute_reply": "2024-03-22T03:59:18.185946Z"
    },
    "papermill": {
     "duration": 0.090315,
     "end_time": "2024-03-22T03:59:18.189884",
     "exception": false,
     "start_time": "2024-03-22T03:59:18.099569",
     "status": "completed"
    },
    "tags": []
   },
   "outputs": [],
   "source": [
    "from sklearn.tree import DecisionTreeClassifier\n",
    "from sklearn.metrics import accuracy_score, log_loss\n",
    "from sklearn.metrics import classification_report"
   ]
  },
  {
   "cell_type": "code",
   "execution_count": 129,
   "id": "2021ebf1",
   "metadata": {
    "execution": {
     "iopub.execute_input": "2024-03-22T03:59:18.274328Z",
     "iopub.status.busy": "2024-03-22T03:59:18.273669Z",
     "iopub.status.idle": "2024-03-22T03:59:18.278032Z",
     "shell.execute_reply": "2024-03-22T03:59:18.276916Z"
    },
    "papermill": {
     "duration": 0.048274,
     "end_time": "2024-03-22T03:59:18.279782",
     "exception": false,
     "start_time": "2024-03-22T03:59:18.231508",
     "status": "completed"
    },
    "tags": []
   },
   "outputs": [],
   "source": [
    "# dic_y_pred = {}\n",
    "\n",
    "# for key in df_train.keys():\n",
    "#     # Declarar el modelo.\n",
    "#     model = DecisionTreeClassifier()\n",
    "#     # Entrenar el modelo.\n",
    "#     model.fit(dic_X_train[key], dic_y_train[key])\n",
    "#     # Generar la predicción.\n",
    "#     dic_y_pred[key] = model.predict(dic_X_test[key])\n",
    "\n",
    "#     accuracy = accuracy_score(dic_y_test[key], dic_y_pred[key])\n",
    "#     print(f'Accuary DATOS ORIGINALES - {key}: {accuracy * 100}')\n",
    "\n",
    "#     ll = log_loss(dic_y_test[key], dic_y_pred[key])\n",
    "#     print(f'Log Loss: {ll}')\n",
    "#     print(f'The AUC score: {roc_auc_score(dic_y_test[key], dic_y_pred[key])}') \n",
    "\n",
    "#     print(f'Métricas de la matriz de confusión DATOS ORIGINALES - {key}:\\n {classification_report(dic_y_test[key], dic_y_pred[key])}')    "
   ]
  },
  {
   "cell_type": "markdown",
   "id": "61de4480",
   "metadata": {
    "papermill": {
     "duration": 0.040369,
     "end_time": "2024-03-22T03:59:18.361980",
     "exception": false,
     "start_time": "2024-03-22T03:59:18.321611",
     "status": "completed"
    },
    "tags": []
   },
   "source": [
    "### *9.3.2. Undersampling*"
   ]
  },
  {
   "cell_type": "code",
   "execution_count": 130,
   "id": "ed7914e6",
   "metadata": {
    "execution": {
     "iopub.execute_input": "2024-03-22T03:59:18.443574Z",
     "iopub.status.busy": "2024-03-22T03:59:18.442954Z",
     "iopub.status.idle": "2024-03-22T03:59:18.447249Z",
     "shell.execute_reply": "2024-03-22T03:59:18.446338Z"
    },
    "papermill": {
     "duration": 0.047549,
     "end_time": "2024-03-22T03:59:18.449156",
     "exception": false,
     "start_time": "2024-03-22T03:59:18.401607",
     "status": "completed"
    },
    "tags": []
   },
   "outputs": [],
   "source": [
    "dic_cols_seleccionadas = {\n",
    "    'data_limpia' : cols_X_seleccionadas,\n",
    "    'data_minmax': cols_X_minmax_seleccionadas\n",
    "}"
   ]
  },
  {
   "cell_type": "code",
   "execution_count": 131,
   "id": "a17b7b10",
   "metadata": {
    "execution": {
     "iopub.execute_input": "2024-03-22T03:59:18.533331Z",
     "iopub.status.busy": "2024-03-22T03:59:18.531994Z",
     "iopub.status.idle": "2024-03-22T03:59:23.885897Z",
     "shell.execute_reply": "2024-03-22T03:59:23.884380Z"
    },
    "papermill": {
     "duration": 5.397937,
     "end_time": "2024-03-22T03:59:23.887998",
     "exception": false,
     "start_time": "2024-03-22T03:59:18.490061",
     "status": "completed"
    },
    "tags": []
   },
   "outputs": [
    {
     "name": "stdout",
     "output_type": "stream",
     "text": [
      "Accuary DATOS UNDER-SAMPLING - data_limpia: 61.02152413456232\n",
      "Log Loss: 14.049266737299043\n",
      "The AUC score: 0.6116945873052843\n",
      "Métricas de la matriz de confusión DATOS UNDER-SAMPLING - data_limpia:\n",
      "               precision    recall  f1-score   support\n",
      "\n",
      "           0       0.98      0.61      0.75    304478\n",
      "           1       0.05      0.61      0.10     10796\n",
      "\n",
      "    accuracy                           0.61    315274\n",
      "   macro avg       0.52      0.61      0.42    315274\n",
      "weighted avg       0.95      0.61      0.73    315274\n",
      "\n",
      "Accuary DATOS UNDER-SAMPLING - data_minmax: 61.93025749031001\n",
      "Log Loss: 13.721726036322048\n",
      "The AUC score: 0.6172034440245755\n",
      "Métricas de la matriz de confusión DATOS UNDER-SAMPLING - data_minmax:\n",
      "               precision    recall  f1-score   support\n",
      "\n",
      "           0       0.98      0.62      0.76    304478\n",
      "           1       0.05      0.61      0.10     10796\n",
      "\n",
      "    accuracy                           0.62    315274\n",
      "   macro avg       0.52      0.62      0.43    315274\n",
      "weighted avg       0.95      0.62      0.74    315274\n",
      "\n"
     ]
    }
   ],
   "source": [
    "model = DecisionTreeClassifier()\n",
    "dic_X_train_u, dic_y_train_u = {}, {}\n",
    "dic_y_pred_u = {}\n",
    "\n",
    "for key in df_train_under.keys():\n",
    "    dic_X_train_u[key] = df_train_under[key][dic_cols_seleccionadas[key]]\n",
    "    dic_y_train_u[key] = df_train_under[key]['target']\n",
    "    \n",
    "    # Entrenar el modelo.\n",
    "    model.fit(dic_X_train_u[key], dic_y_train_u[key])\n",
    "    \n",
    "    # Generar la predicción.\n",
    "    dic_y_pred_u[key] = model.predict(dic_X_test[key])\n",
    "\n",
    "    accuracy = accuracy_score(dic_y_test[key], dic_y_pred_u[key])\n",
    "    print(f'Accuary DATOS UNDER-SAMPLING - {key}: {accuracy * 100}')\n",
    "\n",
    "    ll = log_loss(dic_y_test[key], dic_y_pred_u[key])\n",
    "    print(f'Log Loss: {ll}')\n",
    "    print(f'The AUC score: {roc_auc_score(dic_y_test[key], dic_y_pred_u[key])}') \n",
    "\n",
    "    print(f'Métricas de la matriz de confusión DATOS UNDER-SAMPLING - {key}:\\n {classification_report(dic_y_test[key], dic_y_pred_u[key])}')  "
   ]
  },
  {
   "cell_type": "markdown",
   "id": "04c2e333",
   "metadata": {
    "papermill": {
     "duration": 0.04095,
     "end_time": "2024-03-22T03:59:23.970801",
     "exception": false,
     "start_time": "2024-03-22T03:59:23.929851",
     "status": "completed"
    },
    "tags": []
   },
   "source": [
    "### *9.3.3. Oversampling*"
   ]
  },
  {
   "cell_type": "code",
   "execution_count": 132,
   "id": "b6db091a",
   "metadata": {
    "execution": {
     "iopub.execute_input": "2024-03-22T03:59:24.056019Z",
     "iopub.status.busy": "2024-03-22T03:59:24.055663Z",
     "iopub.status.idle": "2024-03-22T03:59:24.060696Z",
     "shell.execute_reply": "2024-03-22T03:59:24.059640Z"
    },
    "papermill": {
     "duration": 0.051821,
     "end_time": "2024-03-22T03:59:24.062577",
     "exception": false,
     "start_time": "2024-03-22T03:59:24.010756",
     "status": "completed"
    },
    "tags": []
   },
   "outputs": [],
   "source": [
    "# model = DecisionTreeClassifier()\n",
    "# dic_X_train_o, dic_y_train_o = {}, {}\n",
    "# dic_y_pred_o = {}\n",
    "\n",
    "# for key in df_train_under.keys():\n",
    "#     dic_X_train_o[key] = df_train_over[key][dic_cols_seleccionadas[key]]\n",
    "#     dic_y_train_o[key] = df_train_over[key]['target']\n",
    "    \n",
    "#     # Entrenar el modelo.\n",
    "#     model.fit(dic_X_train_o[key], dic_y_train_o[key])\n",
    "    \n",
    "#     # Generar la predicción.\n",
    "#     dic_y_pred_o[key] = model.predict(dic_X_test[key])\n",
    "\n",
    "#     accuracy = accuracy_score(dic_y_test[key], dic_y_pred_o[key])\n",
    "#     print(f'Accuary DATOS UNDER-SAMPLING - {key}: {accuracy * 100}')\n",
    "\n",
    "#     ll = log_loss(dic_y_test[key], dic_y_pred_o[key])\n",
    "#     print(f'Log Loss: {ll}')\n",
    "#     print(f'The AUC score: {roc_auc_score(dic_y_test[key], dic_y_pred_o[key])}') \n",
    "\n",
    "#     print(f'Métricas de la matriz de confusión DATOS UNDER-SAMPLING - {key}:\\n {classification_report(dic_y_test[key], dic_y_pred_o[key])}')  "
   ]
  },
  {
   "cell_type": "markdown",
   "id": "15e89995",
   "metadata": {
    "papermill": {
     "duration": 0.040048,
     "end_time": "2024-03-22T03:59:24.143496",
     "exception": false,
     "start_time": "2024-03-22T03:59:24.103448",
     "status": "completed"
    },
    "tags": []
   },
   "source": [
    "**En este punto después de la evaluación observamos que es mejor trabajar con los datos undersampling por un puntaje alto en cálculo del AUC.**"
   ]
  },
  {
   "cell_type": "markdown",
   "id": "f8aa4dd0",
   "metadata": {
    "papermill": {
     "duration": 0.040249,
     "end_time": "2024-03-22T03:59:24.224224",
     "exception": false,
     "start_time": "2024-03-22T03:59:24.183975",
     "status": "completed"
    },
    "tags": []
   },
   "source": [
    "# 10. Modelado"
   ]
  },
  {
   "cell_type": "markdown",
   "id": "3d9ba217",
   "metadata": {
    "papermill": {
     "duration": 0.038685,
     "end_time": "2024-03-22T03:59:24.303089",
     "exception": false,
     "start_time": "2024-03-22T03:59:24.264404",
     "status": "completed"
    },
    "tags": []
   },
   "source": [
    "## 10.1. Data Limpia"
   ]
  },
  {
   "cell_type": "code",
   "execution_count": 133,
   "id": "1a00ed4d",
   "metadata": {
    "execution": {
     "iopub.execute_input": "2024-03-22T03:59:24.384813Z",
     "iopub.status.busy": "2024-03-22T03:59:24.384440Z",
     "iopub.status.idle": "2024-03-22T03:59:24.593168Z",
     "shell.execute_reply": "2024-03-22T03:59:24.591708Z"
    },
    "papermill": {
     "duration": 0.252711,
     "end_time": "2024-03-22T03:59:24.595787",
     "exception": false,
     "start_time": "2024-03-22T03:59:24.343076",
     "status": "completed"
    },
    "tags": []
   },
   "outputs": [],
   "source": [
    "import xgboost as xgb\n",
    "from sklearn.model_selection import GridSearchCV"
   ]
  },
  {
   "cell_type": "code",
   "execution_count": 134,
   "id": "2db86735",
   "metadata": {
    "execution": {
     "iopub.execute_input": "2024-03-22T03:59:24.681206Z",
     "iopub.status.busy": "2024-03-22T03:59:24.680854Z",
     "iopub.status.idle": "2024-03-22T03:59:24.685584Z",
     "shell.execute_reply": "2024-03-22T03:59:24.684652Z"
    },
    "papermill": {
     "duration": 0.05052,
     "end_time": "2024-03-22T03:59:24.688055",
     "exception": false,
     "start_time": "2024-03-22T03:59:24.637535",
     "status": "completed"
    },
    "tags": []
   },
   "outputs": [],
   "source": [
    "modelo_1 = xgb.XGBClassifier()\n",
    "modelo_2 = xgb.XGBClassifier(max_depth= 8, n_estimators= 40, learning_rate= 0.1, subsample= 0.5)"
   ]
  },
  {
   "cell_type": "code",
   "execution_count": 135,
   "id": "f1b7d366",
   "metadata": {
    "execution": {
     "iopub.execute_input": "2024-03-22T03:59:24.772409Z",
     "iopub.status.busy": "2024-03-22T03:59:24.772018Z",
     "iopub.status.idle": "2024-03-22T03:59:24.776789Z",
     "shell.execute_reply": "2024-03-22T03:59:24.775766Z"
    },
    "papermill": {
     "duration": 0.049601,
     "end_time": "2024-03-22T03:59:24.779041",
     "exception": false,
     "start_time": "2024-03-22T03:59:24.729440",
     "status": "completed"
    },
    "tags": []
   },
   "outputs": [],
   "source": [
    "# # Realizamos pruebas con varios modelos y nos quedamos con la mejor métrica de AUC.\n",
    "# param_grid = {\n",
    "# #     'max_depth': [3, 4, 5, 6, 7, 8, 9], # Profundidad del árbol.\n",
    "# #     'learning_rate': [0.1, 0.01, 0.05, 0.001], # Tasa de aprendizaje.\n",
    "# #     'min_child_weight': [0.5, 0.6, 0.7], # Mínima suma de pesos en una hoja.\n",
    "# #     'early_stopping_rounds': [20, 30, 40, 50],\n",
    "# #     'subsample': [0.5, 0.7, 1],\n",
    "#      'reg_alpha': [0.5, 0.8, 1], # Regularización L1.\n",
    "#      'reg_lambda': [0.5, 0.8, 1], # Regularización L2.\n",
    "    \n",
    "# }\n",
    "\n",
    "# modelo_pb = xgb.XGBClassifier(\n",
    "#     min_child_weight= 0.6,\n",
    "#     learning_rate= 0.1,\n",
    "#     max_depth= 6\n",
    "# ) \n",
    "\n",
    "# # Create the GridSearchCV object.\n",
    "# grid_search = GridSearchCV(modelo_pb, param_grid, scoring='roc_auc')\n",
    "\n",
    "# # Fit the GridSearchCV object to the training data.\n",
    "# grid_search.fit(dic_X_train_u['data_limpia'], dic_y_train_u['data_limpia'])\n",
    "\n",
    "# # Print the best set of hyperparameters and the corresponding score\n",
    "# print(\"Best set of hyperparameters: \", grid_search.best_params_)\n",
    "# print(\"Best score: \", grid_search.best_score_)"
   ]
  },
  {
   "cell_type": "code",
   "execution_count": 136,
   "id": "328cf935",
   "metadata": {
    "execution": {
     "iopub.execute_input": "2024-03-22T03:59:24.864397Z",
     "iopub.status.busy": "2024-03-22T03:59:24.863990Z",
     "iopub.status.idle": "2024-03-22T03:59:24.868443Z",
     "shell.execute_reply": "2024-03-22T03:59:24.867656Z"
    },
    "papermill": {
     "duration": 0.050625,
     "end_time": "2024-03-22T03:59:24.870725",
     "exception": false,
     "start_time": "2024-03-22T03:59:24.820100",
     "status": "completed"
    },
    "tags": []
   },
   "outputs": [],
   "source": [
    "modelo_3 = xgb.XGBClassifier(\n",
    "    min_child_weight= 0.6,\n",
    "    learning_rate= 0.1,\n",
    "    max_depth= 5,\n",
    "    reg_alpha= 1, \n",
    "    reg_lambda= 0.8\n",
    ")"
   ]
  },
  {
   "cell_type": "code",
   "execution_count": 137,
   "id": "31f9d575",
   "metadata": {
    "execution": {
     "iopub.execute_input": "2024-03-22T03:59:24.958109Z",
     "iopub.status.busy": "2024-03-22T03:59:24.957406Z",
     "iopub.status.idle": "2024-03-22T03:59:24.962546Z",
     "shell.execute_reply": "2024-03-22T03:59:24.961269Z"
    },
    "papermill": {
     "duration": 0.051095,
     "end_time": "2024-03-22T03:59:24.964905",
     "exception": false,
     "start_time": "2024-03-22T03:59:24.913810",
     "status": "completed"
    },
    "tags": []
   },
   "outputs": [],
   "source": [
    "modelo_4 = xgb.XGBClassifier(\n",
    "    learning_rate= 0.1,\n",
    "    max_depth= 6\n",
    ")"
   ]
  },
  {
   "cell_type": "code",
   "execution_count": 138,
   "id": "4a74eb21",
   "metadata": {
    "execution": {
     "iopub.execute_input": "2024-03-22T03:59:25.051008Z",
     "iopub.status.busy": "2024-03-22T03:59:25.050409Z",
     "iopub.status.idle": "2024-03-22T03:59:26.535743Z",
     "shell.execute_reply": "2024-03-22T03:59:26.534170Z"
    },
    "papermill": {
     "duration": 1.531221,
     "end_time": "2024-03-22T03:59:26.538236",
     "exception": false,
     "start_time": "2024-03-22T03:59:25.007015",
     "status": "completed"
    },
    "tags": []
   },
   "outputs": [
    {
     "data": {
      "text/html": [
       "<style>#sk-container-id-1 {color: black;background-color: white;}#sk-container-id-1 pre{padding: 0;}#sk-container-id-1 div.sk-toggleable {background-color: white;}#sk-container-id-1 label.sk-toggleable__label {cursor: pointer;display: block;width: 100%;margin-bottom: 0;padding: 0.3em;box-sizing: border-box;text-align: center;}#sk-container-id-1 label.sk-toggleable__label-arrow:before {content: \"▸\";float: left;margin-right: 0.25em;color: #696969;}#sk-container-id-1 label.sk-toggleable__label-arrow:hover:before {color: black;}#sk-container-id-1 div.sk-estimator:hover label.sk-toggleable__label-arrow:before {color: black;}#sk-container-id-1 div.sk-toggleable__content {max-height: 0;max-width: 0;overflow: hidden;text-align: left;background-color: #f0f8ff;}#sk-container-id-1 div.sk-toggleable__content pre {margin: 0.2em;color: black;border-radius: 0.25em;background-color: #f0f8ff;}#sk-container-id-1 input.sk-toggleable__control:checked~div.sk-toggleable__content {max-height: 200px;max-width: 100%;overflow: auto;}#sk-container-id-1 input.sk-toggleable__control:checked~label.sk-toggleable__label-arrow:before {content: \"▾\";}#sk-container-id-1 div.sk-estimator input.sk-toggleable__control:checked~label.sk-toggleable__label {background-color: #d4ebff;}#sk-container-id-1 div.sk-label input.sk-toggleable__control:checked~label.sk-toggleable__label {background-color: #d4ebff;}#sk-container-id-1 input.sk-hidden--visually {border: 0;clip: rect(1px 1px 1px 1px);clip: rect(1px, 1px, 1px, 1px);height: 1px;margin: -1px;overflow: hidden;padding: 0;position: absolute;width: 1px;}#sk-container-id-1 div.sk-estimator {font-family: monospace;background-color: #f0f8ff;border: 1px dotted black;border-radius: 0.25em;box-sizing: border-box;margin-bottom: 0.5em;}#sk-container-id-1 div.sk-estimator:hover {background-color: #d4ebff;}#sk-container-id-1 div.sk-parallel-item::after {content: \"\";width: 100%;border-bottom: 1px solid gray;flex-grow: 1;}#sk-container-id-1 div.sk-label:hover label.sk-toggleable__label {background-color: #d4ebff;}#sk-container-id-1 div.sk-serial::before {content: \"\";position: absolute;border-left: 1px solid gray;box-sizing: border-box;top: 0;bottom: 0;left: 50%;z-index: 0;}#sk-container-id-1 div.sk-serial {display: flex;flex-direction: column;align-items: center;background-color: white;padding-right: 0.2em;padding-left: 0.2em;position: relative;}#sk-container-id-1 div.sk-item {position: relative;z-index: 1;}#sk-container-id-1 div.sk-parallel {display: flex;align-items: stretch;justify-content: center;background-color: white;position: relative;}#sk-container-id-1 div.sk-item::before, #sk-container-id-1 div.sk-parallel-item::before {content: \"\";position: absolute;border-left: 1px solid gray;box-sizing: border-box;top: 0;bottom: 0;left: 50%;z-index: -1;}#sk-container-id-1 div.sk-parallel-item {display: flex;flex-direction: column;z-index: 1;position: relative;background-color: white;}#sk-container-id-1 div.sk-parallel-item:first-child::after {align-self: flex-end;width: 50%;}#sk-container-id-1 div.sk-parallel-item:last-child::after {align-self: flex-start;width: 50%;}#sk-container-id-1 div.sk-parallel-item:only-child::after {width: 0;}#sk-container-id-1 div.sk-dashed-wrapped {border: 1px dashed gray;margin: 0 0.4em 0.5em 0.4em;box-sizing: border-box;padding-bottom: 0.4em;background-color: white;}#sk-container-id-1 div.sk-label label {font-family: monospace;font-weight: bold;display: inline-block;line-height: 1.2em;}#sk-container-id-1 div.sk-label-container {text-align: center;}#sk-container-id-1 div.sk-container {/* jupyter's `normalize.less` sets `[hidden] { display: none; }` but bootstrap.min.css set `[hidden] { display: none !important; }` so we also need the `!important` here to be able to override the default hidden behavior on the sphinx rendered scikit-learn.org. See: https://github.com/scikit-learn/scikit-learn/issues/21755 */display: inline-block !important;position: relative;}#sk-container-id-1 div.sk-text-repr-fallback {display: none;}</style><div id=\"sk-container-id-1\" class=\"sk-top-container\"><div class=\"sk-text-repr-fallback\"><pre>XGBClassifier(base_score=None, booster=None, callbacks=None,\n",
       "              colsample_bylevel=None, colsample_bynode=None,\n",
       "              colsample_bytree=None, device=None, early_stopping_rounds=None,\n",
       "              enable_categorical=False, eval_metric=None, feature_types=None,\n",
       "              gamma=None, grow_policy=None, importance_type=None,\n",
       "              interaction_constraints=None, learning_rate=None, max_bin=None,\n",
       "              max_cat_threshold=None, max_cat_to_onehot=None,\n",
       "              max_delta_step=None, max_depth=None, max_leaves=None,\n",
       "              min_child_weight=None, missing=nan, monotone_constraints=None,\n",
       "              multi_strategy=None, n_estimators=None, n_jobs=None,\n",
       "              num_parallel_tree=None, random_state=None, ...)</pre><b>In a Jupyter environment, please rerun this cell to show the HTML representation or trust the notebook. <br />On GitHub, the HTML representation is unable to render, please try loading this page with nbviewer.org.</b></div><div class=\"sk-container\" hidden><div class=\"sk-item\"><div class=\"sk-estimator sk-toggleable\"><input class=\"sk-toggleable__control sk-hidden--visually\" id=\"sk-estimator-id-1\" type=\"checkbox\" checked><label for=\"sk-estimator-id-1\" class=\"sk-toggleable__label sk-toggleable__label-arrow\">XGBClassifier</label><div class=\"sk-toggleable__content\"><pre>XGBClassifier(base_score=None, booster=None, callbacks=None,\n",
       "              colsample_bylevel=None, colsample_bynode=None,\n",
       "              colsample_bytree=None, device=None, early_stopping_rounds=None,\n",
       "              enable_categorical=False, eval_metric=None, feature_types=None,\n",
       "              gamma=None, grow_policy=None, importance_type=None,\n",
       "              interaction_constraints=None, learning_rate=None, max_bin=None,\n",
       "              max_cat_threshold=None, max_cat_to_onehot=None,\n",
       "              max_delta_step=None, max_depth=None, max_leaves=None,\n",
       "              min_child_weight=None, missing=nan, monotone_constraints=None,\n",
       "              multi_strategy=None, n_estimators=None, n_jobs=None,\n",
       "              num_parallel_tree=None, random_state=None, ...)</pre></div></div></div></div></div>"
      ],
      "text/plain": [
       "XGBClassifier(base_score=None, booster=None, callbacks=None,\n",
       "              colsample_bylevel=None, colsample_bynode=None,\n",
       "              colsample_bytree=None, device=None, early_stopping_rounds=None,\n",
       "              enable_categorical=False, eval_metric=None, feature_types=None,\n",
       "              gamma=None, grow_policy=None, importance_type=None,\n",
       "              interaction_constraints=None, learning_rate=None, max_bin=None,\n",
       "              max_cat_threshold=None, max_cat_to_onehot=None,\n",
       "              max_delta_step=None, max_depth=None, max_leaves=None,\n",
       "              min_child_weight=None, missing=nan, monotone_constraints=None,\n",
       "              multi_strategy=None, n_estimators=None, n_jobs=None,\n",
       "              num_parallel_tree=None, random_state=None, ...)"
      ]
     },
     "execution_count": 138,
     "metadata": {},
     "output_type": "execute_result"
    }
   ],
   "source": [
    "modelo_1.fit(dic_X_train_u['data_limpia'], dic_y_train_u['data_limpia'])"
   ]
  },
  {
   "cell_type": "code",
   "execution_count": 139,
   "id": "ca505080",
   "metadata": {
    "execution": {
     "iopub.execute_input": "2024-03-22T03:59:26.621779Z",
     "iopub.status.busy": "2024-03-22T03:59:26.621421Z",
     "iopub.status.idle": "2024-03-22T03:59:27.789004Z",
     "shell.execute_reply": "2024-03-22T03:59:27.788149Z"
    },
    "papermill": {
     "duration": 1.21087,
     "end_time": "2024-03-22T03:59:27.790795",
     "exception": false,
     "start_time": "2024-03-22T03:59:26.579925",
     "status": "completed"
    },
    "tags": []
   },
   "outputs": [
    {
     "data": {
      "text/html": [
       "<style>#sk-container-id-2 {color: black;background-color: white;}#sk-container-id-2 pre{padding: 0;}#sk-container-id-2 div.sk-toggleable {background-color: white;}#sk-container-id-2 label.sk-toggleable__label {cursor: pointer;display: block;width: 100%;margin-bottom: 0;padding: 0.3em;box-sizing: border-box;text-align: center;}#sk-container-id-2 label.sk-toggleable__label-arrow:before {content: \"▸\";float: left;margin-right: 0.25em;color: #696969;}#sk-container-id-2 label.sk-toggleable__label-arrow:hover:before {color: black;}#sk-container-id-2 div.sk-estimator:hover label.sk-toggleable__label-arrow:before {color: black;}#sk-container-id-2 div.sk-toggleable__content {max-height: 0;max-width: 0;overflow: hidden;text-align: left;background-color: #f0f8ff;}#sk-container-id-2 div.sk-toggleable__content pre {margin: 0.2em;color: black;border-radius: 0.25em;background-color: #f0f8ff;}#sk-container-id-2 input.sk-toggleable__control:checked~div.sk-toggleable__content {max-height: 200px;max-width: 100%;overflow: auto;}#sk-container-id-2 input.sk-toggleable__control:checked~label.sk-toggleable__label-arrow:before {content: \"▾\";}#sk-container-id-2 div.sk-estimator input.sk-toggleable__control:checked~label.sk-toggleable__label {background-color: #d4ebff;}#sk-container-id-2 div.sk-label input.sk-toggleable__control:checked~label.sk-toggleable__label {background-color: #d4ebff;}#sk-container-id-2 input.sk-hidden--visually {border: 0;clip: rect(1px 1px 1px 1px);clip: rect(1px, 1px, 1px, 1px);height: 1px;margin: -1px;overflow: hidden;padding: 0;position: absolute;width: 1px;}#sk-container-id-2 div.sk-estimator {font-family: monospace;background-color: #f0f8ff;border: 1px dotted black;border-radius: 0.25em;box-sizing: border-box;margin-bottom: 0.5em;}#sk-container-id-2 div.sk-estimator:hover {background-color: #d4ebff;}#sk-container-id-2 div.sk-parallel-item::after {content: \"\";width: 100%;border-bottom: 1px solid gray;flex-grow: 1;}#sk-container-id-2 div.sk-label:hover label.sk-toggleable__label {background-color: #d4ebff;}#sk-container-id-2 div.sk-serial::before {content: \"\";position: absolute;border-left: 1px solid gray;box-sizing: border-box;top: 0;bottom: 0;left: 50%;z-index: 0;}#sk-container-id-2 div.sk-serial {display: flex;flex-direction: column;align-items: center;background-color: white;padding-right: 0.2em;padding-left: 0.2em;position: relative;}#sk-container-id-2 div.sk-item {position: relative;z-index: 1;}#sk-container-id-2 div.sk-parallel {display: flex;align-items: stretch;justify-content: center;background-color: white;position: relative;}#sk-container-id-2 div.sk-item::before, #sk-container-id-2 div.sk-parallel-item::before {content: \"\";position: absolute;border-left: 1px solid gray;box-sizing: border-box;top: 0;bottom: 0;left: 50%;z-index: -1;}#sk-container-id-2 div.sk-parallel-item {display: flex;flex-direction: column;z-index: 1;position: relative;background-color: white;}#sk-container-id-2 div.sk-parallel-item:first-child::after {align-self: flex-end;width: 50%;}#sk-container-id-2 div.sk-parallel-item:last-child::after {align-self: flex-start;width: 50%;}#sk-container-id-2 div.sk-parallel-item:only-child::after {width: 0;}#sk-container-id-2 div.sk-dashed-wrapped {border: 1px dashed gray;margin: 0 0.4em 0.5em 0.4em;box-sizing: border-box;padding-bottom: 0.4em;background-color: white;}#sk-container-id-2 div.sk-label label {font-family: monospace;font-weight: bold;display: inline-block;line-height: 1.2em;}#sk-container-id-2 div.sk-label-container {text-align: center;}#sk-container-id-2 div.sk-container {/* jupyter's `normalize.less` sets `[hidden] { display: none; }` but bootstrap.min.css set `[hidden] { display: none !important; }` so we also need the `!important` here to be able to override the default hidden behavior on the sphinx rendered scikit-learn.org. See: https://github.com/scikit-learn/scikit-learn/issues/21755 */display: inline-block !important;position: relative;}#sk-container-id-2 div.sk-text-repr-fallback {display: none;}</style><div id=\"sk-container-id-2\" class=\"sk-top-container\"><div class=\"sk-text-repr-fallback\"><pre>XGBClassifier(base_score=None, booster=None, callbacks=None,\n",
       "              colsample_bylevel=None, colsample_bynode=None,\n",
       "              colsample_bytree=None, device=None, early_stopping_rounds=None,\n",
       "              enable_categorical=False, eval_metric=None, feature_types=None,\n",
       "              gamma=None, grow_policy=None, importance_type=None,\n",
       "              interaction_constraints=None, learning_rate=0.1, max_bin=None,\n",
       "              max_cat_threshold=None, max_cat_to_onehot=None,\n",
       "              max_delta_step=None, max_depth=8, max_leaves=None,\n",
       "              min_child_weight=None, missing=nan, monotone_constraints=None,\n",
       "              multi_strategy=None, n_estimators=40, n_jobs=None,\n",
       "              num_parallel_tree=None, random_state=None, ...)</pre><b>In a Jupyter environment, please rerun this cell to show the HTML representation or trust the notebook. <br />On GitHub, the HTML representation is unable to render, please try loading this page with nbviewer.org.</b></div><div class=\"sk-container\" hidden><div class=\"sk-item\"><div class=\"sk-estimator sk-toggleable\"><input class=\"sk-toggleable__control sk-hidden--visually\" id=\"sk-estimator-id-2\" type=\"checkbox\" checked><label for=\"sk-estimator-id-2\" class=\"sk-toggleable__label sk-toggleable__label-arrow\">XGBClassifier</label><div class=\"sk-toggleable__content\"><pre>XGBClassifier(base_score=None, booster=None, callbacks=None,\n",
       "              colsample_bylevel=None, colsample_bynode=None,\n",
       "              colsample_bytree=None, device=None, early_stopping_rounds=None,\n",
       "              enable_categorical=False, eval_metric=None, feature_types=None,\n",
       "              gamma=None, grow_policy=None, importance_type=None,\n",
       "              interaction_constraints=None, learning_rate=0.1, max_bin=None,\n",
       "              max_cat_threshold=None, max_cat_to_onehot=None,\n",
       "              max_delta_step=None, max_depth=8, max_leaves=None,\n",
       "              min_child_weight=None, missing=nan, monotone_constraints=None,\n",
       "              multi_strategy=None, n_estimators=40, n_jobs=None,\n",
       "              num_parallel_tree=None, random_state=None, ...)</pre></div></div></div></div></div>"
      ],
      "text/plain": [
       "XGBClassifier(base_score=None, booster=None, callbacks=None,\n",
       "              colsample_bylevel=None, colsample_bynode=None,\n",
       "              colsample_bytree=None, device=None, early_stopping_rounds=None,\n",
       "              enable_categorical=False, eval_metric=None, feature_types=None,\n",
       "              gamma=None, grow_policy=None, importance_type=None,\n",
       "              interaction_constraints=None, learning_rate=0.1, max_bin=None,\n",
       "              max_cat_threshold=None, max_cat_to_onehot=None,\n",
       "              max_delta_step=None, max_depth=8, max_leaves=None,\n",
       "              min_child_weight=None, missing=nan, monotone_constraints=None,\n",
       "              multi_strategy=None, n_estimators=40, n_jobs=None,\n",
       "              num_parallel_tree=None, random_state=None, ...)"
      ]
     },
     "execution_count": 139,
     "metadata": {},
     "output_type": "execute_result"
    }
   ],
   "source": [
    "modelo_2.fit(dic_X_train_u['data_limpia'], dic_y_train_u['data_limpia'])"
   ]
  },
  {
   "cell_type": "code",
   "execution_count": 140,
   "id": "d89a7e61",
   "metadata": {
    "execution": {
     "iopub.execute_input": "2024-03-22T03:59:27.873025Z",
     "iopub.status.busy": "2024-03-22T03:59:27.872545Z",
     "iopub.status.idle": "2024-03-22T03:59:29.189653Z",
     "shell.execute_reply": "2024-03-22T03:59:29.188764Z"
    },
    "papermill": {
     "duration": 1.360676,
     "end_time": "2024-03-22T03:59:29.191779",
     "exception": false,
     "start_time": "2024-03-22T03:59:27.831103",
     "status": "completed"
    },
    "tags": []
   },
   "outputs": [
    {
     "data": {
      "text/html": [
       "<style>#sk-container-id-3 {color: black;background-color: white;}#sk-container-id-3 pre{padding: 0;}#sk-container-id-3 div.sk-toggleable {background-color: white;}#sk-container-id-3 label.sk-toggleable__label {cursor: pointer;display: block;width: 100%;margin-bottom: 0;padding: 0.3em;box-sizing: border-box;text-align: center;}#sk-container-id-3 label.sk-toggleable__label-arrow:before {content: \"▸\";float: left;margin-right: 0.25em;color: #696969;}#sk-container-id-3 label.sk-toggleable__label-arrow:hover:before {color: black;}#sk-container-id-3 div.sk-estimator:hover label.sk-toggleable__label-arrow:before {color: black;}#sk-container-id-3 div.sk-toggleable__content {max-height: 0;max-width: 0;overflow: hidden;text-align: left;background-color: #f0f8ff;}#sk-container-id-3 div.sk-toggleable__content pre {margin: 0.2em;color: black;border-radius: 0.25em;background-color: #f0f8ff;}#sk-container-id-3 input.sk-toggleable__control:checked~div.sk-toggleable__content {max-height: 200px;max-width: 100%;overflow: auto;}#sk-container-id-3 input.sk-toggleable__control:checked~label.sk-toggleable__label-arrow:before {content: \"▾\";}#sk-container-id-3 div.sk-estimator input.sk-toggleable__control:checked~label.sk-toggleable__label {background-color: #d4ebff;}#sk-container-id-3 div.sk-label input.sk-toggleable__control:checked~label.sk-toggleable__label {background-color: #d4ebff;}#sk-container-id-3 input.sk-hidden--visually {border: 0;clip: rect(1px 1px 1px 1px);clip: rect(1px, 1px, 1px, 1px);height: 1px;margin: -1px;overflow: hidden;padding: 0;position: absolute;width: 1px;}#sk-container-id-3 div.sk-estimator {font-family: monospace;background-color: #f0f8ff;border: 1px dotted black;border-radius: 0.25em;box-sizing: border-box;margin-bottom: 0.5em;}#sk-container-id-3 div.sk-estimator:hover {background-color: #d4ebff;}#sk-container-id-3 div.sk-parallel-item::after {content: \"\";width: 100%;border-bottom: 1px solid gray;flex-grow: 1;}#sk-container-id-3 div.sk-label:hover label.sk-toggleable__label {background-color: #d4ebff;}#sk-container-id-3 div.sk-serial::before {content: \"\";position: absolute;border-left: 1px solid gray;box-sizing: border-box;top: 0;bottom: 0;left: 50%;z-index: 0;}#sk-container-id-3 div.sk-serial {display: flex;flex-direction: column;align-items: center;background-color: white;padding-right: 0.2em;padding-left: 0.2em;position: relative;}#sk-container-id-3 div.sk-item {position: relative;z-index: 1;}#sk-container-id-3 div.sk-parallel {display: flex;align-items: stretch;justify-content: center;background-color: white;position: relative;}#sk-container-id-3 div.sk-item::before, #sk-container-id-3 div.sk-parallel-item::before {content: \"\";position: absolute;border-left: 1px solid gray;box-sizing: border-box;top: 0;bottom: 0;left: 50%;z-index: -1;}#sk-container-id-3 div.sk-parallel-item {display: flex;flex-direction: column;z-index: 1;position: relative;background-color: white;}#sk-container-id-3 div.sk-parallel-item:first-child::after {align-self: flex-end;width: 50%;}#sk-container-id-3 div.sk-parallel-item:last-child::after {align-self: flex-start;width: 50%;}#sk-container-id-3 div.sk-parallel-item:only-child::after {width: 0;}#sk-container-id-3 div.sk-dashed-wrapped {border: 1px dashed gray;margin: 0 0.4em 0.5em 0.4em;box-sizing: border-box;padding-bottom: 0.4em;background-color: white;}#sk-container-id-3 div.sk-label label {font-family: monospace;font-weight: bold;display: inline-block;line-height: 1.2em;}#sk-container-id-3 div.sk-label-container {text-align: center;}#sk-container-id-3 div.sk-container {/* jupyter's `normalize.less` sets `[hidden] { display: none; }` but bootstrap.min.css set `[hidden] { display: none !important; }` so we also need the `!important` here to be able to override the default hidden behavior on the sphinx rendered scikit-learn.org. See: https://github.com/scikit-learn/scikit-learn/issues/21755 */display: inline-block !important;position: relative;}#sk-container-id-3 div.sk-text-repr-fallback {display: none;}</style><div id=\"sk-container-id-3\" class=\"sk-top-container\"><div class=\"sk-text-repr-fallback\"><pre>XGBClassifier(base_score=None, booster=None, callbacks=None,\n",
       "              colsample_bylevel=None, colsample_bynode=None,\n",
       "              colsample_bytree=None, device=None, early_stopping_rounds=None,\n",
       "              enable_categorical=False, eval_metric=None, feature_types=None,\n",
       "              gamma=None, grow_policy=None, importance_type=None,\n",
       "              interaction_constraints=None, learning_rate=0.1, max_bin=None,\n",
       "              max_cat_threshold=None, max_cat_to_onehot=None,\n",
       "              max_delta_step=None, max_depth=5, max_leaves=None,\n",
       "              min_child_weight=0.6, missing=nan, monotone_constraints=None,\n",
       "              multi_strategy=None, n_estimators=None, n_jobs=None,\n",
       "              num_parallel_tree=None, random_state=None, ...)</pre><b>In a Jupyter environment, please rerun this cell to show the HTML representation or trust the notebook. <br />On GitHub, the HTML representation is unable to render, please try loading this page with nbviewer.org.</b></div><div class=\"sk-container\" hidden><div class=\"sk-item\"><div class=\"sk-estimator sk-toggleable\"><input class=\"sk-toggleable__control sk-hidden--visually\" id=\"sk-estimator-id-3\" type=\"checkbox\" checked><label for=\"sk-estimator-id-3\" class=\"sk-toggleable__label sk-toggleable__label-arrow\">XGBClassifier</label><div class=\"sk-toggleable__content\"><pre>XGBClassifier(base_score=None, booster=None, callbacks=None,\n",
       "              colsample_bylevel=None, colsample_bynode=None,\n",
       "              colsample_bytree=None, device=None, early_stopping_rounds=None,\n",
       "              enable_categorical=False, eval_metric=None, feature_types=None,\n",
       "              gamma=None, grow_policy=None, importance_type=None,\n",
       "              interaction_constraints=None, learning_rate=0.1, max_bin=None,\n",
       "              max_cat_threshold=None, max_cat_to_onehot=None,\n",
       "              max_delta_step=None, max_depth=5, max_leaves=None,\n",
       "              min_child_weight=0.6, missing=nan, monotone_constraints=None,\n",
       "              multi_strategy=None, n_estimators=None, n_jobs=None,\n",
       "              num_parallel_tree=None, random_state=None, ...)</pre></div></div></div></div></div>"
      ],
      "text/plain": [
       "XGBClassifier(base_score=None, booster=None, callbacks=None,\n",
       "              colsample_bylevel=None, colsample_bynode=None,\n",
       "              colsample_bytree=None, device=None, early_stopping_rounds=None,\n",
       "              enable_categorical=False, eval_metric=None, feature_types=None,\n",
       "              gamma=None, grow_policy=None, importance_type=None,\n",
       "              interaction_constraints=None, learning_rate=0.1, max_bin=None,\n",
       "              max_cat_threshold=None, max_cat_to_onehot=None,\n",
       "              max_delta_step=None, max_depth=5, max_leaves=None,\n",
       "              min_child_weight=0.6, missing=nan, monotone_constraints=None,\n",
       "              multi_strategy=None, n_estimators=None, n_jobs=None,\n",
       "              num_parallel_tree=None, random_state=None, ...)"
      ]
     },
     "execution_count": 140,
     "metadata": {},
     "output_type": "execute_result"
    }
   ],
   "source": [
    "modelo_3.fit(dic_X_train_u['data_limpia'], dic_y_train_u['data_limpia'])"
   ]
  },
  {
   "cell_type": "code",
   "execution_count": 141,
   "id": "3dc9019d",
   "metadata": {
    "execution": {
     "iopub.execute_input": "2024-03-22T03:59:29.287365Z",
     "iopub.status.busy": "2024-03-22T03:59:29.286542Z",
     "iopub.status.idle": "2024-03-22T03:59:31.788254Z",
     "shell.execute_reply": "2024-03-22T03:59:31.787344Z"
    },
    "papermill": {
     "duration": 2.55604,
     "end_time": "2024-03-22T03:59:31.790173",
     "exception": false,
     "start_time": "2024-03-22T03:59:29.234133",
     "status": "completed"
    },
    "tags": []
   },
   "outputs": [
    {
     "data": {
      "text/html": [
       "<style>#sk-container-id-4 {color: black;background-color: white;}#sk-container-id-4 pre{padding: 0;}#sk-container-id-4 div.sk-toggleable {background-color: white;}#sk-container-id-4 label.sk-toggleable__label {cursor: pointer;display: block;width: 100%;margin-bottom: 0;padding: 0.3em;box-sizing: border-box;text-align: center;}#sk-container-id-4 label.sk-toggleable__label-arrow:before {content: \"▸\";float: left;margin-right: 0.25em;color: #696969;}#sk-container-id-4 label.sk-toggleable__label-arrow:hover:before {color: black;}#sk-container-id-4 div.sk-estimator:hover label.sk-toggleable__label-arrow:before {color: black;}#sk-container-id-4 div.sk-toggleable__content {max-height: 0;max-width: 0;overflow: hidden;text-align: left;background-color: #f0f8ff;}#sk-container-id-4 div.sk-toggleable__content pre {margin: 0.2em;color: black;border-radius: 0.25em;background-color: #f0f8ff;}#sk-container-id-4 input.sk-toggleable__control:checked~div.sk-toggleable__content {max-height: 200px;max-width: 100%;overflow: auto;}#sk-container-id-4 input.sk-toggleable__control:checked~label.sk-toggleable__label-arrow:before {content: \"▾\";}#sk-container-id-4 div.sk-estimator input.sk-toggleable__control:checked~label.sk-toggleable__label {background-color: #d4ebff;}#sk-container-id-4 div.sk-label input.sk-toggleable__control:checked~label.sk-toggleable__label {background-color: #d4ebff;}#sk-container-id-4 input.sk-hidden--visually {border: 0;clip: rect(1px 1px 1px 1px);clip: rect(1px, 1px, 1px, 1px);height: 1px;margin: -1px;overflow: hidden;padding: 0;position: absolute;width: 1px;}#sk-container-id-4 div.sk-estimator {font-family: monospace;background-color: #f0f8ff;border: 1px dotted black;border-radius: 0.25em;box-sizing: border-box;margin-bottom: 0.5em;}#sk-container-id-4 div.sk-estimator:hover {background-color: #d4ebff;}#sk-container-id-4 div.sk-parallel-item::after {content: \"\";width: 100%;border-bottom: 1px solid gray;flex-grow: 1;}#sk-container-id-4 div.sk-label:hover label.sk-toggleable__label {background-color: #d4ebff;}#sk-container-id-4 div.sk-serial::before {content: \"\";position: absolute;border-left: 1px solid gray;box-sizing: border-box;top: 0;bottom: 0;left: 50%;z-index: 0;}#sk-container-id-4 div.sk-serial {display: flex;flex-direction: column;align-items: center;background-color: white;padding-right: 0.2em;padding-left: 0.2em;position: relative;}#sk-container-id-4 div.sk-item {position: relative;z-index: 1;}#sk-container-id-4 div.sk-parallel {display: flex;align-items: stretch;justify-content: center;background-color: white;position: relative;}#sk-container-id-4 div.sk-item::before, #sk-container-id-4 div.sk-parallel-item::before {content: \"\";position: absolute;border-left: 1px solid gray;box-sizing: border-box;top: 0;bottom: 0;left: 50%;z-index: -1;}#sk-container-id-4 div.sk-parallel-item {display: flex;flex-direction: column;z-index: 1;position: relative;background-color: white;}#sk-container-id-4 div.sk-parallel-item:first-child::after {align-self: flex-end;width: 50%;}#sk-container-id-4 div.sk-parallel-item:last-child::after {align-self: flex-start;width: 50%;}#sk-container-id-4 div.sk-parallel-item:only-child::after {width: 0;}#sk-container-id-4 div.sk-dashed-wrapped {border: 1px dashed gray;margin: 0 0.4em 0.5em 0.4em;box-sizing: border-box;padding-bottom: 0.4em;background-color: white;}#sk-container-id-4 div.sk-label label {font-family: monospace;font-weight: bold;display: inline-block;line-height: 1.2em;}#sk-container-id-4 div.sk-label-container {text-align: center;}#sk-container-id-4 div.sk-container {/* jupyter's `normalize.less` sets `[hidden] { display: none; }` but bootstrap.min.css set `[hidden] { display: none !important; }` so we also need the `!important` here to be able to override the default hidden behavior on the sphinx rendered scikit-learn.org. See: https://github.com/scikit-learn/scikit-learn/issues/21755 */display: inline-block !important;position: relative;}#sk-container-id-4 div.sk-text-repr-fallback {display: none;}</style><div id=\"sk-container-id-4\" class=\"sk-top-container\"><div class=\"sk-text-repr-fallback\"><pre>XGBClassifier(base_score=None, booster=None, callbacks=None,\n",
       "              colsample_bylevel=None, colsample_bynode=None,\n",
       "              colsample_bytree=None, device=None, early_stopping_rounds=None,\n",
       "              enable_categorical=False, eval_metric=None, feature_types=None,\n",
       "              gamma=None, grow_policy=None, importance_type=None,\n",
       "              interaction_constraints=None, learning_rate=0.1, max_bin=None,\n",
       "              max_cat_threshold=None, max_cat_to_onehot=None,\n",
       "              max_delta_step=None, max_depth=6, max_leaves=None,\n",
       "              min_child_weight=None, missing=nan, monotone_constraints=None,\n",
       "              multi_strategy=None, n_estimators=None, n_jobs=None,\n",
       "              num_parallel_tree=None, random_state=None, ...)</pre><b>In a Jupyter environment, please rerun this cell to show the HTML representation or trust the notebook. <br />On GitHub, the HTML representation is unable to render, please try loading this page with nbviewer.org.</b></div><div class=\"sk-container\" hidden><div class=\"sk-item\"><div class=\"sk-estimator sk-toggleable\"><input class=\"sk-toggleable__control sk-hidden--visually\" id=\"sk-estimator-id-4\" type=\"checkbox\" checked><label for=\"sk-estimator-id-4\" class=\"sk-toggleable__label sk-toggleable__label-arrow\">XGBClassifier</label><div class=\"sk-toggleable__content\"><pre>XGBClassifier(base_score=None, booster=None, callbacks=None,\n",
       "              colsample_bylevel=None, colsample_bynode=None,\n",
       "              colsample_bytree=None, device=None, early_stopping_rounds=None,\n",
       "              enable_categorical=False, eval_metric=None, feature_types=None,\n",
       "              gamma=None, grow_policy=None, importance_type=None,\n",
       "              interaction_constraints=None, learning_rate=0.1, max_bin=None,\n",
       "              max_cat_threshold=None, max_cat_to_onehot=None,\n",
       "              max_delta_step=None, max_depth=6, max_leaves=None,\n",
       "              min_child_weight=None, missing=nan, monotone_constraints=None,\n",
       "              multi_strategy=None, n_estimators=None, n_jobs=None,\n",
       "              num_parallel_tree=None, random_state=None, ...)</pre></div></div></div></div></div>"
      ],
      "text/plain": [
       "XGBClassifier(base_score=None, booster=None, callbacks=None,\n",
       "              colsample_bylevel=None, colsample_bynode=None,\n",
       "              colsample_bytree=None, device=None, early_stopping_rounds=None,\n",
       "              enable_categorical=False, eval_metric=None, feature_types=None,\n",
       "              gamma=None, grow_policy=None, importance_type=None,\n",
       "              interaction_constraints=None, learning_rate=0.1, max_bin=None,\n",
       "              max_cat_threshold=None, max_cat_to_onehot=None,\n",
       "              max_delta_step=None, max_depth=6, max_leaves=None,\n",
       "              min_child_weight=None, missing=nan, monotone_constraints=None,\n",
       "              multi_strategy=None, n_estimators=None, n_jobs=None,\n",
       "              num_parallel_tree=None, random_state=None, ...)"
      ]
     },
     "execution_count": 141,
     "metadata": {},
     "output_type": "execute_result"
    }
   ],
   "source": [
    "modelo_4.fit(dic_X_train_u['data_limpia'], dic_y_train_u['data_limpia'])"
   ]
  },
  {
   "cell_type": "code",
   "execution_count": 142,
   "id": "7a226ef4",
   "metadata": {
    "execution": {
     "iopub.execute_input": "2024-03-22T03:59:31.877028Z",
     "iopub.status.busy": "2024-03-22T03:59:31.876651Z",
     "iopub.status.idle": "2024-03-22T03:59:31.880626Z",
     "shell.execute_reply": "2024-03-22T03:59:31.879782Z"
    },
    "papermill": {
     "duration": 0.049917,
     "end_time": "2024-03-22T03:59:31.882307",
     "exception": false,
     "start_time": "2024-03-22T03:59:31.832390",
     "status": "completed"
    },
    "tags": []
   },
   "outputs": [],
   "source": [
    "# plt.figure(figsize= (12,16))\n",
    "# xgb.plot_importance(modelo_3, ax= plt.gca())\n",
    "# plt.plot()"
   ]
  },
  {
   "cell_type": "code",
   "execution_count": 143,
   "id": "43d4a6e9",
   "metadata": {
    "execution": {
     "iopub.execute_input": "2024-03-22T03:59:31.970329Z",
     "iopub.status.busy": "2024-03-22T03:59:31.969960Z",
     "iopub.status.idle": "2024-03-22T03:59:31.973761Z",
     "shell.execute_reply": "2024-03-22T03:59:31.973110Z"
    },
    "papermill": {
     "duration": 0.050705,
     "end_time": "2024-03-22T03:59:31.975498",
     "exception": false,
     "start_time": "2024-03-22T03:59:31.924793",
     "status": "completed"
    },
    "tags": []
   },
   "outputs": [],
   "source": [
    "# plt.figure(figsize= (12,16))\n",
    "# xgb.plot_importance(modelo_4, ax= plt.gca())\n",
    "# plt.plot()"
   ]
  },
  {
   "cell_type": "code",
   "execution_count": 144,
   "id": "2c110664",
   "metadata": {
    "execution": {
     "iopub.execute_input": "2024-03-22T03:59:32.065610Z",
     "iopub.status.busy": "2024-03-22T03:59:32.065040Z",
     "iopub.status.idle": "2024-03-22T03:59:33.303217Z",
     "shell.execute_reply": "2024-03-22T03:59:33.302494Z"
    },
    "papermill": {
     "duration": 1.286495,
     "end_time": "2024-03-22T03:59:33.305310",
     "exception": false,
     "start_time": "2024-03-22T03:59:32.018815",
     "status": "completed"
    },
    "tags": []
   },
   "outputs": [],
   "source": [
    "pred1 = modelo_1.predict(dic_X_test['data_limpia'])\n",
    "pred2 = modelo_2.predict(dic_X_test['data_limpia'])\n",
    "pred3 = modelo_3.predict(dic_X_test['data_limpia'])\n",
    "pred4 = modelo_4.predict(dic_X_test['data_limpia'])"
   ]
  },
  {
   "cell_type": "code",
   "execution_count": 145,
   "id": "b9a3e7dc",
   "metadata": {
    "execution": {
     "iopub.execute_input": "2024-03-22T03:59:33.392294Z",
     "iopub.status.busy": "2024-03-22T03:59:33.391757Z",
     "iopub.status.idle": "2024-03-22T03:59:33.775199Z",
     "shell.execute_reply": "2024-03-22T03:59:33.773729Z"
    },
    "papermill": {
     "duration": 0.428778,
     "end_time": "2024-03-22T03:59:33.777254",
     "exception": false,
     "start_time": "2024-03-22T03:59:33.348476",
     "status": "completed"
    },
    "tags": []
   },
   "outputs": [
    {
     "name": "stdout",
     "output_type": "stream",
     "text": [
      "AUC:  0.7129131459097579\n",
      "              precision    recall  f1-score   support\n",
      "\n",
      "           0       0.99      0.69      0.81    304478\n",
      "           1       0.08      0.74      0.14     10796\n",
      "\n",
      "    accuracy                           0.69    315274\n",
      "   macro avg       0.53      0.71      0.48    315274\n",
      "weighted avg       0.96      0.69      0.79    315274\n",
      "\n"
     ]
    }
   ],
   "source": [
    "print('AUC: ', roc_auc_score(dic_y_test['data_limpia'], pred1)) \n",
    "print(classification_report(dic_y_test['data_limpia'], pred1))"
   ]
  },
  {
   "cell_type": "code",
   "execution_count": 146,
   "id": "f3aaccf6",
   "metadata": {
    "execution": {
     "iopub.execute_input": "2024-03-22T03:59:33.863440Z",
     "iopub.status.busy": "2024-03-22T03:59:33.863055Z",
     "iopub.status.idle": "2024-03-22T03:59:34.246660Z",
     "shell.execute_reply": "2024-03-22T03:59:34.245770Z"
    },
    "papermill": {
     "duration": 0.429432,
     "end_time": "2024-03-22T03:59:34.248663",
     "exception": false,
     "start_time": "2024-03-22T03:59:33.819231",
     "status": "completed"
    },
    "tags": []
   },
   "outputs": [
    {
     "name": "stdout",
     "output_type": "stream",
     "text": [
      "AUC:  0.7113328673369833\n",
      "              precision    recall  f1-score   support\n",
      "\n",
      "           0       0.99      0.68      0.81    304478\n",
      "           1       0.08      0.74      0.14     10796\n",
      "\n",
      "    accuracy                           0.68    315274\n",
      "   macro avg       0.53      0.71      0.47    315274\n",
      "weighted avg       0.96      0.68      0.78    315274\n",
      "\n"
     ]
    }
   ],
   "source": [
    "print('AUC: ', roc_auc_score(dic_y_test['data_limpia'], pred2)) \n",
    "print(classification_report(dic_y_test['data_limpia'], pred2))"
   ]
  },
  {
   "cell_type": "code",
   "execution_count": 147,
   "id": "7d9623c2",
   "metadata": {
    "execution": {
     "iopub.execute_input": "2024-03-22T03:59:34.337903Z",
     "iopub.status.busy": "2024-03-22T03:59:34.337495Z",
     "iopub.status.idle": "2024-03-22T03:59:34.715677Z",
     "shell.execute_reply": "2024-03-22T03:59:34.714721Z"
    },
    "papermill": {
     "duration": 0.4243,
     "end_time": "2024-03-22T03:59:34.717621",
     "exception": false,
     "start_time": "2024-03-22T03:59:34.293321",
     "status": "completed"
    },
    "tags": []
   },
   "outputs": [
    {
     "name": "stdout",
     "output_type": "stream",
     "text": [
      "AUC:  0.7150100084070292\n",
      "              precision    recall  f1-score   support\n",
      "\n",
      "           0       0.99      0.69      0.81    304478\n",
      "           1       0.08      0.74      0.14     10796\n",
      "\n",
      "    accuracy                           0.69    315274\n",
      "   macro avg       0.53      0.72      0.48    315274\n",
      "weighted avg       0.96      0.69      0.79    315274\n",
      "\n"
     ]
    }
   ],
   "source": [
    "print('AUC: ', roc_auc_score(dic_y_test['data_limpia'], pred3)) \n",
    "print(classification_report(dic_y_test['data_limpia'], pred3))"
   ]
  },
  {
   "cell_type": "code",
   "execution_count": 148,
   "id": "f4430869",
   "metadata": {
    "execution": {
     "iopub.execute_input": "2024-03-22T03:59:34.805264Z",
     "iopub.status.busy": "2024-03-22T03:59:34.803871Z",
     "iopub.status.idle": "2024-03-22T03:59:35.181738Z",
     "shell.execute_reply": "2024-03-22T03:59:35.180225Z"
    },
    "papermill": {
     "duration": 0.424395,
     "end_time": "2024-03-22T03:59:35.184000",
     "exception": false,
     "start_time": "2024-03-22T03:59:34.759605",
     "status": "completed"
    },
    "tags": []
   },
   "outputs": [
    {
     "name": "stdout",
     "output_type": "stream",
     "text": [
      "AUC:  0.7146500668211576\n",
      "              precision    recall  f1-score   support\n",
      "\n",
      "           0       0.99      0.69      0.81    304478\n",
      "           1       0.08      0.74      0.14     10796\n",
      "\n",
      "    accuracy                           0.69    315274\n",
      "   macro avg       0.53      0.71      0.48    315274\n",
      "weighted avg       0.96      0.69      0.79    315274\n",
      "\n"
     ]
    }
   ],
   "source": [
    "print('AUC: ', roc_auc_score(dic_y_test['data_limpia'], pred4)) \n",
    "print(classification_report(dic_y_test['data_limpia'], pred4))"
   ]
  },
  {
   "cell_type": "markdown",
   "id": "347d78bf",
   "metadata": {
    "papermill": {
     "duration": 0.042641,
     "end_time": "2024-03-22T03:59:35.269932",
     "exception": false,
     "start_time": "2024-03-22T03:59:35.227291",
     "status": "completed"
    },
    "tags": []
   },
   "source": [
    "## 10.2. Data MinMax"
   ]
  },
  {
   "cell_type": "code",
   "execution_count": 149,
   "id": "9d4e55f8",
   "metadata": {
    "execution": {
     "iopub.execute_input": "2024-03-22T03:59:35.357502Z",
     "iopub.status.busy": "2024-03-22T03:59:35.357124Z",
     "iopub.status.idle": "2024-03-22T03:59:35.361499Z",
     "shell.execute_reply": "2024-03-22T03:59:35.360354Z"
    },
    "papermill": {
     "duration": 0.051021,
     "end_time": "2024-03-22T03:59:35.363511",
     "exception": false,
     "start_time": "2024-03-22T03:59:35.312490",
     "status": "completed"
    },
    "tags": []
   },
   "outputs": [],
   "source": [
    "# modelo_1.fit(dic_X_train_u['data_minmax'], dic_y_train_u['data_minmax'])"
   ]
  },
  {
   "cell_type": "code",
   "execution_count": 150,
   "id": "a7a52c9a",
   "metadata": {
    "execution": {
     "iopub.execute_input": "2024-03-22T03:59:35.450035Z",
     "iopub.status.busy": "2024-03-22T03:59:35.449712Z",
     "iopub.status.idle": "2024-03-22T03:59:35.454513Z",
     "shell.execute_reply": "2024-03-22T03:59:35.453452Z"
    },
    "papermill": {
     "duration": 0.050232,
     "end_time": "2024-03-22T03:59:35.456403",
     "exception": false,
     "start_time": "2024-03-22T03:59:35.406171",
     "status": "completed"
    },
    "tags": []
   },
   "outputs": [],
   "source": [
    "# modelo_2.fit(dic_X_train_u['data_minmax'], dic_y_train_u['data_minmax'])"
   ]
  },
  {
   "cell_type": "code",
   "execution_count": 151,
   "id": "8380a733",
   "metadata": {
    "execution": {
     "iopub.execute_input": "2024-03-22T03:59:35.545765Z",
     "iopub.status.busy": "2024-03-22T03:59:35.544160Z",
     "iopub.status.idle": "2024-03-22T03:59:35.549190Z",
     "shell.execute_reply": "2024-03-22T03:59:35.548479Z"
    },
    "papermill": {
     "duration": 0.051504,
     "end_time": "2024-03-22T03:59:35.550857",
     "exception": false,
     "start_time": "2024-03-22T03:59:35.499353",
     "status": "completed"
    },
    "tags": []
   },
   "outputs": [],
   "source": [
    "# modelo_3.fit(dic_X_train_u['data_minmax'], dic_y_train_u['data_minmax'])"
   ]
  },
  {
   "cell_type": "code",
   "execution_count": 152,
   "id": "e6d75055",
   "metadata": {
    "execution": {
     "iopub.execute_input": "2024-03-22T03:59:35.636134Z",
     "iopub.status.busy": "2024-03-22T03:59:35.635457Z",
     "iopub.status.idle": "2024-03-22T03:59:35.640070Z",
     "shell.execute_reply": "2024-03-22T03:59:35.638846Z"
    },
    "papermill": {
     "duration": 0.048666,
     "end_time": "2024-03-22T03:59:35.642390",
     "exception": false,
     "start_time": "2024-03-22T03:59:35.593724",
     "status": "completed"
    },
    "tags": []
   },
   "outputs": [],
   "source": [
    "# pred1_minmax = modelo_1.predict(dic_X_test['data_minmax'])\n",
    "# pred2_minmax = modelo_2.predict(dic_X_test['data_minmax'])\n",
    "# pred3_minmax = modelo_3.predict(dic_X_test['data_minmax'])"
   ]
  },
  {
   "cell_type": "code",
   "execution_count": 153,
   "id": "1baaf332",
   "metadata": {
    "execution": {
     "iopub.execute_input": "2024-03-22T03:59:35.728264Z",
     "iopub.status.busy": "2024-03-22T03:59:35.727889Z",
     "iopub.status.idle": "2024-03-22T03:59:35.731961Z",
     "shell.execute_reply": "2024-03-22T03:59:35.730858Z"
    },
    "papermill": {
     "duration": 0.048865,
     "end_time": "2024-03-22T03:59:35.733834",
     "exception": false,
     "start_time": "2024-03-22T03:59:35.684969",
     "status": "completed"
    },
    "tags": []
   },
   "outputs": [],
   "source": [
    "# print('AUC: ', roc_auc_score(dic_y_test['data_minmax'], pred1)) \n",
    "# print(classification_report(dic_y_test['data_minmax'], pred1))"
   ]
  },
  {
   "cell_type": "code",
   "execution_count": 154,
   "id": "d1d116e6",
   "metadata": {
    "execution": {
     "iopub.execute_input": "2024-03-22T03:59:35.821080Z",
     "iopub.status.busy": "2024-03-22T03:59:35.820719Z",
     "iopub.status.idle": "2024-03-22T03:59:35.825115Z",
     "shell.execute_reply": "2024-03-22T03:59:35.824100Z"
    },
    "papermill": {
     "duration": 0.050964,
     "end_time": "2024-03-22T03:59:35.827520",
     "exception": false,
     "start_time": "2024-03-22T03:59:35.776556",
     "status": "completed"
    },
    "tags": []
   },
   "outputs": [],
   "source": [
    "# print('AUC: ', roc_auc_score(dic_y_test['data_minmax'], pred2)) \n",
    "# print(classification_report(dic_y_test['data_minmax'], pred2))"
   ]
  },
  {
   "cell_type": "code",
   "execution_count": 155,
   "id": "d978cc49",
   "metadata": {
    "execution": {
     "iopub.execute_input": "2024-03-22T03:59:35.917737Z",
     "iopub.status.busy": "2024-03-22T03:59:35.917398Z",
     "iopub.status.idle": "2024-03-22T03:59:35.921766Z",
     "shell.execute_reply": "2024-03-22T03:59:35.920465Z"
    },
    "papermill": {
     "duration": 0.052617,
     "end_time": "2024-03-22T03:59:35.924326",
     "exception": false,
     "start_time": "2024-03-22T03:59:35.871709",
     "status": "completed"
    },
    "tags": []
   },
   "outputs": [],
   "source": [
    "# print('AUC: ', roc_auc_score(dic_y_test['data_minmax'], pred3)) \n",
    "# print(classification_report(dic_y_test['data_minmax'], pred3))"
   ]
  },
  {
   "cell_type": "markdown",
   "id": "9792caac",
   "metadata": {
    "papermill": {
     "duration": 0.043226,
     "end_time": "2024-03-22T03:59:36.011016",
     "exception": false,
     "start_time": "2024-03-22T03:59:35.967790",
     "status": "completed"
    },
    "tags": []
   },
   "source": [
    "## 10.3. Predicciones con el Test Para Enviar"
   ]
  },
  {
   "cell_type": "code",
   "execution_count": 156,
   "id": "af603ff5",
   "metadata": {
    "execution": {
     "iopub.execute_input": "2024-03-22T03:59:36.098629Z",
     "iopub.status.busy": "2024-03-22T03:59:36.098258Z",
     "iopub.status.idle": "2024-03-22T03:59:36.107732Z",
     "shell.execute_reply": "2024-03-22T03:59:36.106592Z"
    },
    "papermill": {
     "duration": 0.056373,
     "end_time": "2024-03-22T03:59:36.110151",
     "exception": false,
     "start_time": "2024-03-22T03:59:36.053778",
     "status": "completed"
    },
    "tags": []
   },
   "outputs": [],
   "source": [
    "# Creamos el envio.\n",
    "submission = X_ts_5.to_pandas()[['case_id']]"
   ]
  },
  {
   "cell_type": "code",
   "execution_count": 157,
   "id": "e85528d5",
   "metadata": {
    "execution": {
     "iopub.execute_input": "2024-03-22T03:59:36.199467Z",
     "iopub.status.busy": "2024-03-22T03:59:36.199086Z",
     "iopub.status.idle": "2024-03-22T03:59:36.208555Z",
     "shell.execute_reply": "2024-03-22T03:59:36.207533Z"
    },
    "papermill": {
     "duration": 0.056991,
     "end_time": "2024-03-22T03:59:36.211130",
     "exception": false,
     "start_time": "2024-03-22T03:59:36.154139",
     "status": "completed"
    },
    "tags": []
   },
   "outputs": [],
   "source": [
    "submission_features = X_ts_5.select(pl.exclude('case_id')).to_pandas()"
   ]
  },
  {
   "cell_type": "code",
   "execution_count": 158,
   "id": "344e73a3",
   "metadata": {
    "execution": {
     "iopub.execute_input": "2024-03-22T03:59:36.357977Z",
     "iopub.status.busy": "2024-03-22T03:59:36.357582Z",
     "iopub.status.idle": "2024-03-22T03:59:36.364316Z",
     "shell.execute_reply": "2024-03-22T03:59:36.363258Z"
    },
    "papermill": {
     "duration": 0.111161,
     "end_time": "2024-03-22T03:59:36.366220",
     "exception": false,
     "start_time": "2024-03-22T03:59:36.255059",
     "status": "completed"
    },
    "tags": []
   },
   "outputs": [
    {
     "data": {
      "text/plain": [
       "55"
      ]
     },
     "execution_count": 158,
     "metadata": {},
     "output_type": "execute_result"
    }
   ],
   "source": [
    "len(submission_features.columns)"
   ]
  },
  {
   "cell_type": "code",
   "execution_count": 159,
   "id": "6d559062",
   "metadata": {
    "execution": {
     "iopub.execute_input": "2024-03-22T03:59:36.455542Z",
     "iopub.status.busy": "2024-03-22T03:59:36.455149Z",
     "iopub.status.idle": "2024-03-22T03:59:36.470088Z",
     "shell.execute_reply": "2024-03-22T03:59:36.469344Z"
    },
    "papermill": {
     "duration": 0.063189,
     "end_time": "2024-03-22T03:59:36.473091",
     "exception": false,
     "start_time": "2024-03-22T03:59:36.409902",
     "status": "completed"
    },
    "tags": []
   },
   "outputs": [],
   "source": [
    "# Creamos las predicciones.\n",
    "predictions = modelo_4.predict(submission_features)\n",
    "submission['score'] = predictions"
   ]
  },
  {
   "cell_type": "code",
   "execution_count": 160,
   "id": "65a998b2",
   "metadata": {
    "execution": {
     "iopub.execute_input": "2024-03-22T03:59:36.562828Z",
     "iopub.status.busy": "2024-03-22T03:59:36.562463Z",
     "iopub.status.idle": "2024-03-22T03:59:36.571829Z",
     "shell.execute_reply": "2024-03-22T03:59:36.571107Z"
    },
    "papermill": {
     "duration": 0.057128,
     "end_time": "2024-03-22T03:59:36.573422",
     "exception": false,
     "start_time": "2024-03-22T03:59:36.516294",
     "status": "completed"
    },
    "tags": []
   },
   "outputs": [
    {
     "data": {
      "text/html": [
       "<div>\n",
       "<style scoped>\n",
       "    .dataframe tbody tr th:only-of-type {\n",
       "        vertical-align: middle;\n",
       "    }\n",
       "\n",
       "    .dataframe tbody tr th {\n",
       "        vertical-align: top;\n",
       "    }\n",
       "\n",
       "    .dataframe thead th {\n",
       "        text-align: right;\n",
       "    }\n",
       "</style>\n",
       "<table border=\"1\" class=\"dataframe\">\n",
       "  <thead>\n",
       "    <tr style=\"text-align: right;\">\n",
       "      <th></th>\n",
       "      <th>case_id</th>\n",
       "      <th>score</th>\n",
       "    </tr>\n",
       "  </thead>\n",
       "  <tbody>\n",
       "    <tr>\n",
       "      <th>0</th>\n",
       "      <td>57543</td>\n",
       "      <td>0</td>\n",
       "    </tr>\n",
       "    <tr>\n",
       "      <th>1</th>\n",
       "      <td>57549</td>\n",
       "      <td>0</td>\n",
       "    </tr>\n",
       "    <tr>\n",
       "      <th>2</th>\n",
       "      <td>57551</td>\n",
       "      <td>0</td>\n",
       "    </tr>\n",
       "    <tr>\n",
       "      <th>3</th>\n",
       "      <td>57552</td>\n",
       "      <td>0</td>\n",
       "    </tr>\n",
       "    <tr>\n",
       "      <th>4</th>\n",
       "      <td>57569</td>\n",
       "      <td>1</td>\n",
       "    </tr>\n",
       "    <tr>\n",
       "      <th>5</th>\n",
       "      <td>57630</td>\n",
       "      <td>0</td>\n",
       "    </tr>\n",
       "    <tr>\n",
       "      <th>6</th>\n",
       "      <td>57631</td>\n",
       "      <td>0</td>\n",
       "    </tr>\n",
       "    <tr>\n",
       "      <th>7</th>\n",
       "      <td>57632</td>\n",
       "      <td>0</td>\n",
       "    </tr>\n",
       "    <tr>\n",
       "      <th>8</th>\n",
       "      <td>57633</td>\n",
       "      <td>1</td>\n",
       "    </tr>\n",
       "    <tr>\n",
       "      <th>9</th>\n",
       "      <td>57634</td>\n",
       "      <td>0</td>\n",
       "    </tr>\n",
       "  </tbody>\n",
       "</table>\n",
       "</div>"
      ],
      "text/plain": [
       "   case_id  score\n",
       "0    57543      0\n",
       "1    57549      0\n",
       "2    57551      0\n",
       "3    57552      0\n",
       "4    57569      1\n",
       "5    57630      0\n",
       "6    57631      0\n",
       "7    57632      0\n",
       "8    57633      1\n",
       "9    57634      0"
      ]
     },
     "execution_count": 160,
     "metadata": {},
     "output_type": "execute_result"
    }
   ],
   "source": [
    "submission"
   ]
  },
  {
   "cell_type": "code",
   "execution_count": 161,
   "id": "b983abf0",
   "metadata": {
    "execution": {
     "iopub.execute_input": "2024-03-22T03:59:36.661500Z",
     "iopub.status.busy": "2024-03-22T03:59:36.660516Z",
     "iopub.status.idle": "2024-03-22T03:59:36.673147Z",
     "shell.execute_reply": "2024-03-22T03:59:36.671597Z"
    },
    "papermill": {
     "duration": 0.058956,
     "end_time": "2024-03-22T03:59:36.675302",
     "exception": false,
     "start_time": "2024-03-22T03:59:36.616346",
     "status": "completed"
    },
    "tags": []
   },
   "outputs": [],
   "source": [
    "submission.to_csv('./submission.csv', index= False)"
   ]
  },
  {
   "cell_type": "code",
   "execution_count": 162,
   "id": "2d6f630a",
   "metadata": {
    "execution": {
     "iopub.execute_input": "2024-03-22T03:59:36.763456Z",
     "iopub.status.busy": "2024-03-22T03:59:36.763053Z",
     "iopub.status.idle": "2024-03-22T03:59:36.769543Z",
     "shell.execute_reply": "2024-03-22T03:59:36.768385Z"
    },
    "papermill": {
     "duration": 0.052716,
     "end_time": "2024-03-22T03:59:36.771356",
     "exception": false,
     "start_time": "2024-03-22T03:59:36.718640",
     "status": "completed"
    },
    "tags": []
   },
   "outputs": [],
   "source": [
    "df_score = pd.DataFrame(pred4)\n",
    "df_score = df_score.rename(columns= {0: 'score'})"
   ]
  },
  {
   "cell_type": "code",
   "execution_count": 163,
   "id": "34c8d471",
   "metadata": {
    "execution": {
     "iopub.execute_input": "2024-03-22T03:59:36.860497Z",
     "iopub.status.busy": "2024-03-22T03:59:36.859889Z",
     "iopub.status.idle": "2024-03-22T03:59:36.910720Z",
     "shell.execute_reply": "2024-03-22T03:59:36.909813Z"
    },
    "papermill": {
     "duration": 0.097929,
     "end_time": "2024-03-22T03:59:36.913083",
     "exception": false,
     "start_time": "2024-03-22T03:59:36.815154",
     "status": "completed"
    },
    "tags": []
   },
   "outputs": [],
   "source": [
    "df_data_limpia = pd.concat([dic_X_test['data_limpia'], dic_y_test['data_limpia']], axis= 1).reset_index()"
   ]
  },
  {
   "cell_type": "code",
   "execution_count": 164,
   "id": "f4a4027f",
   "metadata": {
    "execution": {
     "iopub.execute_input": "2024-03-22T03:59:37.002675Z",
     "iopub.status.busy": "2024-03-22T03:59:37.002310Z",
     "iopub.status.idle": "2024-03-22T03:59:37.031181Z",
     "shell.execute_reply": "2024-03-22T03:59:37.030079Z"
    },
    "papermill": {
     "duration": 0.076867,
     "end_time": "2024-03-22T03:59:37.033780",
     "exception": false,
     "start_time": "2024-03-22T03:59:36.956913",
     "status": "completed"
    },
    "tags": []
   },
   "outputs": [],
   "source": [
    "df_limpia_score = pd.concat([df_data_limpia, df_score], axis= 1)"
   ]
  },
  {
   "cell_type": "code",
   "execution_count": 165,
   "id": "0fa9e54e",
   "metadata": {
    "execution": {
     "iopub.execute_input": "2024-03-22T03:59:37.122313Z",
     "iopub.status.busy": "2024-03-22T03:59:37.121918Z",
     "iopub.status.idle": "2024-03-22T03:59:37.129408Z",
     "shell.execute_reply": "2024-03-22T03:59:37.128150Z"
    },
    "papermill": {
     "duration": 0.053683,
     "end_time": "2024-03-22T03:59:37.131501",
     "exception": false,
     "start_time": "2024-03-22T03:59:37.077818",
     "status": "completed"
    },
    "tags": []
   },
   "outputs": [],
   "source": [
    "def gini_stability(base, w_fallingrate=88.0, w_resstd=-0.5):\n",
    "    gini_in_time = base.loc[:, [\"WEEK_NUM\", \"target\", \"score\"]]\\\n",
    "        .sort_values(\"WEEK_NUM\")\\\n",
    "        .groupby(\"WEEK_NUM\")[[\"target\", \"score\"]]\\\n",
    "        .apply(lambda x: 2 * roc_auc_score(x[\"target\"], x[\"score\"]) - 1).tolist()\n",
    "    \n",
    "    x = np.arange(len(gini_in_time))\n",
    "    y = gini_in_time\n",
    "    a, b = np.polyfit(x, y, 1)\n",
    "    y_hat = a * x + b\n",
    "    residuals = y - y_hat\n",
    "    res_std = np.std(residuals)\n",
    "    avg_gini = np.mean(gini_in_time)\n",
    "    return avg_gini + w_fallingrate * min(0, a) + w_resstd * res_std"
   ]
  },
  {
   "cell_type": "code",
   "execution_count": 166,
   "id": "8b68053d",
   "metadata": {
    "execution": {
     "iopub.execute_input": "2024-03-22T03:59:37.222195Z",
     "iopub.status.busy": "2024-03-22T03:59:37.221855Z",
     "iopub.status.idle": "2024-03-22T03:59:37.431939Z",
     "shell.execute_reply": "2024-03-22T03:59:37.430646Z"
    },
    "papermill": {
     "duration": 0.25828,
     "end_time": "2024-03-22T03:59:37.433883",
     "exception": false,
     "start_time": "2024-03-22T03:59:37.175603",
     "status": "completed"
    },
    "tags": []
   },
   "outputs": [
    {
     "name": "stdout",
     "output_type": "stream",
     "text": [
      "The stability score on the test set is: 0.378700389981982\n"
     ]
    }
   ],
   "source": [
    "stability_score_test = gini_stability(df_limpia_score)\n",
    "\n",
    "print(f'The stability score on the test set is: {stability_score_test}')"
   ]
  }
 ],
 "metadata": {
  "kaggle": {
   "accelerator": "none",
   "dataSources": [
    {
     "databundleVersionId": 7921029,
     "sourceId": 50160,
     "sourceType": "competition"
    }
   ],
   "dockerImageVersionId": 30664,
   "isGpuEnabled": false,
   "isInternetEnabled": false,
   "language": "python",
   "sourceType": "notebook"
  },
  "kernelspec": {
   "display_name": "Python 3",
   "language": "python",
   "name": "python3"
  },
  "language_info": {
   "codemirror_mode": {
    "name": "ipython",
    "version": 3
   },
   "file_extension": ".py",
   "mimetype": "text/x-python",
   "name": "python",
   "nbconvert_exporter": "python",
   "pygments_lexer": "ipython3",
   "version": "3.10.13"
  },
  "papermill": {
   "default_parameters": {},
   "duration": 88.512434,
   "end_time": "2024-03-22T03:59:39.202382",
   "environment_variables": {},
   "exception": null,
   "input_path": "__notebook__.ipynb",
   "output_path": "__notebook__.ipynb",
   "parameters": {},
   "start_time": "2024-03-22T03:58:10.689948",
   "version": "2.5.0"
  }
 },
 "nbformat": 4,
 "nbformat_minor": 5
}
